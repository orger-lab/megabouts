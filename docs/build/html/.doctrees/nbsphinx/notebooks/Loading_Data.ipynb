{
 "cells": [
  {
   "cell_type": "markdown",
   "id": "5a232aef",
   "metadata": {},
   "source": [
    "\n",
    "# Loading Tracking Data\n",
    "\n",
    "In this tutorial, we will walk through the process of loading tracking data from different format\n",
    "into Megabouts.\n",
    "\n",
    "## Table of Contents\n",
    "1. [Tracking method and data format](#Tracking-method-and-data-format)\n",
    "2. [Example of high-resolution tracking for freely-swimming zebrafish](#Example-of-high-resolution-tracking-for-freely-swimming-zebrafish)\n",
    "3. [Example of tail tracking in head-restrained condition](#Example-of-tail-tracking-in-head-restrained-condition)\n",
    "4. [Example of low resolution centroid tracking from the Zebrabox config](#Example-of-low-resolution-centroid-tracking-from-the-Zebrabox-config)\n",
    "5. [Example of noisy tracking of freely-swimming zebrafish](#Example-of-noisy-tracking-of-freely-swimming-zebrafish)\n"
   ]
  },
  {
   "cell_type": "markdown",
   "metadata": {},
   "source": [
    "# Testing Plotly Display"
   ]
  },
  {
   "cell_type": "code",
   "execution_count": 5,
   "metadata": {},
   "outputs": [
    {
     "data": {
      "application/vnd.plotly.v1+json": {
       "config": {
        "plotlyServerURL": "https://plot.ly"
       },
       "data": [
        {
         "alignmentgroup": "True",
         "hovertemplate": "smoker=No<br>day=Sun<br>sex=%{x}<br>total_bill=%{y}<extra></extra>",
         "legendgroup": "No",
         "marker": {
          "color": "#636efa",
          "pattern": {
           "shape": ""
          }
         },
         "name": "No",
         "offsetgroup": "No",
         "orientation": "v",
         "showlegend": true,
         "textposition": "auto",
         "type": "bar",
         "x": [
          "Female",
          "Male",
          "Male",
          "Male",
          "Female",
          "Male",
          "Male",
          "Male",
          "Male",
          "Male",
          "Male",
          "Female",
          "Male",
          "Male",
          "Female",
          "Male",
          "Female",
          "Male",
          "Female",
          "Male",
          "Male",
          "Male",
          "Male",
          "Male",
          "Male",
          "Male",
          "Male",
          "Male",
          "Male",
          "Female",
          "Female",
          "Male",
          "Male",
          "Male",
          "Male",
          "Male",
          "Female",
          "Female",
          "Male",
          "Male",
          "Male",
          "Male",
          "Male",
          "Male",
          "Female",
          "Male",
          "Female",
          "Female",
          "Male",
          "Male",
          "Male",
          "Female",
          "Male",
          "Male",
          "Male",
          "Male",
          "Male"
         ],
         "xaxis": "x",
         "y": [
          16.99,
          10.34,
          21.01,
          23.68,
          24.59,
          25.29,
          8.77,
          26.88,
          15.04,
          14.78,
          10.27,
          35.26,
          15.42,
          18.43,
          14.83,
          21.58,
          10.33,
          16.29,
          16.97,
          17.46,
          13.94,
          9.68,
          30.4,
          18.29,
          22.23,
          32.4,
          28.55,
          18.04,
          12.54,
          10.29,
          34.81,
          9.94,
          25.56,
          19.49,
          38.07,
          23.95,
          25.71,
          17.31,
          29.93,
          14.07,
          13.13,
          17.26,
          24.55,
          19.77,
          29.85,
          48.17,
          25,
          13.39,
          16.49,
          21.5,
          12.66,
          16.21,
          13.81,
          24.52,
          20.76,
          31.71,
          20.69
         ],
         "yaxis": "y"
        },
        {
         "alignmentgroup": "True",
         "hovertemplate": "smoker=No<br>day=Sat<br>sex=%{x}<br>total_bill=%{y}<extra></extra>",
         "legendgroup": "No",
         "marker": {
          "color": "#636efa",
          "pattern": {
           "shape": ""
          }
         },
         "name": "No",
         "offsetgroup": "No",
         "orientation": "v",
         "showlegend": false,
         "textposition": "auto",
         "type": "bar",
         "x": [
          "Male",
          "Male",
          "Female",
          "Female",
          "Male",
          "Male",
          "Male",
          "Male",
          "Male",
          "Male",
          "Female",
          "Male",
          "Male",
          "Female",
          "Female",
          "Male",
          "Male",
          "Male",
          "Female",
          "Male",
          "Male",
          "Male",
          "Female",
          "Male",
          "Male",
          "Male",
          "Female",
          "Male",
          "Male",
          "Female",
          "Female",
          "Male",
          "Female",
          "Male",
          "Male",
          "Female",
          "Male",
          "Male",
          "Male",
          "Male",
          "Male",
          "Male",
          "Female",
          "Male",
          "Male"
         ],
         "xaxis": "x2",
         "y": [
          20.65,
          17.92,
          20.29,
          15.77,
          39.42,
          19.82,
          17.81,
          13.37,
          12.69,
          21.7,
          19.65,
          9.55,
          18.35,
          15.06,
          20.69,
          17.78,
          24.06,
          16.31,
          16.93,
          18.69,
          31.27,
          16.04,
          26.41,
          48.27,
          17.59,
          20.08,
          16.45,
          20.23,
          12.02,
          17.07,
          14.73,
          10.51,
          20.92,
          18.24,
          14,
          7.25,
          48.33,
          20.45,
          13.28,
          11.61,
          10.77,
          10.07,
          35.83,
          29.03,
          17.82
         ],
         "yaxis": "y2"
        },
        {
         "alignmentgroup": "True",
         "hovertemplate": "smoker=No<br>day=Thur<br>sex=%{x}<br>total_bill=%{y}<extra></extra>",
         "legendgroup": "No",
         "marker": {
          "color": "#636efa",
          "pattern": {
           "shape": ""
          }
         },
         "name": "No",
         "offsetgroup": "No",
         "orientation": "v",
         "showlegend": false,
         "textposition": "auto",
         "type": "bar",
         "x": [
          "Male",
          "Male",
          "Male",
          "Male",
          "Female",
          "Male",
          "Female",
          "Male",
          "Male",
          "Male",
          "Male",
          "Female",
          "Female",
          "Female",
          "Male",
          "Female",
          "Male",
          "Male",
          "Female",
          "Female",
          "Male",
          "Female",
          "Female",
          "Male",
          "Male",
          "Female",
          "Female",
          "Female",
          "Female",
          "Female",
          "Female",
          "Female",
          "Female",
          "Female",
          "Male",
          "Male",
          "Female",
          "Female",
          "Female",
          "Female",
          "Female",
          "Male",
          "Male",
          "Male",
          "Female"
         ],
         "xaxis": "x3",
         "y": [
          27.2,
          22.76,
          17.29,
          16.66,
          10.07,
          15.98,
          34.83,
          13.03,
          18.28,
          24.71,
          21.16,
          10.65,
          12.43,
          24.08,
          11.69,
          13.42,
          14.26,
          15.95,
          12.48,
          29.8,
          8.52,
          14.52,
          11.38,
          22.82,
          19.08,
          20.27,
          11.17,
          12.26,
          18.26,
          8.51,
          10.33,
          14.15,
          13.16,
          17.47,
          34.3,
          41.19,
          27.05,
          16.43,
          8.35,
          18.64,
          11.87,
          9.78,
          7.51,
          7.56,
          18.78
         ],
         "yaxis": "y3"
        },
        {
         "alignmentgroup": "True",
         "hovertemplate": "smoker=No<br>day=Fri<br>sex=%{x}<br>total_bill=%{y}<extra></extra>",
         "legendgroup": "No",
         "marker": {
          "color": "#636efa",
          "pattern": {
           "shape": ""
          }
         },
         "name": "No",
         "offsetgroup": "No",
         "orientation": "v",
         "showlegend": false,
         "textposition": "auto",
         "type": "bar",
         "x": [
          "Male",
          "Female",
          "Male",
          "Female"
         ],
         "xaxis": "x4",
         "y": [
          22.49,
          22.75,
          12.46,
          15.98
         ],
         "yaxis": "y4"
        },
        {
         "alignmentgroup": "True",
         "hovertemplate": "smoker=Yes<br>day=Sun<br>sex=%{x}<br>total_bill=%{y}<extra></extra>",
         "legendgroup": "Yes",
         "marker": {
          "color": "#EF553B",
          "pattern": {
           "shape": ""
          }
         },
         "name": "Yes",
         "offsetgroup": "Yes",
         "orientation": "v",
         "showlegend": true,
         "textposition": "auto",
         "type": "bar",
         "x": [
          "Female",
          "Male",
          "Male",
          "Male",
          "Male",
          "Male",
          "Male",
          "Female",
          "Male",
          "Male",
          "Male",
          "Male",
          "Male",
          "Male",
          "Female",
          "Male",
          "Female",
          "Male",
          "Male"
         ],
         "xaxis": "x",
         "y": [
          17.51,
          7.25,
          31.85,
          16.82,
          32.9,
          17.89,
          14.48,
          9.6,
          34.63,
          34.65,
          23.33,
          45.35,
          23.17,
          40.55,
          20.9,
          30.46,
          18.15,
          23.1,
          15.69
         ],
         "yaxis": "y"
        },
        {
         "alignmentgroup": "True",
         "hovertemplate": "smoker=Yes<br>day=Sat<br>sex=%{x}<br>total_bill=%{y}<extra></extra>",
         "legendgroup": "Yes",
         "marker": {
          "color": "#EF553B",
          "pattern": {
           "shape": ""
          }
         },
         "name": "Yes",
         "offsetgroup": "Yes",
         "orientation": "v",
         "showlegend": false,
         "textposition": "auto",
         "type": "bar",
         "x": [
          "Male",
          "Male",
          "Male",
          "Male",
          "Male",
          "Male",
          "Female",
          "Male",
          "Female",
          "Female",
          "Male",
          "Female",
          "Female",
          "Male",
          "Male",
          "Male",
          "Female",
          "Female",
          "Female",
          "Male",
          "Male",
          "Male",
          "Male",
          "Male",
          "Female",
          "Male",
          "Male",
          "Female",
          "Female",
          "Female",
          "Male",
          "Male",
          "Male",
          "Female",
          "Female",
          "Male",
          "Male",
          "Male",
          "Male",
          "Male",
          "Female",
          "Male"
         ],
         "xaxis": "x2",
         "y": [
          38.01,
          11.24,
          20.29,
          13.81,
          11.02,
          18.29,
          3.07,
          15.01,
          26.86,
          25.28,
          17.92,
          44.3,
          22.42,
          15.36,
          20.49,
          25.21,
          14.31,
          10.59,
          10.63,
          50.81,
          15.81,
          26.59,
          38.73,
          24.27,
          12.76,
          30.06,
          25.89,
          13.27,
          28.17,
          12.9,
          28.15,
          11.59,
          7.74,
          30.14,
          22.12,
          24.01,
          15.69,
          15.53,
          12.6,
          32.83,
          27.18,
          22.67
         ],
         "yaxis": "y2"
        },
        {
         "alignmentgroup": "True",
         "hovertemplate": "smoker=Yes<br>day=Thur<br>sex=%{x}<br>total_bill=%{y}<extra></extra>",
         "legendgroup": "Yes",
         "marker": {
          "color": "#EF553B",
          "pattern": {
           "shape": ""
          }
         },
         "name": "Yes",
         "offsetgroup": "Yes",
         "orientation": "v",
         "showlegend": false,
         "textposition": "auto",
         "type": "bar",
         "x": [
          "Male",
          "Male",
          "Male",
          "Female",
          "Male",
          "Male",
          "Male",
          "Male",
          "Female",
          "Female",
          "Male",
          "Male",
          "Female",
          "Female",
          "Female",
          "Male",
          "Female"
         ],
         "xaxis": "x3",
         "y": [
          19.44,
          32.68,
          16,
          19.81,
          28.44,
          15.48,
          16.58,
          10.34,
          43.11,
          13,
          13.51,
          18.71,
          12.74,
          13,
          16.4,
          20.53,
          16.47
         ],
         "yaxis": "y3"
        },
        {
         "alignmentgroup": "True",
         "hovertemplate": "smoker=Yes<br>day=Fri<br>sex=%{x}<br>total_bill=%{y}<extra></extra>",
         "legendgroup": "Yes",
         "marker": {
          "color": "#EF553B",
          "pattern": {
           "shape": ""
          }
         },
         "name": "Yes",
         "offsetgroup": "Yes",
         "orientation": "v",
         "showlegend": false,
         "textposition": "auto",
         "type": "bar",
         "x": [
          "Male",
          "Female",
          "Female",
          "Male",
          "Male",
          "Male",
          "Male",
          "Female",
          "Female",
          "Male",
          "Female",
          "Male",
          "Male",
          "Female",
          "Female"
         ],
         "xaxis": "x4",
         "y": [
          28.97,
          5.75,
          16.32,
          40.17,
          27.28,
          12.03,
          21.01,
          11.35,
          15.38,
          12.16,
          13.42,
          8.58,
          13.42,
          16.27,
          10.09
         ],
         "yaxis": "y4"
        }
       ],
       "layout": {
        "annotations": [
         {
          "font": {},
          "showarrow": false,
          "text": "day=Sun",
          "x": 0.1175,
          "xanchor": "center",
          "xref": "paper",
          "y": 1,
          "yanchor": "bottom",
          "yref": "paper"
         },
         {
          "font": {},
          "showarrow": false,
          "text": "day=Sat",
          "x": 0.3725,
          "xanchor": "center",
          "xref": "paper",
          "y": 1,
          "yanchor": "bottom",
          "yref": "paper"
         },
         {
          "font": {},
          "showarrow": false,
          "text": "day=Thur",
          "x": 0.6275,
          "xanchor": "center",
          "xref": "paper",
          "y": 1,
          "yanchor": "bottom",
          "yref": "paper"
         },
         {
          "font": {},
          "showarrow": false,
          "text": "day=Fri",
          "x": 0.8824999999999998,
          "xanchor": "center",
          "xref": "paper",
          "y": 1,
          "yanchor": "bottom",
          "yref": "paper"
         }
        ],
        "barmode": "group",
        "height": 400,
        "legend": {
         "title": {
          "text": "smoker"
         },
         "tracegroupgap": 0
        },
        "margin": {
         "t": 60
        },
        "template": {
         "data": {
          "bar": [
           {
            "error_x": {
             "color": "#2a3f5f"
            },
            "error_y": {
             "color": "#2a3f5f"
            },
            "marker": {
             "line": {
              "color": "#E5ECF6",
              "width": 0.5
             },
             "pattern": {
              "fillmode": "overlay",
              "size": 10,
              "solidity": 0.2
             }
            },
            "type": "bar"
           }
          ],
          "barpolar": [
           {
            "marker": {
             "line": {
              "color": "#E5ECF6",
              "width": 0.5
             },
             "pattern": {
              "fillmode": "overlay",
              "size": 10,
              "solidity": 0.2
             }
            },
            "type": "barpolar"
           }
          ],
          "carpet": [
           {
            "aaxis": {
             "endlinecolor": "#2a3f5f",
             "gridcolor": "white",
             "linecolor": "white",
             "minorgridcolor": "white",
             "startlinecolor": "#2a3f5f"
            },
            "baxis": {
             "endlinecolor": "#2a3f5f",
             "gridcolor": "white",
             "linecolor": "white",
             "minorgridcolor": "white",
             "startlinecolor": "#2a3f5f"
            },
            "type": "carpet"
           }
          ],
          "choropleth": [
           {
            "colorbar": {
             "outlinewidth": 0,
             "ticks": ""
            },
            "type": "choropleth"
           }
          ],
          "contour": [
           {
            "colorbar": {
             "outlinewidth": 0,
             "ticks": ""
            },
            "colorscale": [
             [
              0,
              "#0d0887"
             ],
             [
              0.1111111111111111,
              "#46039f"
             ],
             [
              0.2222222222222222,
              "#7201a8"
             ],
             [
              0.3333333333333333,
              "#9c179e"
             ],
             [
              0.4444444444444444,
              "#bd3786"
             ],
             [
              0.5555555555555556,
              "#d8576b"
             ],
             [
              0.6666666666666666,
              "#ed7953"
             ],
             [
              0.7777777777777778,
              "#fb9f3a"
             ],
             [
              0.8888888888888888,
              "#fdca26"
             ],
             [
              1,
              "#f0f921"
             ]
            ],
            "type": "contour"
           }
          ],
          "contourcarpet": [
           {
            "colorbar": {
             "outlinewidth": 0,
             "ticks": ""
            },
            "type": "contourcarpet"
           }
          ],
          "heatmap": [
           {
            "colorbar": {
             "outlinewidth": 0,
             "ticks": ""
            },
            "colorscale": [
             [
              0,
              "#0d0887"
             ],
             [
              0.1111111111111111,
              "#46039f"
             ],
             [
              0.2222222222222222,
              "#7201a8"
             ],
             [
              0.3333333333333333,
              "#9c179e"
             ],
             [
              0.4444444444444444,
              "#bd3786"
             ],
             [
              0.5555555555555556,
              "#d8576b"
             ],
             [
              0.6666666666666666,
              "#ed7953"
             ],
             [
              0.7777777777777778,
              "#fb9f3a"
             ],
             [
              0.8888888888888888,
              "#fdca26"
             ],
             [
              1,
              "#f0f921"
             ]
            ],
            "type": "heatmap"
           }
          ],
          "heatmapgl": [
           {
            "colorbar": {
             "outlinewidth": 0,
             "ticks": ""
            },
            "colorscale": [
             [
              0,
              "#0d0887"
             ],
             [
              0.1111111111111111,
              "#46039f"
             ],
             [
              0.2222222222222222,
              "#7201a8"
             ],
             [
              0.3333333333333333,
              "#9c179e"
             ],
             [
              0.4444444444444444,
              "#bd3786"
             ],
             [
              0.5555555555555556,
              "#d8576b"
             ],
             [
              0.6666666666666666,
              "#ed7953"
             ],
             [
              0.7777777777777778,
              "#fb9f3a"
             ],
             [
              0.8888888888888888,
              "#fdca26"
             ],
             [
              1,
              "#f0f921"
             ]
            ],
            "type": "heatmapgl"
           }
          ],
          "histogram": [
           {
            "marker": {
             "pattern": {
              "fillmode": "overlay",
              "size": 10,
              "solidity": 0.2
             }
            },
            "type": "histogram"
           }
          ],
          "histogram2d": [
           {
            "colorbar": {
             "outlinewidth": 0,
             "ticks": ""
            },
            "colorscale": [
             [
              0,
              "#0d0887"
             ],
             [
              0.1111111111111111,
              "#46039f"
             ],
             [
              0.2222222222222222,
              "#7201a8"
             ],
             [
              0.3333333333333333,
              "#9c179e"
             ],
             [
              0.4444444444444444,
              "#bd3786"
             ],
             [
              0.5555555555555556,
              "#d8576b"
             ],
             [
              0.6666666666666666,
              "#ed7953"
             ],
             [
              0.7777777777777778,
              "#fb9f3a"
             ],
             [
              0.8888888888888888,
              "#fdca26"
             ],
             [
              1,
              "#f0f921"
             ]
            ],
            "type": "histogram2d"
           }
          ],
          "histogram2dcontour": [
           {
            "colorbar": {
             "outlinewidth": 0,
             "ticks": ""
            },
            "colorscale": [
             [
              0,
              "#0d0887"
             ],
             [
              0.1111111111111111,
              "#46039f"
             ],
             [
              0.2222222222222222,
              "#7201a8"
             ],
             [
              0.3333333333333333,
              "#9c179e"
             ],
             [
              0.4444444444444444,
              "#bd3786"
             ],
             [
              0.5555555555555556,
              "#d8576b"
             ],
             [
              0.6666666666666666,
              "#ed7953"
             ],
             [
              0.7777777777777778,
              "#fb9f3a"
             ],
             [
              0.8888888888888888,
              "#fdca26"
             ],
             [
              1,
              "#f0f921"
             ]
            ],
            "type": "histogram2dcontour"
           }
          ],
          "mesh3d": [
           {
            "colorbar": {
             "outlinewidth": 0,
             "ticks": ""
            },
            "type": "mesh3d"
           }
          ],
          "parcoords": [
           {
            "line": {
             "colorbar": {
              "outlinewidth": 0,
              "ticks": ""
             }
            },
            "type": "parcoords"
           }
          ],
          "pie": [
           {
            "automargin": true,
            "type": "pie"
           }
          ],
          "scatter": [
           {
            "fillpattern": {
             "fillmode": "overlay",
             "size": 10,
             "solidity": 0.2
            },
            "line": {
             "width": 3
            },
            "marker": {
             "size": 9
            },
            "type": "scatter"
           }
          ],
          "scatter3d": [
           {
            "line": {
             "colorbar": {
              "outlinewidth": 0,
              "ticks": ""
             },
             "width": 3
            },
            "marker": {
             "colorbar": {
              "outlinewidth": 0,
              "ticks": ""
             },
             "size": 9
            },
            "type": "scatter3d"
           }
          ],
          "scattercarpet": [
           {
            "marker": {
             "colorbar": {
              "outlinewidth": 0,
              "ticks": ""
             }
            },
            "type": "scattercarpet"
           }
          ],
          "scattergeo": [
           {
            "line": {
             "width": 3
            },
            "marker": {
             "colorbar": {
              "outlinewidth": 0,
              "ticks": ""
             },
             "size": 9
            },
            "type": "scattergeo"
           }
          ],
          "scattergl": [
           {
            "line": {
             "width": 3
            },
            "marker": {
             "colorbar": {
              "outlinewidth": 0,
              "ticks": ""
             },
             "size": 9
            },
            "type": "scattergl"
           }
          ],
          "scattermapbox": [
           {
            "marker": {
             "colorbar": {
              "outlinewidth": 0,
              "ticks": ""
             }
            },
            "type": "scattermapbox"
           }
          ],
          "scatterpolar": [
           {
            "line": {
             "width": 3
            },
            "marker": {
             "colorbar": {
              "outlinewidth": 0,
              "ticks": ""
             },
             "size": 9
            },
            "type": "scatterpolar"
           }
          ],
          "scatterpolargl": [
           {
            "line": {
             "width": 3
            },
            "marker": {
             "colorbar": {
              "outlinewidth": 0,
              "ticks": ""
             },
             "size": 9
            },
            "type": "scatterpolargl"
           }
          ],
          "scatterternary": [
           {
            "line": {
             "width": 3
            },
            "marker": {
             "colorbar": {
              "outlinewidth": 0,
              "ticks": ""
             },
             "size": 9
            },
            "type": "scatterternary"
           }
          ],
          "surface": [
           {
            "colorbar": {
             "outlinewidth": 0,
             "ticks": ""
            },
            "colorscale": [
             [
              0,
              "#0d0887"
             ],
             [
              0.1111111111111111,
              "#46039f"
             ],
             [
              0.2222222222222222,
              "#7201a8"
             ],
             [
              0.3333333333333333,
              "#9c179e"
             ],
             [
              0.4444444444444444,
              "#bd3786"
             ],
             [
              0.5555555555555556,
              "#d8576b"
             ],
             [
              0.6666666666666666,
              "#ed7953"
             ],
             [
              0.7777777777777778,
              "#fb9f3a"
             ],
             [
              0.8888888888888888,
              "#fdca26"
             ],
             [
              1,
              "#f0f921"
             ]
            ],
            "type": "surface"
           }
          ],
          "table": [
           {
            "cells": {
             "fill": {
              "color": "#EBF0F8"
             },
             "height": 30,
             "line": {
              "color": "white"
             }
            },
            "header": {
             "fill": {
              "color": "#C8D4E3"
             },
             "height": 36,
             "line": {
              "color": "white"
             }
            },
            "type": "table"
           }
          ]
         },
         "layout": {
          "annotationdefaults": {
           "arrowcolor": "#2a3f5f",
           "arrowhead": 0,
           "arrowwidth": 1
          },
          "autotypenumbers": "strict",
          "coloraxis": {
           "colorbar": {
            "outlinewidth": 0,
            "ticks": ""
           }
          },
          "colorscale": {
           "diverging": [
            [
             0,
             "#8e0152"
            ],
            [
             0.1,
             "#c51b7d"
            ],
            [
             0.2,
             "#de77ae"
            ],
            [
             0.3,
             "#f1b6da"
            ],
            [
             0.4,
             "#fde0ef"
            ],
            [
             0.5,
             "#f7f7f7"
            ],
            [
             0.6,
             "#e6f5d0"
            ],
            [
             0.7,
             "#b8e186"
            ],
            [
             0.8,
             "#7fbc41"
            ],
            [
             0.9,
             "#4d9221"
            ],
            [
             1,
             "#276419"
            ]
           ],
           "sequential": [
            [
             0,
             "#0d0887"
            ],
            [
             0.1111111111111111,
             "#46039f"
            ],
            [
             0.2222222222222222,
             "#7201a8"
            ],
            [
             0.3333333333333333,
             "#9c179e"
            ],
            [
             0.4444444444444444,
             "#bd3786"
            ],
            [
             0.5555555555555556,
             "#d8576b"
            ],
            [
             0.6666666666666666,
             "#ed7953"
            ],
            [
             0.7777777777777778,
             "#fb9f3a"
            ],
            [
             0.8888888888888888,
             "#fdca26"
            ],
            [
             1,
             "#f0f921"
            ]
           ],
           "sequentialminus": [
            [
             0,
             "#0d0887"
            ],
            [
             0.1111111111111111,
             "#46039f"
            ],
            [
             0.2222222222222222,
             "#7201a8"
            ],
            [
             0.3333333333333333,
             "#9c179e"
            ],
            [
             0.4444444444444444,
             "#bd3786"
            ],
            [
             0.5555555555555556,
             "#d8576b"
            ],
            [
             0.6666666666666666,
             "#ed7953"
            ],
            [
             0.7777777777777778,
             "#fb9f3a"
            ],
            [
             0.8888888888888888,
             "#fdca26"
            ],
            [
             1,
             "#f0f921"
            ]
           ]
          },
          "colorway": [
           "#636efa",
           "#EF553B",
           "#00cc96",
           "#ab63fa",
           "#FFA15A",
           "#19d3f3",
           "#FF6692",
           "#B6E880",
           "#FF97FF",
           "#FECB52"
          ],
          "font": {
           "color": "#2a3f5f",
           "size": 18
          },
          "geo": {
           "bgcolor": "white",
           "lakecolor": "white",
           "landcolor": "#E5ECF6",
           "showlakes": true,
           "showland": true,
           "subunitcolor": "white"
          },
          "hoverlabel": {
           "align": "left"
          },
          "hovermode": "closest",
          "mapbox": {
           "style": "light"
          },
          "paper_bgcolor": "white",
          "plot_bgcolor": "#E5ECF6",
          "polar": {
           "angularaxis": {
            "gridcolor": "white",
            "linecolor": "white",
            "ticks": ""
           },
           "bgcolor": "#E5ECF6",
           "radialaxis": {
            "gridcolor": "white",
            "linecolor": "white",
            "ticks": ""
           }
          },
          "scene": {
           "xaxis": {
            "backgroundcolor": "#E5ECF6",
            "gridcolor": "white",
            "gridwidth": 2,
            "linecolor": "white",
            "showbackground": true,
            "ticks": "",
            "zerolinecolor": "white"
           },
           "yaxis": {
            "backgroundcolor": "#E5ECF6",
            "gridcolor": "white",
            "gridwidth": 2,
            "linecolor": "white",
            "showbackground": true,
            "ticks": "",
            "zerolinecolor": "white"
           },
           "zaxis": {
            "backgroundcolor": "#E5ECF6",
            "gridcolor": "white",
            "gridwidth": 2,
            "linecolor": "white",
            "showbackground": true,
            "ticks": "",
            "zerolinecolor": "white"
           }
          },
          "shapedefaults": {
           "line": {
            "color": "#2a3f5f"
           }
          },
          "ternary": {
           "aaxis": {
            "gridcolor": "white",
            "linecolor": "white",
            "ticks": ""
           },
           "baxis": {
            "gridcolor": "white",
            "linecolor": "white",
            "ticks": ""
           },
           "bgcolor": "#E5ECF6",
           "caxis": {
            "gridcolor": "white",
            "linecolor": "white",
            "ticks": ""
           }
          },
          "title": {
           "x": 0.05
          },
          "xaxis": {
           "automargin": true,
           "gridcolor": "white",
           "linecolor": "white",
           "ticks": "",
           "title": {
            "standoff": 15
           },
           "zerolinecolor": "white",
           "zerolinewidth": 2
          },
          "yaxis": {
           "automargin": true,
           "gridcolor": "white",
           "linecolor": "white",
           "ticks": "",
           "title": {
            "standoff": 15
           },
           "zerolinecolor": "white",
           "zerolinewidth": 2
          }
         }
        },
        "xaxis": {
         "anchor": "y",
         "domain": [
          0,
          0.235
         ],
         "title": {
          "text": "sex"
         }
        },
        "xaxis2": {
         "anchor": "y2",
         "domain": [
          0.255,
          0.49
         ],
         "matches": "x",
         "title": {
          "text": "sex"
         }
        },
        "xaxis3": {
         "anchor": "y3",
         "domain": [
          0.51,
          0.745
         ],
         "matches": "x",
         "title": {
          "text": "sex"
         }
        },
        "xaxis4": {
         "anchor": "y4",
         "domain": [
          0.7649999999999999,
          0.9999999999999999
         ],
         "matches": "x",
         "title": {
          "text": "sex"
         }
        },
        "yaxis": {
         "anchor": "x",
         "domain": [
          0,
          1
         ],
         "title": {
          "text": "total_bill"
         }
        },
        "yaxis2": {
         "anchor": "x2",
         "domain": [
          0,
          1
         ],
         "matches": "y",
         "showticklabels": false
        },
        "yaxis3": {
         "anchor": "x3",
         "domain": [
          0,
          1
         ],
         "matches": "y",
         "showticklabels": false
        },
        "yaxis4": {
         "anchor": "x4",
         "domain": [
          0,
          1
         ],
         "matches": "y",
         "showticklabels": false
        }
       }
      }
     },
     "metadata": {},
     "output_type": "display_data"
    }
   ],
   "source": [
    "import plotly.express as px\n",
    "import numpy as np\n",
    "\n",
    "df = px.data.tips()\n",
    "fig = px.bar(\n",
    "    df,\n",
    "    x=\"sex\",\n",
    "    y=\"total_bill\",\n",
    "    facet_col=\"day\",\n",
    "    color=\"smoker\",\n",
    "    barmode=\"group\",\n",
    "    template=\"presentation+plotly\",\n",
    ")\n",
    "fig.update_layout(height=400)\n",
    "fig"
   ]
  },
  {
   "cell_type": "code",
   "execution_count": 6,
   "metadata": {},
   "outputs": [
    {
     "data": {
      "application/vnd.plotly.v1+json": {
       "config": {
        "plotlyServerURL": "https://plot.ly"
       },
       "data": [
        {
         "mode": "lines",
         "name": "Pose",
         "type": "scatter",
         "x": [
          0,
          1,
          2,
          3,
          4,
          5,
          6,
          7,
          8,
          9,
          10,
          11,
          12,
          13,
          14,
          15,
          16,
          17,
          18,
          19,
          20,
          21,
          22,
          23,
          24,
          25,
          26,
          27,
          28,
          29,
          30,
          31,
          32,
          33,
          34,
          35,
          36,
          37,
          38,
          39,
          40,
          41,
          42,
          43,
          44,
          45,
          46,
          47,
          48,
          49,
          50,
          51,
          52,
          53,
          54,
          55,
          56,
          57,
          58,
          59,
          60,
          61,
          62,
          63,
          64,
          65,
          66,
          67,
          68,
          69,
          70,
          71,
          72,
          73,
          74,
          75,
          76,
          77,
          78,
          79,
          80,
          81,
          82,
          83,
          84,
          85,
          86,
          87,
          88,
          89,
          90,
          91,
          92,
          93,
          94,
          95,
          96,
          97,
          98,
          99,
          100,
          101,
          102,
          103,
          104,
          105,
          106,
          107,
          108,
          109,
          110,
          111,
          112,
          113,
          114,
          115,
          116,
          117,
          118,
          119,
          120,
          121,
          122,
          123,
          124,
          125,
          126,
          127,
          128,
          129,
          130,
          131,
          132,
          133,
          134,
          135,
          136,
          137,
          138,
          139,
          140,
          141,
          142,
          143,
          144,
          145,
          146,
          147,
          148,
          149,
          150,
          151,
          152,
          153,
          154,
          155,
          156,
          157,
          158,
          159,
          160,
          161,
          162,
          163,
          164,
          165,
          166,
          167,
          168,
          169,
          170,
          171,
          172,
          173,
          174,
          175,
          176,
          177,
          178,
          179,
          180,
          181,
          182,
          183,
          184,
          185,
          186,
          187,
          188,
          189,
          190,
          191,
          192,
          193,
          194,
          195,
          196,
          197,
          198,
          199,
          200,
          201,
          202,
          203,
          204,
          205,
          206,
          207,
          208,
          209,
          210,
          211,
          212,
          213,
          214,
          215,
          216,
          217,
          218,
          219,
          220,
          221,
          222,
          223,
          224,
          225,
          226,
          227,
          228,
          229,
          230,
          231,
          232,
          233,
          234,
          235,
          236,
          237,
          238,
          239,
          240,
          241,
          242,
          243,
          244,
          245,
          246,
          247,
          248,
          249,
          250,
          251,
          252,
          253,
          254,
          255,
          256,
          257,
          258,
          259,
          260,
          261,
          262,
          263,
          264,
          265,
          266,
          267,
          268,
          269,
          270,
          271,
          272,
          273,
          274,
          275,
          276,
          277,
          278,
          279,
          280,
          281,
          282,
          283,
          284,
          285,
          286,
          287,
          288,
          289,
          290,
          291,
          292,
          293,
          294,
          295,
          296,
          297,
          298,
          299,
          300,
          301,
          302,
          303,
          304,
          305,
          306,
          307,
          308,
          309,
          310,
          311,
          312,
          313,
          314,
          315,
          316,
          317,
          318,
          319,
          320,
          321,
          322,
          323,
          324,
          325,
          326,
          327,
          328,
          329,
          330,
          331,
          332,
          333,
          334,
          335,
          336,
          337,
          338,
          339,
          340,
          341,
          342,
          343,
          344,
          345,
          346,
          347,
          348,
          349,
          350,
          351,
          352,
          353,
          354,
          355,
          356,
          357,
          358,
          359,
          360,
          361,
          362,
          363,
          364,
          365,
          366,
          367,
          368,
          369,
          370,
          371,
          372,
          373,
          374,
          375,
          376,
          377,
          378,
          379,
          380,
          381,
          382,
          383,
          384,
          385,
          386,
          387,
          388,
          389,
          390,
          391,
          392,
          393,
          394,
          395,
          396,
          397,
          398,
          399,
          400,
          401,
          402,
          403,
          404,
          405,
          406,
          407,
          408,
          409,
          410,
          411,
          412,
          413,
          414,
          415,
          416,
          417,
          418,
          419,
          420,
          421,
          422,
          423,
          424,
          425,
          426,
          427,
          428,
          429,
          430,
          431,
          432,
          433,
          434,
          435,
          436,
          437,
          438,
          439,
          440,
          441,
          442,
          443,
          444,
          445,
          446,
          447,
          448,
          449,
          450,
          451,
          452,
          453,
          454,
          455,
          456,
          457,
          458,
          459,
          460,
          461,
          462,
          463,
          464,
          465,
          466,
          467,
          468,
          469,
          470,
          471,
          472,
          473,
          474,
          475,
          476,
          477,
          478,
          479,
          480,
          481,
          482,
          483,
          484,
          485,
          486,
          487,
          488,
          489,
          490,
          491,
          492,
          493,
          494,
          495,
          496,
          497,
          498,
          499,
          500,
          501,
          502,
          503,
          504,
          505,
          506,
          507,
          508,
          509,
          510,
          511,
          512,
          513,
          514,
          515,
          516,
          517,
          518,
          519,
          520,
          521,
          522,
          523,
          524,
          525,
          526,
          527,
          528,
          529,
          530,
          531,
          532,
          533,
          534,
          535,
          536,
          537,
          538,
          539,
          540,
          541,
          542,
          543,
          544,
          545,
          546,
          547,
          548,
          549,
          550,
          551,
          552,
          553,
          554,
          555,
          556,
          557,
          558,
          559,
          560,
          561,
          562,
          563,
          564,
          565,
          566,
          567,
          568,
          569,
          570,
          571,
          572,
          573,
          574,
          575,
          576,
          577,
          578,
          579,
          580,
          581,
          582,
          583,
          584,
          585,
          586,
          587,
          588,
          589,
          590,
          591,
          592,
          593,
          594,
          595,
          596,
          597,
          598,
          599,
          600,
          601,
          602,
          603,
          604,
          605,
          606,
          607,
          608,
          609,
          610,
          611,
          612,
          613,
          614,
          615,
          616,
          617,
          618,
          619,
          620,
          621,
          622,
          623,
          624,
          625,
          626,
          627,
          628,
          629,
          630,
          631,
          632,
          633,
          634,
          635,
          636,
          637,
          638,
          639,
          640,
          641,
          642,
          643,
          644,
          645,
          646,
          647,
          648,
          649,
          650,
          651,
          652,
          653,
          654,
          655,
          656,
          657,
          658,
          659,
          660,
          661,
          662,
          663,
          664,
          665,
          666,
          667,
          668,
          669,
          670,
          671,
          672,
          673,
          674,
          675,
          676,
          677,
          678,
          679,
          680,
          681,
          682,
          683,
          684,
          685,
          686,
          687,
          688,
          689,
          690,
          691,
          692,
          693,
          694,
          695,
          696,
          697,
          698,
          699,
          700,
          701,
          702,
          703,
          704,
          705,
          706,
          707,
          708,
          709,
          710,
          711,
          712,
          713,
          714,
          715,
          716,
          717,
          718,
          719,
          720,
          721,
          722,
          723,
          724,
          725,
          726,
          727,
          728,
          729,
          730,
          731,
          732,
          733,
          734,
          735,
          736,
          737,
          738,
          739,
          740,
          741,
          742,
          743,
          744,
          745,
          746,
          747,
          748,
          749,
          750,
          751,
          752,
          753,
          754,
          755,
          756,
          757,
          758,
          759,
          760,
          761,
          762,
          763,
          764,
          765,
          766,
          767,
          768,
          769,
          770,
          771,
          772,
          773,
          774,
          775,
          776,
          777,
          778,
          779,
          780,
          781,
          782,
          783,
          784,
          785,
          786,
          787,
          788,
          789,
          790,
          791,
          792,
          793,
          794,
          795,
          796,
          797,
          798,
          799,
          800,
          801,
          802,
          803,
          804,
          805,
          806,
          807,
          808,
          809,
          810,
          811,
          812,
          813,
          814,
          815,
          816,
          817,
          818,
          819,
          820,
          821,
          822,
          823,
          824,
          825,
          826,
          827,
          828,
          829,
          830,
          831,
          832,
          833,
          834,
          835,
          836,
          837,
          838,
          839,
          840,
          841,
          842,
          843,
          844,
          845,
          846,
          847,
          848,
          849,
          850,
          851,
          852,
          853,
          854,
          855,
          856,
          857,
          858,
          859,
          860,
          861,
          862,
          863,
          864,
          865,
          866,
          867,
          868,
          869,
          870,
          871,
          872,
          873,
          874,
          875,
          876,
          877,
          878,
          879,
          880,
          881,
          882,
          883,
          884,
          885,
          886,
          887,
          888,
          889,
          890,
          891,
          892,
          893,
          894,
          895,
          896,
          897,
          898,
          899,
          900,
          901,
          902,
          903,
          904,
          905,
          906,
          907,
          908,
          909,
          910,
          911,
          912,
          913,
          914,
          915,
          916,
          917,
          918,
          919,
          920,
          921,
          922,
          923,
          924,
          925,
          926,
          927,
          928,
          929,
          930,
          931,
          932,
          933,
          934,
          935,
          936,
          937,
          938,
          939,
          940,
          941,
          942,
          943,
          944,
          945,
          946,
          947,
          948,
          949,
          950,
          951,
          952,
          953,
          954,
          955,
          956,
          957,
          958,
          959,
          960,
          961,
          962,
          963,
          964,
          965,
          966,
          967,
          968,
          969,
          970,
          971,
          972,
          973,
          974,
          975,
          976,
          977,
          978,
          979,
          980,
          981,
          982,
          983,
          984,
          985,
          986,
          987,
          988,
          989,
          990,
          991,
          992,
          993,
          994,
          995,
          996,
          997,
          998,
          999
         ],
         "xaxis": "x",
         "y": [
          0,
          0.5,
          1,
          1.5,
          2,
          2.5,
          3,
          3.5,
          4,
          4.5,
          5,
          5.5,
          6,
          6.5,
          7,
          7.5,
          8,
          8.5,
          9,
          9.5,
          10,
          10.5,
          11,
          11.5,
          12,
          12.5,
          13,
          13.5,
          14,
          14.5,
          15,
          15.5,
          16,
          16.5,
          17,
          17.5,
          18,
          18.5,
          19,
          19.5,
          20,
          20.5,
          21,
          21.5,
          22,
          22.5,
          23,
          23.5,
          24,
          24.5,
          25,
          25.5,
          26,
          26.5,
          27,
          27.5,
          28,
          28.5,
          29,
          29.5,
          30,
          30.5,
          31,
          31.5,
          32,
          32.5,
          33,
          33.5,
          34,
          34.5,
          35,
          35.5,
          36,
          36.5,
          37,
          37.5,
          38,
          38.5,
          39,
          39.5,
          40,
          40.5,
          41,
          41.5,
          42,
          42.5,
          43,
          43.5,
          44,
          44.5,
          45,
          45.5,
          46,
          46.5,
          47,
          47.5,
          48,
          48.5,
          49,
          49.5,
          50,
          50.5,
          51,
          51.5,
          52,
          52.5,
          53,
          53.5,
          54,
          54.5,
          55,
          55.5,
          56,
          56.5,
          57,
          57.5,
          58,
          58.5,
          59,
          59.5,
          60,
          60.5,
          61,
          61.5,
          62,
          62.5,
          63,
          63.5,
          64,
          64.5,
          65,
          65.5,
          66,
          66.5,
          67,
          67.5,
          68,
          68.5,
          69,
          69.5,
          70,
          70.5,
          71,
          71.5,
          72,
          72.5,
          73,
          73.5,
          74,
          74.5,
          75,
          75.5,
          76,
          76.5,
          77,
          77.5,
          78,
          78.5,
          79,
          79.5,
          80,
          80.5,
          81,
          81.5,
          82,
          82.5,
          83,
          83.5,
          84,
          84.5,
          85,
          85.5,
          86,
          86.5,
          87,
          87.5,
          88,
          88.5,
          89,
          89.5,
          90,
          90.5,
          91,
          91.5,
          92,
          92.5,
          93,
          93.5,
          94,
          94.5,
          95,
          95.5,
          96,
          96.5,
          97,
          97.5,
          98,
          98.5,
          99,
          99.5,
          100,
          100.5,
          101,
          101.5,
          102,
          102.5,
          103,
          103.5,
          104,
          104.5,
          105,
          105.5,
          106,
          106.5,
          107,
          107.5,
          108,
          108.5,
          109,
          109.5,
          110,
          110.5,
          111,
          111.5,
          112,
          112.5,
          113,
          113.5,
          114,
          114.5,
          115,
          115.5,
          116,
          116.5,
          117,
          117.5,
          118,
          118.5,
          119,
          119.5,
          120,
          120.5,
          121,
          121.5,
          122,
          122.5,
          123,
          123.5,
          124,
          124.5,
          125,
          125.5,
          126,
          126.5,
          127,
          127.5,
          128,
          128.5,
          129,
          129.5,
          130,
          130.5,
          131,
          131.5,
          132,
          132.5,
          133,
          133.5,
          134,
          134.5,
          135,
          135.5,
          136,
          136.5,
          137,
          137.5,
          138,
          138.5,
          139,
          139.5,
          140,
          140.5,
          141,
          141.5,
          142,
          142.5,
          143,
          143.5,
          144,
          144.5,
          145,
          145.5,
          146,
          146.5,
          147,
          147.5,
          148,
          148.5,
          149,
          149.5,
          150,
          150.5,
          151,
          151.5,
          152,
          152.5,
          153,
          153.5,
          154,
          154.5,
          155,
          155.5,
          156,
          156.5,
          157,
          157.5,
          158,
          158.5,
          159,
          159.5,
          160,
          160.5,
          161,
          161.5,
          162,
          162.5,
          163,
          163.5,
          164,
          164.5,
          165,
          165.5,
          166,
          166.5,
          167,
          167.5,
          168,
          168.5,
          169,
          169.5,
          170,
          170.5,
          171,
          171.5,
          172,
          172.5,
          173,
          173.5,
          174,
          174.5,
          175,
          175.5,
          176,
          176.5,
          177,
          177.5,
          178,
          178.5,
          179,
          179.5,
          180,
          180.5,
          181,
          181.5,
          182,
          182.5,
          183,
          183.5,
          184,
          184.5,
          185,
          185.5,
          186,
          186.5,
          187,
          187.5,
          188,
          188.5,
          189,
          189.5,
          190,
          190.5,
          191,
          191.5,
          192,
          192.5,
          193,
          193.5,
          194,
          194.5,
          195,
          195.5,
          196,
          196.5,
          197,
          197.5,
          198,
          198.5,
          199,
          199.5,
          200,
          200.5,
          201,
          201.5,
          202,
          202.5,
          203,
          203.5,
          204,
          204.5,
          205,
          205.5,
          206,
          206.5,
          207,
          207.5,
          208,
          208.5,
          209,
          209.5,
          210,
          210.5,
          211,
          211.5,
          212,
          212.5,
          213,
          213.5,
          214,
          214.5,
          215,
          215.5,
          216,
          216.5,
          217,
          217.5,
          218,
          218.5,
          219,
          219.5,
          220,
          220.5,
          221,
          221.5,
          222,
          222.5,
          223,
          223.5,
          224,
          224.5,
          225,
          225.5,
          226,
          226.5,
          227,
          227.5,
          228,
          228.5,
          229,
          229.5,
          230,
          230.5,
          231,
          231.5,
          232,
          232.5,
          233,
          233.5,
          234,
          234.5,
          235,
          235.5,
          236,
          236.5,
          237,
          237.5,
          238,
          238.5,
          239,
          239.5,
          240,
          240.5,
          241,
          241.5,
          242,
          242.5,
          243,
          243.5,
          244,
          244.5,
          245,
          245.5,
          246,
          246.5,
          247,
          247.5,
          248,
          248.5,
          249,
          249.5,
          250,
          250.5,
          251,
          251.5,
          252,
          252.5,
          253,
          253.5,
          254,
          254.5,
          255,
          255.5,
          256,
          256.5,
          257,
          257.5,
          258,
          258.5,
          259,
          259.5,
          260,
          260.5,
          261,
          261.5,
          262,
          262.5,
          263,
          263.5,
          264,
          264.5,
          265,
          265.5,
          266,
          266.5,
          267,
          267.5,
          268,
          268.5,
          269,
          269.5,
          270,
          270.5,
          271,
          271.5,
          272,
          272.5,
          273,
          273.5,
          274,
          274.5,
          275,
          275.5,
          276,
          276.5,
          277,
          277.5,
          278,
          278.5,
          279,
          279.5,
          280,
          280.5,
          281,
          281.5,
          282,
          282.5,
          283,
          283.5,
          284,
          284.5,
          285,
          285.5,
          286,
          286.5,
          287,
          287.5,
          288,
          288.5,
          289,
          289.5,
          290,
          290.5,
          291,
          291.5,
          292,
          292.5,
          293,
          293.5,
          294,
          294.5,
          295,
          295.5,
          296,
          296.5,
          297,
          297.5,
          298,
          298.5,
          299,
          299.5,
          300,
          300.5,
          301,
          301.5,
          302,
          302.5,
          303,
          303.5,
          304,
          304.5,
          305,
          305.5,
          306,
          306.5,
          307,
          307.5,
          308,
          308.5,
          309,
          309.5,
          310,
          310.5,
          311,
          311.5,
          312,
          312.5,
          313,
          313.5,
          314,
          314.5,
          315,
          315.5,
          316,
          316.5,
          317,
          317.5,
          318,
          318.5,
          319,
          319.5,
          320,
          320.5,
          321,
          321.5,
          322,
          322.5,
          323,
          323.5,
          324,
          324.5,
          325,
          325.5,
          326,
          326.5,
          327,
          327.5,
          328,
          328.5,
          329,
          329.5,
          330,
          330.5,
          331,
          331.5,
          332,
          332.5,
          333,
          333.5,
          334,
          334.5,
          335,
          335.5,
          336,
          336.5,
          337,
          337.5,
          338,
          338.5,
          339,
          339.5,
          340,
          340.5,
          341,
          341.5,
          342,
          342.5,
          343,
          343.5,
          344,
          344.5,
          345,
          345.5,
          346,
          346.5,
          347,
          347.5,
          348,
          348.5,
          349,
          349.5,
          350,
          350.5,
          351,
          351.5,
          352,
          352.5,
          353,
          353.5,
          354,
          354.5,
          355,
          355.5,
          356,
          356.5,
          357,
          357.5,
          358,
          358.5,
          359,
          359.5,
          360,
          360.5,
          361,
          361.5,
          362,
          362.5,
          363,
          363.5,
          364,
          364.5,
          365,
          365.5,
          366,
          366.5,
          367,
          367.5,
          368,
          368.5,
          369,
          369.5,
          370,
          370.5,
          371,
          371.5,
          372,
          372.5,
          373,
          373.5,
          374,
          374.5,
          375,
          375.5,
          376,
          376.5,
          377,
          377.5,
          378,
          378.5,
          379,
          379.5,
          380,
          380.5,
          381,
          381.5,
          382,
          382.5,
          383,
          383.5,
          384,
          384.5,
          385,
          385.5,
          386,
          386.5,
          387,
          387.5,
          388,
          388.5,
          389,
          389.5,
          390,
          390.5,
          391,
          391.5,
          392,
          392.5,
          393,
          393.5,
          394,
          394.5,
          395,
          395.5,
          396,
          396.5,
          397,
          397.5,
          398,
          398.5,
          399,
          399.5,
          400,
          400.5,
          401,
          401.5,
          402,
          402.5,
          403,
          403.5,
          404,
          404.5,
          405,
          405.5,
          406,
          406.5,
          407,
          407.5,
          408,
          408.5,
          409,
          409.5,
          410,
          410.5,
          411,
          411.5,
          412,
          412.5,
          413,
          413.5,
          414,
          414.5,
          415,
          415.5,
          416,
          416.5,
          417,
          417.5,
          418,
          418.5,
          419,
          419.5,
          420,
          420.5,
          421,
          421.5,
          422,
          422.5,
          423,
          423.5,
          424,
          424.5,
          425,
          425.5,
          426,
          426.5,
          427,
          427.5,
          428,
          428.5,
          429,
          429.5,
          430,
          430.5,
          431,
          431.5,
          432,
          432.5,
          433,
          433.5,
          434,
          434.5,
          435,
          435.5,
          436,
          436.5,
          437,
          437.5,
          438,
          438.5,
          439,
          439.5,
          440,
          440.5,
          441,
          441.5,
          442,
          442.5,
          443,
          443.5,
          444,
          444.5,
          445,
          445.5,
          446,
          446.5,
          447,
          447.5,
          448,
          448.5,
          449,
          449.5,
          450,
          450.5,
          451,
          451.5,
          452,
          452.5,
          453,
          453.5,
          454,
          454.5,
          455,
          455.5,
          456,
          456.5,
          457,
          457.5,
          458,
          458.5,
          459,
          459.5,
          460,
          460.5,
          461,
          461.5,
          462,
          462.5,
          463,
          463.5,
          464,
          464.5,
          465,
          465.5,
          466,
          466.5,
          467,
          467.5,
          468,
          468.5,
          469,
          469.5,
          470,
          470.5,
          471,
          471.5,
          472,
          472.5,
          473,
          473.5,
          474,
          474.5,
          475,
          475.5,
          476,
          476.5,
          477,
          477.5,
          478,
          478.5,
          479,
          479.5,
          480,
          480.5,
          481,
          481.5,
          482,
          482.5,
          483,
          483.5,
          484,
          484.5,
          485,
          485.5,
          486,
          486.5,
          487,
          487.5,
          488,
          488.5,
          489,
          489.5,
          490,
          490.5,
          491,
          491.5,
          492,
          492.5,
          493,
          493.5,
          494,
          494.5,
          495,
          495.5,
          496,
          496.5,
          497,
          497.5,
          498,
          498.5,
          499,
          499.5
         ],
         "yaxis": "y"
        },
        {
         "marker": {
          "color": "blue",
          "size": 10
         },
         "mode": "markers",
         "name": "walk",
         "type": "scatter",
         "x": [
          null
         ],
         "xaxis": "x2",
         "y": [
          null
         ],
         "yaxis": "y2"
        },
        {
         "marker": {
          "color": "red",
          "size": 10
         },
         "mode": "markers",
         "name": "run",
         "type": "scatter",
         "x": [
          null
         ],
         "xaxis": "x2",
         "y": [
          null
         ],
         "yaxis": "y2"
        },
        {
         "marker": {
          "color": "green",
          "size": 10
         },
         "mode": "markers",
         "name": "idle",
         "type": "scatter",
         "x": [
          null
         ],
         "xaxis": "x2",
         "y": [
          null
         ],
         "yaxis": "y2"
        },
        {
         "fill": "toself",
         "fillcolor": "blue",
         "hoverinfo": "none",
         "line": {
          "color": "rgba(0,0,0,0)"
         },
         "showlegend": false,
         "type": "scatter",
         "x": [
          0,
          10,
          10,
          0,
          0
         ],
         "xaxis": "x2",
         "y": [
          0,
          0,
          1,
          1,
          0
         ],
         "yaxis": "y2"
        },
        {
         "fill": "toself",
         "fillcolor": "red",
         "hoverinfo": "none",
         "line": {
          "color": "rgba(0,0,0,0)"
         },
         "showlegend": false,
         "type": "scatter",
         "x": [
          10,
          20,
          20,
          10,
          10
         ],
         "xaxis": "x2",
         "y": [
          0,
          0,
          1,
          1,
          0
         ],
         "yaxis": "y2"
        },
        {
         "fill": "toself",
         "fillcolor": "green",
         "hoverinfo": "none",
         "line": {
          "color": "rgba(0,0,0,0)"
         },
         "showlegend": false,
         "type": "scatter",
         "x": [
          20,
          30,
          30,
          20,
          20
         ],
         "xaxis": "x2",
         "y": [
          0,
          0,
          1,
          1,
          0
         ],
         "yaxis": "y2"
        },
        {
         "fill": "toself",
         "fillcolor": "blue",
         "hoverinfo": "none",
         "line": {
          "color": "rgba(0,0,0,0)"
         },
         "showlegend": false,
         "type": "scatter",
         "x": [
          30,
          40,
          40,
          30,
          30
         ],
         "xaxis": "x2",
         "y": [
          0,
          0,
          1,
          1,
          0
         ],
         "yaxis": "y2"
        },
        {
         "fill": "toself",
         "fillcolor": "red",
         "hoverinfo": "none",
         "line": {
          "color": "rgba(0,0,0,0)"
         },
         "showlegend": false,
         "type": "scatter",
         "x": [
          40,
          50,
          50,
          40,
          40
         ],
         "xaxis": "x2",
         "y": [
          0,
          0,
          1,
          1,
          0
         ],
         "yaxis": "y2"
        },
        {
         "fill": "toself",
         "fillcolor": "green",
         "hoverinfo": "none",
         "line": {
          "color": "rgba(0,0,0,0)"
         },
         "showlegend": false,
         "type": "scatter",
         "x": [
          50,
          60,
          60,
          50,
          50
         ],
         "xaxis": "x2",
         "y": [
          0,
          0,
          1,
          1,
          0
         ],
         "yaxis": "y2"
        },
        {
         "fill": "toself",
         "fillcolor": "blue",
         "hoverinfo": "none",
         "line": {
          "color": "rgba(0,0,0,0)"
         },
         "showlegend": false,
         "type": "scatter",
         "x": [
          60,
          70,
          70,
          60,
          60
         ],
         "xaxis": "x2",
         "y": [
          0,
          0,
          1,
          1,
          0
         ],
         "yaxis": "y2"
        },
        {
         "fill": "toself",
         "fillcolor": "red",
         "hoverinfo": "none",
         "line": {
          "color": "rgba(0,0,0,0)"
         },
         "showlegend": false,
         "type": "scatter",
         "x": [
          70,
          80,
          80,
          70,
          70
         ],
         "xaxis": "x2",
         "y": [
          0,
          0,
          1,
          1,
          0
         ],
         "yaxis": "y2"
        },
        {
         "fill": "toself",
         "fillcolor": "green",
         "hoverinfo": "none",
         "line": {
          "color": "rgba(0,0,0,0)"
         },
         "showlegend": false,
         "type": "scatter",
         "x": [
          80,
          90,
          90,
          80,
          80
         ],
         "xaxis": "x2",
         "y": [
          0,
          0,
          1,
          1,
          0
         ],
         "yaxis": "y2"
        },
        {
         "fill": "toself",
         "fillcolor": "blue",
         "hoverinfo": "none",
         "line": {
          "color": "rgba(0,0,0,0)"
         },
         "showlegend": false,
         "type": "scatter",
         "x": [
          90,
          100,
          100,
          90,
          90
         ],
         "xaxis": "x2",
         "y": [
          0,
          0,
          1,
          1,
          0
         ],
         "yaxis": "y2"
        },
        {
         "fill": "toself",
         "fillcolor": "red",
         "hoverinfo": "none",
         "line": {
          "color": "rgba(0,0,0,0)"
         },
         "showlegend": false,
         "type": "scatter",
         "x": [
          100,
          110,
          110,
          100,
          100
         ],
         "xaxis": "x2",
         "y": [
          0,
          0,
          1,
          1,
          0
         ],
         "yaxis": "y2"
        },
        {
         "fill": "toself",
         "fillcolor": "green",
         "hoverinfo": "none",
         "line": {
          "color": "rgba(0,0,0,0)"
         },
         "showlegend": false,
         "type": "scatter",
         "x": [
          110,
          120,
          120,
          110,
          110
         ],
         "xaxis": "x2",
         "y": [
          0,
          0,
          1,
          1,
          0
         ],
         "yaxis": "y2"
        },
        {
         "fill": "toself",
         "fillcolor": "blue",
         "hoverinfo": "none",
         "line": {
          "color": "rgba(0,0,0,0)"
         },
         "showlegend": false,
         "type": "scatter",
         "x": [
          120,
          130,
          130,
          120,
          120
         ],
         "xaxis": "x2",
         "y": [
          0,
          0,
          1,
          1,
          0
         ],
         "yaxis": "y2"
        },
        {
         "fill": "toself",
         "fillcolor": "red",
         "hoverinfo": "none",
         "line": {
          "color": "rgba(0,0,0,0)"
         },
         "showlegend": false,
         "type": "scatter",
         "x": [
          130,
          140,
          140,
          130,
          130
         ],
         "xaxis": "x2",
         "y": [
          0,
          0,
          1,
          1,
          0
         ],
         "yaxis": "y2"
        },
        {
         "fill": "toself",
         "fillcolor": "green",
         "hoverinfo": "none",
         "line": {
          "color": "rgba(0,0,0,0)"
         },
         "showlegend": false,
         "type": "scatter",
         "x": [
          140,
          150,
          150,
          140,
          140
         ],
         "xaxis": "x2",
         "y": [
          0,
          0,
          1,
          1,
          0
         ],
         "yaxis": "y2"
        },
        {
         "fill": "toself",
         "fillcolor": "blue",
         "hoverinfo": "none",
         "line": {
          "color": "rgba(0,0,0,0)"
         },
         "showlegend": false,
         "type": "scatter",
         "x": [
          150,
          160,
          160,
          150,
          150
         ],
         "xaxis": "x2",
         "y": [
          0,
          0,
          1,
          1,
          0
         ],
         "yaxis": "y2"
        },
        {
         "fill": "toself",
         "fillcolor": "red",
         "hoverinfo": "none",
         "line": {
          "color": "rgba(0,0,0,0)"
         },
         "showlegend": false,
         "type": "scatter",
         "x": [
          160,
          170,
          170,
          160,
          160
         ],
         "xaxis": "x2",
         "y": [
          0,
          0,
          1,
          1,
          0
         ],
         "yaxis": "y2"
        },
        {
         "fill": "toself",
         "fillcolor": "green",
         "hoverinfo": "none",
         "line": {
          "color": "rgba(0,0,0,0)"
         },
         "showlegend": false,
         "type": "scatter",
         "x": [
          170,
          180,
          180,
          170,
          170
         ],
         "xaxis": "x2",
         "y": [
          0,
          0,
          1,
          1,
          0
         ],
         "yaxis": "y2"
        },
        {
         "fill": "toself",
         "fillcolor": "blue",
         "hoverinfo": "none",
         "line": {
          "color": "rgba(0,0,0,0)"
         },
         "showlegend": false,
         "type": "scatter",
         "x": [
          180,
          190,
          190,
          180,
          180
         ],
         "xaxis": "x2",
         "y": [
          0,
          0,
          1,
          1,
          0
         ],
         "yaxis": "y2"
        },
        {
         "fill": "toself",
         "fillcolor": "red",
         "hoverinfo": "none",
         "line": {
          "color": "rgba(0,0,0,0)"
         },
         "showlegend": false,
         "type": "scatter",
         "x": [
          190,
          200,
          200,
          190,
          190
         ],
         "xaxis": "x2",
         "y": [
          0,
          0,
          1,
          1,
          0
         ],
         "yaxis": "y2"
        },
        {
         "fill": "toself",
         "fillcolor": "green",
         "hoverinfo": "none",
         "line": {
          "color": "rgba(0,0,0,0)"
         },
         "showlegend": false,
         "type": "scatter",
         "x": [
          200,
          210,
          210,
          200,
          200
         ],
         "xaxis": "x2",
         "y": [
          0,
          0,
          1,
          1,
          0
         ],
         "yaxis": "y2"
        },
        {
         "fill": "toself",
         "fillcolor": "blue",
         "hoverinfo": "none",
         "line": {
          "color": "rgba(0,0,0,0)"
         },
         "showlegend": false,
         "type": "scatter",
         "x": [
          210,
          220,
          220,
          210,
          210
         ],
         "xaxis": "x2",
         "y": [
          0,
          0,
          1,
          1,
          0
         ],
         "yaxis": "y2"
        },
        {
         "fill": "toself",
         "fillcolor": "red",
         "hoverinfo": "none",
         "line": {
          "color": "rgba(0,0,0,0)"
         },
         "showlegend": false,
         "type": "scatter",
         "x": [
          220,
          230,
          230,
          220,
          220
         ],
         "xaxis": "x2",
         "y": [
          0,
          0,
          1,
          1,
          0
         ],
         "yaxis": "y2"
        },
        {
         "fill": "toself",
         "fillcolor": "green",
         "hoverinfo": "none",
         "line": {
          "color": "rgba(0,0,0,0)"
         },
         "showlegend": false,
         "type": "scatter",
         "x": [
          230,
          240,
          240,
          230,
          230
         ],
         "xaxis": "x2",
         "y": [
          0,
          0,
          1,
          1,
          0
         ],
         "yaxis": "y2"
        },
        {
         "fill": "toself",
         "fillcolor": "blue",
         "hoverinfo": "none",
         "line": {
          "color": "rgba(0,0,0,0)"
         },
         "showlegend": false,
         "type": "scatter",
         "x": [
          240,
          250,
          250,
          240,
          240
         ],
         "xaxis": "x2",
         "y": [
          0,
          0,
          1,
          1,
          0
         ],
         "yaxis": "y2"
        },
        {
         "fill": "toself",
         "fillcolor": "red",
         "hoverinfo": "none",
         "line": {
          "color": "rgba(0,0,0,0)"
         },
         "showlegend": false,
         "type": "scatter",
         "x": [
          250,
          260,
          260,
          250,
          250
         ],
         "xaxis": "x2",
         "y": [
          0,
          0,
          1,
          1,
          0
         ],
         "yaxis": "y2"
        },
        {
         "fill": "toself",
         "fillcolor": "green",
         "hoverinfo": "none",
         "line": {
          "color": "rgba(0,0,0,0)"
         },
         "showlegend": false,
         "type": "scatter",
         "x": [
          260,
          270,
          270,
          260,
          260
         ],
         "xaxis": "x2",
         "y": [
          0,
          0,
          1,
          1,
          0
         ],
         "yaxis": "y2"
        },
        {
         "fill": "toself",
         "fillcolor": "blue",
         "hoverinfo": "none",
         "line": {
          "color": "rgba(0,0,0,0)"
         },
         "showlegend": false,
         "type": "scatter",
         "x": [
          270,
          280,
          280,
          270,
          270
         ],
         "xaxis": "x2",
         "y": [
          0,
          0,
          1,
          1,
          0
         ],
         "yaxis": "y2"
        },
        {
         "fill": "toself",
         "fillcolor": "red",
         "hoverinfo": "none",
         "line": {
          "color": "rgba(0,0,0,0)"
         },
         "showlegend": false,
         "type": "scatter",
         "x": [
          280,
          290,
          290,
          280,
          280
         ],
         "xaxis": "x2",
         "y": [
          0,
          0,
          1,
          1,
          0
         ],
         "yaxis": "y2"
        },
        {
         "fill": "toself",
         "fillcolor": "green",
         "hoverinfo": "none",
         "line": {
          "color": "rgba(0,0,0,0)"
         },
         "showlegend": false,
         "type": "scatter",
         "x": [
          290,
          300,
          300,
          290,
          290
         ],
         "xaxis": "x2",
         "y": [
          0,
          0,
          1,
          1,
          0
         ],
         "yaxis": "y2"
        },
        {
         "fill": "toself",
         "fillcolor": "blue",
         "hoverinfo": "none",
         "line": {
          "color": "rgba(0,0,0,0)"
         },
         "showlegend": false,
         "type": "scatter",
         "x": [
          300,
          310,
          310,
          300,
          300
         ],
         "xaxis": "x2",
         "y": [
          0,
          0,
          1,
          1,
          0
         ],
         "yaxis": "y2"
        },
        {
         "fill": "toself",
         "fillcolor": "red",
         "hoverinfo": "none",
         "line": {
          "color": "rgba(0,0,0,0)"
         },
         "showlegend": false,
         "type": "scatter",
         "x": [
          310,
          320,
          320,
          310,
          310
         ],
         "xaxis": "x2",
         "y": [
          0,
          0,
          1,
          1,
          0
         ],
         "yaxis": "y2"
        },
        {
         "fill": "toself",
         "fillcolor": "green",
         "hoverinfo": "none",
         "line": {
          "color": "rgba(0,0,0,0)"
         },
         "showlegend": false,
         "type": "scatter",
         "x": [
          320,
          330,
          330,
          320,
          320
         ],
         "xaxis": "x2",
         "y": [
          0,
          0,
          1,
          1,
          0
         ],
         "yaxis": "y2"
        },
        {
         "fill": "toself",
         "fillcolor": "blue",
         "hoverinfo": "none",
         "line": {
          "color": "rgba(0,0,0,0)"
         },
         "showlegend": false,
         "type": "scatter",
         "x": [
          330,
          340,
          340,
          330,
          330
         ],
         "xaxis": "x2",
         "y": [
          0,
          0,
          1,
          1,
          0
         ],
         "yaxis": "y2"
        },
        {
         "fill": "toself",
         "fillcolor": "red",
         "hoverinfo": "none",
         "line": {
          "color": "rgba(0,0,0,0)"
         },
         "showlegend": false,
         "type": "scatter",
         "x": [
          340,
          350,
          350,
          340,
          340
         ],
         "xaxis": "x2",
         "y": [
          0,
          0,
          1,
          1,
          0
         ],
         "yaxis": "y2"
        },
        {
         "fill": "toself",
         "fillcolor": "green",
         "hoverinfo": "none",
         "line": {
          "color": "rgba(0,0,0,0)"
         },
         "showlegend": false,
         "type": "scatter",
         "x": [
          350,
          360,
          360,
          350,
          350
         ],
         "xaxis": "x2",
         "y": [
          0,
          0,
          1,
          1,
          0
         ],
         "yaxis": "y2"
        },
        {
         "fill": "toself",
         "fillcolor": "blue",
         "hoverinfo": "none",
         "line": {
          "color": "rgba(0,0,0,0)"
         },
         "showlegend": false,
         "type": "scatter",
         "x": [
          360,
          370,
          370,
          360,
          360
         ],
         "xaxis": "x2",
         "y": [
          0,
          0,
          1,
          1,
          0
         ],
         "yaxis": "y2"
        },
        {
         "fill": "toself",
         "fillcolor": "red",
         "hoverinfo": "none",
         "line": {
          "color": "rgba(0,0,0,0)"
         },
         "showlegend": false,
         "type": "scatter",
         "x": [
          370,
          380,
          380,
          370,
          370
         ],
         "xaxis": "x2",
         "y": [
          0,
          0,
          1,
          1,
          0
         ],
         "yaxis": "y2"
        },
        {
         "fill": "toself",
         "fillcolor": "green",
         "hoverinfo": "none",
         "line": {
          "color": "rgba(0,0,0,0)"
         },
         "showlegend": false,
         "type": "scatter",
         "x": [
          380,
          390,
          390,
          380,
          380
         ],
         "xaxis": "x2",
         "y": [
          0,
          0,
          1,
          1,
          0
         ],
         "yaxis": "y2"
        },
        {
         "fill": "toself",
         "fillcolor": "blue",
         "hoverinfo": "none",
         "line": {
          "color": "rgba(0,0,0,0)"
         },
         "showlegend": false,
         "type": "scatter",
         "x": [
          390,
          400,
          400,
          390,
          390
         ],
         "xaxis": "x2",
         "y": [
          0,
          0,
          1,
          1,
          0
         ],
         "yaxis": "y2"
        },
        {
         "fill": "toself",
         "fillcolor": "red",
         "hoverinfo": "none",
         "line": {
          "color": "rgba(0,0,0,0)"
         },
         "showlegend": false,
         "type": "scatter",
         "x": [
          400,
          410,
          410,
          400,
          400
         ],
         "xaxis": "x2",
         "y": [
          0,
          0,
          1,
          1,
          0
         ],
         "yaxis": "y2"
        },
        {
         "fill": "toself",
         "fillcolor": "green",
         "hoverinfo": "none",
         "line": {
          "color": "rgba(0,0,0,0)"
         },
         "showlegend": false,
         "type": "scatter",
         "x": [
          410,
          420,
          420,
          410,
          410
         ],
         "xaxis": "x2",
         "y": [
          0,
          0,
          1,
          1,
          0
         ],
         "yaxis": "y2"
        },
        {
         "fill": "toself",
         "fillcolor": "blue",
         "hoverinfo": "none",
         "line": {
          "color": "rgba(0,0,0,0)"
         },
         "showlegend": false,
         "type": "scatter",
         "x": [
          420,
          430,
          430,
          420,
          420
         ],
         "xaxis": "x2",
         "y": [
          0,
          0,
          1,
          1,
          0
         ],
         "yaxis": "y2"
        },
        {
         "fill": "toself",
         "fillcolor": "red",
         "hoverinfo": "none",
         "line": {
          "color": "rgba(0,0,0,0)"
         },
         "showlegend": false,
         "type": "scatter",
         "x": [
          430,
          440,
          440,
          430,
          430
         ],
         "xaxis": "x2",
         "y": [
          0,
          0,
          1,
          1,
          0
         ],
         "yaxis": "y2"
        },
        {
         "fill": "toself",
         "fillcolor": "green",
         "hoverinfo": "none",
         "line": {
          "color": "rgba(0,0,0,0)"
         },
         "showlegend": false,
         "type": "scatter",
         "x": [
          440,
          450,
          450,
          440,
          440
         ],
         "xaxis": "x2",
         "y": [
          0,
          0,
          1,
          1,
          0
         ],
         "yaxis": "y2"
        },
        {
         "fill": "toself",
         "fillcolor": "blue",
         "hoverinfo": "none",
         "line": {
          "color": "rgba(0,0,0,0)"
         },
         "showlegend": false,
         "type": "scatter",
         "x": [
          450,
          460,
          460,
          450,
          450
         ],
         "xaxis": "x2",
         "y": [
          0,
          0,
          1,
          1,
          0
         ],
         "yaxis": "y2"
        },
        {
         "fill": "toself",
         "fillcolor": "red",
         "hoverinfo": "none",
         "line": {
          "color": "rgba(0,0,0,0)"
         },
         "showlegend": false,
         "type": "scatter",
         "x": [
          460,
          470,
          470,
          460,
          460
         ],
         "xaxis": "x2",
         "y": [
          0,
          0,
          1,
          1,
          0
         ],
         "yaxis": "y2"
        },
        {
         "fill": "toself",
         "fillcolor": "green",
         "hoverinfo": "none",
         "line": {
          "color": "rgba(0,0,0,0)"
         },
         "showlegend": false,
         "type": "scatter",
         "x": [
          470,
          480,
          480,
          470,
          470
         ],
         "xaxis": "x2",
         "y": [
          0,
          0,
          1,
          1,
          0
         ],
         "yaxis": "y2"
        },
        {
         "fill": "toself",
         "fillcolor": "blue",
         "hoverinfo": "none",
         "line": {
          "color": "rgba(0,0,0,0)"
         },
         "showlegend": false,
         "type": "scatter",
         "x": [
          480,
          490,
          490,
          480,
          480
         ],
         "xaxis": "x2",
         "y": [
          0,
          0,
          1,
          1,
          0
         ],
         "yaxis": "y2"
        },
        {
         "fill": "toself",
         "fillcolor": "red",
         "hoverinfo": "none",
         "line": {
          "color": "rgba(0,0,0,0)"
         },
         "showlegend": false,
         "type": "scatter",
         "x": [
          490,
          500,
          500,
          490,
          490
         ],
         "xaxis": "x2",
         "y": [
          0,
          0,
          1,
          1,
          0
         ],
         "yaxis": "y2"
        },
        {
         "fill": "toself",
         "fillcolor": "green",
         "hoverinfo": "none",
         "line": {
          "color": "rgba(0,0,0,0)"
         },
         "showlegend": false,
         "type": "scatter",
         "x": [
          500,
          510,
          510,
          500,
          500
         ],
         "xaxis": "x2",
         "y": [
          0,
          0,
          1,
          1,
          0
         ],
         "yaxis": "y2"
        },
        {
         "fill": "toself",
         "fillcolor": "blue",
         "hoverinfo": "none",
         "line": {
          "color": "rgba(0,0,0,0)"
         },
         "showlegend": false,
         "type": "scatter",
         "x": [
          510,
          520,
          520,
          510,
          510
         ],
         "xaxis": "x2",
         "y": [
          0,
          0,
          1,
          1,
          0
         ],
         "yaxis": "y2"
        },
        {
         "fill": "toself",
         "fillcolor": "red",
         "hoverinfo": "none",
         "line": {
          "color": "rgba(0,0,0,0)"
         },
         "showlegend": false,
         "type": "scatter",
         "x": [
          520,
          530,
          530,
          520,
          520
         ],
         "xaxis": "x2",
         "y": [
          0,
          0,
          1,
          1,
          0
         ],
         "yaxis": "y2"
        },
        {
         "fill": "toself",
         "fillcolor": "green",
         "hoverinfo": "none",
         "line": {
          "color": "rgba(0,0,0,0)"
         },
         "showlegend": false,
         "type": "scatter",
         "x": [
          530,
          540,
          540,
          530,
          530
         ],
         "xaxis": "x2",
         "y": [
          0,
          0,
          1,
          1,
          0
         ],
         "yaxis": "y2"
        },
        {
         "fill": "toself",
         "fillcolor": "blue",
         "hoverinfo": "none",
         "line": {
          "color": "rgba(0,0,0,0)"
         },
         "showlegend": false,
         "type": "scatter",
         "x": [
          540,
          550,
          550,
          540,
          540
         ],
         "xaxis": "x2",
         "y": [
          0,
          0,
          1,
          1,
          0
         ],
         "yaxis": "y2"
        },
        {
         "fill": "toself",
         "fillcolor": "red",
         "hoverinfo": "none",
         "line": {
          "color": "rgba(0,0,0,0)"
         },
         "showlegend": false,
         "type": "scatter",
         "x": [
          550,
          560,
          560,
          550,
          550
         ],
         "xaxis": "x2",
         "y": [
          0,
          0,
          1,
          1,
          0
         ],
         "yaxis": "y2"
        },
        {
         "fill": "toself",
         "fillcolor": "green",
         "hoverinfo": "none",
         "line": {
          "color": "rgba(0,0,0,0)"
         },
         "showlegend": false,
         "type": "scatter",
         "x": [
          560,
          570,
          570,
          560,
          560
         ],
         "xaxis": "x2",
         "y": [
          0,
          0,
          1,
          1,
          0
         ],
         "yaxis": "y2"
        },
        {
         "fill": "toself",
         "fillcolor": "blue",
         "hoverinfo": "none",
         "line": {
          "color": "rgba(0,0,0,0)"
         },
         "showlegend": false,
         "type": "scatter",
         "x": [
          570,
          580,
          580,
          570,
          570
         ],
         "xaxis": "x2",
         "y": [
          0,
          0,
          1,
          1,
          0
         ],
         "yaxis": "y2"
        },
        {
         "fill": "toself",
         "fillcolor": "red",
         "hoverinfo": "none",
         "line": {
          "color": "rgba(0,0,0,0)"
         },
         "showlegend": false,
         "type": "scatter",
         "x": [
          580,
          590,
          590,
          580,
          580
         ],
         "xaxis": "x2",
         "y": [
          0,
          0,
          1,
          1,
          0
         ],
         "yaxis": "y2"
        },
        {
         "fill": "toself",
         "fillcolor": "green",
         "hoverinfo": "none",
         "line": {
          "color": "rgba(0,0,0,0)"
         },
         "showlegend": false,
         "type": "scatter",
         "x": [
          590,
          600,
          600,
          590,
          590
         ],
         "xaxis": "x2",
         "y": [
          0,
          0,
          1,
          1,
          0
         ],
         "yaxis": "y2"
        },
        {
         "fill": "toself",
         "fillcolor": "blue",
         "hoverinfo": "none",
         "line": {
          "color": "rgba(0,0,0,0)"
         },
         "showlegend": false,
         "type": "scatter",
         "x": [
          600,
          610,
          610,
          600,
          600
         ],
         "xaxis": "x2",
         "y": [
          0,
          0,
          1,
          1,
          0
         ],
         "yaxis": "y2"
        },
        {
         "fill": "toself",
         "fillcolor": "red",
         "hoverinfo": "none",
         "line": {
          "color": "rgba(0,0,0,0)"
         },
         "showlegend": false,
         "type": "scatter",
         "x": [
          610,
          620,
          620,
          610,
          610
         ],
         "xaxis": "x2",
         "y": [
          0,
          0,
          1,
          1,
          0
         ],
         "yaxis": "y2"
        },
        {
         "fill": "toself",
         "fillcolor": "green",
         "hoverinfo": "none",
         "line": {
          "color": "rgba(0,0,0,0)"
         },
         "showlegend": false,
         "type": "scatter",
         "x": [
          620,
          630,
          630,
          620,
          620
         ],
         "xaxis": "x2",
         "y": [
          0,
          0,
          1,
          1,
          0
         ],
         "yaxis": "y2"
        },
        {
         "fill": "toself",
         "fillcolor": "blue",
         "hoverinfo": "none",
         "line": {
          "color": "rgba(0,0,0,0)"
         },
         "showlegend": false,
         "type": "scatter",
         "x": [
          630,
          640,
          640,
          630,
          630
         ],
         "xaxis": "x2",
         "y": [
          0,
          0,
          1,
          1,
          0
         ],
         "yaxis": "y2"
        },
        {
         "fill": "toself",
         "fillcolor": "red",
         "hoverinfo": "none",
         "line": {
          "color": "rgba(0,0,0,0)"
         },
         "showlegend": false,
         "type": "scatter",
         "x": [
          640,
          650,
          650,
          640,
          640
         ],
         "xaxis": "x2",
         "y": [
          0,
          0,
          1,
          1,
          0
         ],
         "yaxis": "y2"
        },
        {
         "fill": "toself",
         "fillcolor": "green",
         "hoverinfo": "none",
         "line": {
          "color": "rgba(0,0,0,0)"
         },
         "showlegend": false,
         "type": "scatter",
         "x": [
          650,
          660,
          660,
          650,
          650
         ],
         "xaxis": "x2",
         "y": [
          0,
          0,
          1,
          1,
          0
         ],
         "yaxis": "y2"
        },
        {
         "fill": "toself",
         "fillcolor": "blue",
         "hoverinfo": "none",
         "line": {
          "color": "rgba(0,0,0,0)"
         },
         "showlegend": false,
         "type": "scatter",
         "x": [
          660,
          670,
          670,
          660,
          660
         ],
         "xaxis": "x2",
         "y": [
          0,
          0,
          1,
          1,
          0
         ],
         "yaxis": "y2"
        },
        {
         "fill": "toself",
         "fillcolor": "red",
         "hoverinfo": "none",
         "line": {
          "color": "rgba(0,0,0,0)"
         },
         "showlegend": false,
         "type": "scatter",
         "x": [
          670,
          680,
          680,
          670,
          670
         ],
         "xaxis": "x2",
         "y": [
          0,
          0,
          1,
          1,
          0
         ],
         "yaxis": "y2"
        },
        {
         "fill": "toself",
         "fillcolor": "green",
         "hoverinfo": "none",
         "line": {
          "color": "rgba(0,0,0,0)"
         },
         "showlegend": false,
         "type": "scatter",
         "x": [
          680,
          690,
          690,
          680,
          680
         ],
         "xaxis": "x2",
         "y": [
          0,
          0,
          1,
          1,
          0
         ],
         "yaxis": "y2"
        },
        {
         "fill": "toself",
         "fillcolor": "blue",
         "hoverinfo": "none",
         "line": {
          "color": "rgba(0,0,0,0)"
         },
         "showlegend": false,
         "type": "scatter",
         "x": [
          690,
          700,
          700,
          690,
          690
         ],
         "xaxis": "x2",
         "y": [
          0,
          0,
          1,
          1,
          0
         ],
         "yaxis": "y2"
        },
        {
         "fill": "toself",
         "fillcolor": "red",
         "hoverinfo": "none",
         "line": {
          "color": "rgba(0,0,0,0)"
         },
         "showlegend": false,
         "type": "scatter",
         "x": [
          700,
          710,
          710,
          700,
          700
         ],
         "xaxis": "x2",
         "y": [
          0,
          0,
          1,
          1,
          0
         ],
         "yaxis": "y2"
        },
        {
         "fill": "toself",
         "fillcolor": "green",
         "hoverinfo": "none",
         "line": {
          "color": "rgba(0,0,0,0)"
         },
         "showlegend": false,
         "type": "scatter",
         "x": [
          710,
          720,
          720,
          710,
          710
         ],
         "xaxis": "x2",
         "y": [
          0,
          0,
          1,
          1,
          0
         ],
         "yaxis": "y2"
        },
        {
         "fill": "toself",
         "fillcolor": "blue",
         "hoverinfo": "none",
         "line": {
          "color": "rgba(0,0,0,0)"
         },
         "showlegend": false,
         "type": "scatter",
         "x": [
          720,
          730,
          730,
          720,
          720
         ],
         "xaxis": "x2",
         "y": [
          0,
          0,
          1,
          1,
          0
         ],
         "yaxis": "y2"
        },
        {
         "fill": "toself",
         "fillcolor": "red",
         "hoverinfo": "none",
         "line": {
          "color": "rgba(0,0,0,0)"
         },
         "showlegend": false,
         "type": "scatter",
         "x": [
          730,
          740,
          740,
          730,
          730
         ],
         "xaxis": "x2",
         "y": [
          0,
          0,
          1,
          1,
          0
         ],
         "yaxis": "y2"
        },
        {
         "fill": "toself",
         "fillcolor": "green",
         "hoverinfo": "none",
         "line": {
          "color": "rgba(0,0,0,0)"
         },
         "showlegend": false,
         "type": "scatter",
         "x": [
          740,
          750,
          750,
          740,
          740
         ],
         "xaxis": "x2",
         "y": [
          0,
          0,
          1,
          1,
          0
         ],
         "yaxis": "y2"
        },
        {
         "fill": "toself",
         "fillcolor": "blue",
         "hoverinfo": "none",
         "line": {
          "color": "rgba(0,0,0,0)"
         },
         "showlegend": false,
         "type": "scatter",
         "x": [
          750,
          760,
          760,
          750,
          750
         ],
         "xaxis": "x2",
         "y": [
          0,
          0,
          1,
          1,
          0
         ],
         "yaxis": "y2"
        },
        {
         "fill": "toself",
         "fillcolor": "red",
         "hoverinfo": "none",
         "line": {
          "color": "rgba(0,0,0,0)"
         },
         "showlegend": false,
         "type": "scatter",
         "x": [
          760,
          770,
          770,
          760,
          760
         ],
         "xaxis": "x2",
         "y": [
          0,
          0,
          1,
          1,
          0
         ],
         "yaxis": "y2"
        },
        {
         "fill": "toself",
         "fillcolor": "green",
         "hoverinfo": "none",
         "line": {
          "color": "rgba(0,0,0,0)"
         },
         "showlegend": false,
         "type": "scatter",
         "x": [
          770,
          780,
          780,
          770,
          770
         ],
         "xaxis": "x2",
         "y": [
          0,
          0,
          1,
          1,
          0
         ],
         "yaxis": "y2"
        },
        {
         "fill": "toself",
         "fillcolor": "blue",
         "hoverinfo": "none",
         "line": {
          "color": "rgba(0,0,0,0)"
         },
         "showlegend": false,
         "type": "scatter",
         "x": [
          780,
          790,
          790,
          780,
          780
         ],
         "xaxis": "x2",
         "y": [
          0,
          0,
          1,
          1,
          0
         ],
         "yaxis": "y2"
        },
        {
         "fill": "toself",
         "fillcolor": "red",
         "hoverinfo": "none",
         "line": {
          "color": "rgba(0,0,0,0)"
         },
         "showlegend": false,
         "type": "scatter",
         "x": [
          790,
          800,
          800,
          790,
          790
         ],
         "xaxis": "x2",
         "y": [
          0,
          0,
          1,
          1,
          0
         ],
         "yaxis": "y2"
        },
        {
         "fill": "toself",
         "fillcolor": "green",
         "hoverinfo": "none",
         "line": {
          "color": "rgba(0,0,0,0)"
         },
         "showlegend": false,
         "type": "scatter",
         "x": [
          800,
          810,
          810,
          800,
          800
         ],
         "xaxis": "x2",
         "y": [
          0,
          0,
          1,
          1,
          0
         ],
         "yaxis": "y2"
        },
        {
         "fill": "toself",
         "fillcolor": "blue",
         "hoverinfo": "none",
         "line": {
          "color": "rgba(0,0,0,0)"
         },
         "showlegend": false,
         "type": "scatter",
         "x": [
          810,
          820,
          820,
          810,
          810
         ],
         "xaxis": "x2",
         "y": [
          0,
          0,
          1,
          1,
          0
         ],
         "yaxis": "y2"
        },
        {
         "fill": "toself",
         "fillcolor": "red",
         "hoverinfo": "none",
         "line": {
          "color": "rgba(0,0,0,0)"
         },
         "showlegend": false,
         "type": "scatter",
         "x": [
          820,
          830,
          830,
          820,
          820
         ],
         "xaxis": "x2",
         "y": [
          0,
          0,
          1,
          1,
          0
         ],
         "yaxis": "y2"
        },
        {
         "fill": "toself",
         "fillcolor": "green",
         "hoverinfo": "none",
         "line": {
          "color": "rgba(0,0,0,0)"
         },
         "showlegend": false,
         "type": "scatter",
         "x": [
          830,
          840,
          840,
          830,
          830
         ],
         "xaxis": "x2",
         "y": [
          0,
          0,
          1,
          1,
          0
         ],
         "yaxis": "y2"
        },
        {
         "fill": "toself",
         "fillcolor": "blue",
         "hoverinfo": "none",
         "line": {
          "color": "rgba(0,0,0,0)"
         },
         "showlegend": false,
         "type": "scatter",
         "x": [
          840,
          850,
          850,
          840,
          840
         ],
         "xaxis": "x2",
         "y": [
          0,
          0,
          1,
          1,
          0
         ],
         "yaxis": "y2"
        },
        {
         "fill": "toself",
         "fillcolor": "red",
         "hoverinfo": "none",
         "line": {
          "color": "rgba(0,0,0,0)"
         },
         "showlegend": false,
         "type": "scatter",
         "x": [
          850,
          860,
          860,
          850,
          850
         ],
         "xaxis": "x2",
         "y": [
          0,
          0,
          1,
          1,
          0
         ],
         "yaxis": "y2"
        },
        {
         "fill": "toself",
         "fillcolor": "green",
         "hoverinfo": "none",
         "line": {
          "color": "rgba(0,0,0,0)"
         },
         "showlegend": false,
         "type": "scatter",
         "x": [
          860,
          870,
          870,
          860,
          860
         ],
         "xaxis": "x2",
         "y": [
          0,
          0,
          1,
          1,
          0
         ],
         "yaxis": "y2"
        },
        {
         "fill": "toself",
         "fillcolor": "blue",
         "hoverinfo": "none",
         "line": {
          "color": "rgba(0,0,0,0)"
         },
         "showlegend": false,
         "type": "scatter",
         "x": [
          870,
          880,
          880,
          870,
          870
         ],
         "xaxis": "x2",
         "y": [
          0,
          0,
          1,
          1,
          0
         ],
         "yaxis": "y2"
        },
        {
         "fill": "toself",
         "fillcolor": "red",
         "hoverinfo": "none",
         "line": {
          "color": "rgba(0,0,0,0)"
         },
         "showlegend": false,
         "type": "scatter",
         "x": [
          880,
          890,
          890,
          880,
          880
         ],
         "xaxis": "x2",
         "y": [
          0,
          0,
          1,
          1,
          0
         ],
         "yaxis": "y2"
        },
        {
         "fill": "toself",
         "fillcolor": "green",
         "hoverinfo": "none",
         "line": {
          "color": "rgba(0,0,0,0)"
         },
         "showlegend": false,
         "type": "scatter",
         "x": [
          890,
          900,
          900,
          890,
          890
         ],
         "xaxis": "x2",
         "y": [
          0,
          0,
          1,
          1,
          0
         ],
         "yaxis": "y2"
        },
        {
         "fill": "toself",
         "fillcolor": "blue",
         "hoverinfo": "none",
         "line": {
          "color": "rgba(0,0,0,0)"
         },
         "showlegend": false,
         "type": "scatter",
         "x": [
          900,
          910,
          910,
          900,
          900
         ],
         "xaxis": "x2",
         "y": [
          0,
          0,
          1,
          1,
          0
         ],
         "yaxis": "y2"
        },
        {
         "fill": "toself",
         "fillcolor": "red",
         "hoverinfo": "none",
         "line": {
          "color": "rgba(0,0,0,0)"
         },
         "showlegend": false,
         "type": "scatter",
         "x": [
          910,
          920,
          920,
          910,
          910
         ],
         "xaxis": "x2",
         "y": [
          0,
          0,
          1,
          1,
          0
         ],
         "yaxis": "y2"
        },
        {
         "fill": "toself",
         "fillcolor": "green",
         "hoverinfo": "none",
         "line": {
          "color": "rgba(0,0,0,0)"
         },
         "showlegend": false,
         "type": "scatter",
         "x": [
          920,
          930,
          930,
          920,
          920
         ],
         "xaxis": "x2",
         "y": [
          0,
          0,
          1,
          1,
          0
         ],
         "yaxis": "y2"
        },
        {
         "fill": "toself",
         "fillcolor": "blue",
         "hoverinfo": "none",
         "line": {
          "color": "rgba(0,0,0,0)"
         },
         "showlegend": false,
         "type": "scatter",
         "x": [
          930,
          940,
          940,
          930,
          930
         ],
         "xaxis": "x2",
         "y": [
          0,
          0,
          1,
          1,
          0
         ],
         "yaxis": "y2"
        },
        {
         "fill": "toself",
         "fillcolor": "red",
         "hoverinfo": "none",
         "line": {
          "color": "rgba(0,0,0,0)"
         },
         "showlegend": false,
         "type": "scatter",
         "x": [
          940,
          950,
          950,
          940,
          940
         ],
         "xaxis": "x2",
         "y": [
          0,
          0,
          1,
          1,
          0
         ],
         "yaxis": "y2"
        },
        {
         "fill": "toself",
         "fillcolor": "green",
         "hoverinfo": "none",
         "line": {
          "color": "rgba(0,0,0,0)"
         },
         "showlegend": false,
         "type": "scatter",
         "x": [
          950,
          960,
          960,
          950,
          950
         ],
         "xaxis": "x2",
         "y": [
          0,
          0,
          1,
          1,
          0
         ],
         "yaxis": "y2"
        },
        {
         "fill": "toself",
         "fillcolor": "blue",
         "hoverinfo": "none",
         "line": {
          "color": "rgba(0,0,0,0)"
         },
         "showlegend": false,
         "type": "scatter",
         "x": [
          960,
          970,
          970,
          960,
          960
         ],
         "xaxis": "x2",
         "y": [
          0,
          0,
          1,
          1,
          0
         ],
         "yaxis": "y2"
        },
        {
         "fill": "toself",
         "fillcolor": "red",
         "hoverinfo": "none",
         "line": {
          "color": "rgba(0,0,0,0)"
         },
         "showlegend": false,
         "type": "scatter",
         "x": [
          970,
          980,
          980,
          970,
          970
         ],
         "xaxis": "x2",
         "y": [
          0,
          0,
          1,
          1,
          0
         ],
         "yaxis": "y2"
        },
        {
         "fill": "toself",
         "fillcolor": "green",
         "hoverinfo": "none",
         "line": {
          "color": "rgba(0,0,0,0)"
         },
         "showlegend": false,
         "type": "scatter",
         "x": [
          980,
          990,
          990,
          980,
          980
         ],
         "xaxis": "x2",
         "y": [
          0,
          0,
          1,
          1,
          0
         ],
         "yaxis": "y2"
        },
        {
         "fill": "toself",
         "fillcolor": "blue",
         "hoverinfo": "none",
         "line": {
          "color": "rgba(0,0,0,0)"
         },
         "showlegend": false,
         "type": "scatter",
         "x": [
          990,
          1000,
          1000,
          990,
          990
         ],
         "xaxis": "x2",
         "y": [
          0,
          0,
          1,
          1,
          0
         ],
         "yaxis": "y2"
        }
       ],
       "layout": {
        "annotations": [
         {
          "font": {
           "size": 16
          },
          "showarrow": false,
          "text": "Time Series of Pose",
          "x": 0.5,
          "xanchor": "center",
          "xref": "paper",
          "y": 1,
          "yanchor": "bottom",
          "yref": "paper"
         },
         {
          "font": {
           "size": 16
          },
          "showarrow": false,
          "text": "Action Sequence",
          "x": 0.5,
          "xanchor": "center",
          "xref": "paper",
          "y": 0.45,
          "yanchor": "bottom",
          "yref": "paper"
         }
        ],
        "height": 600,
        "template": {
         "data": {
          "bar": [
           {
            "error_x": {
             "color": "#2a3f5f"
            },
            "error_y": {
             "color": "#2a3f5f"
            },
            "marker": {
             "line": {
              "color": "#E5ECF6",
              "width": 0.5
             },
             "pattern": {
              "fillmode": "overlay",
              "size": 10,
              "solidity": 0.2
             }
            },
            "type": "bar"
           }
          ],
          "barpolar": [
           {
            "marker": {
             "line": {
              "color": "#E5ECF6",
              "width": 0.5
             },
             "pattern": {
              "fillmode": "overlay",
              "size": 10,
              "solidity": 0.2
             }
            },
            "type": "barpolar"
           }
          ],
          "carpet": [
           {
            "aaxis": {
             "endlinecolor": "#2a3f5f",
             "gridcolor": "white",
             "linecolor": "white",
             "minorgridcolor": "white",
             "startlinecolor": "#2a3f5f"
            },
            "baxis": {
             "endlinecolor": "#2a3f5f",
             "gridcolor": "white",
             "linecolor": "white",
             "minorgridcolor": "white",
             "startlinecolor": "#2a3f5f"
            },
            "type": "carpet"
           }
          ],
          "choropleth": [
           {
            "colorbar": {
             "outlinewidth": 0,
             "ticks": ""
            },
            "type": "choropleth"
           }
          ],
          "contour": [
           {
            "colorbar": {
             "outlinewidth": 0,
             "ticks": ""
            },
            "colorscale": [
             [
              0,
              "#0d0887"
             ],
             [
              0.1111111111111111,
              "#46039f"
             ],
             [
              0.2222222222222222,
              "#7201a8"
             ],
             [
              0.3333333333333333,
              "#9c179e"
             ],
             [
              0.4444444444444444,
              "#bd3786"
             ],
             [
              0.5555555555555556,
              "#d8576b"
             ],
             [
              0.6666666666666666,
              "#ed7953"
             ],
             [
              0.7777777777777778,
              "#fb9f3a"
             ],
             [
              0.8888888888888888,
              "#fdca26"
             ],
             [
              1,
              "#f0f921"
             ]
            ],
            "type": "contour"
           }
          ],
          "contourcarpet": [
           {
            "colorbar": {
             "outlinewidth": 0,
             "ticks": ""
            },
            "type": "contourcarpet"
           }
          ],
          "heatmap": [
           {
            "colorbar": {
             "outlinewidth": 0,
             "ticks": ""
            },
            "colorscale": [
             [
              0,
              "#0d0887"
             ],
             [
              0.1111111111111111,
              "#46039f"
             ],
             [
              0.2222222222222222,
              "#7201a8"
             ],
             [
              0.3333333333333333,
              "#9c179e"
             ],
             [
              0.4444444444444444,
              "#bd3786"
             ],
             [
              0.5555555555555556,
              "#d8576b"
             ],
             [
              0.6666666666666666,
              "#ed7953"
             ],
             [
              0.7777777777777778,
              "#fb9f3a"
             ],
             [
              0.8888888888888888,
              "#fdca26"
             ],
             [
              1,
              "#f0f921"
             ]
            ],
            "type": "heatmap"
           }
          ],
          "heatmapgl": [
           {
            "colorbar": {
             "outlinewidth": 0,
             "ticks": ""
            },
            "colorscale": [
             [
              0,
              "#0d0887"
             ],
             [
              0.1111111111111111,
              "#46039f"
             ],
             [
              0.2222222222222222,
              "#7201a8"
             ],
             [
              0.3333333333333333,
              "#9c179e"
             ],
             [
              0.4444444444444444,
              "#bd3786"
             ],
             [
              0.5555555555555556,
              "#d8576b"
             ],
             [
              0.6666666666666666,
              "#ed7953"
             ],
             [
              0.7777777777777778,
              "#fb9f3a"
             ],
             [
              0.8888888888888888,
              "#fdca26"
             ],
             [
              1,
              "#f0f921"
             ]
            ],
            "type": "heatmapgl"
           }
          ],
          "histogram": [
           {
            "marker": {
             "pattern": {
              "fillmode": "overlay",
              "size": 10,
              "solidity": 0.2
             }
            },
            "type": "histogram"
           }
          ],
          "histogram2d": [
           {
            "colorbar": {
             "outlinewidth": 0,
             "ticks": ""
            },
            "colorscale": [
             [
              0,
              "#0d0887"
             ],
             [
              0.1111111111111111,
              "#46039f"
             ],
             [
              0.2222222222222222,
              "#7201a8"
             ],
             [
              0.3333333333333333,
              "#9c179e"
             ],
             [
              0.4444444444444444,
              "#bd3786"
             ],
             [
              0.5555555555555556,
              "#d8576b"
             ],
             [
              0.6666666666666666,
              "#ed7953"
             ],
             [
              0.7777777777777778,
              "#fb9f3a"
             ],
             [
              0.8888888888888888,
              "#fdca26"
             ],
             [
              1,
              "#f0f921"
             ]
            ],
            "type": "histogram2d"
           }
          ],
          "histogram2dcontour": [
           {
            "colorbar": {
             "outlinewidth": 0,
             "ticks": ""
            },
            "colorscale": [
             [
              0,
              "#0d0887"
             ],
             [
              0.1111111111111111,
              "#46039f"
             ],
             [
              0.2222222222222222,
              "#7201a8"
             ],
             [
              0.3333333333333333,
              "#9c179e"
             ],
             [
              0.4444444444444444,
              "#bd3786"
             ],
             [
              0.5555555555555556,
              "#d8576b"
             ],
             [
              0.6666666666666666,
              "#ed7953"
             ],
             [
              0.7777777777777778,
              "#fb9f3a"
             ],
             [
              0.8888888888888888,
              "#fdca26"
             ],
             [
              1,
              "#f0f921"
             ]
            ],
            "type": "histogram2dcontour"
           }
          ],
          "mesh3d": [
           {
            "colorbar": {
             "outlinewidth": 0,
             "ticks": ""
            },
            "type": "mesh3d"
           }
          ],
          "parcoords": [
           {
            "line": {
             "colorbar": {
              "outlinewidth": 0,
              "ticks": ""
             }
            },
            "type": "parcoords"
           }
          ],
          "pie": [
           {
            "automargin": true,
            "type": "pie"
           }
          ],
          "scatter": [
           {
            "fillpattern": {
             "fillmode": "overlay",
             "size": 10,
             "solidity": 0.2
            },
            "type": "scatter"
           }
          ],
          "scatter3d": [
           {
            "line": {
             "colorbar": {
              "outlinewidth": 0,
              "ticks": ""
             }
            },
            "marker": {
             "colorbar": {
              "outlinewidth": 0,
              "ticks": ""
             }
            },
            "type": "scatter3d"
           }
          ],
          "scattercarpet": [
           {
            "marker": {
             "colorbar": {
              "outlinewidth": 0,
              "ticks": ""
             }
            },
            "type": "scattercarpet"
           }
          ],
          "scattergeo": [
           {
            "marker": {
             "colorbar": {
              "outlinewidth": 0,
              "ticks": ""
             }
            },
            "type": "scattergeo"
           }
          ],
          "scattergl": [
           {
            "marker": {
             "colorbar": {
              "outlinewidth": 0,
              "ticks": ""
             }
            },
            "type": "scattergl"
           }
          ],
          "scattermapbox": [
           {
            "marker": {
             "colorbar": {
              "outlinewidth": 0,
              "ticks": ""
             }
            },
            "type": "scattermapbox"
           }
          ],
          "scatterpolar": [
           {
            "marker": {
             "colorbar": {
              "outlinewidth": 0,
              "ticks": ""
             }
            },
            "type": "scatterpolar"
           }
          ],
          "scatterpolargl": [
           {
            "marker": {
             "colorbar": {
              "outlinewidth": 0,
              "ticks": ""
             }
            },
            "type": "scatterpolargl"
           }
          ],
          "scatterternary": [
           {
            "marker": {
             "colorbar": {
              "outlinewidth": 0,
              "ticks": ""
             }
            },
            "type": "scatterternary"
           }
          ],
          "surface": [
           {
            "colorbar": {
             "outlinewidth": 0,
             "ticks": ""
            },
            "colorscale": [
             [
              0,
              "#0d0887"
             ],
             [
              0.1111111111111111,
              "#46039f"
             ],
             [
              0.2222222222222222,
              "#7201a8"
             ],
             [
              0.3333333333333333,
              "#9c179e"
             ],
             [
              0.4444444444444444,
              "#bd3786"
             ],
             [
              0.5555555555555556,
              "#d8576b"
             ],
             [
              0.6666666666666666,
              "#ed7953"
             ],
             [
              0.7777777777777778,
              "#fb9f3a"
             ],
             [
              0.8888888888888888,
              "#fdca26"
             ],
             [
              1,
              "#f0f921"
             ]
            ],
            "type": "surface"
           }
          ],
          "table": [
           {
            "cells": {
             "fill": {
              "color": "#EBF0F8"
             },
             "line": {
              "color": "white"
             }
            },
            "header": {
             "fill": {
              "color": "#C8D4E3"
             },
             "line": {
              "color": "white"
             }
            },
            "type": "table"
           }
          ]
         },
         "layout": {
          "annotationdefaults": {
           "arrowcolor": "#2a3f5f",
           "arrowhead": 0,
           "arrowwidth": 1
          },
          "autotypenumbers": "strict",
          "coloraxis": {
           "colorbar": {
            "outlinewidth": 0,
            "ticks": ""
           }
          },
          "colorscale": {
           "diverging": [
            [
             0,
             "#8e0152"
            ],
            [
             0.1,
             "#c51b7d"
            ],
            [
             0.2,
             "#de77ae"
            ],
            [
             0.3,
             "#f1b6da"
            ],
            [
             0.4,
             "#fde0ef"
            ],
            [
             0.5,
             "#f7f7f7"
            ],
            [
             0.6,
             "#e6f5d0"
            ],
            [
             0.7,
             "#b8e186"
            ],
            [
             0.8,
             "#7fbc41"
            ],
            [
             0.9,
             "#4d9221"
            ],
            [
             1,
             "#276419"
            ]
           ],
           "sequential": [
            [
             0,
             "#0d0887"
            ],
            [
             0.1111111111111111,
             "#46039f"
            ],
            [
             0.2222222222222222,
             "#7201a8"
            ],
            [
             0.3333333333333333,
             "#9c179e"
            ],
            [
             0.4444444444444444,
             "#bd3786"
            ],
            [
             0.5555555555555556,
             "#d8576b"
            ],
            [
             0.6666666666666666,
             "#ed7953"
            ],
            [
             0.7777777777777778,
             "#fb9f3a"
            ],
            [
             0.8888888888888888,
             "#fdca26"
            ],
            [
             1,
             "#f0f921"
            ]
           ],
           "sequentialminus": [
            [
             0,
             "#0d0887"
            ],
            [
             0.1111111111111111,
             "#46039f"
            ],
            [
             0.2222222222222222,
             "#7201a8"
            ],
            [
             0.3333333333333333,
             "#9c179e"
            ],
            [
             0.4444444444444444,
             "#bd3786"
            ],
            [
             0.5555555555555556,
             "#d8576b"
            ],
            [
             0.6666666666666666,
             "#ed7953"
            ],
            [
             0.7777777777777778,
             "#fb9f3a"
            ],
            [
             0.8888888888888888,
             "#fdca26"
            ],
            [
             1,
             "#f0f921"
            ]
           ]
          },
          "colorway": [
           "#636efa",
           "#EF553B",
           "#00cc96",
           "#ab63fa",
           "#FFA15A",
           "#19d3f3",
           "#FF6692",
           "#B6E880",
           "#FF97FF",
           "#FECB52"
          ],
          "font": {
           "color": "#2a3f5f"
          },
          "geo": {
           "bgcolor": "white",
           "lakecolor": "white",
           "landcolor": "#E5ECF6",
           "showlakes": true,
           "showland": true,
           "subunitcolor": "white"
          },
          "hoverlabel": {
           "align": "left"
          },
          "hovermode": "closest",
          "mapbox": {
           "style": "light"
          },
          "paper_bgcolor": "white",
          "plot_bgcolor": "#E5ECF6",
          "polar": {
           "angularaxis": {
            "gridcolor": "white",
            "linecolor": "white",
            "ticks": ""
           },
           "bgcolor": "#E5ECF6",
           "radialaxis": {
            "gridcolor": "white",
            "linecolor": "white",
            "ticks": ""
           }
          },
          "scene": {
           "xaxis": {
            "backgroundcolor": "#E5ECF6",
            "gridcolor": "white",
            "gridwidth": 2,
            "linecolor": "white",
            "showbackground": true,
            "ticks": "",
            "zerolinecolor": "white"
           },
           "yaxis": {
            "backgroundcolor": "#E5ECF6",
            "gridcolor": "white",
            "gridwidth": 2,
            "linecolor": "white",
            "showbackground": true,
            "ticks": "",
            "zerolinecolor": "white"
           },
           "zaxis": {
            "backgroundcolor": "#E5ECF6",
            "gridcolor": "white",
            "gridwidth": 2,
            "linecolor": "white",
            "showbackground": true,
            "ticks": "",
            "zerolinecolor": "white"
           }
          },
          "shapedefaults": {
           "line": {
            "color": "#2a3f5f"
           }
          },
          "ternary": {
           "aaxis": {
            "gridcolor": "white",
            "linecolor": "white",
            "ticks": ""
           },
           "baxis": {
            "gridcolor": "white",
            "linecolor": "white",
            "ticks": ""
           },
           "bgcolor": "#E5ECF6",
           "caxis": {
            "gridcolor": "white",
            "linecolor": "white",
            "ticks": ""
           }
          },
          "title": {
           "x": 0.05
          },
          "xaxis": {
           "automargin": true,
           "gridcolor": "white",
           "linecolor": "white",
           "ticks": "",
           "title": {
            "standoff": 15
           },
           "zerolinecolor": "white",
           "zerolinewidth": 2
          },
          "yaxis": {
           "automargin": true,
           "gridcolor": "white",
           "linecolor": "white",
           "ticks": "",
           "title": {
            "standoff": 15
           },
           "zerolinecolor": "white",
           "zerolinewidth": 2
          }
         }
        },
        "title": {
         "text": "Ethogram Visualization"
        },
        "width": 1000,
        "xaxis": {
         "anchor": "y",
         "domain": [
          0,
          1
         ],
         "matches": "x2",
         "showticklabels": false
        },
        "xaxis2": {
         "anchor": "y2",
         "domain": [
          0,
          1
         ],
         "rangeslider": {
          "visible": true
         },
         "title": {
          "text": "Time"
         },
         "type": "linear"
        },
        "yaxis": {
         "anchor": "x",
         "domain": [
          0.55,
          1
         ],
         "title": {
          "text": "Pose"
         }
        },
        "yaxis2": {
         "anchor": "x2",
         "domain": [
          0,
          0.45
         ],
         "visible": false
        }
       }
      }
     },
     "metadata": {},
     "output_type": "display_data"
    }
   ],
   "source": [
    "import plotly.graph_objects as go\n",
    "from plotly.subplots import make_subplots\n",
    "\n",
    "# Sample data\n",
    "time = list(range(1000))\n",
    "pose = [i * 0.5 for i in time]  # Example time series data for pose\n",
    "\n",
    "# Action data\n",
    "actions = ['walk', 'run', 'idle'] * (len(time) // 3 + 1)\n",
    "action_times = [(i * 10, (i + 1) * 10) for i in range(len(time) // 10)]\n",
    "action_colors = {\n",
    "    'walk': 'blue',\n",
    "    'run': 'red',\n",
    "    'idle': 'green'\n",
    "}\n",
    "\n",
    "# Create subplots\n",
    "fig = make_subplots(rows=2, cols=1, shared_xaxes=True, vertical_spacing=0.1,\n",
    "                    subplot_titles=(\"Time Series of Pose\", \"Action Sequence\"))\n",
    "\n",
    "# Add time series to the top subplot\n",
    "fig.add_trace(go.Scatter(x=time, y=pose, mode='lines', name='Pose'), row=1, col=1)\n",
    "\n",
    "# Add dummy traces for legend\n",
    "for action in action_colors.keys():\n",
    "    fig.add_trace(go.Scatter(\n",
    "        x=[None], y=[None], mode='markers',\n",
    "        marker=dict(size=10, color=action_colors[action]),\n",
    "        name=action\n",
    "    ), row=2, col=1)\n",
    "\n",
    "# Add action rectangles to the bottom subplot\n",
    "for action, (start, end) in zip(actions, action_times):\n",
    "    fig.add_trace(go.Scatter(\n",
    "        x=[start, end, end, start, start],\n",
    "        y=[0, 0, 1, 1, 0],\n",
    "        fill=\"toself\",\n",
    "        fillcolor=action_colors[action],\n",
    "        line=dict(color=\"rgba(0,0,0,0)\"),\n",
    "        showlegend=False,\n",
    "        hoverinfo='none'\n",
    "    ), row=2, col=1)\n",
    "\n",
    "# Update layout for better visualization\n",
    "fig.update_layout(height=600, width=1000, title_text=\"Ethogram Visualization\",\n",
    "                  xaxis2=dict(rangeslider=dict(visible=True),\n",
    "                              type=\"linear\"))\n",
    "\n",
    "fig.update_yaxes(visible=False, row=2, col=1)  # Hide y-axis for the action subplot\n",
    "fig.update_xaxes(title_text=\"Time\", row=2, col=1)\n",
    "fig.update_yaxes(title_text=\"Pose\", row=1, col=1)\n",
    "\n",
    "fig.show()\n"
   ]
  },
  {
   "cell_type": "markdown",
   "metadata": {},
   "source": [
    "* Loading dependencies"
   ]
  },
  {
   "cell_type": "code",
   "execution_count": 7,
   "metadata": {},
   "outputs": [],
   "source": [
    "from IPython.display import SVG, display\n",
    "\n",
    "import os\n",
    "import numpy as np\n",
    "import pandas as pd\n",
    "import matplotlib.pyplot as plt\n",
    "\n",
    "from megabouts.tracking_data.tracking_data import TrackingConfig\n",
    "from megabouts.tracking_data.tracking_data import FullTrackingData\n",
    "from megabouts.tracking_data.tracking_data import HeadTrackingData\n",
    "from megabouts.tracking_data.tracking_data import TailTrackingData\n",
    "from megabouts.tracking_data.load_example import load_example_data"
   ]
  },
  {
   "cell_type": "markdown",
   "metadata": {},
   "source": [
    "## Tracking method and data format"
   ]
  },
  {
   "cell_type": "markdown",
   "metadata": {},
   "source": [
    "- **Megabouts handle a variety of tracking methods**:\n",
    "  - Full Tracking\n",
    "  - Head Tracking\n",
    "  - Tail Tracking\n",
    "- **Different Input Formats**: the tracking data can be loaded using two format, the `keypoint` or `posture` format.\n",
    "\n",
    "### TrackingData Class\n",
    "\n",
    "The class `FullTrackingData`,`HeadTrackingData` and `TailTrackingData` handles the input and reformats the movement data into a standardized format.\n",
    "\n",
    "#### Tail Tracking Requirements\n",
    "\n",
    "- At least 4 keypoints from the swim bladder to the tail tip are required to load tail tracking data.\n",
    "- The tail posture will be interpolated to 10 equidistant points.\n"
   ]
  },
  {
   "cell_type": "code",
   "execution_count": 8,
   "metadata": {},
   "outputs": [
    {
     "data": {
      "image/svg+xml": [
       "<svg xmlns:dc=\"http://purl.org/dc/elements/1.1/\" xmlns:cc=\"http://creativecommons.org/ns#\" xmlns:rdf=\"http://www.w3.org/1999/02/22-rdf-syntax-ns#\" xmlns:svg=\"http://www.w3.org/2000/svg\" xmlns=\"http://www.w3.org/2000/svg\" xmlns:sodipodi=\"http://sodipodi.sourceforge.net/DTD/sodipodi-0.dtd\" xmlns:inkscape=\"http://www.inkscape.org/namespaces/inkscape\" width=\"295.60757mm\" height=\"310.98639mm\" viewBox=\"0 0 295.60757 310.98639\" version=\"1.1\" id=\"svg5678\" inkscape:version=\"1.0.2-2 (e86c870879, 2021-01-15)\" sodipodi:docname=\"megabouts_tracking_configuration.svg\">\n",
       "  <defs id=\"defs5672\">\n",
       "    <g id=\"g3055\">\n",
       "      <symbol id=\"textext-6925c2c1-0\" overflow=\"visible\" style=\"overflow:visible\">\n",
       "        <path id=\"path3058\" d=\"\" style=\"stroke:none\" inkscape:connector-curvature=\"0\"/>\n",
       "      </symbol>\n",
       "      <symbol id=\"textext-6925c2c1-1\" overflow=\"visible\" style=\"overflow:visible\">\n",
       "        <path id=\"path3061\" d=\"M 1.6875,1.6875 C 1.65625,1.828125 1.640625,1.84375 1.640625,1.890625 c 0,0.21875 0.1875,0.28125 0.296875,0.28125 0.046875,0 0.265625,-0.03125 0.359375,-0.265625 C 2.328125,1.828125 2.375,1.5 2.65625,0.09375 c 0.078125,0 0.15625,0.015625 0.328125,0.015625 1.65625,0 3.1875,-1.5625 3.1875,-3.140625 0,-0.78125 -0.390625,-1.375 -1.140625,-1.375 -1.4375,0 -2.046875,1.9375 -2.640625,3.875 C 1.3125,-0.734375 0.75,-1.28125 0.75,-2 c 0,-0.28125 0.234375,-1.375 0.828125,-2.0625 0.09375,-0.09375 0.09375,-0.109375 0.09375,-0.140625 0,-0.03125 -0.03125,-0.09375 -0.125,-0.09375 -0.28125,0 -1.046875,1.453125 -1.046875,2.40625 0,0.9375 0.65625,1.65625 1.71875,1.90625 z m 1.390625,-2.15625 c -0.09375,0 -0.109375,0 -0.1875,-0.015625 -0.125,0 -0.125,0 -0.125,-0.03125 0,-0.015625 0.171875,-0.9375 0.1875,-1.078125 0.3125,-1.28125 1.09375,-2.234375 1.984375,-2.234375 0.6875,0 0.953125,0.53125 0.953125,1.015625 0,1.125 -1.28125,2.34375 -2.8125,2.34375 z m 0,0\" style=\"stroke:none\" inkscape:connector-curvature=\"0\"/>\n",
       "      </symbol>\n",
       "    </g>\n",
       "    <g id=\"g3055-0\">\n",
       "      <symbol id=\"textext-6925c2c1-0-3\" overflow=\"visible\" style=\"overflow:visible\">\n",
       "        <path id=\"path3058-8\" d=\"\" style=\"stroke:none\" inkscape:connector-curvature=\"0\"/>\n",
       "      </symbol>\n",
       "      <symbol id=\"textext-6925c2c1-1-3\" overflow=\"visible\" style=\"overflow:visible\">\n",
       "        <path id=\"path3061-4\" d=\"M 1.6875,1.6875 C 1.65625,1.828125 1.640625,1.84375 1.640625,1.890625 c 0,0.21875 0.1875,0.28125 0.296875,0.28125 0.046875,0 0.265625,-0.03125 0.359375,-0.265625 C 2.328125,1.828125 2.375,1.5 2.65625,0.09375 c 0.078125,0 0.15625,0.015625 0.328125,0.015625 1.65625,0 3.1875,-1.5625 3.1875,-3.140625 0,-0.78125 -0.390625,-1.375 -1.140625,-1.375 -1.4375,0 -2.046875,1.9375 -2.640625,3.875 C 1.3125,-0.734375 0.75,-1.28125 0.75,-2 c 0,-0.28125 0.234375,-1.375 0.828125,-2.0625 0.09375,-0.09375 0.09375,-0.109375 0.09375,-0.140625 0,-0.03125 -0.03125,-0.09375 -0.125,-0.09375 -0.28125,0 -1.046875,1.453125 -1.046875,2.40625 0,0.9375 0.65625,1.65625 1.71875,1.90625 z m 1.390625,-2.15625 c -0.09375,0 -0.109375,0 -0.1875,-0.015625 -0.125,0 -0.125,0 -0.125,-0.03125 0,-0.015625 0.171875,-0.9375 0.1875,-1.078125 0.3125,-1.28125 1.09375,-2.234375 1.984375,-2.234375 0.6875,0 0.953125,0.53125 0.953125,1.015625 0,1.125 -1.28125,2.34375 -2.8125,2.34375 z m 0,0\" style=\"stroke:none\" inkscape:connector-curvature=\"0\"/>\n",
       "      </symbol>\n",
       "    </g>\n",
       "    <g id=\"g7762-9\">\n",
       "      <symbol id=\"symbol7756-5\" overflow=\"visible\" style=\"overflow:visible\">\n",
       "        <path id=\"path7754-2\" d=\"\" style=\"stroke:none\" inkscape:connector-curvature=\"0\"/>\n",
       "      </symbol>\n",
       "      <symbol id=\"symbol7760-7\" overflow=\"visible\" style=\"overflow:visible\">\n",
       "        <path id=\"path7758-2\" d=\"M 1.6875,1.6875 C 1.65625,1.828125 1.640625,1.84375 1.640625,1.890625 c 0,0.21875 0.1875,0.28125 0.296875,0.28125 0.046875,0 0.265625,-0.03125 0.359375,-0.265625 C 2.328125,1.828125 2.375,1.5 2.65625,0.09375 c 0.078125,0 0.15625,0.015625 0.328125,0.015625 1.65625,0 3.1875,-1.5625 3.1875,-3.140625 0,-0.78125 -0.390625,-1.375 -1.140625,-1.375 -1.4375,0 -2.046875,1.9375 -2.640625,3.875 C 1.3125,-0.734375 0.75,-1.28125 0.75,-2 c 0,-0.28125 0.234375,-1.375 0.828125,-2.0625 0.09375,-0.09375 0.09375,-0.109375 0.09375,-0.140625 0,-0.03125 -0.03125,-0.09375 -0.125,-0.09375 -0.28125,0 -1.046875,1.453125 -1.046875,2.40625 0,0.9375 0.65625,1.65625 1.71875,1.90625 z m 1.390625,-2.15625 c -0.09375,0 -0.109375,0 -0.1875,-0.015625 -0.125,0 -0.125,0 -0.125,-0.03125 0,-0.015625 0.171875,-0.9375 0.1875,-1.078125 0.3125,-1.28125 1.09375,-2.234375 1.984375,-2.234375 0.6875,0 0.953125,0.53125 0.953125,1.015625 0,1.125 -1.28125,2.34375 -2.8125,2.34375 z m 0,0\" style=\"stroke:none\" inkscape:connector-curvature=\"0\"/>\n",
       "      </symbol>\n",
       "    </g>\n",
       "  </defs>\n",
       "  <sodipodi:namedview id=\"base\" pagecolor=\"#ffffff\" bordercolor=\"#666666\" borderopacity=\"1.0\" inkscape:pageopacity=\"0.0\" inkscape:pageshadow=\"2\" inkscape:zoom=\"1.4\" inkscape:cx=\"810.3869\" inkscape:cy=\"853.15661\" inkscape:document-units=\"mm\" inkscape:current-layer=\"g15424\" inkscape:document-rotation=\"0\" showgrid=\"false\" fit-margin-top=\"10\" fit-margin-bottom=\"10\" fit-margin-right=\"10\" fit-margin-left=\"10\" inkscape:window-width=\"1920\" inkscape:window-height=\"1121\" inkscape:window-x=\"-9\" inkscape:window-y=\"-9\" inkscape:window-maximized=\"1\"/>\n",
       "  <metadata id=\"metadata5675\">\n",
       "    <rdf:RDF>\n",
       "      <cc:Work rdf:about=\"\">\n",
       "        <dc:format>image/svg+xml</dc:format>\n",
       "        <dc:type rdf:resource=\"http://purl.org/dc/dcmitype/StillImage\"/>\n",
       "        <dc:title/>\n",
       "      </cc:Work>\n",
       "    </rdf:RDF>\n",
       "  </metadata>\n",
       "  <g inkscape:label=\"Layer 1\" inkscape:groupmode=\"layer\" id=\"layer1\" transform=\"translate(371.33187,70.971465)\">\n",
       "    <text xml:space=\"preserve\" style=\"font-style:normal;font-weight:normal;font-size:10.5833px;line-height:1.25;font-family:sans-serif;fill:#000000;fill-opacity:1;stroke:none;stroke-width:0.264583\" x=\"-20.512936\" y=\"-207.66843\" id=\"text9556\"><tspan sodipodi:role=\"line\" id=\"tspan9554\" x=\"-20.512936\" y=\"-207.66843\" style=\"stroke-width:0.264583\"/></text>\n",
       "    <g id=\"g15922\" transform=\"translate(-8.3245742,2.9137454)\">\n",
       "      <g id=\"g7355-8-1\" transform=\"matrix(0.09111353,0.06549392,-0.06549392,0.09111353,-124.512,-17.386366)\">\n",
       "        <path sodipodi:nodetypes=\"cc\" id=\"path3168-7-9\" d=\"m 246.68381,608.55924 -128.2272,92.17184\" style=\"fill:none;fill-rule:evenodd;stroke:#343434;stroke-width:2.45564;stroke-linecap:butt;stroke-linejoin:miter;stroke-miterlimit:4;stroke-dasharray:none;stroke-opacity:1\"/>\n",
       "        <path sodipodi:nodetypes=\"cccc\" id=\"path2396-4-2\" d=\"m 241.67073,603.76831 16.0721,-3.13989 -8.15346,14.10696 z\" style=\"fill:#343434;fill-opacity:1;fill-rule:evenodd;stroke:none;stroke-width:1.22782px;stroke-linecap:butt;stroke-linejoin:miter;stroke-opacity:1\"/>\n",
       "      </g>\n",
       "      <text id=\"text3194-5-2\" y=\"59.35162\" x=\"-151.02365\" style=\"font-style:italic;font-variant:normal;font-weight:normal;font-stretch:normal;font-size:3.17499px;line-height:0%;font-family:'Times New Roman';-inkscape-font-specification:'Times New Roman Italic';text-align:start;writing-mode:lr-tb;text-anchor:start;fill:#343434;fill-opacity:1;stroke:none;stroke-width:0.264584px;stroke-linecap:butt;stroke-linejoin:miter;stroke-opacity:1\" xml:space=\"preserve\"><tspan y=\"59.35162\" x=\"-151.02365\" id=\"tspan3196-55-7\" sodipodi:role=\"line\" style=\"font-size:6.35001px;line-height:1.25;stroke-width:0.264584px\">x</tspan></text>\n",
       "      <g id=\"g7355-6-3-9\" transform=\"matrix(0.06549392,-0.09111353,0.09111353,0.06549392,-231.21682,19.117284)\">\n",
       "        <path sodipodi:nodetypes=\"cc\" id=\"path3168-2-5-5\" d=\"m 246.68381,608.55924 -128.2272,92.17184\" style=\"fill:none;fill-rule:evenodd;stroke:#343434;stroke-width:2.45564;stroke-linecap:butt;stroke-linejoin:miter;stroke-miterlimit:4;stroke-dasharray:none;stroke-opacity:1\"/>\n",
       "        <path sodipodi:nodetypes=\"cccc\" id=\"path2396-3-3-7\" d=\"m 241.67073,603.76831 16.0721,-3.13989 -8.15346,14.10696 z\" style=\"fill:#343434;fill-opacity:1;fill-rule:evenodd;stroke:none;stroke-width:1.22782px;stroke-linecap:butt;stroke-linejoin:miter;stroke-opacity:1\"/>\n",
       "      </g>\n",
       "      <text id=\"text3194-3-2-5\" y=\"45.770473\" x=\"-165.61876\" style=\"font-style:italic;font-variant:normal;font-weight:normal;font-stretch:normal;font-size:3.17499px;line-height:0%;font-family:'Times New Roman';-inkscape-font-specification:'Times New Roman Italic';text-align:start;writing-mode:lr-tb;text-anchor:start;fill:#343434;fill-opacity:1;stroke:none;stroke-width:0.264584px;stroke-linecap:butt;stroke-linejoin:miter;stroke-opacity:1\" xml:space=\"preserve\"><tspan y=\"45.770473\" x=\"-165.61876\" id=\"tspan3196-0-9-5\" sodipodi:role=\"line\" style=\"font-size:6.35001px;line-height:1.25;stroke-width:0.264584px\">y</tspan></text>\n",
       "      <g id=\"g17097-6-6-3-4\" transform=\"matrix(0.09979133,0.19099173,0.19099173,-0.09979133,-258.55213,-56.615426)\">\n",
       "        <g id=\"XMLID_248_-7-4-8-7-5-7\" transform=\"rotate(165,407.53465,304.43696)\">\n",
       "          <g id=\"XMLID_178_-8-8-9-4-8-3\">\n",
       "            <g id=\"g127-47-9-0-1-1-3\">\n",
       "              <path class=\"st1\" d=\"m 217.5,286.5 c -1.2,-0.1 -2.9,-1.2 -2.8,-1.7 0.7,-0.3 1.5,-0.6 2.7,-0.7 1,-0.1 2.1,0.3 3.2,0.7 -0.1,0.5 -1.9,1.8 -3.1,1.7 z\" id=\"path103-19-8-5-5-6-7\" style=\"fill:#6d6e70\"/>\n",
       "              <path class=\"st2\" d=\"m 214.7,284.8 c 0,-0.5 1.7,-0.8 2.9,-0.7 1.2,0.1 2.9,0.2 2.9,0.7 -1,-0.4 -2.2,-0.7 -3.2,-0.7 -1.1,0.1 -1.9,0.4 -2.6,0.7 z\" id=\"path105-8-0-4-6-7-8\" style=\"fill:#bbbdbf\"/>\n",
       "              <path class=\"st2\" d=\"m 207,279.8 c 0.5,-0.9 2.6,-5.3 6.2,-6.1 3.3,-0.8 7.2,-0.5 8.9,0 1.7,0.5 4.7,2.1 5.8,3.5 0.9,1.4 0.9,5 0,6.3 -0.7,1 -3,2.4 -4.4,2.3 -0.5,0 -1.6,-0.5 -2.9,-1 0,-0.5 -1.7,-0.6 -2.9,-0.7 -1.2,-0.1 -2.9,0.2 -2.9,0.7 -1.3,0.6 -2,1.4 -3.5,1.1 -1.8,-0.4 -4.3,-3.9 -4.7,-5.6 h 0.1 c -0.1,0 -0.1,0.1 0.3,-0.5 z\" id=\"path107-9-2-9-1-3-7\" style=\"fill:#bbbdbf\"/>\n",
       "              <path class=\"st3\" d=\"m 200.7,276.1 c -4.6,0.7 -9,-1.5 -13.5,-3.4 -4.4,-1.9 -4.8,-3.6 -5.9,-4.7 z\" id=\"path109-0-4-7-7-5-6\" style=\"fill:#e6e7e8\"/>\n",
       "              <path class=\"st3\" d=\"m 176.7,266 c -1.2,0.5 -2.9,0.6 -5.2,0.1 -3.3,-0.7 -7.3,-2.5 -10.4,-4.6 -2.8,-2.3 -4.5,-5.6 -4.6,-7.9 -0.1,-2.3 3.1,-2.7 7,-3 3.7,-0.7 8.1,-0.6 11.4,0.1 2.4,0.5 3.8,1.3 4.7,2.3 1.6,1.8 1.3,4.2 0.7,7 -0.6,2.7 -1.4,5.1 -3.6,6 z\" id=\"path111-0-8-1-7-2-3\" style=\"fill:#e6e7e8\"/>\n",
       "              <path class=\"st2\" d=\"m 213.1,273.6 c -3.5,0.9 -5.6,5.3 -6.2,6.1 -0.4,0.6 -0.4,0.6 -0.4,0.6 h -0.1 c 0,0 0,-0.1 0,-0.1 0,0 0,0 0.4,-0.5 0.5,-0.9 2.6,-5.3 6.2,-6.1 3.3,-0.8 7.2,-0.5 8.9,0 1.7,0.5 4.8,2.2 5.8,3.6 0,0 0,0.1 0.1,0.1 -1.1,-1.4 -4.1,-3 -5.8,-3.5 -1.7,-0.7 -5.6,-1 -8.9,-0.2 z\" id=\"path113-12-6-9-8-3-6\" style=\"fill:#bbbdbf\"/>\n",
       "              <path class=\"st3\" d=\"m 200.7,276.1 -19.4,-8.2 -4.7,-2 c 2.2,-0.9 3,-3.3 3.6,-6 0.6,-2.7 0.9,-5.2 -0.7,-7 v 0 l 5.3,0.2 21,0.6 v 0 c -0.6,0.5 -1.2,1.1 -1.5,1.6 -1.1,2 2.2,1.6 0.8,9 0,0.1 0.1,0.4 0.1,0.5 0.2,0.4 0.5,0.5 0.5,0.5 -0.3,0 -0.4,0 -0.7,0.2 -0.2,0.2 -0.3,0.4 -0.3,0.5 -1.8,7.4 -5.3,5.7 -4.9,8.1 0.2,0.6 0.6,1.4 0.9,2 z\" id=\"path115-1-9-8-8-3-6\" style=\"fill:#e6e7e8\"/>\n",
       "              <path class=\"st3\" d=\"m 205.9,253.8 -21,-0.6 c 1.4,-0.6 2.5,-2 7.3,-1.9 4.9,0.1 9.8,0 13.7,2.5 z\" id=\"path117-8-0-9-7-3-2\" style=\"fill:#e6e7e8\"/>\n",
       "              <path class=\"st3\" d=\"m 206.2,279.8 c -1.4,-0.3 -3.6,-1.7 -4.5,-2.6 -0.2,-0.3 -0.6,-0.7 -0.9,-1.1 -0.4,-0.6 -0.8,-1.4 -0.9,-1.9 -0.3,-2.4 3.1,-0.7 4.9,-8.1 0,0 0.1,-0.3 0.3,-0.5 0.3,-0.2 0.4,-0.2 0.7,-0.2 0,0 -0.4,-0.1 -0.5,-0.5 0,-0.1 -0.2,-0.4 -0.1,-0.5 1.4,-7.4 -1.9,-7 -0.8,-9 0.2,-0.5 0.9,-1.1 1.5,-1.6 0.4,-0.3 0.7,-0.5 1,-0.7 1.2,-0.6 3.8,-0.7 5.6,-0.4 v 0.2 c 0,0 0,0 0.1,0.6 0.2,1 0.4,5.9 3.3,8 2.7,2 6.5,3.3 8.2,3.4 1.8,0.2 5.3,-0.2 6.8,-1.1 1.4,-0.9 2.8,-4.3 2.5,-5.9 l 0.1,0.2 c 0,0.3 0,0.6 0,1 0,0 0,0 0,0 0.4,1 0,3.4 0.5,4.4 0.4,0.8 2,1.9 2.3,3.4 0.5,2.9 -0.3,7.3 -2.2,9.6 -1.2,1.5 -3,1.7 -3.8,2.5 -0.5,0.5 -1.3,2.3 -1.9,3.4 0.4,-1.7 0.2,-4.3 -0.5,-5.3 0,0 0,-0.1 -0.1,-0.1 0,0 0,-0.1 -0.1,-0.1 -1,-1.4 -4.1,-3.1 -5.8,-3.6 -1.7,-0.5 -5.6,-0.8 -8.9,0 -3.5,0.9 -5.6,5.3 -6.2,6.1 -0.4,0.6 -0.4,0.5 -0.4,0.5 0,0 0,0.1 0,0.1 l -0.4,-0.1 c 0.1,0.1 0.1,0 0.2,-0.1 z\" id=\"path119-1-5-2-3-1-4\" style=\"fill:#e6e7e8\"/>\n",
       "              <path class=\"st2\" d=\"m 215.7,261.2 c -2.8,-2.2 -2.9,-7.1 -3,-8.1 -0.1,-0.7 -0.1,-0.7 -0.1,-0.7 1,-1.5 4.8,-3.7 6.7,-3.3 1.4,0.3 1.8,1.3 2.7,2.5 -0.2,0.5 1.2,1.5 2.4,1.9 1.1,0.4 2.7,1 3,0.6 v 0 c 1.3,0.1 2.6,0.1 3.1,0.3 1.2,0.5 2.8,2.7 3,3.9 0.3,1.6 -1.3,4.9 -2.8,5.8 -1.5,0.9 -5,1.1 -6.8,0.8 -1.9,-0.2 -5.6,-1.7 -8.2,-3.7 z\" id=\"path121-0-7-2-2-3-7\" style=\"fill:#bbbdbf\"/>\n",
       "              <path class=\"st2\" d=\"m 227.3,254.1 c -0.2,0.5 -1.8,-0.2 -3,-0.6 -1.1,-0.4 -2.5,-1.4 -2.4,-1.9 0.5,0.6 1.1,1.2 2.1,1.8 1,0.4 2.2,0.6 3.3,0.7 z\" id=\"path123-5-0-3-0-4-7\" style=\"fill:#bbbdbf\"/>\n",
       "              <path class=\"st1\" d=\"m 225.2,251.2 c 1.1,0.4 2.2,2.4 2,2.8 v 0 c -1.1,-0.1 -2.3,-0.3 -3.2,-0.7 -1,-0.5 -1.7,-1.2 -2.1,-1.8 0.2,-0.4 2.2,-0.7 3.3,-0.3 z\" id=\"path125-9-1-4-7-5-7\" style=\"fill:#6d6e70\"/>\n",
       "            </g>\n",
       "            <g id=\"g151-8-9-6-3-1-0\">\n",
       "              <path class=\"st4\" d=\"m 227.3,254 c 1.3,0.1 2.6,0.1 3.1,0.3 1.2,0.5 2.8,2.7 3,3.9 0.3,1.6 -1.3,4.9 -2.8,5.8 -1.5,0.9 -5,1.1 -6.8,0.8 -1.7,-0.2 -5.4,-1.6 -8.1,-3.7 -2.8,-2.2 -2.9,-7.1 -3,-8.1 -0.1,-0.7 -0.1,-0.7 -0.1,-0.7 1,-1.5 4.8,-3.7 6.7,-3.3 1.4,0.3 1.8,1.3 2.7,2.5\" id=\"path129-9-9-6-7-3-4\" style=\"fill:none;stroke:#231f20;stroke-width:1.0743;stroke-linejoin:round;stroke-miterlimit:10\"/>\n",
       "              <path class=\"st9\" d=\"m 227.3,254.1 c -0.2,0.5 -1.8,-0.2 -3,-0.6 -1.1,-0.4 -2.5,-1.4 -2.4,-1.9 0.2,-0.5 2.2,-0.8 3.3,-0.3 1.1,0.4 2.2,2.3 2.1,2.8\" id=\"path131-5-3-7-7-9-6\" style=\"fill:none;stroke:#231f20;stroke-width:1.0743;stroke-linecap:round;stroke-linejoin:round\"/>\n",
       "              <path class=\"st4\" d=\"m 220.5,284.8 c 1.3,0.5 2.4,1 2.9,1 1.3,0 3.7,-1.3 4.4,-2.3 0.9,-1.3 0.9,-4.9 0,-6.3\" id=\"path133-6-6-8-5-3-0\" style=\"fill:none;stroke:#231f20;stroke-width:1.0743;stroke-linejoin:round;stroke-miterlimit:10\"/>\n",
       "              <path class=\"st4\" d=\"m 206.5,280.3 c 0.4,1.8 2.9,5.2 4.7,5.6 1.4,0.3 2.2,-0.5 3.5,-1.1\" id=\"path135-38-8-7-6-3-8\" style=\"fill:none;stroke:#231f20;stroke-width:1.0743;stroke-linejoin:round;stroke-miterlimit:10\"/>\n",
       "              <path class=\"st9\" d=\"m 220.5,284.8 c 0,-0.5 -1.7,-0.6 -2.9,-0.7 -1.2,-0.1 -2.9,0.2 -2.9,0.7 0,0.5 1.7,1.6 2.8,1.7 1.2,0.1 3,-1.2 3,-1.7 z\" id=\"path137-7-2-8-5-0-7\" style=\"fill:none;stroke:#231f20;stroke-width:1.0743;stroke-linecap:round;stroke-linejoin:round\"/>\n",
       "              <line class=\"st4\" x1=\"184.89999\" y1=\"253.10001\" x2=\"179.60001\" y2=\"253\" id=\"line139-8-1-4-8-2-4\" style=\"fill:none;stroke:#231f20;stroke-width:1.0743;stroke-linejoin:round;stroke-miterlimit:10\"/>\n",
       "              <path class=\"st4\" d=\"m 205.9,253.8 c -3.9,-2.5 -8.8,-2.4 -13.7,-2.5 -4.8,-0.1 -5.9,1.3 -7.3,1.9 z\" id=\"path141-5-7-8-9-6-9\" style=\"fill:none;stroke:#231f20;stroke-width:1.0743;stroke-linejoin:round;stroke-miterlimit:10\"/>\n",
       "              <path class=\"st4\" d=\"m 181.4,268 c 1.1,1.1 1.4,2.9 5.9,4.7 4.5,1.9 8.9,4.1 13.5,3.4 z\" id=\"path143-3-7-3-8-3-5\" style=\"fill:none;stroke:#231f20;stroke-width:1.0743;stroke-linejoin:round;stroke-miterlimit:10\"/>\n",
       "              <line class=\"st4\" x1=\"176.7\" y1=\"266\" x2=\"181.39999\" y2=\"268\" id=\"line145-7-3-8-0-0-9\" style=\"fill:none;stroke:#231f20;stroke-width:1.0743;stroke-linejoin:round;stroke-miterlimit:10\"/>\n",
       "              <path class=\"st4\" d=\"m 227.8,277.2 c 0,0 0,0 0,0 0.8,1.1 1,3.7 0.6,5.4 0.6,-1.1 1.4,-2.9 1.9,-3.4 0.8,-0.8 2.6,-1.1 3.8,-2.5 1.9,-2.3 2.7,-6.7 2.2,-9.6 -0.2,-1.5 -1.9,-2.6 -2.3,-3.4 -0.5,-0.9 -0.1,-3.4 -0.5,-4.4 0,0 0,0 0,0 0.1,-0.4 0.1,-0.7 0,-1 l -0.1,-0.2 c 0.3,1.6 -1.1,5 -2.5,5.9 -1.5,0.9 -5,1.3 -6.8,1.1 -1.7,-0.1 -5.5,-1.4 -8.2,-3.4 -2.9,-2.1 -3.2,-7 -3.3,-8 -0.1,-0.7 -0.1,-0.6 -0.1,-0.6 v -0.2 c -1.7,-0.3 -4.4,-0.1 -5.6,0.4 -0.3,0.1 -0.7,0.4 -1,0.7 -0.6,0.5 -1.2,1.1 -1.5,1.6 -1.1,2 2.2,1.6 0.8,9 0,0.1 0.1,0.4 0.1,0.5 0.2,0.4 0.5,0.5 0.5,0.5 -0.3,0 -0.4,0 -0.7,0.2 -0.2,0.2 -0.3,0.4 -0.3,0.5 -1.8,7.4 -5.3,5.7 -4.9,8.1 0.1,0.5 0.5,1.2 0.9,1.9 0.3,0.4 0.6,0.8 0.9,1.1 0.9,0.9 3.1,2.3 4.5,2.6 0,0.1 -0.1,0.2 -0.1,0.3 l 0.4,0.1 h 0.1 c 0,0 0,0 0.4,-0.6 0.5,-0.9 2.6,-5.3 6.2,-6.1 3.3,-0.8 7.2,-0.5 8.9,0 1.6,0.5 4.6,2.1 5.7,3.5 z\" id=\"path147-3-7-9-1-7-8\" style=\"fill:none;stroke:#231f20;stroke-width:1.0743;stroke-linejoin:round;stroke-miterlimit:10\"/>\n",
       "              <path class=\"st4\" d=\"m 176.7,266 c -1.2,0.5 -2.9,0.6 -5.2,0.1 -3.3,-0.7 -7.3,-2.5 -10.4,-4.6 -2.8,-2.3 -4.5,-5.6 -4.6,-7.9 -0.1,-2.3 3.1,-2.7 7,-3 3.7,-0.7 8.1,-0.6 11.4,0.1 2.4,0.5 3.8,1.3 4.7,2.3 1.6,1.8 1.3,4.2 0.7,7 -0.6,2.7 -1.4,5.1 -3.6,6 z\" id=\"path149-6-1-7-1-3-6\" style=\"fill:none;stroke:#231f20;stroke-width:1.0743;stroke-linejoin:round;stroke-miterlimit:10\"/>\n",
       "            </g>\n",
       "          </g>\n",
       "          <path id=\"XMLID_255_-25-1-0-6-1-3\" class=\"st10\" d=\"M 160.5,261.2 C 99.5,247.9 55.7,197.8 66.1,150.3 l 0.2,-1.1 c 0.6,-2.6 2.6,-4.4 4,-4.1 1.4,0.3 -0.5,2.1 -1,4.7 -10.4,47.5 32.3,87.3 93.3,100.7 0,0 -5.6,0.2 -6.1,2.6 -0.6,2.5 4,8.1 4,8.1 z\" style=\"fill:#e6e7e8;stroke:#231f20;stroke-width:1.0743;stroke-linejoin:round;stroke-miterlimit:10\"/>\n",
       "        </g>\n",
       "        <ellipse style=\"opacity:0.52;fill:#0173b2;fill-opacity:1;stroke:none;stroke-width:0.137951\" id=\"path1342-5-1-0-3-7-7-7-7\" cx=\"718.81183\" cy=\"297.10211\" rx=\"3.1985385\" ry=\"3.1414216\"/>\n",
       "        <ellipse style=\"opacity:0.68;fill:#0173b2;fill-opacity:1;stroke:none;stroke-width:0.137951\" id=\"path1342-4-4-3-5-2-7-9-4-5-0\" cx=\"746.15784\" cy=\"312.41629\" rx=\"3.1985385\" ry=\"3.1414216\"/>\n",
       "        <ellipse style=\"opacity:0.36;fill:#0173b2;fill-opacity:1;stroke:none;stroke-width:0.137951\" id=\"path1342-4-2-1-5-11-8-6-1-0-1\" cx=\"690.53198\" cy=\"289.70984\" rx=\"3.1985385\" ry=\"3.1414216\"/>\n",
       "        <ellipse style=\"fill:#0173b2;fill-opacity:1;stroke:none;stroke-width:0.137951\" id=\"path1342-0-2-3-0-9-3-2-4-1-3\" cx=\"775.63751\" cy=\"366.763\" rx=\"3.1985385\" ry=\"3.1414216\"/>\n",
       "        <ellipse style=\"opacity:0.2;fill:#0173b2;fill-opacity:1;stroke:none;stroke-width:0.137951\" id=\"path1342-0-2-9-0-4-9-4-0-6-6-9\" cx=\"659.45081\" cy=\"288.5112\" rx=\"3.1985385\" ry=\"3.1414216\"/>\n",
       "        <ellipse style=\"opacity:0.84;fill:#0173b2;fill-opacity:1;stroke:none;stroke-width:0.137951\" id=\"path1342-4-3-9-2-02-9-3-6-9-9\" cx=\"768.2746\" cy=\"337.25516\" rx=\"3.1985385\" ry=\"3.1414216\"/>\n",
       "      </g>\n",
       "      <ellipse style=\"fill:#de8f05;fill-opacity:1;stroke:none;stroke-width:0.0297271\" id=\"path1342-0-2-3-0-5-7-7-7-8-7-3-3\" cx=\"-99.754959\" cy=\"107.0101\" rx=\"0.68925464\" ry=\"0.67694646\" transform=\"rotate(35.709207)\"/>\n",
       "      <g id=\"g7355-2-8-17\" transform=\"matrix(0.09111353,0.06549392,-0.06549392,0.09111353,-108.02064,-42.790096)\">\n",
       "        <path sodipodi:nodetypes=\"cc\" id=\"path3168-23-0-7\" d=\"m 246.68381,608.55924 -128.2272,92.17184\" style=\"fill:none;fill-rule:evenodd;stroke:#343434;stroke-width:2.45564;stroke-linecap:butt;stroke-linejoin:miter;stroke-miterlimit:4;stroke-dasharray:none;stroke-opacity:1\"/>\n",
       "        <path sodipodi:nodetypes=\"cccc\" id=\"path2396-1-6-6\" d=\"m 241.67073,603.76831 16.0721,-3.13989 -8.15346,14.10696 z\" style=\"fill:#343434;fill-opacity:1;fill-rule:evenodd;stroke:none;stroke-width:1.22782px;stroke-linecap:butt;stroke-linejoin:miter;stroke-opacity:1\"/>\n",
       "      </g>\n",
       "      <text id=\"text3194-3-8-07-0\" y=\"12.144405\" x=\"-142.08102\" style=\"font-style:italic;font-variant:normal;font-weight:normal;font-stretch:normal;font-size:3.17499px;line-height:0%;font-family:'Times New Roman';-inkscape-font-specification:'Times New Roman Italic';text-align:start;writing-mode:lr-tb;text-anchor:start;fill:#de8f05;fill-opacity:1;stroke:none;stroke-width:0.264584px;stroke-linecap:butt;stroke-linejoin:miter;stroke-opacity:1\" xml:space=\"preserve\"><tspan y=\"12.144405\" x=\"-142.08102\" id=\"tspan3196-0-7-2-8\" sodipodi:role=\"line\" style=\"font-size:6.35001px;line-height:1.25;fill:#de8f05;fill-opacity:1;stroke-width:0.264584px\">head </tspan></text>\n",
       "      <g id=\"g7859-6\" transform=\"matrix(0.01718694,-0.10606643,0.10606643,0.01718694,-204.38805,36.635634)\">\n",
       "        <path sodipodi:nodetypes=\"cc\" id=\"path3168-8-8-69\" d=\"m 294.66892,452.98698 -128.2272,92.17184\" style=\"fill:none;fill-rule:evenodd;stroke:#343434;stroke-width:2.45564;stroke-linecap:butt;stroke-linejoin:miter;stroke-miterlimit:4;stroke-dasharray:none;stroke-opacity:1\"/>\n",
       "        <path sodipodi:nodetypes=\"cccc\" id=\"path2396-2-2-2\" d=\"m 289.65584,448.19605 16.0721,-3.13989 -8.15346,14.10696 z\" style=\"fill:#343434;fill-opacity:1;fill-rule:evenodd;stroke:none;stroke-width:1.22782px;stroke-linecap:butt;stroke-linejoin:miter;stroke-opacity:1\"/>\n",
       "      </g>\n",
       "      <g id=\"g7907-1\" transform=\"matrix(0.17497607,0.1257757,-0.1257757,0.17497607,-141.42008,-98.447546)\">\n",
       "        <g id=\"g8169-8\" transform=\"rotate(14.186222,326.98295,405.5066)\">\n",
       "          <path sodipodi:end=\"4.8327761\" sodipodi:start=\"2.8015229\" sodipodi:type=\"arc\" style=\"fill:none;fill-opacity:1;fill-rule:evenodd;stroke:#de8f05;stroke-width:2.45564;stroke-linecap:butt;stroke-linejoin:miter;stroke-miterlimit:4;stroke-dasharray:9.82255, 4.91127;stroke-dashoffset:0;stroke-opacity:1\" id=\"path3172-1-6\" sodipodi:cx=\"569.52563\" sodipodi:cy=\"154.55998\" sodipodi:rx=\"54.243294\" sodipodi:ry=\"54.243294\" transform=\"rotate(37.056234)\" sodipodi:arc-type=\"arc\" sodipodi:open=\"true\" d=\"m 518.38878,172.65299 a 54.243294,54.243294 0 0 1 8.80762,-52.01307 54.243294,54.243294 0 0 1 48.84367,-19.93063\"/>\n",
       "          <path inkscape:transform-center-y=\"-1.4820402\" inkscape:transform-center-x=\"7.8026002\" sodipodi:nodetypes=\"cccc\" id=\"path3228-7-0\" d=\"m 316.42611,453.29171 -9.05969,13.64159 -4.30767,-15.71398 z\" style=\"fill:#de8f05;fill-opacity:1;fill-rule:evenodd;stroke:none;stroke-width:1.22782px;stroke-linecap:butt;stroke-linejoin:miter;stroke-opacity:1\"/>\n",
       "        </g>\n",
       "      </g>\n",
       "      <text id=\"text3194-3-8-07-62-8\" y=\"24.369961\" x=\"-138.7106\" style=\"font-style:italic;font-variant:normal;font-weight:normal;font-stretch:normal;font-size:3.17499px;line-height:0%;font-family:'Times New Roman';-inkscape-font-specification:'Times New Roman Italic';text-align:start;writing-mode:lr-tb;text-anchor:start;fill:#de8f05;fill-opacity:1;stroke:none;stroke-width:0.264584px;stroke-linecap:butt;stroke-linejoin:miter;stroke-opacity:1\" xml:space=\"preserve\"><tspan y=\"24.369961\" x=\"-138.7106\" id=\"tspan3196-0-7-2-5-3\" sodipodi:role=\"line\" style=\"font-size:6.35001px;line-height:1.25;fill:#de8f05;fill-opacity:1;stroke-width:0.264584px\">θ</tspan></text>\n",
       "      <g id=\"g7355-2-8-1-6-2\" transform=\"matrix(-0.00995176,0.06438242,-0.06438242,-0.00995176,-83.872702,50.312684)\" inkscape:transform-center-x=\"-1.7606704\" inkscape:transform-center-y=\"-4.5007359\">\n",
       "        <path sodipodi:nodetypes=\"cc\" id=\"path3168-23-0-4-1-7\" d=\"m 246.68381,608.55924 -128.2272,92.17184\" style=\"fill:none;fill-rule:evenodd;stroke:#0173b2;stroke-width:4.60497;stroke-linecap:butt;stroke-linejoin:miter;stroke-miterlimit:4;stroke-dasharray:none;stroke-opacity:1\"/>\n",
       "        <path sodipodi:nodetypes=\"cccc\" id=\"path2396-1-6-3-2-89\" d=\"m 241.67073,603.76831 16.0721,-3.13989 -8.15346,14.10696 z\" style=\"fill:#0173b2;fill-opacity:1;fill-rule:evenodd;stroke:none;stroke-width:1.22782px;stroke-linecap:butt;stroke-linejoin:miter;stroke-opacity:1\"/>\n",
       "      </g>\n",
       "      <g id=\"g10448\" transform=\"translate(-195.60856,225.96485)\">\n",
       "        <path sodipodi:end=\"3.6969803\" sodipodi:start=\"2.8015229\" sodipodi:type=\"arc\" style=\"fill:none;fill-opacity:1;fill-rule:evenodd;stroke:#0173b2;stroke-width:0.3;stroke-linecap:butt;stroke-linejoin:miter;stroke-miterlimit:4;stroke-dasharray:none;stroke-dashoffset:0;stroke-opacity:1\" id=\"path3172-1-6-4\" sodipodi:cx=\"60.387123\" sodipodi:cy=\"173.7932\" sodipodi:rx=\"4.2421412\" sodipodi:ry=\"4.2421412\" transform=\"rotate(-138.92001)\" sodipodi:arc-type=\"arc\" sodipodi:open=\"true\" d=\"m 56.387923,175.20818 a 4.2421412,4.2421412 0 0 1 0.394669,-3.65175\"/>\n",
       "        <path inkscape:transform-center-y=\"-0.74735145\" inkscape:transform-center-x=\"-2.0227701\" sodipodi:nodetypes=\"cccc\" id=\"path3228-7-0-4\" d=\"m 72.201932,-169.26529 0.842284,-0.56328 -0.128249,1 z\" style=\"fill:#0173b2;fill-opacity:1;fill-rule:evenodd;stroke:none;stroke-width:0.0759727px;stroke-linecap:butt;stroke-linejoin:miter;stroke-opacity:1\"/>\n",
       "      </g>\n",
       "      <g id=\"g10452\" transform=\"translate(-195.96549,226.25128)\">\n",
       "        <path sodipodi:nodetypes=\"cc\" id=\"path3168-23-0-4-1-7-1\" d=\"m 76.056008,-168.49871 -10.256932,-6.78687\" style=\"fill:none;fill-rule:evenodd;stroke:#0173b2;stroke-width:0.3;stroke-linecap:butt;stroke-linejoin:miter;stroke-miterlimit:4;stroke-dasharray:none;stroke-opacity:1\"/>\n",
       "        <path sodipodi:nodetypes=\"cccc\" id=\"path2396-1-6-3-2-89-7\" d=\"m 76.137174,-168.9775 0.582649,0.89369 -1.051212,-0.14733 z\" style=\"fill:#0173b2;fill-opacity:1;fill-rule:evenodd;stroke:none;stroke-width:0.0799888px;stroke-linecap:butt;stroke-linejoin:miter;stroke-opacity:1\"/>\n",
       "      </g>\n",
       "      <text id=\"text3194-3-8-0-4-6\" y=\"61.497662\" x=\"-124.32137\" style=\"font-style:italic;font-variant:normal;font-weight:normal;font-stretch:normal;font-size:3.17499px;line-height:0%;font-family:'Times New Roman';-inkscape-font-specification:'Times New Roman Italic';text-align:start;writing-mode:lr-tb;text-anchor:start;fill:#0173b2;fill-opacity:1;stroke:none;stroke-width:0.264584px;stroke-linecap:butt;stroke-linejoin:miter;stroke-opacity:1\" xml:space=\"preserve\"><tspan y=\"61.497662\" x=\"-124.32137\" id=\"tspan3196-0-7-4-6-2\" sodipodi:role=\"line\" style=\"font-size:6.35001px;line-height:1.25;fill:#0173b2;fill-opacity:1;stroke-width:0.264584px\">φ<tspan style=\"font-size:65%;baseline-shift:sub\" id=\"tspan10444\">3</tspan></tspan></text>\n",
       "      <g id=\"g10452-0\" transform=\"rotate(-46.675957,242.77825,153.02929)\">\n",
       "        <path sodipodi:nodetypes=\"cc\" id=\"path3168-23-0-4-1-7-1-8\" d=\"m 76.056008,-168.49871 -10.256932,-6.78687\" style=\"fill:none;fill-rule:evenodd;stroke:#0173b2;stroke-width:0.3;stroke-linecap:butt;stroke-linejoin:miter;stroke-miterlimit:4;stroke-dasharray:none;stroke-opacity:1\"/>\n",
       "        <path sodipodi:nodetypes=\"cccc\" id=\"path2396-1-6-3-2-89-7-7\" d=\"m 76.137174,-168.9775 0.582649,0.89369 -1.051212,-0.14733 z\" style=\"fill:#0173b2;fill-opacity:1;fill-rule:evenodd;stroke:none;stroke-width:0.0799888px;stroke-linecap:butt;stroke-linejoin:miter;stroke-opacity:1\"/>\n",
       "      </g>\n",
       "      <g id=\"g7355-2-8-1-6-2-4\" transform=\"matrix(-0.00995176,0.06438242,-0.06438242,-0.00995176,-71.201972,55.861524)\" inkscape:transform-center-x=\"-1.7606704\" inkscape:transform-center-y=\"-4.5007359\">\n",
       "        <path sodipodi:nodetypes=\"cc\" id=\"path3168-23-0-4-1-7-3\" d=\"m 246.68381,608.55924 -128.2272,92.17184\" style=\"fill:none;fill-rule:evenodd;stroke:#0173b2;stroke-width:4.60497;stroke-linecap:butt;stroke-linejoin:miter;stroke-miterlimit:4;stroke-dasharray:none;stroke-opacity:1\"/>\n",
       "        <path sodipodi:nodetypes=\"cccc\" id=\"path2396-1-6-3-2-89-4\" d=\"m 241.67073,603.76831 16.0721,-3.13989 -8.15346,14.10696 z\" style=\"fill:#0173b2;fill-opacity:1;fill-rule:evenodd;stroke:none;stroke-width:1.22782px;stroke-linecap:butt;stroke-linejoin:miter;stroke-opacity:1\"/>\n",
       "      </g>\n",
       "      <g id=\"g10448-5\" transform=\"translate(-183.64129,226.46367)\">\n",
       "        <g id=\"g10540\" transform=\"rotate(-41.937567,71.673943,-169.91992)\">\n",
       "          <path sodipodi:end=\"4.6017468\" sodipodi:start=\"2.8015229\" sodipodi:type=\"arc\" style=\"fill:none;fill-opacity:1;fill-rule:evenodd;stroke:#0173b2;stroke-width:0.3;stroke-linecap:butt;stroke-linejoin:miter;stroke-miterlimit:4;stroke-dasharray:none;stroke-dashoffset:0;stroke-opacity:1\" id=\"path3172-1-6-4-3\" sodipodi:cx=\"60.387123\" sodipodi:cy=\"173.7932\" sodipodi:rx=\"4.2421412\" sodipodi:ry=\"4.2421412\" transform=\"rotate(-138.92001)\" sodipodi:arc-type=\"arc\" sodipodi:open=\"true\" d=\"m 56.387923,175.20818 a 4.2421412,4.2421412 0 0 1 0.405119,-3.6685 4.2421412,4.2421412 0 0 1 3.125678,-1.96268\"/>\n",
       "          <path inkscape:transform-center-y=\"-0.74735145\" inkscape:transform-center-x=\"-2.0227701\" sodipodi:nodetypes=\"cccc\" id=\"path3228-7-0-4-3\" d=\"m 72.201932,-169.26529 0.842284,-0.56328 -0.128249,1 z\" style=\"fill:#0173b2;fill-opacity:1;fill-rule:evenodd;stroke:none;stroke-width:0.0759727px;stroke-linecap:butt;stroke-linejoin:miter;stroke-opacity:1\"/>\n",
       "        </g>\n",
       "      </g>\n",
       "      <text id=\"text3194-3-8-0-4-6-0\" y=\"62.571117\" x=\"-110.84116\" style=\"font-style:italic;font-variant:normal;font-weight:normal;font-stretch:normal;font-size:3.17499px;line-height:0%;font-family:'Times New Roman';-inkscape-font-specification:'Times New Roman Italic';text-align:start;writing-mode:lr-tb;text-anchor:start;fill:#0173b2;fill-opacity:1;stroke:none;stroke-width:0.264584px;stroke-linecap:butt;stroke-linejoin:miter;stroke-opacity:1\" xml:space=\"preserve\"><tspan y=\"62.571117\" x=\"-110.84116\" id=\"tspan3196-0-7-4-6-2-1\" sodipodi:role=\"line\" style=\"font-size:6.35001px;line-height:1.25;fill:#0173b2;fill-opacity:1;stroke-width:0.264584px\">φ<tspan style=\"font-size:65%;baseline-shift:sub\" id=\"tspan10570\">5</tspan></tspan></text>\n",
       "      <g id=\"g10678\" transform=\"translate(-216.94316,208.67539)\">\n",
       "        <g id=\"g9587-5\" transform=\"translate(131.51082,9.4873754)\">\n",
       "          <text id=\"text3194-3-8-07-6-2-6-5\" y=\"-213.63268\" x=\"-36.728233\" style=\"font-style:italic;font-variant:normal;font-weight:normal;font-stretch:normal;font-size:3.17499px;line-height:0%;font-family:'Times New Roman';-inkscape-font-specification:'Times New Roman Italic';text-align:start;writing-mode:lr-tb;text-anchor:start;fill:#de8f05;fill-opacity:1;stroke:none;stroke-width:0.264584px;stroke-linecap:butt;stroke-linejoin:miter;stroke-opacity:1\" xml:space=\"preserve\"><tspan y=\"-213.63268\" x=\"-36.728233\" id=\"tspan3196-0-7-2-1-9-4-3\" sodipodi:role=\"line\" style=\"font-size:6.35001px;line-height:1.25;fill:#de8f05;fill-opacity:1;stroke-width:0.264584px\">x</tspan><tspan y=\"-205.69516\" x=\"-36.728233\" sodipodi:role=\"line\" style=\"font-size:6.35001px;line-height:1.25;fill:#de8f05;fill-opacity:1;stroke-width:0.264584px\" id=\"tspan9552-30\">y</tspan><tspan y=\"-197.75764\" x=\"-36.728233\" sodipodi:role=\"line\" style=\"font-size:6.35001px;line-height:1.25;fill:#de8f05;fill-opacity:1;stroke-width:0.264584px\" id=\"tspan10620\">θ</tspan><tspan y=\"-194.511\" x=\"-36.728233\" sodipodi:role=\"line\" style=\"font-size:6.35001px;line-height:1.25;fill:#de8f05;fill-opacity:1;stroke-width:0.264584px\" id=\"tspan10618\"/></text>\n",
       "          <text id=\"text3194-3-8-07-6-2-8-5\" y=\"-127.80378\" x=\"-64.774483\" style=\"font-style:italic;font-variant:normal;font-weight:normal;font-stretch:normal;font-size:5.14117px;line-height:0%;font-family:'Times New Roman';-inkscape-font-specification:'Times New Roman Italic';text-align:start;writing-mode:lr-tb;text-anchor:start;fill:#de8f05;fill-opacity:1;stroke:none;stroke-width:0.428432px;stroke-linecap:butt;stroke-linejoin:miter;stroke-opacity:1\" xml:space=\"preserve\" transform=\"scale(0.61756235,1.6192697)\"><tspan y=\"-127.80378\" x=\"-64.774483\" id=\"tspan3196-0-7-2-1-9-0-8\" sodipodi:role=\"line\" style=\"font-size:10.2824px;line-height:1.25;fill:#de8f05;fill-opacity:1;stroke-width:0.428432px\"> </tspan><tspan y=\"-122.54656\" x=\"-64.774483\" sodipodi:role=\"line\" style=\"font-size:10.2824px;line-height:1.25;fill:#de8f05;fill-opacity:1;stroke-width:0.428432px\" id=\"tspan10612\"/></text>\n",
       "        </g>\n",
       "        <g id=\"g9587-4\" transform=\"translate(150.22064,16.290947)\">\n",
       "          <text id=\"text3194-3-8-07-6-2-8-8\" y=\"-106.88215\" x=\"-115.50914\" style=\"font-style:italic;font-variant:normal;font-weight:normal;font-stretch:normal;font-size:6.19063px;line-height:0%;font-family:'Times New Roman';-inkscape-font-specification:'Times New Roman Italic';text-align:start;writing-mode:lr-tb;text-anchor:start;fill:#de8f05;fill-opacity:1;stroke:none;stroke-width:0.515887px;stroke-linecap:butt;stroke-linejoin:miter;stroke-opacity:1\" xml:space=\"preserve\" transform=\"scale(0.51287085,1.9498086)\"><tspan y=\"-106.88215\" x=\"-115.50914\" id=\"tspan3196-0-7-2-1-9-0-4\" sodipodi:role=\"line\" style=\"font-style:normal;font-variant:normal;font-weight:normal;font-stretch:normal;font-size:12.3813px;line-height:1.25;font-family:'Times New Roman';-inkscape-font-specification:'Times New Roman, ';fill:#de8f05;fill-opacity:1;stroke-width:0.515887px\">(    )</tspan></text>\n",
       "        </g>\n",
       "      </g>\n",
       "      <text id=\"text3194-3-8-0-4-8\" y=\"44.027302\" x=\"-117.74011\" style=\"font-style:italic;font-variant:normal;font-weight:normal;font-stretch:normal;font-size:3.17499px;line-height:0%;font-family:'Times New Roman';-inkscape-font-specification:'Times New Roman Italic';text-align:start;writing-mode:lr-tb;text-anchor:start;fill:#0173b2;fill-opacity:1;stroke:none;stroke-width:0.264584px;stroke-linecap:butt;stroke-linejoin:miter;stroke-opacity:1\" xml:space=\"preserve\"><tspan y=\"44.027302\" x=\"-117.74011\" id=\"tspan3196-0-7-4-6-1\" sodipodi:role=\"line\" style=\"font-size:6.35001px;line-height:1.25;fill:#0173b2;fill-opacity:1;stroke-width:0.264584px\">tail (φ<tspan style=\"font-size:4.12751px;baseline-shift:sub;stroke-width:0.264584px\" id=\"tspan8039-6\">1</tspan>,...,φ<tspan style=\"font-size:65%;baseline-shift:sub\" id=\"tspan10752\">5 </tspan>)</tspan></text>\n",
       "    </g>\n",
       "    <g id=\"g15818\" transform=\"translate(-5.035142,3.2072343)\">\n",
       "      <g id=\"g7355-8\" transform=\"matrix(0.09111353,0.06549392,-0.06549392,0.09111353,-224.11304,-17.610226)\">\n",
       "        <path sodipodi:nodetypes=\"cc\" id=\"path3168-7\" d=\"m 246.68381,608.55924 -128.2272,92.17184\" style=\"fill:none;fill-rule:evenodd;stroke:#343434;stroke-width:2.45564;stroke-linecap:butt;stroke-linejoin:miter;stroke-miterlimit:4;stroke-dasharray:none;stroke-opacity:1\"/>\n",
       "        <path sodipodi:nodetypes=\"cccc\" id=\"path2396-4\" d=\"m 241.67073,603.76831 16.0721,-3.13989 -8.15346,14.10696 z\" style=\"fill:#343434;fill-opacity:1;fill-rule:evenodd;stroke:none;stroke-width:1.22782px;stroke-linecap:butt;stroke-linejoin:miter;stroke-opacity:1\"/>\n",
       "      </g>\n",
       "      <text id=\"text3194-5\" y=\"59.127743\" x=\"-250.62466\" style=\"font-style:italic;font-variant:normal;font-weight:normal;font-stretch:normal;font-size:3.17499px;line-height:0%;font-family:'Times New Roman';-inkscape-font-specification:'Times New Roman Italic';text-align:start;writing-mode:lr-tb;text-anchor:start;fill:#343434;fill-opacity:1;stroke:none;stroke-width:0.264584px;stroke-linecap:butt;stroke-linejoin:miter;stroke-opacity:1\" xml:space=\"preserve\"><tspan y=\"59.127743\" x=\"-250.62466\" id=\"tspan3196-55\" sodipodi:role=\"line\" style=\"font-size:6.35001px;line-height:1.25;stroke-width:0.264584px\">x</tspan></text>\n",
       "      <g id=\"g7355-6-3\" transform=\"matrix(0.06549392,-0.09111353,0.09111353,0.06549392,-330.81794,18.893424)\">\n",
       "        <path sodipodi:nodetypes=\"cc\" id=\"path3168-2-5\" d=\"m 246.68381,608.55924 -128.2272,92.17184\" style=\"fill:none;fill-rule:evenodd;stroke:#343434;stroke-width:2.45564;stroke-linecap:butt;stroke-linejoin:miter;stroke-miterlimit:4;stroke-dasharray:none;stroke-opacity:1\"/>\n",
       "        <path sodipodi:nodetypes=\"cccc\" id=\"path2396-3-3\" d=\"m 241.67073,603.76831 16.0721,-3.13989 -8.15346,14.10696 z\" style=\"fill:#343434;fill-opacity:1;fill-rule:evenodd;stroke:none;stroke-width:1.22782px;stroke-linecap:butt;stroke-linejoin:miter;stroke-opacity:1\"/>\n",
       "      </g>\n",
       "      <text id=\"text3194-3-2\" y=\"45.546597\" x=\"-265.21979\" style=\"font-style:italic;font-variant:normal;font-weight:normal;font-stretch:normal;font-size:3.17499px;line-height:0%;font-family:'Times New Roman';-inkscape-font-specification:'Times New Roman Italic';text-align:start;writing-mode:lr-tb;text-anchor:start;fill:#343434;fill-opacity:1;stroke:none;stroke-width:0.264584px;stroke-linecap:butt;stroke-linejoin:miter;stroke-opacity:1\" xml:space=\"preserve\"><tspan y=\"45.546597\" x=\"-265.21979\" id=\"tspan3196-0-9\" sodipodi:role=\"line\" style=\"font-size:6.35001px;line-height:1.25;stroke-width:0.264584px\">y</tspan></text>\n",
       "      <text id=\"text3194-3-8-07-6-2\" y=\"15.344555\" x=\"-254.2948\" style=\"font-style:italic;font-variant:normal;font-weight:normal;font-stretch:normal;font-size:3.17499px;line-height:0%;font-family:'Times New Roman';-inkscape-font-specification:'Times New Roman Italic';text-align:start;writing-mode:lr-tb;text-anchor:start;fill:#de8f05;fill-opacity:1;stroke:none;stroke-width:0.264584px;stroke-linecap:butt;stroke-linejoin:miter;stroke-opacity:1\" xml:space=\"preserve\"><tspan y=\"15.344555\" x=\"-254.2948\" id=\"tspan3196-0-7-2-1-9\" sodipodi:role=\"line\" style=\"font-size:6.35001px;line-height:1.25;fill:#de8f05;fill-opacity:1;stroke-width:0.264584px\">head </tspan></text>\n",
       "      <g id=\"g17097-6-6-3\" transform=\"matrix(0.09979133,0.19099173,0.19099173,-0.09979133,-367.87075,-63.213936)\">\n",
       "        <g id=\"XMLID_248_-7-4-8-7-5\" transform=\"rotate(165,407.53465,304.43696)\">\n",
       "          <g id=\"XMLID_178_-8-8-9-4-8\">\n",
       "            <g id=\"g127-47-9-0-1-1\">\n",
       "              <path class=\"st1\" d=\"m 217.5,286.5 c -1.2,-0.1 -2.9,-1.2 -2.8,-1.7 0.7,-0.3 1.5,-0.6 2.7,-0.7 1,-0.1 2.1,0.3 3.2,0.7 -0.1,0.5 -1.9,1.8 -3.1,1.7 z\" id=\"path103-19-8-5-5-6\" style=\"fill:#6d6e70\"/>\n",
       "              <path class=\"st2\" d=\"m 214.7,284.8 c 0,-0.5 1.7,-0.8 2.9,-0.7 1.2,0.1 2.9,0.2 2.9,0.7 -1,-0.4 -2.2,-0.7 -3.2,-0.7 -1.1,0.1 -1.9,0.4 -2.6,0.7 z\" id=\"path105-8-0-4-6-7\" style=\"fill:#bbbdbf\"/>\n",
       "              <path class=\"st2\" d=\"m 207,279.8 c 0.5,-0.9 2.6,-5.3 6.2,-6.1 3.3,-0.8 7.2,-0.5 8.9,0 1.7,0.5 4.7,2.1 5.8,3.5 0.9,1.4 0.9,5 0,6.3 -0.7,1 -3,2.4 -4.4,2.3 -0.5,0 -1.6,-0.5 -2.9,-1 0,-0.5 -1.7,-0.6 -2.9,-0.7 -1.2,-0.1 -2.9,0.2 -2.9,0.7 -1.3,0.6 -2,1.4 -3.5,1.1 -1.8,-0.4 -4.3,-3.9 -4.7,-5.6 h 0.1 c -0.1,0 -0.1,0.1 0.3,-0.5 z\" id=\"path107-9-2-9-1-3\" style=\"fill:#bbbdbf\"/>\n",
       "              <path class=\"st3\" d=\"m 200.7,276.1 c -4.6,0.7 -9,-1.5 -13.5,-3.4 -4.4,-1.9 -4.8,-3.6 -5.9,-4.7 z\" id=\"path109-0-4-7-7-5\" style=\"fill:#e6e7e8\"/>\n",
       "              <path class=\"st3\" d=\"m 176.7,266 c -1.2,0.5 -2.9,0.6 -5.2,0.1 -3.3,-0.7 -7.3,-2.5 -10.4,-4.6 -2.8,-2.3 -4.5,-5.6 -4.6,-7.9 -0.1,-2.3 3.1,-2.7 7,-3 3.7,-0.7 8.1,-0.6 11.4,0.1 2.4,0.5 3.8,1.3 4.7,2.3 1.6,1.8 1.3,4.2 0.7,7 -0.6,2.7 -1.4,5.1 -3.6,6 z\" id=\"path111-0-8-1-7-2\" style=\"fill:#e6e7e8\"/>\n",
       "              <path class=\"st2\" d=\"m 213.1,273.6 c -3.5,0.9 -5.6,5.3 -6.2,6.1 -0.4,0.6 -0.4,0.6 -0.4,0.6 h -0.1 c 0,0 0,-0.1 0,-0.1 0,0 0,0 0.4,-0.5 0.5,-0.9 2.6,-5.3 6.2,-6.1 3.3,-0.8 7.2,-0.5 8.9,0 1.7,0.5 4.8,2.2 5.8,3.6 0,0 0,0.1 0.1,0.1 -1.1,-1.4 -4.1,-3 -5.8,-3.5 -1.7,-0.7 -5.6,-1 -8.9,-0.2 z\" id=\"path113-12-6-9-8-3\" style=\"fill:#bbbdbf\"/>\n",
       "              <path class=\"st3\" d=\"m 200.7,276.1 -19.4,-8.2 -4.7,-2 c 2.2,-0.9 3,-3.3 3.6,-6 0.6,-2.7 0.9,-5.2 -0.7,-7 v 0 l 5.3,0.2 21,0.6 v 0 c -0.6,0.5 -1.2,1.1 -1.5,1.6 -1.1,2 2.2,1.6 0.8,9 0,0.1 0.1,0.4 0.1,0.5 0.2,0.4 0.5,0.5 0.5,0.5 -0.3,0 -0.4,0 -0.7,0.2 -0.2,0.2 -0.3,0.4 -0.3,0.5 -1.8,7.4 -5.3,5.7 -4.9,8.1 0.2,0.6 0.6,1.4 0.9,2 z\" id=\"path115-1-9-8-8-3\" style=\"fill:#e6e7e8\"/>\n",
       "              <path class=\"st3\" d=\"m 205.9,253.8 -21,-0.6 c 1.4,-0.6 2.5,-2 7.3,-1.9 4.9,0.1 9.8,0 13.7,2.5 z\" id=\"path117-8-0-9-7-3\" style=\"fill:#e6e7e8\"/>\n",
       "              <path class=\"st3\" d=\"m 206.2,279.8 c -1.4,-0.3 -3.6,-1.7 -4.5,-2.6 -0.2,-0.3 -0.6,-0.7 -0.9,-1.1 -0.4,-0.6 -0.8,-1.4 -0.9,-1.9 -0.3,-2.4 3.1,-0.7 4.9,-8.1 0,0 0.1,-0.3 0.3,-0.5 0.3,-0.2 0.4,-0.2 0.7,-0.2 0,0 -0.4,-0.1 -0.5,-0.5 0,-0.1 -0.2,-0.4 -0.1,-0.5 1.4,-7.4 -1.9,-7 -0.8,-9 0.2,-0.5 0.9,-1.1 1.5,-1.6 0.4,-0.3 0.7,-0.5 1,-0.7 1.2,-0.6 3.8,-0.7 5.6,-0.4 v 0.2 c 0,0 0,0 0.1,0.6 0.2,1 0.4,5.9 3.3,8 2.7,2 6.5,3.3 8.2,3.4 1.8,0.2 5.3,-0.2 6.8,-1.1 1.4,-0.9 2.8,-4.3 2.5,-5.9 l 0.1,0.2 c 0,0.3 0,0.6 0,1 0,0 0,0 0,0 0.4,1 0,3.4 0.5,4.4 0.4,0.8 2,1.9 2.3,3.4 0.5,2.9 -0.3,7.3 -2.2,9.6 -1.2,1.5 -3,1.7 -3.8,2.5 -0.5,0.5 -1.3,2.3 -1.9,3.4 0.4,-1.7 0.2,-4.3 -0.5,-5.3 0,0 0,-0.1 -0.1,-0.1 0,0 0,-0.1 -0.1,-0.1 -1,-1.4 -4.1,-3.1 -5.8,-3.6 -1.7,-0.5 -5.6,-0.8 -8.9,0 -3.5,0.9 -5.6,5.3 -6.2,6.1 -0.4,0.6 -0.4,0.5 -0.4,0.5 0,0 0,0.1 0,0.1 l -0.4,-0.1 c 0.1,0.1 0.1,0 0.2,-0.1 z\" id=\"path119-1-5-2-3-1\" style=\"fill:#e6e7e8\"/>\n",
       "              <path class=\"st2\" d=\"m 215.7,261.2 c -2.8,-2.2 -2.9,-7.1 -3,-8.1 -0.1,-0.7 -0.1,-0.7 -0.1,-0.7 1,-1.5 4.8,-3.7 6.7,-3.3 1.4,0.3 1.8,1.3 2.7,2.5 -0.2,0.5 1.2,1.5 2.4,1.9 1.1,0.4 2.7,1 3,0.6 v 0 c 1.3,0.1 2.6,0.1 3.1,0.3 1.2,0.5 2.8,2.7 3,3.9 0.3,1.6 -1.3,4.9 -2.8,5.8 -1.5,0.9 -5,1.1 -6.8,0.8 -1.9,-0.2 -5.6,-1.7 -8.2,-3.7 z\" id=\"path121-0-7-2-2-3\" style=\"fill:#bbbdbf\"/>\n",
       "              <path class=\"st2\" d=\"m 227.3,254.1 c -0.2,0.5 -1.8,-0.2 -3,-0.6 -1.1,-0.4 -2.5,-1.4 -2.4,-1.9 0.5,0.6 1.1,1.2 2.1,1.8 1,0.4 2.2,0.6 3.3,0.7 z\" id=\"path123-5-0-3-0-4\" style=\"fill:#bbbdbf\"/>\n",
       "              <path class=\"st1\" d=\"m 225.2,251.2 c 1.1,0.4 2.2,2.4 2,2.8 v 0 c -1.1,-0.1 -2.3,-0.3 -3.2,-0.7 -1,-0.5 -1.7,-1.2 -2.1,-1.8 0.2,-0.4 2.2,-0.7 3.3,-0.3 z\" id=\"path125-9-1-4-7-5\" style=\"fill:#6d6e70\"/>\n",
       "            </g>\n",
       "            <g id=\"g151-8-9-6-3-1\">\n",
       "              <path class=\"st4\" d=\"m 227.3,254 c 1.3,0.1 2.6,0.1 3.1,0.3 1.2,0.5 2.8,2.7 3,3.9 0.3,1.6 -1.3,4.9 -2.8,5.8 -1.5,0.9 -5,1.1 -6.8,0.8 -1.7,-0.2 -5.4,-1.6 -8.1,-3.7 -2.8,-2.2 -2.9,-7.1 -3,-8.1 -0.1,-0.7 -0.1,-0.7 -0.1,-0.7 1,-1.5 4.8,-3.7 6.7,-3.3 1.4,0.3 1.8,1.3 2.7,2.5\" id=\"path129-9-9-6-7-3\" style=\"fill:none;stroke:#231f20;stroke-width:1.0743;stroke-linejoin:round;stroke-miterlimit:10\"/>\n",
       "              <path class=\"st9\" d=\"m 227.3,254.1 c -0.2,0.5 -1.8,-0.2 -3,-0.6 -1.1,-0.4 -2.5,-1.4 -2.4,-1.9 0.2,-0.5 2.2,-0.8 3.3,-0.3 1.1,0.4 2.2,2.3 2.1,2.8\" id=\"path131-5-3-7-7-9\" style=\"fill:none;stroke:#231f20;stroke-width:1.0743;stroke-linecap:round;stroke-linejoin:round\"/>\n",
       "              <path class=\"st4\" d=\"m 220.5,284.8 c 1.3,0.5 2.4,1 2.9,1 1.3,0 3.7,-1.3 4.4,-2.3 0.9,-1.3 0.9,-4.9 0,-6.3\" id=\"path133-6-6-8-5-3\" style=\"fill:none;stroke:#231f20;stroke-width:1.0743;stroke-linejoin:round;stroke-miterlimit:10\"/>\n",
       "              <path class=\"st4\" d=\"m 206.5,280.3 c 0.4,1.8 2.9,5.2 4.7,5.6 1.4,0.3 2.2,-0.5 3.5,-1.1\" id=\"path135-38-8-7-6-3\" style=\"fill:none;stroke:#231f20;stroke-width:1.0743;stroke-linejoin:round;stroke-miterlimit:10\"/>\n",
       "              <path class=\"st9\" d=\"m 220.5,284.8 c 0,-0.5 -1.7,-0.6 -2.9,-0.7 -1.2,-0.1 -2.9,0.2 -2.9,0.7 0,0.5 1.7,1.6 2.8,1.7 1.2,0.1 3,-1.2 3,-1.7 z\" id=\"path137-7-2-8-5-0\" style=\"fill:none;stroke:#231f20;stroke-width:1.0743;stroke-linecap:round;stroke-linejoin:round\"/>\n",
       "              <line class=\"st4\" x1=\"184.89999\" y1=\"253.10001\" x2=\"179.60001\" y2=\"253\" id=\"line139-8-1-4-8-2\" style=\"fill:none;stroke:#231f20;stroke-width:1.0743;stroke-linejoin:round;stroke-miterlimit:10\"/>\n",
       "              <path class=\"st4\" d=\"m 205.9,253.8 c -3.9,-2.5 -8.8,-2.4 -13.7,-2.5 -4.8,-0.1 -5.9,1.3 -7.3,1.9 z\" id=\"path141-5-7-8-9-6\" style=\"fill:none;stroke:#231f20;stroke-width:1.0743;stroke-linejoin:round;stroke-miterlimit:10\"/>\n",
       "              <path class=\"st4\" d=\"m 181.4,268 c 1.1,1.1 1.4,2.9 5.9,4.7 4.5,1.9 8.9,4.1 13.5,3.4 z\" id=\"path143-3-7-3-8-3\" style=\"fill:none;stroke:#231f20;stroke-width:1.0743;stroke-linejoin:round;stroke-miterlimit:10\"/>\n",
       "              <line class=\"st4\" x1=\"176.7\" y1=\"266\" x2=\"181.39999\" y2=\"268\" id=\"line145-7-3-8-0-0\" style=\"fill:none;stroke:#231f20;stroke-width:1.0743;stroke-linejoin:round;stroke-miterlimit:10\"/>\n",
       "              <path class=\"st4\" d=\"m 227.8,277.2 c 0,0 0,0 0,0 0.8,1.1 1,3.7 0.6,5.4 0.6,-1.1 1.4,-2.9 1.9,-3.4 0.8,-0.8 2.6,-1.1 3.8,-2.5 1.9,-2.3 2.7,-6.7 2.2,-9.6 -0.2,-1.5 -1.9,-2.6 -2.3,-3.4 -0.5,-0.9 -0.1,-3.4 -0.5,-4.4 0,0 0,0 0,0 0.1,-0.4 0.1,-0.7 0,-1 l -0.1,-0.2 c 0.3,1.6 -1.1,5 -2.5,5.9 -1.5,0.9 -5,1.3 -6.8,1.1 -1.7,-0.1 -5.5,-1.4 -8.2,-3.4 -2.9,-2.1 -3.2,-7 -3.3,-8 -0.1,-0.7 -0.1,-0.6 -0.1,-0.6 v -0.2 c -1.7,-0.3 -4.4,-0.1 -5.6,0.4 -0.3,0.1 -0.7,0.4 -1,0.7 -0.6,0.5 -1.2,1.1 -1.5,1.6 -1.1,2 2.2,1.6 0.8,9 0,0.1 0.1,0.4 0.1,0.5 0.2,0.4 0.5,0.5 0.5,0.5 -0.3,0 -0.4,0 -0.7,0.2 -0.2,0.2 -0.3,0.4 -0.3,0.5 -1.8,7.4 -5.3,5.7 -4.9,8.1 0.1,0.5 0.5,1.2 0.9,1.9 0.3,0.4 0.6,0.8 0.9,1.1 0.9,0.9 3.1,2.3 4.5,2.6 0,0.1 -0.1,0.2 -0.1,0.3 l 0.4,0.1 h 0.1 c 0,0 0,0 0.4,-0.6 0.5,-0.9 2.6,-5.3 6.2,-6.1 3.3,-0.8 7.2,-0.5 8.9,0 1.6,0.5 4.6,2.1 5.7,3.5 z\" id=\"path147-3-7-9-1-7\" style=\"fill:none;stroke:#231f20;stroke-width:1.0743;stroke-linejoin:round;stroke-miterlimit:10\"/>\n",
       "              <path class=\"st4\" d=\"m 176.7,266 c -1.2,0.5 -2.9,0.6 -5.2,0.1 -3.3,-0.7 -7.3,-2.5 -10.4,-4.6 -2.8,-2.3 -4.5,-5.6 -4.6,-7.9 -0.1,-2.3 3.1,-2.7 7,-3 3.7,-0.7 8.1,-0.6 11.4,0.1 2.4,0.5 3.8,1.3 4.7,2.3 1.6,1.8 1.3,4.2 0.7,7 -0.6,2.7 -1.4,5.1 -3.6,6 z\" id=\"path149-6-1-7-1-3\" style=\"fill:none;stroke:#231f20;stroke-width:1.0743;stroke-linejoin:round;stroke-miterlimit:10\"/>\n",
       "            </g>\n",
       "          </g>\n",
       "          <path id=\"XMLID_255_-25-1-0-6-1\" class=\"st10\" d=\"M 160.5,261.2 C 99.5,247.9 55.7,197.8 66.1,150.3 l 0.2,-1.1 c 0.6,-2.6 2.6,-4.4 4,-4.1 1.4,0.3 -0.5,2.1 -1,4.7 -10.4,47.5 32.3,87.3 93.3,100.7 0,0 -5.6,0.2 -6.1,2.6 -0.6,2.5 4,8.1 4,8.1 z\" style=\"fill:#e6e7e8;stroke:#231f20;stroke-width:1.0743;stroke-linejoin:round;stroke-miterlimit:10\"/>\n",
       "        </g>\n",
       "        <ellipse style=\"opacity:0.52;fill:#0173b2;fill-opacity:1;stroke:none;stroke-width:0.137951\" id=\"path1342-5-1-0-3-7-7-7\" cx=\"718.81183\" cy=\"297.10211\" rx=\"3.1985385\" ry=\"3.1414216\"/>\n",
       "        <ellipse style=\"opacity:0.68;fill:#0173b2;fill-opacity:1;stroke:none;stroke-width:0.137951\" id=\"path1342-4-4-3-5-2-7-9-4-5\" cx=\"746.15784\" cy=\"312.41629\" rx=\"3.1985385\" ry=\"3.1414216\"/>\n",
       "        <ellipse style=\"opacity:0.36;fill:#0173b2;fill-opacity:1;stroke:none;stroke-width:0.137951\" id=\"path1342-4-2-1-5-11-8-6-1-0\" cx=\"690.53198\" cy=\"289.70984\" rx=\"3.1985385\" ry=\"3.1414216\"/>\n",
       "        <ellipse style=\"fill:#0173b2;fill-opacity:1;stroke:none;stroke-width:0.137951\" id=\"path1342-0-2-3-0-9-3-2-4-1\" cx=\"775.63751\" cy=\"366.763\" rx=\"3.1985385\" ry=\"3.1414216\"/>\n",
       "        <ellipse style=\"opacity:0.2;fill:#0173b2;fill-opacity:1;stroke:none;stroke-width:0.137951\" id=\"path1342-0-2-9-0-4-9-4-0-6-6\" cx=\"659.45081\" cy=\"288.5112\" rx=\"3.1985385\" ry=\"3.1414216\"/>\n",
       "        <ellipse style=\"opacity:0.84;fill:#0173b2;fill-opacity:1;stroke:none;stroke-width:0.137951\" id=\"path1342-4-3-9-2-02-9-3-6-9\" cx=\"768.2746\" cy=\"337.25516\" rx=\"3.1985385\" ry=\"3.1414216\"/>\n",
       "      </g>\n",
       "      <ellipse style=\"fill:#de8f05;fill-opacity:1;stroke:none;stroke-width:0.0297271\" id=\"path1342-0-2-3-0-5-7-7-7-8-7-3\" cx=\"-192.71169\" cy=\"165.17314\" rx=\"0.68925464\" ry=\"0.67694646\" transform=\"rotate(35.709207)\"/>\n",
       "      <g id=\"g9587\" transform=\"translate(-200.24863,223.90097)\">\n",
       "        <text id=\"text3194-3-8-07-6-2-6\" y=\"-213.63268\" x=\"-36.728233\" style=\"font-style:italic;font-variant:normal;font-weight:normal;font-stretch:normal;font-size:3.17499px;line-height:0%;font-family:'Times New Roman';-inkscape-font-specification:'Times New Roman Italic';text-align:start;writing-mode:lr-tb;text-anchor:start;fill:#de8f05;fill-opacity:1;stroke:none;stroke-width:0.264584px;stroke-linecap:butt;stroke-linejoin:miter;stroke-opacity:1\" xml:space=\"preserve\"><tspan y=\"-213.63268\" x=\"-36.728233\" id=\"tspan3196-0-7-2-1-9-4\" sodipodi:role=\"line\" style=\"font-size:6.35001px;line-height:1.25;fill:#de8f05;fill-opacity:1;stroke-width:0.264584px\">x</tspan><tspan y=\"-205.69516\" x=\"-36.728233\" sodipodi:role=\"line\" style=\"font-size:6.35001px;line-height:1.25;fill:#de8f05;fill-opacity:1;stroke-width:0.264584px\" id=\"tspan9552\">y</tspan></text>\n",
       "        <text id=\"text3194-3-8-07-6-2-8\" y=\"-127.80378\" x=\"-64.774483\" style=\"font-style:italic;font-variant:normal;font-weight:normal;font-stretch:normal;font-size:5.14117px;line-height:0%;font-family:'Times New Roman';-inkscape-font-specification:'Times New Roman Italic';text-align:start;writing-mode:lr-tb;text-anchor:start;fill:#de8f05;fill-opacity:1;stroke:none;stroke-width:0.428432px;stroke-linecap:butt;stroke-linejoin:miter;stroke-opacity:1\" xml:space=\"preserve\" transform=\"scale(0.61756235,1.6192697)\"><tspan y=\"-127.80378\" x=\"-64.774483\" id=\"tspan3196-0-7-2-1-9-0\" sodipodi:role=\"line\" style=\"font-style:normal;font-variant:normal;font-weight:normal;font-stretch:normal;font-size:10.2824px;line-height:1.25;font-family:'Times New Roman';-inkscape-font-specification:'Times New Roman, ';fill:#de8f05;fill-opacity:1;stroke-width:0.428432px\">(   )</tspan></text>\n",
       "      </g>\n",
       "      <text id=\"text3194-3-8-0-6-0\" y=\"42.802135\" x=\"-227.21571\" style=\"font-style:italic;font-variant:normal;font-weight:normal;font-stretch:normal;font-size:3.17499px;line-height:0%;font-family:'Times New Roman';-inkscape-font-specification:'Times New Roman Italic';text-align:start;writing-mode:lr-tb;text-anchor:start;fill:#0173b2;fill-opacity:1;stroke:none;stroke-width:0.264584px;stroke-linecap:butt;stroke-linejoin:miter;stroke-opacity:1\" xml:space=\"preserve\"><tspan y=\"42.802135\" x=\"-227.21571\" id=\"tspan3196-0-7-4-0-0\" sodipodi:role=\"line\" style=\"font-size:6.35001px;line-height:1.25;fill:#0173b2;fill-opacity:1;stroke-width:0.264584px\">tail </tspan></text>\n",
       "      <text id=\"text3194-3-8-07-6-2-8-3\" y=\"27.841129\" x=\"-351.27084\" style=\"font-style:italic;font-variant:normal;font-weight:normal;font-stretch:normal;font-size:5.14117px;line-height:0%;font-family:'Times New Roman';-inkscape-font-specification:'Times New Roman Italic';text-align:start;writing-mode:lr-tb;text-anchor:start;fill:#0173b2;fill-opacity:1;stroke:none;stroke-width:0.428432px;stroke-linecap:butt;stroke-linejoin:miter;stroke-opacity:1\" xml:space=\"preserve\" transform=\"scale(0.61756235,1.6192697)\"><tspan y=\"27.841129\" x=\"-351.27084\" id=\"tspan3196-0-7-2-1-9-0-5\" sodipodi:role=\"line\" style=\"font-size:10.2824px;line-height:1.25;fill:#0173b2;fill-opacity:1;stroke-width:0.428432px\"><tspan style=\"font-style:normal;font-variant:normal;font-weight:normal;font-stretch:normal;font-family:'Times New Roman';-inkscape-font-specification:'Times New Roman, '\" id=\"tspan10662\">(</tspan>             <tspan style=\"font-style:normal;font-variant:normal;font-weight:normal;font-stretch:normal;font-family:'Times New Roman';-inkscape-font-specification:'Times New Roman, '\" id=\"tspan10664\">)</tspan></tspan></text>\n",
       "      <text id=\"text3194-3-8-07-6-2-6-6\" y=\"38.398407\" x=\"-213.65759\" style=\"font-style:italic;font-variant:normal;font-weight:normal;font-stretch:normal;font-size:3.17499px;line-height:0%;font-family:'Times New Roman';-inkscape-font-specification:'Times New Roman Italic';text-align:start;writing-mode:lr-tb;text-anchor:start;fill:#0173b2;fill-opacity:1;stroke:none;stroke-width:0.264584px;stroke-linecap:butt;stroke-linejoin:miter;stroke-opacity:1\" xml:space=\"preserve\"><tspan y=\"38.398407\" x=\"-213.65759\" id=\"tspan3196-0-7-2-1-9-4-6\" sodipodi:role=\"line\" style=\"font-size:6.35001px;line-height:1.25;fill:#0173b2;fill-opacity:1;stroke-width:0.264584px\">x<tspan style=\"font-size:65%;baseline-shift:sub;fill:#0173b2;fill-opacity:1\" id=\"tspan9709\">1</tspan>,...,x<tspan style=\"font-size:65%;baseline-shift:sub\" id=\"tspan10756\">6</tspan></tspan><tspan y=\"46.335918\" x=\"-213.65759\" sodipodi:role=\"line\" style=\"font-size:6.35001px;line-height:1.25;fill:#0173b2;fill-opacity:1;stroke-width:0.264584px\" id=\"tspan9552-3\">y<tspan style=\"font-size:65%;baseline-shift:sub;fill:#0173b2;fill-opacity:1\" id=\"tspan9711\">1</tspan>,...,y<tspan style=\"font-size:65%;baseline-shift:sub\" id=\"tspan10754\">6</tspan></tspan></text>\n",
       "    </g>\n",
       "    <g id=\"g15424\" transform=\"translate(26.913019,95.88165)\">\n",
       "      <g id=\"g7355-8-1-0\" transform=\"matrix(0.09111353,0.06549392,-0.06549392,0.09111353,-159.7496,36.462239)\">\n",
       "        <path sodipodi:nodetypes=\"cc\" id=\"path3168-7-9-6\" d=\"m 246.68381,608.55924 -128.2272,92.17184\" style=\"fill:none;fill-rule:evenodd;stroke:#343434;stroke-width:2.45564;stroke-linecap:butt;stroke-linejoin:miter;stroke-miterlimit:4;stroke-dasharray:none;stroke-opacity:1\"/>\n",
       "        <path sodipodi:nodetypes=\"cccc\" id=\"path2396-4-2-3\" d=\"m 241.67073,603.76831 16.0721,-3.13989 -8.15346,14.10696 z\" style=\"fill:#343434;fill-opacity:1;fill-rule:evenodd;stroke:none;stroke-width:1.22782px;stroke-linecap:butt;stroke-linejoin:miter;stroke-opacity:1\"/>\n",
       "      </g>\n",
       "      <text id=\"text3194-5-2-1\" y=\"113.20023\" x=\"-186.26125\" style=\"font-style:italic;font-variant:normal;font-weight:normal;font-stretch:normal;font-size:3.17499px;line-height:0%;font-family:'Times New Roman';-inkscape-font-specification:'Times New Roman Italic';text-align:start;writing-mode:lr-tb;text-anchor:start;fill:#343434;fill-opacity:1;stroke:none;stroke-width:0.264584px;stroke-linecap:butt;stroke-linejoin:miter;stroke-opacity:1\" xml:space=\"preserve\"><tspan y=\"113.20023\" x=\"-186.26125\" id=\"tspan3196-55-7-3\" sodipodi:role=\"line\" style=\"font-size:6.35001px;line-height:1.25;stroke-width:0.264584px\">x</tspan></text>\n",
       "      <g id=\"g7355-6-3-9-0\" transform=\"matrix(0.06549392,-0.09111353,0.09111353,0.06549392,-266.45442,72.965889)\">\n",
       "        <path sodipodi:nodetypes=\"cc\" id=\"path3168-2-5-5-9\" d=\"m 246.68381,608.55924 -128.2272,92.17184\" style=\"fill:none;fill-rule:evenodd;stroke:#343434;stroke-width:2.45564;stroke-linecap:butt;stroke-linejoin:miter;stroke-miterlimit:4;stroke-dasharray:none;stroke-opacity:1\"/>\n",
       "        <path sodipodi:nodetypes=\"cccc\" id=\"path2396-3-3-7-7\" d=\"m 241.67073,603.76831 16.0721,-3.13989 -8.15346,14.10696 z\" style=\"fill:#343434;fill-opacity:1;fill-rule:evenodd;stroke:none;stroke-width:1.22782px;stroke-linecap:butt;stroke-linejoin:miter;stroke-opacity:1\"/>\n",
       "      </g>\n",
       "      <text id=\"text3194-3-2-5-6\" y=\"99.61908\" x=\"-200.85635\" style=\"font-style:italic;font-variant:normal;font-weight:normal;font-stretch:normal;font-size:3.17499px;line-height:0%;font-family:'Times New Roman';-inkscape-font-specification:'Times New Roman Italic';text-align:start;writing-mode:lr-tb;text-anchor:start;fill:#343434;fill-opacity:1;stroke:none;stroke-width:0.264584px;stroke-linecap:butt;stroke-linejoin:miter;stroke-opacity:1\" xml:space=\"preserve\"><tspan y=\"99.61908\" x=\"-200.85635\" id=\"tspan3196-0-9-5-5\" sodipodi:role=\"line\" style=\"font-size:6.35001px;line-height:1.25;stroke-width:0.264584px\">y</tspan></text>\n",
       "      <g id=\"g17097-6-6-3-4-6-3\" transform=\"matrix(0.21546626,-0.00323139,-0.00323139,-0.21546626,-312.28837,161.68836)\">\n",
       "        <g id=\"XMLID_248_-7-4-8-7-5-7-0-5\" transform=\"rotate(165,407.53465,304.43696)\">\n",
       "          <g id=\"XMLID_178_-8-8-9-4-8-3-9-2\">\n",
       "            <g id=\"g127-47-9-0-1-1-3-3-1\">\n",
       "              <path class=\"st1\" d=\"m 217.5,286.5 c -1.2,-0.1 -2.9,-1.2 -2.8,-1.7 0.7,-0.3 1.5,-0.6 2.7,-0.7 1,-0.1 2.1,0.3 3.2,0.7 -0.1,0.5 -1.9,1.8 -3.1,1.7 z\" id=\"path103-19-8-5-5-6-7-8-5\" style=\"fill:#6d6e70\"/>\n",
       "              <path class=\"st2\" d=\"m 214.7,284.8 c 0,-0.5 1.7,-0.8 2.9,-0.7 1.2,0.1 2.9,0.2 2.9,0.7 -1,-0.4 -2.2,-0.7 -3.2,-0.7 -1.1,0.1 -1.9,0.4 -2.6,0.7 z\" id=\"path105-8-0-4-6-7-8-9-1\" style=\"fill:#bbbdbf\"/>\n",
       "              <path class=\"st2\" d=\"m 207,279.8 c 0.5,-0.9 2.6,-5.3 6.2,-6.1 3.3,-0.8 7.2,-0.5 8.9,0 1.7,0.5 4.7,2.1 5.8,3.5 0.9,1.4 0.9,5 0,6.3 -0.7,1 -3,2.4 -4.4,2.3 -0.5,0 -1.6,-0.5 -2.9,-1 0,-0.5 -1.7,-0.6 -2.9,-0.7 -1.2,-0.1 -2.9,0.2 -2.9,0.7 -1.3,0.6 -2,1.4 -3.5,1.1 -1.8,-0.4 -4.3,-3.9 -4.7,-5.6 h 0.1 c -0.1,0 -0.1,0.1 0.3,-0.5 z\" id=\"path107-9-2-9-1-3-7-5-3\" style=\"fill:#bbbdbf\"/>\n",
       "              <path class=\"st3\" d=\"m 200.7,276.1 c -4.6,0.7 -9,-1.5 -13.5,-3.4 -4.4,-1.9 -4.8,-3.6 -5.9,-4.7 z\" id=\"path109-0-4-7-7-5-6-2-7\" style=\"fill:#e6e7e8\"/>\n",
       "              <path class=\"st3\" d=\"m 176.7,266 c -1.2,0.5 -2.9,0.6 -5.2,0.1 -3.3,-0.7 -7.3,-2.5 -10.4,-4.6 -2.8,-2.3 -4.5,-5.6 -4.6,-7.9 -0.1,-2.3 3.1,-2.7 7,-3 3.7,-0.7 8.1,-0.6 11.4,0.1 2.4,0.5 3.8,1.3 4.7,2.3 1.6,1.8 1.3,4.2 0.7,7 -0.6,2.7 -1.4,5.1 -3.6,6 z\" id=\"path111-0-8-1-7-2-3-3-9\" style=\"fill:#e6e7e8\"/>\n",
       "              <path class=\"st2\" d=\"m 213.1,273.6 c -3.5,0.9 -5.6,5.3 -6.2,6.1 -0.4,0.6 -0.4,0.6 -0.4,0.6 h -0.1 c 0,0 0,-0.1 0,-0.1 0,0 0,0 0.4,-0.5 0.5,-0.9 2.6,-5.3 6.2,-6.1 3.3,-0.8 7.2,-0.5 8.9,0 1.7,0.5 4.8,2.2 5.8,3.6 0,0 0,0.1 0.1,0.1 -1.1,-1.4 -4.1,-3 -5.8,-3.5 -1.7,-0.7 -5.6,-1 -8.9,-0.2 z\" id=\"path113-12-6-9-8-3-6-1-5\" style=\"fill:#bbbdbf\"/>\n",
       "              <path class=\"st3\" d=\"m 200.7,276.1 -19.4,-8.2 -4.7,-2 c 2.2,-0.9 3,-3.3 3.6,-6 0.6,-2.7 0.9,-5.2 -0.7,-7 v 0 l 5.3,0.2 21,0.6 v 0 c -0.6,0.5 -1.2,1.1 -1.5,1.6 -1.1,2 2.2,1.6 0.8,9 0,0.1 0.1,0.4 0.1,0.5 0.2,0.4 0.5,0.5 0.5,0.5 -0.3,0 -0.4,0 -0.7,0.2 -0.2,0.2 -0.3,0.4 -0.3,0.5 -1.8,7.4 -5.3,5.7 -4.9,8.1 0.2,0.6 0.6,1.4 0.9,2 z\" id=\"path115-1-9-8-8-3-6-4-1\" style=\"fill:#e6e7e8\"/>\n",
       "              <path class=\"st3\" d=\"m 205.9,253.8 -21,-0.6 c 1.4,-0.6 2.5,-2 7.3,-1.9 4.9,0.1 9.8,0 13.7,2.5 z\" id=\"path117-8-0-9-7-3-2-7-1\" style=\"fill:#e6e7e8\"/>\n",
       "              <path class=\"st3\" d=\"m 206.2,279.8 c -1.4,-0.3 -3.6,-1.7 -4.5,-2.6 -0.2,-0.3 -0.6,-0.7 -0.9,-1.1 -0.4,-0.6 -0.8,-1.4 -0.9,-1.9 -0.3,-2.4 3.1,-0.7 4.9,-8.1 0,0 0.1,-0.3 0.3,-0.5 0.3,-0.2 0.4,-0.2 0.7,-0.2 0,0 -0.4,-0.1 -0.5,-0.5 0,-0.1 -0.2,-0.4 -0.1,-0.5 1.4,-7.4 -1.9,-7 -0.8,-9 0.2,-0.5 0.9,-1.1 1.5,-1.6 0.4,-0.3 0.7,-0.5 1,-0.7 1.2,-0.6 3.8,-0.7 5.6,-0.4 v 0.2 c 0,0 0,0 0.1,0.6 0.2,1 0.4,5.9 3.3,8 2.7,2 6.5,3.3 8.2,3.4 1.8,0.2 5.3,-0.2 6.8,-1.1 1.4,-0.9 2.8,-4.3 2.5,-5.9 l 0.1,0.2 c 0,0.3 0,0.6 0,1 0,0 0,0 0,0 0.4,1 0,3.4 0.5,4.4 0.4,0.8 2,1.9 2.3,3.4 0.5,2.9 -0.3,7.3 -2.2,9.6 -1.2,1.5 -3,1.7 -3.8,2.5 -0.5,0.5 -1.3,2.3 -1.9,3.4 0.4,-1.7 0.2,-4.3 -0.5,-5.3 0,0 0,-0.1 -0.1,-0.1 0,0 0,-0.1 -0.1,-0.1 -1,-1.4 -4.1,-3.1 -5.8,-3.6 -1.7,-0.5 -5.6,-0.8 -8.9,0 -3.5,0.9 -5.6,5.3 -6.2,6.1 -0.4,0.6 -0.4,0.5 -0.4,0.5 0,0 0,0.1 0,0.1 l -0.4,-0.1 c 0.1,0.1 0.1,0 0.2,-0.1 z\" id=\"path119-1-5-2-3-1-4-1-5\" style=\"fill:#e6e7e8\"/>\n",
       "              <path class=\"st2\" d=\"m 215.7,261.2 c -2.8,-2.2 -2.9,-7.1 -3,-8.1 -0.1,-0.7 -0.1,-0.7 -0.1,-0.7 1,-1.5 4.8,-3.7 6.7,-3.3 1.4,0.3 1.8,1.3 2.7,2.5 -0.2,0.5 1.2,1.5 2.4,1.9 1.1,0.4 2.7,1 3,0.6 v 0 c 1.3,0.1 2.6,0.1 3.1,0.3 1.2,0.5 2.8,2.7 3,3.9 0.3,1.6 -1.3,4.9 -2.8,5.8 -1.5,0.9 -5,1.1 -6.8,0.8 -1.9,-0.2 -5.6,-1.7 -8.2,-3.7 z\" id=\"path121-0-7-2-2-3-7-7-4\" style=\"fill:#bbbdbf\"/>\n",
       "              <path class=\"st2\" d=\"m 227.3,254.1 c -0.2,0.5 -1.8,-0.2 -3,-0.6 -1.1,-0.4 -2.5,-1.4 -2.4,-1.9 0.5,0.6 1.1,1.2 2.1,1.8 1,0.4 2.2,0.6 3.3,0.7 z\" id=\"path123-5-0-3-0-4-7-2-2\" style=\"fill:#bbbdbf\"/>\n",
       "              <path class=\"st1\" d=\"m 225.2,251.2 c 1.1,0.4 2.2,2.4 2,2.8 v 0 c -1.1,-0.1 -2.3,-0.3 -3.2,-0.7 -1,-0.5 -1.7,-1.2 -2.1,-1.8 0.2,-0.4 2.2,-0.7 3.3,-0.3 z\" id=\"path125-9-1-4-7-5-7-5-3\" style=\"fill:#6d6e70\"/>\n",
       "            </g>\n",
       "            <g id=\"g151-8-9-6-3-1-0-9-9\">\n",
       "              <path class=\"st4\" d=\"m 227.3,254 c 1.3,0.1 2.6,0.1 3.1,0.3 1.2,0.5 2.8,2.7 3,3.9 0.3,1.6 -1.3,4.9 -2.8,5.8 -1.5,0.9 -5,1.1 -6.8,0.8 -1.7,-0.2 -5.4,-1.6 -8.1,-3.7 -2.8,-2.2 -2.9,-7.1 -3,-8.1 -0.1,-0.7 -0.1,-0.7 -0.1,-0.7 1,-1.5 4.8,-3.7 6.7,-3.3 1.4,0.3 1.8,1.3 2.7,2.5\" id=\"path129-9-9-6-7-3-4-9-0\" style=\"fill:none;stroke:#231f20;stroke-width:1.0743;stroke-linejoin:round;stroke-miterlimit:10\"/>\n",
       "              <path class=\"st9\" d=\"m 227.3,254.1 c -0.2,0.5 -1.8,-0.2 -3,-0.6 -1.1,-0.4 -2.5,-1.4 -2.4,-1.9 0.2,-0.5 2.2,-0.8 3.3,-0.3 1.1,0.4 2.2,2.3 2.1,2.8\" id=\"path131-5-3-7-7-9-6-7-3\" style=\"fill:none;stroke:#231f20;stroke-width:1.0743;stroke-linecap:round;stroke-linejoin:round\"/>\n",
       "              <path class=\"st4\" d=\"m 220.5,284.8 c 1.3,0.5 2.4,1 2.9,1 1.3,0 3.7,-1.3 4.4,-2.3 0.9,-1.3 0.9,-4.9 0,-6.3\" id=\"path133-6-6-8-5-3-0-3-5\" style=\"fill:none;stroke:#231f20;stroke-width:1.0743;stroke-linejoin:round;stroke-miterlimit:10\"/>\n",
       "              <path class=\"st4\" d=\"m 206.5,280.3 c 0.4,1.8 2.9,5.2 4.7,5.6 1.4,0.3 2.2,-0.5 3.5,-1.1\" id=\"path135-38-8-7-6-3-8-2-5\" style=\"fill:none;stroke:#231f20;stroke-width:1.0743;stroke-linejoin:round;stroke-miterlimit:10\"/>\n",
       "              <path class=\"st9\" d=\"m 220.5,284.8 c 0,-0.5 -1.7,-0.6 -2.9,-0.7 -1.2,-0.1 -2.9,0.2 -2.9,0.7 0,0.5 1.7,1.6 2.8,1.7 1.2,0.1 3,-1.2 3,-1.7 z\" id=\"path137-7-2-8-5-0-7-1-5\" style=\"fill:none;stroke:#231f20;stroke-width:1.0743;stroke-linecap:round;stroke-linejoin:round\"/>\n",
       "              <line class=\"st4\" x1=\"184.89999\" y1=\"253.10001\" x2=\"179.60001\" y2=\"253\" id=\"line139-8-1-4-8-2-4-4-4\" style=\"fill:none;stroke:#231f20;stroke-width:1.0743;stroke-linejoin:round;stroke-miterlimit:10\"/>\n",
       "              <path class=\"st4\" d=\"m 205.9,253.8 c -3.9,-2.5 -8.8,-2.4 -13.7,-2.5 -4.8,-0.1 -5.9,1.3 -7.3,1.9 z\" id=\"path141-5-7-8-9-6-9-7-2\" style=\"fill:none;stroke:#231f20;stroke-width:1.0743;stroke-linejoin:round;stroke-miterlimit:10\"/>\n",
       "              <path class=\"st4\" d=\"m 181.4,268 c 1.1,1.1 1.4,2.9 5.9,4.7 4.5,1.9 8.9,4.1 13.5,3.4 z\" id=\"path143-3-7-3-8-3-5-3-7\" style=\"fill:none;stroke:#231f20;stroke-width:1.0743;stroke-linejoin:round;stroke-miterlimit:10\"/>\n",
       "              <line class=\"st4\" x1=\"176.7\" y1=\"266\" x2=\"181.39999\" y2=\"268\" id=\"line145-7-3-8-0-0-9-5-0\" style=\"fill:none;stroke:#231f20;stroke-width:1.0743;stroke-linejoin:round;stroke-miterlimit:10\"/>\n",
       "              <path class=\"st4\" d=\"m 227.8,277.2 c 0,0 0,0 0,0 0.8,1.1 1,3.7 0.6,5.4 0.6,-1.1 1.4,-2.9 1.9,-3.4 0.8,-0.8 2.6,-1.1 3.8,-2.5 1.9,-2.3 2.7,-6.7 2.2,-9.6 -0.2,-1.5 -1.9,-2.6 -2.3,-3.4 -0.5,-0.9 -0.1,-3.4 -0.5,-4.4 0,0 0,0 0,0 0.1,-0.4 0.1,-0.7 0,-1 l -0.1,-0.2 c 0.3,1.6 -1.1,5 -2.5,5.9 -1.5,0.9 -5,1.3 -6.8,1.1 -1.7,-0.1 -5.5,-1.4 -8.2,-3.4 -2.9,-2.1 -3.2,-7 -3.3,-8 -0.1,-0.7 -0.1,-0.6 -0.1,-0.6 v -0.2 c -1.7,-0.3 -4.4,-0.1 -5.6,0.4 -0.3,0.1 -0.7,0.4 -1,0.7 -0.6,0.5 -1.2,1.1 -1.5,1.6 -1.1,2 2.2,1.6 0.8,9 0,0.1 0.1,0.4 0.1,0.5 0.2,0.4 0.5,0.5 0.5,0.5 -0.3,0 -0.4,0 -0.7,0.2 -0.2,0.2 -0.3,0.4 -0.3,0.5 -1.8,7.4 -5.3,5.7 -4.9,8.1 0.1,0.5 0.5,1.2 0.9,1.9 0.3,0.4 0.6,0.8 0.9,1.1 0.9,0.9 3.1,2.3 4.5,2.6 0,0.1 -0.1,0.2 -0.1,0.3 l 0.4,0.1 h 0.1 c 0,0 0,0 0.4,-0.6 0.5,-0.9 2.6,-5.3 6.2,-6.1 3.3,-0.8 7.2,-0.5 8.9,0 1.6,0.5 4.6,2.1 5.7,3.5 z\" id=\"path147-3-7-9-1-7-8-8-8\" style=\"fill:none;stroke:#231f20;stroke-width:1.0743;stroke-linejoin:round;stroke-miterlimit:10\"/>\n",
       "              <path class=\"st4\" d=\"m 176.7,266 c -1.2,0.5 -2.9,0.6 -5.2,0.1 -3.3,-0.7 -7.3,-2.5 -10.4,-4.6 -2.8,-2.3 -4.5,-5.6 -4.6,-7.9 -0.1,-2.3 3.1,-2.7 7,-3 3.7,-0.7 8.1,-0.6 11.4,0.1 2.4,0.5 3.8,1.3 4.7,2.3 1.6,1.8 1.3,4.2 0.7,7 -0.6,2.7 -1.4,5.1 -3.6,6 z\" id=\"path149-6-1-7-1-3-6-9-0\" style=\"fill:none;stroke:#231f20;stroke-width:1.0743;stroke-linejoin:round;stroke-miterlimit:10\"/>\n",
       "            </g>\n",
       "          </g>\n",
       "          <path id=\"XMLID_255_-25-1-0-6-1-3-5-9\" class=\"st10\" d=\"M 160.5,261.2 C 99.5,247.9 55.7,197.8 66.1,150.3 l 0.2,-1.1 c 0.6,-2.6 2.6,-4.4 4,-4.1 1.4,0.3 -0.5,2.1 -1,4.7 -10.4,47.5 32.3,87.3 93.3,100.7 0,0 -5.6,0.2 -6.1,2.6 -0.6,2.5 4,8.1 4,8.1 z\" style=\"fill:#e6e7e8;stroke:#231f20;stroke-width:1.0743;stroke-linejoin:round;stroke-miterlimit:10\"/>\n",
       "        </g>\n",
       "        <ellipse style=\"opacity:0.52;fill:#0173b2;fill-opacity:1;stroke:none;stroke-width:0.137951\" id=\"path1342-5-1-0-3-7-7-7-7-7-2\" cx=\"718.81183\" cy=\"297.10211\" rx=\"3.1985385\" ry=\"3.1414216\"/>\n",
       "        <ellipse style=\"opacity:0.68;fill:#0173b2;fill-opacity:1;stroke:none;stroke-width:0.137951\" id=\"path1342-4-4-3-5-2-7-9-4-5-0-3-5\" cx=\"746.15784\" cy=\"312.41629\" rx=\"3.1985385\" ry=\"3.1414216\"/>\n",
       "        <ellipse style=\"opacity:0.36;fill:#0173b2;fill-opacity:1;stroke:none;stroke-width:0.137951\" id=\"path1342-4-2-1-5-11-8-6-1-0-1-6-1\" cx=\"690.53198\" cy=\"289.70984\" rx=\"3.1985385\" ry=\"3.1414216\"/>\n",
       "        <ellipse style=\"fill:#0173b2;fill-opacity:1;stroke:none;stroke-width:0.137951\" id=\"path1342-0-2-3-0-9-3-2-4-1-3-0-3\" cx=\"775.63751\" cy=\"366.763\" rx=\"3.1985385\" ry=\"3.1414216\"/>\n",
       "        <ellipse style=\"opacity:0.2;fill:#0173b2;fill-opacity:1;stroke:none;stroke-width:0.137951\" id=\"path1342-0-2-9-0-4-9-4-0-6-6-9-0-3\" cx=\"659.45081\" cy=\"288.5112\" rx=\"3.1985385\" ry=\"3.1414216\"/>\n",
       "        <ellipse style=\"opacity:0.84;fill:#0173b2;fill-opacity:1;stroke:none;stroke-width:0.137951\" id=\"path1342-4-3-9-2-02-9-3-6-9-9-8-3\" cx=\"768.2746\" cy=\"337.25516\" rx=\"3.1985385\" ry=\"3.1414216\"/>\n",
       "      </g>\n",
       "      <g id=\"g7355-2-8-1-6-2-3-1\" transform=\"matrix(0.05302779,0.03784424,-0.03784424,0.05302779,-138.2234,53.762874)\" inkscape:transform-center-x=\"3.228\" inkscape:transform-center-y=\"-3.6163845\">\n",
       "        <path sodipodi:nodetypes=\"cc\" id=\"path3168-23-0-4-1-7-0-4\" d=\"m 246.68381,608.55924 -128.2272,92.17184\" style=\"fill:none;fill-rule:evenodd;stroke:#0173b2;stroke-width:4.60497;stroke-linecap:butt;stroke-linejoin:miter;stroke-miterlimit:4;stroke-dasharray:none;stroke-opacity:1\"/>\n",
       "        <path sodipodi:nodetypes=\"cccc\" id=\"path2396-1-6-3-2-89-3-3\" d=\"m 241.67073,603.76831 16.0721,-3.13989 -8.15346,14.10696 z\" style=\"fill:#0173b2;fill-opacity:1;fill-rule:evenodd;stroke:none;stroke-width:1.22782px;stroke-linecap:butt;stroke-linejoin:miter;stroke-opacity:1\"/>\n",
       "      </g>\n",
       "      <g id=\"g10448-6-2\" transform=\"rotate(-63.27258,172.9463,141.91882)\">\n",
       "        <path sodipodi:end=\"3.6969803\" sodipodi:start=\"2.8015229\" sodipodi:type=\"arc\" style=\"fill:none;fill-opacity:1;fill-rule:evenodd;stroke:#0173b2;stroke-width:0.3;stroke-linecap:butt;stroke-linejoin:miter;stroke-miterlimit:4;stroke-dasharray:none;stroke-dashoffset:0;stroke-opacity:1\" id=\"path3172-1-6-4-5-1\" sodipodi:cx=\"60.387123\" sodipodi:cy=\"173.7932\" sodipodi:rx=\"4.2421412\" sodipodi:ry=\"4.2421412\" transform=\"rotate(-138.92001)\" sodipodi:arc-type=\"arc\" sodipodi:open=\"true\" d=\"m 56.387923,175.20818 a 4.2421412,4.2421412 0 0 1 0.394669,-3.65175\"/>\n",
       "        <path inkscape:transform-center-y=\"-0.74735145\" inkscape:transform-center-x=\"-2.0227701\" sodipodi:nodetypes=\"cccc\" id=\"path3228-7-0-4-6-6\" d=\"m 72.201932,-169.26529 0.842284,-0.56328 -0.128249,1 z\" style=\"fill:#0173b2;fill-opacity:1;fill-rule:evenodd;stroke:none;stroke-width:0.0759727px;stroke-linecap:butt;stroke-linejoin:miter;stroke-opacity:1\"/>\n",
       "      </g>\n",
       "      <g id=\"g10452-2-2\" transform=\"rotate(-63.27258,173.35723,142.06529)\">\n",
       "        <path sodipodi:nodetypes=\"cc\" id=\"path3168-23-0-4-1-7-1-84-5\" d=\"m 76.056008,-168.49871 -10.256932,-6.78687\" style=\"fill:none;fill-rule:evenodd;stroke:#0173b2;stroke-width:0.3;stroke-linecap:butt;stroke-linejoin:miter;stroke-miterlimit:4;stroke-dasharray:none;stroke-opacity:1\"/>\n",
       "        <path sodipodi:nodetypes=\"cccc\" id=\"path2396-1-6-3-2-89-7-5-4\" d=\"m 76.137174,-168.9775 0.582649,0.89369 -1.051212,-0.14733 z\" style=\"fill:#0173b2;fill-opacity:1;fill-rule:evenodd;stroke:none;stroke-width:0.0799888px;stroke-linecap:butt;stroke-linejoin:miter;stroke-opacity:1\"/>\n",
       "      </g>\n",
       "      <g id=\"g10452-0-1-1\" transform=\"rotate(-109.94854,50.765152,30.503897)\">\n",
       "        <path sodipodi:nodetypes=\"cc\" id=\"path3168-23-0-4-1-7-1-8-5-4\" d=\"m 76.056008,-168.49871 -10.256932,-6.78687\" style=\"fill:none;fill-rule:evenodd;stroke:#0173b2;stroke-width:0.3;stroke-linecap:butt;stroke-linejoin:miter;stroke-miterlimit:4;stroke-dasharray:none;stroke-opacity:1\"/>\n",
       "        <path sodipodi:nodetypes=\"cccc\" id=\"path2396-1-6-3-2-89-7-7-3-3\" d=\"m 76.137174,-168.9775 0.582649,0.89369 -1.051212,-0.14733 z\" style=\"fill:#0173b2;fill-opacity:1;fill-rule:evenodd;stroke:none;stroke-width:0.0799888px;stroke-linecap:butt;stroke-linejoin:miter;stroke-opacity:1\"/>\n",
       "      </g>\n",
       "      <g id=\"g7355-2-8-1-6-2-4-7-0\" transform=\"matrix(0.05302779,0.03784424,-0.03784424,0.05302779,-127.56881,44.941503)\" inkscape:transform-center-x=\"3.2280074\" inkscape:transform-center-y=\"-3.6163851\">\n",
       "        <path sodipodi:nodetypes=\"cc\" id=\"path3168-23-0-4-1-7-3-3-3\" d=\"m 246.68381,608.55924 -128.2272,92.17184\" style=\"fill:none;fill-rule:evenodd;stroke:#0173b2;stroke-width:4.60497;stroke-linecap:butt;stroke-linejoin:miter;stroke-miterlimit:4;stroke-dasharray:none;stroke-opacity:1\"/>\n",
       "        <path sodipodi:nodetypes=\"cccc\" id=\"path2396-1-6-3-2-89-4-3-4\" d=\"m 241.67073,603.76831 16.0721,-3.13989 -8.15346,14.10696 z\" style=\"fill:#0173b2;fill-opacity:1;fill-rule:evenodd;stroke:none;stroke-width:1.22782px;stroke-linecap:butt;stroke-linejoin:miter;stroke-opacity:1\"/>\n",
       "      </g>\n",
       "      <g id=\"g10448-5-8-0\" transform=\"rotate(-63.27258,167.36749,131.95695)\">\n",
       "        <g id=\"g10540-6-7\" transform=\"rotate(-41.937567,71.673943,-169.91992)\">\n",
       "          <path sodipodi:end=\"4.6017468\" sodipodi:start=\"2.8015229\" sodipodi:type=\"arc\" style=\"fill:none;fill-opacity:1;fill-rule:evenodd;stroke:#0173b2;stroke-width:0.3;stroke-linecap:butt;stroke-linejoin:miter;stroke-miterlimit:4;stroke-dasharray:none;stroke-dashoffset:0;stroke-opacity:1\" id=\"path3172-1-6-4-3-9-0\" sodipodi:cx=\"60.387123\" sodipodi:cy=\"173.7932\" sodipodi:rx=\"4.2421412\" sodipodi:ry=\"4.2421412\" transform=\"rotate(-138.92001)\" sodipodi:arc-type=\"arc\" sodipodi:open=\"true\" d=\"m 56.387923,175.20818 a 4.2421412,4.2421412 0 0 1 0.405119,-3.6685 4.2421412,4.2421412 0 0 1 3.125678,-1.96268\"/>\n",
       "          <path inkscape:transform-center-y=\"-0.74735145\" inkscape:transform-center-x=\"-2.0227701\" sodipodi:nodetypes=\"cccc\" id=\"path3228-7-0-4-3-4-6\" d=\"m 72.201932,-169.26529 0.842284,-0.56328 -0.128249,1 z\" style=\"fill:#0173b2;fill-opacity:1;fill-rule:evenodd;stroke:none;stroke-width:0.0759727px;stroke-linecap:butt;stroke-linejoin:miter;stroke-opacity:1\"/>\n",
       "        </g>\n",
       "      </g>\n",
       "      <text id=\"text3194-3-8-0-4-6-3-2\" y=\"93.193039\" x=\"-147.09093\" style=\"font-style:italic;font-variant:normal;font-weight:normal;font-stretch:normal;font-size:3.17499px;line-height:0%;font-family:'Times New Roman';-inkscape-font-specification:'Times New Roman Italic';text-align:start;writing-mode:lr-tb;text-anchor:start;fill:#0173b2;fill-opacity:1;stroke:none;stroke-width:0.264584px;stroke-linecap:butt;stroke-linejoin:miter;stroke-opacity:1\" xml:space=\"preserve\"><tspan y=\"93.193039\" x=\"-147.09093\" id=\"tspan3196-0-7-4-6-2-4-4\" sodipodi:role=\"line\" style=\"font-size:6.35001px;line-height:1.25;fill:#0173b2;fill-opacity:1;stroke-width:0.264584px\">φ<tspan style=\"font-size:65%;baseline-shift:sub\" id=\"tspan10444-3-1\">3</tspan></tspan></text>\n",
       "      <text id=\"text3194-3-8-0-4-6-0-7-0\" y=\"79.69593\" x=\"-140.59521\" style=\"font-style:italic;font-variant:normal;font-weight:normal;font-stretch:normal;font-size:3.17499px;line-height:0%;font-family:'Times New Roman';-inkscape-font-specification:'Times New Roman Italic';text-align:start;writing-mode:lr-tb;text-anchor:start;fill:#0173b2;fill-opacity:1;stroke:none;stroke-width:0.264584px;stroke-linecap:butt;stroke-linejoin:miter;stroke-opacity:1\" xml:space=\"preserve\"><tspan y=\"79.69593\" x=\"-140.59521\" id=\"tspan3196-0-7-4-6-2-1-0-2\" sodipodi:role=\"line\" style=\"font-size:6.35001px;line-height:1.25;fill:#0173b2;fill-opacity:1;stroke-width:0.264584px\">φ<tspan style=\"font-size:65%;baseline-shift:sub\" id=\"tspan10570-5-6\">5</tspan></tspan></text>\n",
       "      <text id=\"text3194-3-8-0-4-8-0-9\" y=\"75.95385\" x=\"-189.08293\" style=\"font-style:italic;font-variant:normal;font-weight:normal;font-stretch:normal;font-size:3.17499px;line-height:0%;font-family:'Times New Roman';-inkscape-font-specification:'Times New Roman Italic';text-align:start;writing-mode:lr-tb;text-anchor:start;fill:#0173b2;fill-opacity:1;stroke:none;stroke-width:0.264584px;stroke-linecap:butt;stroke-linejoin:miter;stroke-opacity:1\" xml:space=\"preserve\"><tspan y=\"75.95385\" x=\"-189.08293\" id=\"tspan3196-0-7-4-6-1-6-6\" sodipodi:role=\"line\" style=\"font-size:6.35001px;line-height:1.25;fill:#0173b2;fill-opacity:1;stroke-width:0.264584px\">tail (φ<tspan style=\"font-size:4.12751px;baseline-shift:sub;stroke-width:0.264584px\" id=\"tspan8039-6-8-1\">1</tspan>,...,φ<tspan style=\"font-size:65%;baseline-shift:sub\" id=\"tspan10752-0-2\">5 </tspan>)</tspan></text>\n",
       "    </g>\n",
       "    <g id=\"g15348\" transform=\"translate(46.966509,134.30914)\">\n",
       "      <text id=\"text3194-3-8-0-6-0-4\" y=\"43.808483\" x=\"-308.45636\" style=\"font-style:italic;font-variant:normal;font-weight:normal;font-stretch:normal;font-size:3.17499px;line-height:0%;font-family:'Times New Roman';-inkscape-font-specification:'Times New Roman Italic';text-align:start;writing-mode:lr-tb;text-anchor:start;fill:#0173b2;fill-opacity:1;stroke:none;stroke-width:0.264584px;stroke-linecap:butt;stroke-linejoin:miter;stroke-opacity:1\" xml:space=\"preserve\"><tspan y=\"43.808483\" x=\"-308.45636\" id=\"tspan3196-0-7-4-0-0-5\" sodipodi:role=\"line\" style=\"font-size:6.35001px;line-height:1.25;fill:#0173b2;fill-opacity:1;stroke-width:0.264584px\">tail </tspan></text>\n",
       "      <text id=\"text3194-3-8-07-6-2-8-3-2\" y=\"28.462612\" x=\"-482.82132\" style=\"font-style:italic;font-variant:normal;font-weight:normal;font-stretch:normal;font-size:5.14117px;line-height:0%;font-family:'Times New Roman';-inkscape-font-specification:'Times New Roman Italic';text-align:start;writing-mode:lr-tb;text-anchor:start;fill:#0173b2;fill-opacity:1;stroke:none;stroke-width:0.428432px;stroke-linecap:butt;stroke-linejoin:miter;stroke-opacity:1\" xml:space=\"preserve\" transform=\"scale(0.61756235,1.6192697)\"><tspan y=\"28.462612\" x=\"-482.82132\" id=\"tspan3196-0-7-2-1-9-0-5-0\" sodipodi:role=\"line\" style=\"font-size:10.2824px;line-height:1.25;fill:#0173b2;fill-opacity:1;stroke-width:0.428432px\"><tspan style=\"font-style:normal;font-variant:normal;font-weight:normal;font-stretch:normal;font-family:'Times New Roman';-inkscape-font-specification:'Times New Roman, '\" id=\"tspan10662-0\">(</tspan>             <tspan style=\"font-style:normal;font-variant:normal;font-weight:normal;font-stretch:normal;font-family:'Times New Roman';-inkscape-font-specification:'Times New Roman, '\" id=\"tspan10664-5\">)</tspan></tspan></text>\n",
       "      <text id=\"text3194-3-8-07-6-2-6-6-4\" y=\"39.404758\" x=\"-294.89825\" style=\"font-style:italic;font-variant:normal;font-weight:normal;font-stretch:normal;font-size:3.17499px;line-height:0%;font-family:'Times New Roman';-inkscape-font-specification:'Times New Roman Italic';text-align:start;writing-mode:lr-tb;text-anchor:start;fill:#0173b2;fill-opacity:1;stroke:none;stroke-width:0.264584px;stroke-linecap:butt;stroke-linejoin:miter;stroke-opacity:1\" xml:space=\"preserve\"><tspan y=\"39.404758\" x=\"-294.89825\" id=\"tspan3196-0-7-2-1-9-4-6-9\" sodipodi:role=\"line\" style=\"font-size:6.35001px;line-height:1.25;fill:#0173b2;fill-opacity:1;stroke-width:0.264584px\">x<tspan style=\"font-size:65%;baseline-shift:sub;fill:#0173b2;fill-opacity:1\" id=\"tspan9709-6\">1</tspan>,...,x<tspan style=\"font-size:65%;baseline-shift:sub\" id=\"tspan10756-3\">6</tspan></tspan><tspan y=\"47.34227\" x=\"-294.89825\" sodipodi:role=\"line\" style=\"font-size:6.35001px;line-height:1.25;fill:#0173b2;fill-opacity:1;stroke-width:0.264584px\" id=\"tspan9552-3-5\">y<tspan style=\"font-size:65%;baseline-shift:sub;fill:#0173b2;fill-opacity:1\" id=\"tspan9711-4\">1</tspan>,...,y<tspan style=\"font-size:65%;baseline-shift:sub\" id=\"tspan10754-4\">6</tspan></tspan></text>\n",
       "      <g id=\"g7355-8-1-0-0\" transform=\"matrix(0.09111353,0.06549392,-0.06549392,0.09111353,-276.11467,-1.965248)\">\n",
       "        <path sodipodi:nodetypes=\"cc\" id=\"path3168-7-9-6-8\" d=\"m 246.68381,608.55924 -128.2272,92.17184\" style=\"fill:none;fill-rule:evenodd;stroke:#343434;stroke-width:2.45564;stroke-linecap:butt;stroke-linejoin:miter;stroke-miterlimit:4;stroke-dasharray:none;stroke-opacity:1\"/>\n",
       "        <path sodipodi:nodetypes=\"cccc\" id=\"path2396-4-2-3-3\" d=\"m 241.67073,603.76831 16.0721,-3.13989 -8.15346,14.10696 z\" style=\"fill:#343434;fill-opacity:1;fill-rule:evenodd;stroke:none;stroke-width:1.22782px;stroke-linecap:butt;stroke-linejoin:miter;stroke-opacity:1\"/>\n",
       "      </g>\n",
       "      <text id=\"text3194-5-2-1-5\" y=\"74.772743\" x=\"-302.62631\" style=\"font-style:italic;font-variant:normal;font-weight:normal;font-stretch:normal;font-size:3.17499px;line-height:0%;font-family:'Times New Roman';-inkscape-font-specification:'Times New Roman Italic';text-align:start;writing-mode:lr-tb;text-anchor:start;fill:#343434;fill-opacity:1;stroke:none;stroke-width:0.264584px;stroke-linecap:butt;stroke-linejoin:miter;stroke-opacity:1\" xml:space=\"preserve\"><tspan y=\"74.772743\" x=\"-302.62631\" id=\"tspan3196-55-7-3-7\" sodipodi:role=\"line\" style=\"font-size:6.35001px;line-height:1.25;stroke-width:0.264584px\">x</tspan></text>\n",
       "      <g id=\"g7355-6-3-9-0-0\" transform=\"matrix(0.06549392,-0.09111353,0.09111353,0.06549392,-382.81949,34.538402)\">\n",
       "        <path sodipodi:nodetypes=\"cc\" id=\"path3168-2-5-5-9-0\" d=\"m 246.68381,608.55924 -128.2272,92.17184\" style=\"fill:none;fill-rule:evenodd;stroke:#343434;stroke-width:2.45564;stroke-linecap:butt;stroke-linejoin:miter;stroke-miterlimit:4;stroke-dasharray:none;stroke-opacity:1\"/>\n",
       "        <path sodipodi:nodetypes=\"cccc\" id=\"path2396-3-3-7-7-9\" d=\"m 241.67073,603.76831 16.0721,-3.13989 -8.15346,14.10696 z\" style=\"fill:#343434;fill-opacity:1;fill-rule:evenodd;stroke:none;stroke-width:1.22782px;stroke-linecap:butt;stroke-linejoin:miter;stroke-opacity:1\"/>\n",
       "      </g>\n",
       "      <text id=\"text3194-3-2-5-6-6\" y=\"61.191593\" x=\"-317.22144\" style=\"font-style:italic;font-variant:normal;font-weight:normal;font-stretch:normal;font-size:3.17499px;line-height:0%;font-family:'Times New Roman';-inkscape-font-specification:'Times New Roman Italic';text-align:start;writing-mode:lr-tb;text-anchor:start;fill:#343434;fill-opacity:1;stroke:none;stroke-width:0.264584px;stroke-linecap:butt;stroke-linejoin:miter;stroke-opacity:1\" xml:space=\"preserve\"><tspan y=\"61.191593\" x=\"-317.22144\" id=\"tspan3196-0-9-5-5-4\" sodipodi:role=\"line\" style=\"font-size:6.35001px;line-height:1.25;stroke-width:0.264584px\">y</tspan></text>\n",
       "      <g id=\"g17097-6-6-3-4-6-3-7\" transform=\"matrix(0.21546626,-0.00323139,-0.00323139,-0.21546626,-428.65344,123.26087)\">\n",
       "        <g id=\"XMLID_248_-7-4-8-7-5-7-0-5-9\" transform=\"rotate(165,407.53465,304.43696)\">\n",
       "          <g id=\"XMLID_178_-8-8-9-4-8-3-9-2-8\">\n",
       "            <g id=\"g127-47-9-0-1-1-3-3-1-8\">\n",
       "              <path class=\"st1\" d=\"m 217.5,286.5 c -1.2,-0.1 -2.9,-1.2 -2.8,-1.7 0.7,-0.3 1.5,-0.6 2.7,-0.7 1,-0.1 2.1,0.3 3.2,0.7 -0.1,0.5 -1.9,1.8 -3.1,1.7 z\" id=\"path103-19-8-5-5-6-7-8-5-2\" style=\"fill:#6d6e70\"/>\n",
       "              <path class=\"st2\" d=\"m 214.7,284.8 c 0,-0.5 1.7,-0.8 2.9,-0.7 1.2,0.1 2.9,0.2 2.9,0.7 -1,-0.4 -2.2,-0.7 -3.2,-0.7 -1.1,0.1 -1.9,0.4 -2.6,0.7 z\" id=\"path105-8-0-4-6-7-8-9-1-4\" style=\"fill:#bbbdbf\"/>\n",
       "              <path class=\"st2\" d=\"m 207,279.8 c 0.5,-0.9 2.6,-5.3 6.2,-6.1 3.3,-0.8 7.2,-0.5 8.9,0 1.7,0.5 4.7,2.1 5.8,3.5 0.9,1.4 0.9,5 0,6.3 -0.7,1 -3,2.4 -4.4,2.3 -0.5,0 -1.6,-0.5 -2.9,-1 0,-0.5 -1.7,-0.6 -2.9,-0.7 -1.2,-0.1 -2.9,0.2 -2.9,0.7 -1.3,0.6 -2,1.4 -3.5,1.1 -1.8,-0.4 -4.3,-3.9 -4.7,-5.6 h 0.1 c -0.1,0 -0.1,0.1 0.3,-0.5 z\" id=\"path107-9-2-9-1-3-7-5-3-0\" style=\"fill:#bbbdbf\"/>\n",
       "              <path class=\"st3\" d=\"m 200.7,276.1 c -4.6,0.7 -9,-1.5 -13.5,-3.4 -4.4,-1.9 -4.8,-3.6 -5.9,-4.7 z\" id=\"path109-0-4-7-7-5-6-2-7-7\" style=\"fill:#e6e7e8\"/>\n",
       "              <path class=\"st3\" d=\"m 176.7,266 c -1.2,0.5 -2.9,0.6 -5.2,0.1 -3.3,-0.7 -7.3,-2.5 -10.4,-4.6 -2.8,-2.3 -4.5,-5.6 -4.6,-7.9 -0.1,-2.3 3.1,-2.7 7,-3 3.7,-0.7 8.1,-0.6 11.4,0.1 2.4,0.5 3.8,1.3 4.7,2.3 1.6,1.8 1.3,4.2 0.7,7 -0.6,2.7 -1.4,5.1 -3.6,6 z\" id=\"path111-0-8-1-7-2-3-3-9-6\" style=\"fill:#e6e7e8\"/>\n",
       "              <path class=\"st2\" d=\"m 213.1,273.6 c -3.5,0.9 -5.6,5.3 -6.2,6.1 -0.4,0.6 -0.4,0.6 -0.4,0.6 h -0.1 c 0,0 0,-0.1 0,-0.1 0,0 0,0 0.4,-0.5 0.5,-0.9 2.6,-5.3 6.2,-6.1 3.3,-0.8 7.2,-0.5 8.9,0 1.7,0.5 4.8,2.2 5.8,3.6 0,0 0,0.1 0.1,0.1 -1.1,-1.4 -4.1,-3 -5.8,-3.5 -1.7,-0.7 -5.6,-1 -8.9,-0.2 z\" id=\"path113-12-6-9-8-3-6-1-5-3\" style=\"fill:#bbbdbf\"/>\n",
       "              <path class=\"st3\" d=\"m 200.7,276.1 -19.4,-8.2 -4.7,-2 c 2.2,-0.9 3,-3.3 3.6,-6 0.6,-2.7 0.9,-5.2 -0.7,-7 v 0 l 5.3,0.2 21,0.6 v 0 c -0.6,0.5 -1.2,1.1 -1.5,1.6 -1.1,2 2.2,1.6 0.8,9 0,0.1 0.1,0.4 0.1,0.5 0.2,0.4 0.5,0.5 0.5,0.5 -0.3,0 -0.4,0 -0.7,0.2 -0.2,0.2 -0.3,0.4 -0.3,0.5 -1.8,7.4 -5.3,5.7 -4.9,8.1 0.2,0.6 0.6,1.4 0.9,2 z\" id=\"path115-1-9-8-8-3-6-4-1-9\" style=\"fill:#e6e7e8\"/>\n",
       "              <path class=\"st3\" d=\"m 205.9,253.8 -21,-0.6 c 1.4,-0.6 2.5,-2 7.3,-1.9 4.9,0.1 9.8,0 13.7,2.5 z\" id=\"path117-8-0-9-7-3-2-7-1-1\" style=\"fill:#e6e7e8\"/>\n",
       "              <path class=\"st3\" d=\"m 206.2,279.8 c -1.4,-0.3 -3.6,-1.7 -4.5,-2.6 -0.2,-0.3 -0.6,-0.7 -0.9,-1.1 -0.4,-0.6 -0.8,-1.4 -0.9,-1.9 -0.3,-2.4 3.1,-0.7 4.9,-8.1 0,0 0.1,-0.3 0.3,-0.5 0.3,-0.2 0.4,-0.2 0.7,-0.2 0,0 -0.4,-0.1 -0.5,-0.5 0,-0.1 -0.2,-0.4 -0.1,-0.5 1.4,-7.4 -1.9,-7 -0.8,-9 0.2,-0.5 0.9,-1.1 1.5,-1.6 0.4,-0.3 0.7,-0.5 1,-0.7 1.2,-0.6 3.8,-0.7 5.6,-0.4 v 0.2 c 0,0 0,0 0.1,0.6 0.2,1 0.4,5.9 3.3,8 2.7,2 6.5,3.3 8.2,3.4 1.8,0.2 5.3,-0.2 6.8,-1.1 1.4,-0.9 2.8,-4.3 2.5,-5.9 l 0.1,0.2 c 0,0.3 0,0.6 0,1 0,0 0,0 0,0 0.4,1 0,3.4 0.5,4.4 0.4,0.8 2,1.9 2.3,3.4 0.5,2.9 -0.3,7.3 -2.2,9.6 -1.2,1.5 -3,1.7 -3.8,2.5 -0.5,0.5 -1.3,2.3 -1.9,3.4 0.4,-1.7 0.2,-4.3 -0.5,-5.3 0,0 0,-0.1 -0.1,-0.1 0,0 0,-0.1 -0.1,-0.1 -1,-1.4 -4.1,-3.1 -5.8,-3.6 -1.7,-0.5 -5.6,-0.8 -8.9,0 -3.5,0.9 -5.6,5.3 -6.2,6.1 -0.4,0.6 -0.4,0.5 -0.4,0.5 0,0 0,0.1 0,0.1 l -0.4,-0.1 c 0.1,0.1 0.1,0 0.2,-0.1 z\" id=\"path119-1-5-2-3-1-4-1-5-1\" style=\"fill:#e6e7e8\"/>\n",
       "              <path class=\"st2\" d=\"m 215.7,261.2 c -2.8,-2.2 -2.9,-7.1 -3,-8.1 -0.1,-0.7 -0.1,-0.7 -0.1,-0.7 1,-1.5 4.8,-3.7 6.7,-3.3 1.4,0.3 1.8,1.3 2.7,2.5 -0.2,0.5 1.2,1.5 2.4,1.9 1.1,0.4 2.7,1 3,0.6 v 0 c 1.3,0.1 2.6,0.1 3.1,0.3 1.2,0.5 2.8,2.7 3,3.9 0.3,1.6 -1.3,4.9 -2.8,5.8 -1.5,0.9 -5,1.1 -6.8,0.8 -1.9,-0.2 -5.6,-1.7 -8.2,-3.7 z\" id=\"path121-0-7-2-2-3-7-7-4-9\" style=\"fill:#bbbdbf\"/>\n",
       "              <path class=\"st2\" d=\"m 227.3,254.1 c -0.2,0.5 -1.8,-0.2 -3,-0.6 -1.1,-0.4 -2.5,-1.4 -2.4,-1.9 0.5,0.6 1.1,1.2 2.1,1.8 1,0.4 2.2,0.6 3.3,0.7 z\" id=\"path123-5-0-3-0-4-7-2-2-1\" style=\"fill:#bbbdbf\"/>\n",
       "              <path class=\"st1\" d=\"m 225.2,251.2 c 1.1,0.4 2.2,2.4 2,2.8 v 0 c -1.1,-0.1 -2.3,-0.3 -3.2,-0.7 -1,-0.5 -1.7,-1.2 -2.1,-1.8 0.2,-0.4 2.2,-0.7 3.3,-0.3 z\" id=\"path125-9-1-4-7-5-7-5-3-9\" style=\"fill:#6d6e70\"/>\n",
       "            </g>\n",
       "            <g id=\"g151-8-9-6-3-1-0-9-9-2\">\n",
       "              <path class=\"st4\" d=\"m 227.3,254 c 1.3,0.1 2.6,0.1 3.1,0.3 1.2,0.5 2.8,2.7 3,3.9 0.3,1.6 -1.3,4.9 -2.8,5.8 -1.5,0.9 -5,1.1 -6.8,0.8 -1.7,-0.2 -5.4,-1.6 -8.1,-3.7 -2.8,-2.2 -2.9,-7.1 -3,-8.1 -0.1,-0.7 -0.1,-0.7 -0.1,-0.7 1,-1.5 4.8,-3.7 6.7,-3.3 1.4,0.3 1.8,1.3 2.7,2.5\" id=\"path129-9-9-6-7-3-4-9-0-7\" style=\"fill:none;stroke:#231f20;stroke-width:1.0743;stroke-linejoin:round;stroke-miterlimit:10\"/>\n",
       "              <path class=\"st9\" d=\"m 227.3,254.1 c -0.2,0.5 -1.8,-0.2 -3,-0.6 -1.1,-0.4 -2.5,-1.4 -2.4,-1.9 0.2,-0.5 2.2,-0.8 3.3,-0.3 1.1,0.4 2.2,2.3 2.1,2.8\" id=\"path131-5-3-7-7-9-6-7-3-5\" style=\"fill:none;stroke:#231f20;stroke-width:1.0743;stroke-linecap:round;stroke-linejoin:round\"/>\n",
       "              <path class=\"st4\" d=\"m 220.5,284.8 c 1.3,0.5 2.4,1 2.9,1 1.3,0 3.7,-1.3 4.4,-2.3 0.9,-1.3 0.9,-4.9 0,-6.3\" id=\"path133-6-6-8-5-3-0-3-5-5\" style=\"fill:none;stroke:#231f20;stroke-width:1.0743;stroke-linejoin:round;stroke-miterlimit:10\"/>\n",
       "              <path class=\"st4\" d=\"m 206.5,280.3 c 0.4,1.8 2.9,5.2 4.7,5.6 1.4,0.3 2.2,-0.5 3.5,-1.1\" id=\"path135-38-8-7-6-3-8-2-5-0\" style=\"fill:none;stroke:#231f20;stroke-width:1.0743;stroke-linejoin:round;stroke-miterlimit:10\"/>\n",
       "              <path class=\"st9\" d=\"m 220.5,284.8 c 0,-0.5 -1.7,-0.6 -2.9,-0.7 -1.2,-0.1 -2.9,0.2 -2.9,0.7 0,0.5 1.7,1.6 2.8,1.7 1.2,0.1 3,-1.2 3,-1.7 z\" id=\"path137-7-2-8-5-0-7-1-5-5\" style=\"fill:none;stroke:#231f20;stroke-width:1.0743;stroke-linecap:round;stroke-linejoin:round\"/>\n",
       "              <line class=\"st4\" x1=\"184.89999\" y1=\"253.10001\" x2=\"179.60001\" y2=\"253\" id=\"line139-8-1-4-8-2-4-4-4-0\" style=\"fill:none;stroke:#231f20;stroke-width:1.0743;stroke-linejoin:round;stroke-miterlimit:10\"/>\n",
       "              <path class=\"st4\" d=\"m 205.9,253.8 c -3.9,-2.5 -8.8,-2.4 -13.7,-2.5 -4.8,-0.1 -5.9,1.3 -7.3,1.9 z\" id=\"path141-5-7-8-9-6-9-7-2-6\" style=\"fill:none;stroke:#231f20;stroke-width:1.0743;stroke-linejoin:round;stroke-miterlimit:10\"/>\n",
       "              <path class=\"st4\" d=\"m 181.4,268 c 1.1,1.1 1.4,2.9 5.9,4.7 4.5,1.9 8.9,4.1 13.5,3.4 z\" id=\"path143-3-7-3-8-3-5-3-7-3\" style=\"fill:none;stroke:#231f20;stroke-width:1.0743;stroke-linejoin:round;stroke-miterlimit:10\"/>\n",
       "              <line class=\"st4\" x1=\"176.7\" y1=\"266\" x2=\"181.39999\" y2=\"268\" id=\"line145-7-3-8-0-0-9-5-0-8\" style=\"fill:none;stroke:#231f20;stroke-width:1.0743;stroke-linejoin:round;stroke-miterlimit:10\"/>\n",
       "              <path class=\"st4\" d=\"m 227.8,277.2 c 0,0 0,0 0,0 0.8,1.1 1,3.7 0.6,5.4 0.6,-1.1 1.4,-2.9 1.9,-3.4 0.8,-0.8 2.6,-1.1 3.8,-2.5 1.9,-2.3 2.7,-6.7 2.2,-9.6 -0.2,-1.5 -1.9,-2.6 -2.3,-3.4 -0.5,-0.9 -0.1,-3.4 -0.5,-4.4 0,0 0,0 0,0 0.1,-0.4 0.1,-0.7 0,-1 l -0.1,-0.2 c 0.3,1.6 -1.1,5 -2.5,5.9 -1.5,0.9 -5,1.3 -6.8,1.1 -1.7,-0.1 -5.5,-1.4 -8.2,-3.4 -2.9,-2.1 -3.2,-7 -3.3,-8 -0.1,-0.7 -0.1,-0.6 -0.1,-0.6 v -0.2 c -1.7,-0.3 -4.4,-0.1 -5.6,0.4 -0.3,0.1 -0.7,0.4 -1,0.7 -0.6,0.5 -1.2,1.1 -1.5,1.6 -1.1,2 2.2,1.6 0.8,9 0,0.1 0.1,0.4 0.1,0.5 0.2,0.4 0.5,0.5 0.5,0.5 -0.3,0 -0.4,0 -0.7,0.2 -0.2,0.2 -0.3,0.4 -0.3,0.5 -1.8,7.4 -5.3,5.7 -4.9,8.1 0.1,0.5 0.5,1.2 0.9,1.9 0.3,0.4 0.6,0.8 0.9,1.1 0.9,0.9 3.1,2.3 4.5,2.6 0,0.1 -0.1,0.2 -0.1,0.3 l 0.4,0.1 h 0.1 c 0,0 0,0 0.4,-0.6 0.5,-0.9 2.6,-5.3 6.2,-6.1 3.3,-0.8 7.2,-0.5 8.9,0 1.6,0.5 4.6,2.1 5.7,3.5 z\" id=\"path147-3-7-9-1-7-8-8-8-1\" style=\"fill:none;stroke:#231f20;stroke-width:1.0743;stroke-linejoin:round;stroke-miterlimit:10\"/>\n",
       "              <path class=\"st4\" d=\"m 176.7,266 c -1.2,0.5 -2.9,0.6 -5.2,0.1 -3.3,-0.7 -7.3,-2.5 -10.4,-4.6 -2.8,-2.3 -4.5,-5.6 -4.6,-7.9 -0.1,-2.3 3.1,-2.7 7,-3 3.7,-0.7 8.1,-0.6 11.4,0.1 2.4,0.5 3.8,1.3 4.7,2.3 1.6,1.8 1.3,4.2 0.7,7 -0.6,2.7 -1.4,5.1 -3.6,6 z\" id=\"path149-6-1-7-1-3-6-9-0-2\" style=\"fill:none;stroke:#231f20;stroke-width:1.0743;stroke-linejoin:round;stroke-miterlimit:10\"/>\n",
       "            </g>\n",
       "          </g>\n",
       "          <path id=\"XMLID_255_-25-1-0-6-1-3-5-9-2\" class=\"st10\" d=\"M 160.5,261.2 C 99.5,247.9 55.7,197.8 66.1,150.3 l 0.2,-1.1 c 0.6,-2.6 2.6,-4.4 4,-4.1 1.4,0.3 -0.5,2.1 -1,4.7 -10.4,47.5 32.3,87.3 93.3,100.7 0,0 -5.6,0.2 -6.1,2.6 -0.6,2.5 4,8.1 4,8.1 z\" style=\"fill:#e6e7e8;stroke:#231f20;stroke-width:1.0743;stroke-linejoin:round;stroke-miterlimit:10\"/>\n",
       "        </g>\n",
       "        <ellipse style=\"opacity:0.52;fill:#0173b2;fill-opacity:1;stroke:none;stroke-width:0.137951\" id=\"path1342-5-1-0-3-7-7-7-7-7-2-3\" cx=\"718.81183\" cy=\"297.10211\" rx=\"3.1985385\" ry=\"3.1414216\"/>\n",
       "        <ellipse style=\"opacity:0.68;fill:#0173b2;fill-opacity:1;stroke:none;stroke-width:0.137951\" id=\"path1342-4-4-3-5-2-7-9-4-5-0-3-5-4\" cx=\"746.15784\" cy=\"312.41629\" rx=\"3.1985385\" ry=\"3.1414216\"/>\n",
       "        <ellipse style=\"opacity:0.36;fill:#0173b2;fill-opacity:1;stroke:none;stroke-width:0.137951\" id=\"path1342-4-2-1-5-11-8-6-1-0-1-6-1-5\" cx=\"690.53198\" cy=\"289.70984\" rx=\"3.1985385\" ry=\"3.1414216\"/>\n",
       "        <ellipse style=\"fill:#0173b2;fill-opacity:1;stroke:none;stroke-width:0.137951\" id=\"path1342-0-2-3-0-9-3-2-4-1-3-0-3-0\" cx=\"775.63751\" cy=\"366.763\" rx=\"3.1985385\" ry=\"3.1414216\"/>\n",
       "        <ellipse style=\"opacity:0.2;fill:#0173b2;fill-opacity:1;stroke:none;stroke-width:0.137951\" id=\"path1342-0-2-9-0-4-9-4-0-6-6-9-0-3-3\" cx=\"659.45081\" cy=\"288.5112\" rx=\"3.1985385\" ry=\"3.1414216\"/>\n",
       "        <ellipse style=\"opacity:0.84;fill:#0173b2;fill-opacity:1;stroke:none;stroke-width:0.137951\" id=\"path1342-4-3-9-2-02-9-3-6-9-9-8-3-1\" cx=\"768.2746\" cy=\"337.25516\" rx=\"3.1985385\" ry=\"3.1414216\"/>\n",
       "      </g>\n",
       "    </g>\n",
       "    <g id=\"g15508\" transform=\"translate(-2.6297208,-10.312436)\">\n",
       "      <g id=\"g7355-8-10\" transform=\"matrix(0.09111353,0.06549392,-0.06549392,0.09111353,-226.51846,77.00318)\">\n",
       "        <path sodipodi:nodetypes=\"cc\" id=\"path3168-7-5\" d=\"m 246.68381,608.55924 -128.2272,92.17184\" style=\"fill:none;fill-rule:evenodd;stroke:#343434;stroke-width:2.45564;stroke-linecap:butt;stroke-linejoin:miter;stroke-miterlimit:4;stroke-dasharray:none;stroke-opacity:1\"/>\n",
       "        <path sodipodi:nodetypes=\"cccc\" id=\"path2396-4-1\" d=\"m 241.67073,603.76831 16.0721,-3.13989 -8.15346,14.10696 z\" style=\"fill:#343434;fill-opacity:1;fill-rule:evenodd;stroke:none;stroke-width:1.22782px;stroke-linecap:butt;stroke-linejoin:miter;stroke-opacity:1\"/>\n",
       "      </g>\n",
       "      <text id=\"text3194-5-7\" y=\"19.432009\" x=\"-273.3006\" style=\"font-style:italic;font-variant:normal;font-weight:normal;font-stretch:normal;font-size:3.17499px;line-height:0%;font-family:'Times New Roman';-inkscape-font-specification:'Times New Roman Italic';text-align:start;writing-mode:lr-tb;text-anchor:start;fill:#343434;fill-opacity:1;stroke:none;stroke-width:0.264584px;stroke-linecap:butt;stroke-linejoin:miter;stroke-opacity:1\" xml:space=\"preserve\" transform=\"translate(20.270512,134.30914)\"><tspan y=\"19.432009\" x=\"-273.3006\" id=\"tspan3196-55-6\" sodipodi:role=\"line\" style=\"font-size:6.35001px;line-height:1.25;stroke-width:0.264584px\">x</tspan></text>\n",
       "      <g id=\"g7355-6-3-7\" transform=\"matrix(0.06549392,-0.09111353,0.09111353,0.06549392,-333.22337,113.50683)\">\n",
       "        <path sodipodi:nodetypes=\"cc\" id=\"path3168-2-5-4\" d=\"m 246.68381,608.55924 -128.2272,92.17184\" style=\"fill:none;fill-rule:evenodd;stroke:#343434;stroke-width:2.45564;stroke-linecap:butt;stroke-linejoin:miter;stroke-miterlimit:4;stroke-dasharray:none;stroke-opacity:1\"/>\n",
       "        <path sodipodi:nodetypes=\"cccc\" id=\"path2396-3-3-8\" d=\"m 241.67073,603.76831 16.0721,-3.13989 -8.15346,14.10696 z\" style=\"fill:#343434;fill-opacity:1;fill-rule:evenodd;stroke:none;stroke-width:1.22782px;stroke-linecap:butt;stroke-linejoin:miter;stroke-opacity:1\"/>\n",
       "      </g>\n",
       "      <text id=\"text3194-3-2-1\" y=\"5.8508625\" x=\"-287.89572\" style=\"font-style:italic;font-variant:normal;font-weight:normal;font-stretch:normal;font-size:3.17499px;line-height:0%;font-family:'Times New Roman';-inkscape-font-specification:'Times New Roman Italic';text-align:start;writing-mode:lr-tb;text-anchor:start;fill:#343434;fill-opacity:1;stroke:none;stroke-width:0.264584px;stroke-linecap:butt;stroke-linejoin:miter;stroke-opacity:1\" xml:space=\"preserve\" transform=\"translate(20.270512,134.30914)\"><tspan y=\"5.8508625\" x=\"-287.89572\" id=\"tspan3196-0-9-87\" sodipodi:role=\"line\" style=\"font-size:6.35001px;line-height:1.25;stroke-width:0.264584px\">y</tspan></text>\n",
       "      <text id=\"text3194-3-8-07-6-2-64\" y=\"-24.351179\" x=\"-276.97073\" style=\"font-style:italic;font-variant:normal;font-weight:normal;font-stretch:normal;font-size:3.17499px;line-height:0%;font-family:'Times New Roman';-inkscape-font-specification:'Times New Roman Italic';text-align:start;writing-mode:lr-tb;text-anchor:start;fill:#de8f05;fill-opacity:1;stroke:none;stroke-width:0.264584px;stroke-linecap:butt;stroke-linejoin:miter;stroke-opacity:1\" xml:space=\"preserve\" transform=\"translate(20.270512,134.30914)\"><tspan y=\"-24.351179\" x=\"-276.97073\" id=\"tspan3196-0-7-2-1-9-9\" sodipodi:role=\"line\" style=\"font-size:6.35001px;line-height:1.25;fill:#de8f05;fill-opacity:1;stroke-width:0.264584px\">head </tspan></text>\n",
       "      <g id=\"g9587-0\" transform=\"translate(-202.65405,318.51439)\">\n",
       "        <text id=\"text3194-3-8-07-6-2-6-96\" y=\"-213.63268\" x=\"-36.728233\" style=\"font-style:italic;font-variant:normal;font-weight:normal;font-stretch:normal;font-size:3.17499px;line-height:0%;font-family:'Times New Roman';-inkscape-font-specification:'Times New Roman Italic';text-align:start;writing-mode:lr-tb;text-anchor:start;fill:#de8f05;fill-opacity:1;stroke:none;stroke-width:0.264584px;stroke-linecap:butt;stroke-linejoin:miter;stroke-opacity:1\" xml:space=\"preserve\"><tspan y=\"-213.63268\" x=\"-36.728233\" id=\"tspan3196-0-7-2-1-9-4-8\" sodipodi:role=\"line\" style=\"font-size:6.35001px;line-height:1.25;fill:#de8f05;fill-opacity:1;stroke-width:0.264584px\">x</tspan><tspan y=\"-205.69516\" x=\"-36.728233\" sodipodi:role=\"line\" style=\"font-size:6.35001px;line-height:1.25;fill:#de8f05;fill-opacity:1;stroke-width:0.264584px\" id=\"tspan9552-38\">y</tspan></text>\n",
       "        <text id=\"text3194-3-8-07-6-2-8-05\" y=\"-127.80378\" x=\"-64.774483\" style=\"font-style:italic;font-variant:normal;font-weight:normal;font-stretch:normal;font-size:5.14117px;line-height:0%;font-family:'Times New Roman';-inkscape-font-specification:'Times New Roman Italic';text-align:start;writing-mode:lr-tb;text-anchor:start;fill:#de8f05;fill-opacity:1;stroke:none;stroke-width:0.428432px;stroke-linecap:butt;stroke-linejoin:miter;stroke-opacity:1\" xml:space=\"preserve\" transform=\"scale(0.61756235,1.6192697)\"><tspan y=\"-127.80378\" x=\"-64.774483\" id=\"tspan3196-0-7-2-1-9-0-79\" sodipodi:role=\"line\" style=\"font-style:normal;font-variant:normal;font-weight:normal;font-stretch:normal;font-size:10.2824px;line-height:1.25;font-family:'Times New Roman';-inkscape-font-specification:'Times New Roman, ';fill:#de8f05;fill-opacity:1;stroke-width:0.428432px\">(   )</tspan></text>\n",
       "      </g>\n",
       "      <text id=\"text3194-3-8-07-6-2-64-5\" y=\"-5.4983873\" x=\"-251.55084\" style=\"font-style:italic;font-variant:normal;font-weight:normal;font-stretch:normal;font-size:3.17499px;line-height:0%;font-family:'Times New Roman';-inkscape-font-specification:'Times New Roman Italic';text-align:start;writing-mode:lr-tb;text-anchor:start;fill:#0173b2;fill-opacity:1;stroke:none;stroke-width:0.264584px;stroke-linecap:butt;stroke-linejoin:miter;stroke-opacity:1\" xml:space=\"preserve\" transform=\"translate(20.270512,134.30914)\"><tspan y=\"-5.4983873\" x=\"-251.55084\" id=\"tspan3196-0-7-2-1-9-9-5\" sodipodi:role=\"line\" style=\"font-size:6.35001px;line-height:1.25;fill:#0173b2;fill-opacity:1;stroke-width:0.264584px\">swim bladder</tspan></text>\n",
       "      <g id=\"g9587-0-6\" transform=\"translate(-155.18442,338.56988)\" style=\"fill:#0173b2;fill-opacity:1\">\n",
       "        <text id=\"text3194-3-8-07-6-2-6-96-7\" y=\"-213.63268\" x=\"-36.728233\" style=\"font-style:italic;font-variant:normal;font-weight:normal;font-stretch:normal;font-size:3.17499px;line-height:0%;font-family:'Times New Roman';-inkscape-font-specification:'Times New Roman Italic';text-align:start;writing-mode:lr-tb;text-anchor:start;fill:#0173b2;fill-opacity:1;stroke:none;stroke-width:0.264584px;stroke-linecap:butt;stroke-linejoin:miter;stroke-opacity:1\" xml:space=\"preserve\"><tspan y=\"-213.63268\" x=\"-36.728233\" id=\"tspan3196-0-7-2-1-9-4-8-0\" sodipodi:role=\"line\" style=\"font-size:6.35001px;line-height:1.25;fill:#0173b2;fill-opacity:1;stroke-width:0.264584px\">x</tspan><tspan y=\"-205.69516\" x=\"-36.728233\" sodipodi:role=\"line\" style=\"font-size:6.35001px;line-height:1.25;fill:#0173b2;fill-opacity:1;stroke-width:0.264584px\" id=\"tspan9552-38-8\">y</tspan></text>\n",
       "        <text id=\"text3194-3-8-07-6-2-8-05-3\" y=\"-127.80378\" x=\"-64.774483\" style=\"font-style:italic;font-variant:normal;font-weight:normal;font-stretch:normal;font-size:5.14117px;line-height:0%;font-family:'Times New Roman';-inkscape-font-specification:'Times New Roman Italic';text-align:start;writing-mode:lr-tb;text-anchor:start;fill:#0173b2;fill-opacity:1;stroke:none;stroke-width:0.428432px;stroke-linecap:butt;stroke-linejoin:miter;stroke-opacity:1\" xml:space=\"preserve\" transform=\"scale(0.61756235,1.6192697)\"><tspan y=\"-127.80378\" x=\"-64.774483\" id=\"tspan3196-0-7-2-1-9-0-79-8\" sodipodi:role=\"line\" style=\"font-style:normal;font-variant:normal;font-weight:normal;font-stretch:normal;font-size:10.2824px;line-height:1.25;font-family:'Times New Roman';-inkscape-font-specification:'Times New Roman, ';fill:#0173b2;fill-opacity:1;stroke-width:0.428432px\">(   )</tspan></text>\n",
       "      </g>\n",
       "      <g id=\"g12852\" transform=\"translate(76.171815,4.0090429)\">\n",
       "        <path style=\"fill:#e6e7e8;fill-opacity:1;stroke:#231f20;stroke-width:0.229049;stroke-dasharray:none;stroke-opacity:1\" d=\"m -291.92192,139.53763 c 0,0 -4.40055,1.23184 -7.47261,-1.13297 -3.84623,-2.96074 -3.62076,-4.68824 -8.17076,-9.062 -4.82876,-4.64173 -7.17665,-5.46202 -7.17665,-5.46202 l 1.35192,-1.96577 c 4.50548,2.74191 7.67831,6.93803 10.75317,10.72268 1.16296,2.07387 2.44246,3.93587 4.10091,4.93035 1.89035,1.13355 3.74036,1.70548 5.96565,1.13773 1.19847,-0.30576 1.63648,-0.0831 1.63648,-0.0831 z\" id=\"path13375-8-6-5-2-9\" sodipodi:nodetypes=\"csscccsscc\"/>\n",
       "        <g id=\"XMLID_178_-6-8-9-5-1-4-1\" transform=\"matrix(-0.14920681,-0.15547823,-0.15547823,0.14920681,-250.06673,109.84127)\">\n",
       "          <g id=\"g127-6-3-7-8-7-9-7\">\n",
       "            <path class=\"st1\" d=\"m 217.5,286.5 c -1.2,-0.1 -2.9,-1.2 -2.8,-1.7 0.7,-0.3 1.5,-0.6 2.7,-0.7 1,-0.1 2.1,0.3 3.2,0.7 -0.1,0.5 -1.9,1.8 -3.1,1.7 z\" id=\"path103-1-2-9-6-3-6-8\" style=\"fill:#6d6e70\"/>\n",
       "            <path class=\"st2\" d=\"m 214.7,284.8 c 0,-0.5 1.7,-0.8 2.9,-0.7 1.2,0.1 2.9,0.2 2.9,0.7 -1,-0.4 -2.2,-0.7 -3.2,-0.7 -1.1,0.1 -1.9,0.4 -2.6,0.7 z\" id=\"path105-2-7-1-1-3-2-1\" style=\"fill:#bbbdbf\"/>\n",
       "            <path class=\"st2\" d=\"m 207,279.8 c 0.5,-0.9 2.6,-5.3 6.2,-6.1 3.3,-0.8 7.2,-0.5 8.9,0 1.7,0.5 4.7,2.1 5.8,3.5 0.9,1.4 0.9,5 0,6.3 -0.7,1 -3,2.4 -4.4,2.3 -0.5,0 -1.6,-0.5 -2.9,-1 0,-0.5 -1.7,-0.6 -2.9,-0.7 -1.2,-0.1 -2.9,0.2 -2.9,0.7 -1.3,0.6 -2,1.4 -3.5,1.1 -1.8,-0.4 -4.3,-3.9 -4.7,-5.6 h 0.1 c -0.1,0 -0.1,0.1 0.3,-0.5 z\" id=\"path107-3-6-7-8-5-9-9\" style=\"fill:#bbbdbf\"/>\n",
       "            <path class=\"st3\" d=\"m 200.7,276.1 c -4.6,0.7 -9,-1.5 -13.5,-3.4 -4.4,-1.9 -4.8,-3.6 -5.9,-4.7 z\" id=\"path109-4-2-1-4-1-9-0\" style=\"fill:#e6e7e8\"/>\n",
       "            <path class=\"st3\" d=\"m 176.7,266 c -1.2,0.5 -2.9,0.6 -5.2,0.1 -3.3,-0.7 -7.3,-2.5 -10.4,-4.6 -2.8,-2.3 -4.5,-5.6 -4.6,-7.9 -0.1,-2.3 3.1,-2.7 7,-3 3.7,-0.7 8.1,-0.6 11.4,0.1 2.4,0.5 3.8,1.3 4.7,2.3 1.6,1.8 1.3,4.2 0.7,7 -0.6,2.7 -1.4,5.1 -3.6,6 z\" id=\"path111-8-4-4-9-2-1-7\" style=\"fill:#e6e7e8\"/>\n",
       "            <path class=\"st2\" d=\"m 213.1,273.6 c -3.5,0.9 -5.6,5.3 -6.2,6.1 -0.4,0.6 -0.4,0.6 -0.4,0.6 h -0.1 c 0,0 0,-0.1 0,-0.1 0,0 0,0 0.4,-0.5 0.5,-0.9 2.6,-5.3 6.2,-6.1 3.3,-0.8 7.2,-0.5 8.9,0 1.7,0.5 4.8,2.2 5.8,3.6 0,0 0,0.1 0.1,0.1 -1.1,-1.4 -4.1,-3 -5.8,-3.5 -1.7,-0.7 -5.6,-1 -8.9,-0.2 z\" id=\"path113-1-9-8-5-6-3-8\" style=\"fill:#bbbdbf\"/>\n",
       "            <path class=\"st3\" d=\"m 200.7,276.1 -19.4,-8.2 -4.7,-2 c 2.2,-0.9 3,-3.3 3.6,-6 0.6,-2.7 0.9,-5.2 -0.7,-7 v 0 l 5.3,0.2 21,0.6 v 0 c -0.6,0.5 -1.2,1.1 -1.5,1.6 -1.1,2 2.2,1.6 0.8,9 0,0.1 0.1,0.4 0.1,0.5 0.2,0.4 0.5,0.5 0.5,0.5 -0.3,0 -0.4,0 -0.7,0.2 -0.2,0.2 -0.3,0.4 -0.3,0.5 -1.8,7.4 -5.3,5.7 -4.9,8.1 0.2,0.6 0.6,1.4 0.9,2 z\" id=\"path115-3-3-8-0-1-3-7\" style=\"fill:#e6e7e8\"/>\n",
       "            <path class=\"st3\" d=\"m 205.9,253.8 -21,-0.6 c 1.4,-0.6 2.5,-2 7.3,-1.9 4.9,0.1 9.8,0 13.7,2.5 z\" id=\"path117-6-6-0-3-6-5-0\" style=\"fill:#e6e7e8\"/>\n",
       "            <path class=\"st3\" d=\"m 206.2,279.8 c -1.4,-0.3 -3.6,-1.7 -4.5,-2.6 -0.2,-0.3 -0.6,-0.7 -0.9,-1.1 -0.4,-0.6 -0.8,-1.4 -0.9,-1.9 -0.3,-2.4 3.1,-0.7 4.9,-8.1 0,0 0.1,-0.3 0.3,-0.5 0.3,-0.2 0.4,-0.2 0.7,-0.2 0,0 -0.4,-0.1 -0.5,-0.5 0,-0.1 -0.2,-0.4 -0.1,-0.5 1.4,-7.4 -1.9,-7 -0.8,-9 0.2,-0.5 0.9,-1.1 1.5,-1.6 0.4,-0.3 0.7,-0.5 1,-0.7 1.2,-0.6 3.8,-0.7 5.6,-0.4 v 0.2 c 0,0 0,0 0.1,0.6 0.2,1 0.4,5.9 3.3,8 2.7,2 6.5,3.3 8.2,3.4 1.8,0.2 5.3,-0.2 6.8,-1.1 1.4,-0.9 2.8,-4.3 2.5,-5.9 l 0.1,0.2 c 0,0.3 0,0.6 0,1 0,0 0,0 0,0 0.4,1 0,3.4 0.5,4.4 0.4,0.8 2,1.9 2.3,3.4 0.5,2.9 -0.3,7.3 -2.2,9.6 -1.2,1.5 -3,1.7 -3.8,2.5 -0.5,0.5 -1.3,2.3 -1.9,3.4 0.4,-1.7 0.2,-4.3 -0.5,-5.3 0,0 0,-0.1 -0.1,-0.1 0,0 0,-0.1 -0.1,-0.1 -1,-1.4 -4.1,-3.1 -5.8,-3.6 -1.7,-0.5 -5.6,-0.8 -8.9,0 -3.5,0.9 -5.6,5.3 -6.2,6.1 -0.4,0.6 -0.4,0.5 -0.4,0.5 0,0 0,0.1 0,0.1 l -0.4,-0.1 c 0.1,0.1 0.1,0 0.2,-0.1 z\" id=\"path119-6-1-4-3-3-3-0\" style=\"fill:#e6e7e8\"/>\n",
       "            <path class=\"st2\" d=\"m 215.7,261.2 c -2.8,-2.2 -2.9,-7.1 -3,-8.1 -0.1,-0.7 -0.1,-0.7 -0.1,-0.7 1,-1.5 4.8,-3.7 6.7,-3.3 1.4,0.3 1.8,1.3 2.7,2.5 -0.2,0.5 1.2,1.5 2.4,1.9 1.1,0.4 2.7,1 3,0.6 v 0 c 1.3,0.1 2.6,0.1 3.1,0.3 1.2,0.5 2.8,2.7 3,3.9 0.3,1.6 -1.3,4.9 -2.8,5.8 -1.5,0.9 -5,1.1 -6.8,0.8 -1.9,-0.2 -5.6,-1.7 -8.2,-3.7 z\" id=\"path121-6-5-3-4-2-4-4\" style=\"fill:#bbbdbf\"/>\n",
       "            <path class=\"st2\" d=\"m 227.3,254.1 c -0.2,0.5 -1.8,-0.2 -3,-0.6 -1.1,-0.4 -2.5,-1.4 -2.4,-1.9 0.5,0.6 1.1,1.2 2.1,1.8 1,0.4 2.2,0.6 3.3,0.7 z\" id=\"path123-7-3-4-7-6-9-6\" style=\"fill:#bbbdbf\"/>\n",
       "            <path class=\"st1\" d=\"m 225.2,251.2 c 1.1,0.4 2.2,2.4 2,2.8 v 0 c -1.1,-0.1 -2.3,-0.3 -3.2,-0.7 -1,-0.5 -1.7,-1.2 -2.1,-1.8 0.2,-0.4 2.2,-0.7 3.3,-0.3 z\" id=\"path125-0-7-8-5-8-6-19\" style=\"fill:#6d6e70\"/>\n",
       "          </g>\n",
       "          <g id=\"g151-4-1-1-2-7-7-3\">\n",
       "            <path class=\"st4\" d=\"m 227.3,254 c 1.3,0.1 2.6,0.1 3.1,0.3 1.2,0.5 2.8,2.7 3,3.9 0.3,1.6 -1.3,4.9 -2.8,5.8 -1.5,0.9 -5,1.1 -6.8,0.8 -1.7,-0.2 -5.4,-1.6 -8.1,-3.7 -2.8,-2.2 -2.9,-7.1 -3,-8.1 -0.1,-0.7 -0.1,-0.7 -0.1,-0.7 1,-1.5 4.8,-3.7 6.7,-3.3 1.4,0.3 1.8,1.3 2.7,2.5\" id=\"path129-6-9-2-8-5-7-0\" style=\"fill:none;stroke:#231f20;stroke-width:1.0743;stroke-linejoin:round;stroke-miterlimit:10\"/>\n",
       "            <path class=\"st9\" d=\"m 227.3,254.1 c -0.2,0.5 -1.8,-0.2 -3,-0.6 -1.1,-0.4 -2.5,-1.4 -2.4,-1.9 0.2,-0.5 2.2,-0.8 3.3,-0.3 1.1,0.4 2.2,2.3 2.1,2.8\" id=\"path131-1-8-3-3-6-8-4\" style=\"fill:none;stroke:#231f20;stroke-width:1.0743;stroke-linecap:round;stroke-linejoin:round\"/>\n",
       "            <path class=\"st4\" d=\"m 220.5,284.8 c 1.3,0.5 2.4,1 2.9,1 1.3,0 3.7,-1.3 4.4,-2.3 0.9,-1.3 0.9,-4.9 0,-6.3\" id=\"path133-4-1-4-1-3-5-94\" style=\"fill:none;stroke:#231f20;stroke-width:1.0743;stroke-linejoin:round;stroke-miterlimit:10\"/>\n",
       "            <path class=\"st4\" d=\"m 206.5,280.3 c 0.4,1.8 2.9,5.2 4.7,5.6 1.4,0.3 2.2,-0.5 3.5,-1.1\" id=\"path135-2-2-7-7-0-6-7\" style=\"fill:none;stroke:#231f20;stroke-width:1.0743;stroke-linejoin:round;stroke-miterlimit:10\"/>\n",
       "            <path class=\"st9\" d=\"m 220.5,284.8 c 0,-0.5 -1.7,-0.6 -2.9,-0.7 -1.2,-0.1 -2.9,0.2 -2.9,0.7 0,0.5 1.7,1.6 2.8,1.7 1.2,0.1 3,-1.2 3,-1.7 z\" id=\"path137-4-2-8-8-9-9-4\" style=\"fill:none;stroke:#231f20;stroke-width:1.0743;stroke-linecap:round;stroke-linejoin:round\"/>\n",
       "            <line class=\"st4\" x1=\"184.89999\" y1=\"253.10001\" x2=\"179.60001\" y2=\"253\" id=\"line139-9-0-0-9-4-4-4\" style=\"fill:none;stroke:#231f20;stroke-width:1.0743;stroke-linejoin:round;stroke-miterlimit:10\"/>\n",
       "            <path class=\"st4\" d=\"m 205.9,253.8 c -3.9,-2.5 -8.8,-2.4 -13.7,-2.5 -4.8,-0.1 -5.9,1.3 -7.3,1.9 z\" id=\"path141-0-5-8-2-3-4-9\" style=\"fill:none;stroke:#231f20;stroke-width:1.0743;stroke-linejoin:round;stroke-miterlimit:10\"/>\n",
       "            <path class=\"st4\" d=\"m 181.4,268 c 1.1,1.1 1.4,2.9 5.9,4.7 4.5,1.9 8.9,4.1 13.5,3.4 z\" id=\"path143-2-6-4-6-1-5-0\" style=\"fill:none;stroke:#231f20;stroke-width:1.0743;stroke-linejoin:round;stroke-miterlimit:10\"/>\n",
       "            <line class=\"st4\" x1=\"176.7\" y1=\"266\" x2=\"181.39999\" y2=\"268\" id=\"line145-1-3-6-9-4-1-0\" style=\"fill:none;stroke:#231f20;stroke-width:1.0743;stroke-linejoin:round;stroke-miterlimit:10\"/>\n",
       "            <path class=\"st4\" d=\"m 227.8,277.2 c 0,0 0,0 0,0 0.8,1.1 1,3.7 0.6,5.4 0.6,-1.1 1.4,-2.9 1.9,-3.4 0.8,-0.8 2.6,-1.1 3.8,-2.5 1.9,-2.3 2.7,-6.7 2.2,-9.6 -0.2,-1.5 -1.9,-2.6 -2.3,-3.4 -0.5,-0.9 -0.1,-3.4 -0.5,-4.4 0,0 0,0 0,0 0.1,-0.4 0.1,-0.7 0,-1 l -0.1,-0.2 c 0.3,1.6 -1.1,5 -2.5,5.9 -1.5,0.9 -5,1.3 -6.8,1.1 -1.7,-0.1 -5.5,-1.4 -8.2,-3.4 -2.9,-2.1 -3.2,-7 -3.3,-8 -0.1,-0.7 -0.1,-0.6 -0.1,-0.6 v -0.2 c -1.7,-0.3 -4.4,-0.1 -5.6,0.4 -0.3,0.1 -0.7,0.4 -1,0.7 -0.6,0.5 -1.2,1.1 -1.5,1.6 -1.1,2 2.2,1.6 0.8,9 0,0.1 0.1,0.4 0.1,0.5 0.2,0.4 0.5,0.5 0.5,0.5 -0.3,0 -0.4,0 -0.7,0.2 -0.2,0.2 -0.3,0.4 -0.3,0.5 -1.8,7.4 -5.3,5.7 -4.9,8.1 0.1,0.5 0.5,1.2 0.9,1.9 0.3,0.4 0.6,0.8 0.9,1.1 0.9,0.9 3.1,2.3 4.5,2.6 0,0.1 -0.1,0.2 -0.1,0.3 l 0.4,0.1 h 0.1 c 0,0 0,0 0.4,-0.6 0.5,-0.9 2.6,-5.3 6.2,-6.1 3.3,-0.8 7.2,-0.5 8.9,0 1.6,0.5 4.6,2.1 5.7,3.5 z\" id=\"path147-6-6-6-4-9-9-5\" style=\"fill:none;stroke:#231f20;stroke-width:1.0743;stroke-linejoin:round;stroke-miterlimit:10\"/>\n",
       "            <path class=\"st4\" d=\"m 176.7,266 c -1.2,0.5 -2.9,0.6 -5.2,0.1 -3.3,-0.7 -7.3,-2.5 -10.4,-4.6 -2.8,-2.3 -4.5,-5.6 -4.6,-7.9 -0.1,-2.3 3.1,-2.7 7,-3 3.7,-0.7 8.1,-0.6 11.4,0.1 2.4,0.5 3.8,1.3 4.7,2.3 1.6,1.8 1.3,4.2 0.7,7 -0.6,2.7 -1.4,5.1 -3.6,6 z\" id=\"path149-4-4-1-0-1-1-1\" style=\"fill:none;stroke:#231f20;stroke-width:1.0743;stroke-linejoin:round;stroke-miterlimit:10\"/>\n",
       "          </g>\n",
       "        </g>\n",
       "        <ellipse style=\"opacity:1;fill:#0173b2;fill-opacity:1;stroke:none;stroke-width:0.0297271\" id=\"path1342-0-2-9-0-4-6-6-2-1-8-8-0\" cx=\"-204.59995\" cy=\"-267.50882\" rx=\"0.68925464\" ry=\"0.67694646\" transform=\"matrix(0.85555255,0.51771598,0.51771598,-0.85555255,0,0)\"/>\n",
       "        <ellipse style=\"fill:#de8f05;fill-opacity:1;stroke:none;stroke-width:0.0297271\" id=\"path1342-0-2-3-0-5-7-7-7-8-7-9\" cx=\"-196.04614\" cy=\"283.44009\" rx=\"0.68925464\" ry=\"0.67694646\" transform=\"rotate(35.709207)\"/>\n",
       "      </g>\n",
       "    </g>\n",
       "    <g id=\"g15749\" transform=\"translate(-7.1942031,-10.312436)\">\n",
       "      <g id=\"g7355-8-10-6\" transform=\"matrix(0.09111353,0.06549392,-0.06549392,0.09111353,-125.64238,77.045967)\">\n",
       "        <path sodipodi:nodetypes=\"cc\" id=\"path3168-7-5-3\" d=\"m 246.68381,608.55924 -128.2272,92.17184\" style=\"fill:none;fill-rule:evenodd;stroke:#343434;stroke-width:2.45564;stroke-linecap:butt;stroke-linejoin:miter;stroke-miterlimit:4;stroke-dasharray:none;stroke-opacity:1\"/>\n",
       "        <path sodipodi:nodetypes=\"cccc\" id=\"path2396-4-1-7\" d=\"m 241.67073,603.76831 16.0721,-3.13989 -8.15346,14.10696 z\" style=\"fill:#343434;fill-opacity:1;fill-rule:evenodd;stroke:none;stroke-width:1.22782px;stroke-linecap:butt;stroke-linejoin:miter;stroke-opacity:1\"/>\n",
       "      </g>\n",
       "      <text id=\"text3194-5-7-5\" y=\"153.78394\" x=\"-152.15401\" style=\"font-style:italic;font-variant:normal;font-weight:normal;font-stretch:normal;font-size:3.17499px;line-height:0%;font-family:'Times New Roman';-inkscape-font-specification:'Times New Roman Italic';text-align:start;writing-mode:lr-tb;text-anchor:start;fill:#343434;fill-opacity:1;stroke:none;stroke-width:0.264584px;stroke-linecap:butt;stroke-linejoin:miter;stroke-opacity:1\" xml:space=\"preserve\"><tspan y=\"153.78394\" x=\"-152.15401\" id=\"tspan3196-55-6-8\" sodipodi:role=\"line\" style=\"font-size:6.35001px;line-height:1.25;stroke-width:0.264584px\">x</tspan></text>\n",
       "      <g id=\"g7355-6-3-7-6\" transform=\"matrix(0.06549392,-0.09111353,0.09111353,0.06549392,-232.34728,113.54962)\">\n",
       "        <path sodipodi:nodetypes=\"cc\" id=\"path3168-2-5-4-9\" d=\"m 246.68381,608.55924 -128.2272,92.17184\" style=\"fill:none;fill-rule:evenodd;stroke:#343434;stroke-width:2.45564;stroke-linecap:butt;stroke-linejoin:miter;stroke-miterlimit:4;stroke-dasharray:none;stroke-opacity:1\"/>\n",
       "        <path sodipodi:nodetypes=\"cccc\" id=\"path2396-3-3-8-4\" d=\"m 241.67073,603.76831 16.0721,-3.13989 -8.15346,14.10696 z\" style=\"fill:#343434;fill-opacity:1;fill-rule:evenodd;stroke:none;stroke-width:1.22782px;stroke-linecap:butt;stroke-linejoin:miter;stroke-opacity:1\"/>\n",
       "      </g>\n",
       "      <text id=\"text3194-3-2-1-6\" y=\"140.20279\" x=\"-166.74913\" style=\"font-style:italic;font-variant:normal;font-weight:normal;font-stretch:normal;font-size:3.17499px;line-height:0%;font-family:'Times New Roman';-inkscape-font-specification:'Times New Roman Italic';text-align:start;writing-mode:lr-tb;text-anchor:start;fill:#343434;fill-opacity:1;stroke:none;stroke-width:0.264584px;stroke-linecap:butt;stroke-linejoin:miter;stroke-opacity:1\" xml:space=\"preserve\"><tspan y=\"140.20279\" x=\"-166.74913\" id=\"tspan3196-0-9-87-5\" sodipodi:role=\"line\" style=\"font-size:6.35001px;line-height:1.25;stroke-width:0.264584px\">y</tspan></text>\n",
       "      <g id=\"g12852-6\" transform=\"translate(177.04788,4.05183)\">\n",
       "        <path style=\"fill:#e6e7e8;fill-opacity:1;stroke:#231f20;stroke-width:0.229049;stroke-dasharray:none;stroke-opacity:1\" d=\"m -291.92192,139.53763 c 0,0 -4.40055,1.23184 -7.47261,-1.13297 -3.84623,-2.96074 -3.62076,-4.68824 -8.17076,-9.062 -4.82876,-4.64173 -7.17665,-5.46202 -7.17665,-5.46202 l 1.35192,-1.96577 c 4.50548,2.74191 7.67831,6.93803 10.75317,10.72268 1.16296,2.07387 2.44246,3.93587 4.10091,4.93035 1.89035,1.13355 3.74036,1.70548 5.96565,1.13773 1.19847,-0.30576 1.63648,-0.0831 1.63648,-0.0831 z\" id=\"path13375-8-6-5-2-9-9\" sodipodi:nodetypes=\"csscccsscc\"/>\n",
       "        <g id=\"XMLID_178_-6-8-9-5-1-4-1-1\" transform=\"matrix(-0.14920681,-0.15547823,-0.15547823,0.14920681,-250.06673,109.84127)\">\n",
       "          <g id=\"g127-6-3-7-8-7-9-7-9\">\n",
       "            <path class=\"st1\" d=\"m 217.5,286.5 c -1.2,-0.1 -2.9,-1.2 -2.8,-1.7 0.7,-0.3 1.5,-0.6 2.7,-0.7 1,-0.1 2.1,0.3 3.2,0.7 -0.1,0.5 -1.9,1.8 -3.1,1.7 z\" id=\"path103-1-2-9-6-3-6-8-7\" style=\"fill:#6d6e70\"/>\n",
       "            <path class=\"st2\" d=\"m 214.7,284.8 c 0,-0.5 1.7,-0.8 2.9,-0.7 1.2,0.1 2.9,0.2 2.9,0.7 -1,-0.4 -2.2,-0.7 -3.2,-0.7 -1.1,0.1 -1.9,0.4 -2.6,0.7 z\" id=\"path105-2-7-1-1-3-2-1-2\" style=\"fill:#bbbdbf\"/>\n",
       "            <path class=\"st2\" d=\"m 207,279.8 c 0.5,-0.9 2.6,-5.3 6.2,-6.1 3.3,-0.8 7.2,-0.5 8.9,0 1.7,0.5 4.7,2.1 5.8,3.5 0.9,1.4 0.9,5 0,6.3 -0.7,1 -3,2.4 -4.4,2.3 -0.5,0 -1.6,-0.5 -2.9,-1 0,-0.5 -1.7,-0.6 -2.9,-0.7 -1.2,-0.1 -2.9,0.2 -2.9,0.7 -1.3,0.6 -2,1.4 -3.5,1.1 -1.8,-0.4 -4.3,-3.9 -4.7,-5.6 h 0.1 c -0.1,0 -0.1,0.1 0.3,-0.5 z\" id=\"path107-3-6-7-8-5-9-9-0\" style=\"fill:#bbbdbf\"/>\n",
       "            <path class=\"st3\" d=\"m 200.7,276.1 c -4.6,0.7 -9,-1.5 -13.5,-3.4 -4.4,-1.9 -4.8,-3.6 -5.9,-4.7 z\" id=\"path109-4-2-1-4-1-9-0-7\" style=\"fill:#e6e7e8\"/>\n",
       "            <path class=\"st3\" d=\"m 176.7,266 c -1.2,0.5 -2.9,0.6 -5.2,0.1 -3.3,-0.7 -7.3,-2.5 -10.4,-4.6 -2.8,-2.3 -4.5,-5.6 -4.6,-7.9 -0.1,-2.3 3.1,-2.7 7,-3 3.7,-0.7 8.1,-0.6 11.4,0.1 2.4,0.5 3.8,1.3 4.7,2.3 1.6,1.8 1.3,4.2 0.7,7 -0.6,2.7 -1.4,5.1 -3.6,6 z\" id=\"path111-8-4-4-9-2-1-7-1\" style=\"fill:#e6e7e8\"/>\n",
       "            <path class=\"st2\" d=\"m 213.1,273.6 c -3.5,0.9 -5.6,5.3 -6.2,6.1 -0.4,0.6 -0.4,0.6 -0.4,0.6 h -0.1 c 0,0 0,-0.1 0,-0.1 0,0 0,0 0.4,-0.5 0.5,-0.9 2.6,-5.3 6.2,-6.1 3.3,-0.8 7.2,-0.5 8.9,0 1.7,0.5 4.8,2.2 5.8,3.6 0,0 0,0.1 0.1,0.1 -1.1,-1.4 -4.1,-3 -5.8,-3.5 -1.7,-0.7 -5.6,-1 -8.9,-0.2 z\" id=\"path113-1-9-8-5-6-3-8-9\" style=\"fill:#bbbdbf\"/>\n",
       "            <path class=\"st3\" d=\"m 200.7,276.1 -19.4,-8.2 -4.7,-2 c 2.2,-0.9 3,-3.3 3.6,-6 0.6,-2.7 0.9,-5.2 -0.7,-7 v 0 l 5.3,0.2 21,0.6 v 0 c -0.6,0.5 -1.2,1.1 -1.5,1.6 -1.1,2 2.2,1.6 0.8,9 0,0.1 0.1,0.4 0.1,0.5 0.2,0.4 0.5,0.5 0.5,0.5 -0.3,0 -0.4,0 -0.7,0.2 -0.2,0.2 -0.3,0.4 -0.3,0.5 -1.8,7.4 -5.3,5.7 -4.9,8.1 0.2,0.6 0.6,1.4 0.9,2 z\" id=\"path115-3-3-8-0-1-3-7-6\" style=\"fill:#e6e7e8\"/>\n",
       "            <path class=\"st3\" d=\"m 205.9,253.8 -21,-0.6 c 1.4,-0.6 2.5,-2 7.3,-1.9 4.9,0.1 9.8,0 13.7,2.5 z\" id=\"path117-6-6-0-3-6-5-0-1\" style=\"fill:#e6e7e8\"/>\n",
       "            <path class=\"st3\" d=\"m 206.2,279.8 c -1.4,-0.3 -3.6,-1.7 -4.5,-2.6 -0.2,-0.3 -0.6,-0.7 -0.9,-1.1 -0.4,-0.6 -0.8,-1.4 -0.9,-1.9 -0.3,-2.4 3.1,-0.7 4.9,-8.1 0,0 0.1,-0.3 0.3,-0.5 0.3,-0.2 0.4,-0.2 0.7,-0.2 0,0 -0.4,-0.1 -0.5,-0.5 0,-0.1 -0.2,-0.4 -0.1,-0.5 1.4,-7.4 -1.9,-7 -0.8,-9 0.2,-0.5 0.9,-1.1 1.5,-1.6 0.4,-0.3 0.7,-0.5 1,-0.7 1.2,-0.6 3.8,-0.7 5.6,-0.4 v 0.2 c 0,0 0,0 0.1,0.6 0.2,1 0.4,5.9 3.3,8 2.7,2 6.5,3.3 8.2,3.4 1.8,0.2 5.3,-0.2 6.8,-1.1 1.4,-0.9 2.8,-4.3 2.5,-5.9 l 0.1,0.2 c 0,0.3 0,0.6 0,1 0,0 0,0 0,0 0.4,1 0,3.4 0.5,4.4 0.4,0.8 2,1.9 2.3,3.4 0.5,2.9 -0.3,7.3 -2.2,9.6 -1.2,1.5 -3,1.7 -3.8,2.5 -0.5,0.5 -1.3,2.3 -1.9,3.4 0.4,-1.7 0.2,-4.3 -0.5,-5.3 0,0 0,-0.1 -0.1,-0.1 0,0 0,-0.1 -0.1,-0.1 -1,-1.4 -4.1,-3.1 -5.8,-3.6 -1.7,-0.5 -5.6,-0.8 -8.9,0 -3.5,0.9 -5.6,5.3 -6.2,6.1 -0.4,0.6 -0.4,0.5 -0.4,0.5 0,0 0,0.1 0,0.1 l -0.4,-0.1 c 0.1,0.1 0.1,0 0.2,-0.1 z\" id=\"path119-6-1-4-3-3-3-0-7\" style=\"fill:#e6e7e8\"/>\n",
       "            <path class=\"st2\" d=\"m 215.7,261.2 c -2.8,-2.2 -2.9,-7.1 -3,-8.1 -0.1,-0.7 -0.1,-0.7 -0.1,-0.7 1,-1.5 4.8,-3.7 6.7,-3.3 1.4,0.3 1.8,1.3 2.7,2.5 -0.2,0.5 1.2,1.5 2.4,1.9 1.1,0.4 2.7,1 3,0.6 v 0 c 1.3,0.1 2.6,0.1 3.1,0.3 1.2,0.5 2.8,2.7 3,3.9 0.3,1.6 -1.3,4.9 -2.8,5.8 -1.5,0.9 -5,1.1 -6.8,0.8 -1.9,-0.2 -5.6,-1.7 -8.2,-3.7 z\" id=\"path121-6-5-3-4-2-4-4-5\" style=\"fill:#bbbdbf\"/>\n",
       "            <path class=\"st2\" d=\"m 227.3,254.1 c -0.2,0.5 -1.8,-0.2 -3,-0.6 -1.1,-0.4 -2.5,-1.4 -2.4,-1.9 0.5,0.6 1.1,1.2 2.1,1.8 1,0.4 2.2,0.6 3.3,0.7 z\" id=\"path123-7-3-4-7-6-9-6-1\" style=\"fill:#bbbdbf\"/>\n",
       "            <path class=\"st1\" d=\"m 225.2,251.2 c 1.1,0.4 2.2,2.4 2,2.8 v 0 c -1.1,-0.1 -2.3,-0.3 -3.2,-0.7 -1,-0.5 -1.7,-1.2 -2.1,-1.8 0.2,-0.4 2.2,-0.7 3.3,-0.3 z\" id=\"path125-0-7-8-5-8-6-19-7\" style=\"fill:#6d6e70\"/>\n",
       "          </g>\n",
       "          <g id=\"g151-4-1-1-2-7-7-3-1\">\n",
       "            <path class=\"st4\" d=\"m 227.3,254 c 1.3,0.1 2.6,0.1 3.1,0.3 1.2,0.5 2.8,2.7 3,3.9 0.3,1.6 -1.3,4.9 -2.8,5.8 -1.5,0.9 -5,1.1 -6.8,0.8 -1.7,-0.2 -5.4,-1.6 -8.1,-3.7 -2.8,-2.2 -2.9,-7.1 -3,-8.1 -0.1,-0.7 -0.1,-0.7 -0.1,-0.7 1,-1.5 4.8,-3.7 6.7,-3.3 1.4,0.3 1.8,1.3 2.7,2.5\" id=\"path129-6-9-2-8-5-7-0-3\" style=\"fill:none;stroke:#231f20;stroke-width:1.0743;stroke-linejoin:round;stroke-miterlimit:10\"/>\n",
       "            <path class=\"st9\" d=\"m 227.3,254.1 c -0.2,0.5 -1.8,-0.2 -3,-0.6 -1.1,-0.4 -2.5,-1.4 -2.4,-1.9 0.2,-0.5 2.2,-0.8 3.3,-0.3 1.1,0.4 2.2,2.3 2.1,2.8\" id=\"path131-1-8-3-3-6-8-4-8\" style=\"fill:none;stroke:#231f20;stroke-width:1.0743;stroke-linecap:round;stroke-linejoin:round\"/>\n",
       "            <path class=\"st4\" d=\"m 220.5,284.8 c 1.3,0.5 2.4,1 2.9,1 1.3,0 3.7,-1.3 4.4,-2.3 0.9,-1.3 0.9,-4.9 0,-6.3\" id=\"path133-4-1-4-1-3-5-94-7\" style=\"fill:none;stroke:#231f20;stroke-width:1.0743;stroke-linejoin:round;stroke-miterlimit:10\"/>\n",
       "            <path class=\"st4\" d=\"m 206.5,280.3 c 0.4,1.8 2.9,5.2 4.7,5.6 1.4,0.3 2.2,-0.5 3.5,-1.1\" id=\"path135-2-2-7-7-0-6-7-4\" style=\"fill:none;stroke:#231f20;stroke-width:1.0743;stroke-linejoin:round;stroke-miterlimit:10\"/>\n",
       "            <path class=\"st9\" d=\"m 220.5,284.8 c 0,-0.5 -1.7,-0.6 -2.9,-0.7 -1.2,-0.1 -2.9,0.2 -2.9,0.7 0,0.5 1.7,1.6 2.8,1.7 1.2,0.1 3,-1.2 3,-1.7 z\" id=\"path137-4-2-8-8-9-9-4-5\" style=\"fill:none;stroke:#231f20;stroke-width:1.0743;stroke-linecap:round;stroke-linejoin:round\"/>\n",
       "            <line class=\"st4\" x1=\"184.89999\" y1=\"253.10001\" x2=\"179.60001\" y2=\"253\" id=\"line139-9-0-0-9-4-4-4-1\" style=\"fill:none;stroke:#231f20;stroke-width:1.0743;stroke-linejoin:round;stroke-miterlimit:10\"/>\n",
       "            <path class=\"st4\" d=\"m 205.9,253.8 c -3.9,-2.5 -8.8,-2.4 -13.7,-2.5 -4.8,-0.1 -5.9,1.3 -7.3,1.9 z\" id=\"path141-0-5-8-2-3-4-9-2\" style=\"fill:none;stroke:#231f20;stroke-width:1.0743;stroke-linejoin:round;stroke-miterlimit:10\"/>\n",
       "            <path class=\"st4\" d=\"m 181.4,268 c 1.1,1.1 1.4,2.9 5.9,4.7 4.5,1.9 8.9,4.1 13.5,3.4 z\" id=\"path143-2-6-4-6-1-5-0-8\" style=\"fill:none;stroke:#231f20;stroke-width:1.0743;stroke-linejoin:round;stroke-miterlimit:10\"/>\n",
       "            <line class=\"st4\" x1=\"176.7\" y1=\"266\" x2=\"181.39999\" y2=\"268\" id=\"line145-1-3-6-9-4-1-0-2\" style=\"fill:none;stroke:#231f20;stroke-width:1.0743;stroke-linejoin:round;stroke-miterlimit:10\"/>\n",
       "            <path class=\"st4\" d=\"m 227.8,277.2 c 0,0 0,0 0,0 0.8,1.1 1,3.7 0.6,5.4 0.6,-1.1 1.4,-2.9 1.9,-3.4 0.8,-0.8 2.6,-1.1 3.8,-2.5 1.9,-2.3 2.7,-6.7 2.2,-9.6 -0.2,-1.5 -1.9,-2.6 -2.3,-3.4 -0.5,-0.9 -0.1,-3.4 -0.5,-4.4 0,0 0,0 0,0 0.1,-0.4 0.1,-0.7 0,-1 l -0.1,-0.2 c 0.3,1.6 -1.1,5 -2.5,5.9 -1.5,0.9 -5,1.3 -6.8,1.1 -1.7,-0.1 -5.5,-1.4 -8.2,-3.4 -2.9,-2.1 -3.2,-7 -3.3,-8 -0.1,-0.7 -0.1,-0.6 -0.1,-0.6 v -0.2 c -1.7,-0.3 -4.4,-0.1 -5.6,0.4 -0.3,0.1 -0.7,0.4 -1,0.7 -0.6,0.5 -1.2,1.1 -1.5,1.6 -1.1,2 2.2,1.6 0.8,9 0,0.1 0.1,0.4 0.1,0.5 0.2,0.4 0.5,0.5 0.5,0.5 -0.3,0 -0.4,0 -0.7,0.2 -0.2,0.2 -0.3,0.4 -0.3,0.5 -1.8,7.4 -5.3,5.7 -4.9,8.1 0.1,0.5 0.5,1.2 0.9,1.9 0.3,0.4 0.6,0.8 0.9,1.1 0.9,0.9 3.1,2.3 4.5,2.6 0,0.1 -0.1,0.2 -0.1,0.3 l 0.4,0.1 h 0.1 c 0,0 0,0 0.4,-0.6 0.5,-0.9 2.6,-5.3 6.2,-6.1 3.3,-0.8 7.2,-0.5 8.9,0 1.6,0.5 4.6,2.1 5.7,3.5 z\" id=\"path147-6-6-6-4-9-9-5-8\" style=\"fill:none;stroke:#231f20;stroke-width:1.0743;stroke-linejoin:round;stroke-miterlimit:10\"/>\n",
       "            <path class=\"st4\" d=\"m 176.7,266 c -1.2,0.5 -2.9,0.6 -5.2,0.1 -3.3,-0.7 -7.3,-2.5 -10.4,-4.6 -2.8,-2.3 -4.5,-5.6 -4.6,-7.9 -0.1,-2.3 3.1,-2.7 7,-3 3.7,-0.7 8.1,-0.6 11.4,0.1 2.4,0.5 3.8,1.3 4.7,2.3 1.6,1.8 1.3,4.2 0.7,7 -0.6,2.7 -1.4,5.1 -3.6,6 z\" id=\"path149-4-4-1-0-1-1-1-1\" style=\"fill:none;stroke:#231f20;stroke-width:1.0743;stroke-linejoin:round;stroke-miterlimit:10\"/>\n",
       "          </g>\n",
       "        </g>\n",
       "        <ellipse style=\"fill:#de8f05;fill-opacity:1;stroke:none;stroke-width:0.0297271\" id=\"path1342-0-2-3-0-5-7-7-7-8-7-9-3\" cx=\"-196.04614\" cy=\"283.44009\" rx=\"0.68925464\" ry=\"0.67694646\" transform=\"rotate(35.709207)\"/>\n",
       "      </g>\n",
       "      <g id=\"g7355-2-8-17-9\" transform=\"matrix(0.09111353,0.06549392,-0.06549392,0.09111353,-112.31665,48.251196)\">\n",
       "        <path sodipodi:nodetypes=\"cc\" id=\"path3168-23-0-7-9\" d=\"m 246.68381,608.55924 -128.2272,92.17184\" style=\"fill:none;fill-rule:evenodd;stroke:#343434;stroke-width:2.45564;stroke-linecap:butt;stroke-linejoin:miter;stroke-miterlimit:4;stroke-dasharray:none;stroke-opacity:1\"/>\n",
       "        <path sodipodi:nodetypes=\"cccc\" id=\"path2396-1-6-6-6\" d=\"m 241.67073,603.76831 16.0721,-3.13989 -8.15346,14.10696 z\" style=\"fill:#343434;fill-opacity:1;fill-rule:evenodd;stroke:none;stroke-width:1.22782px;stroke-linecap:butt;stroke-linejoin:miter;stroke-opacity:1\"/>\n",
       "      </g>\n",
       "      <text id=\"text3194-3-8-07-0-2\" y=\"103.453\" x=\"-146.17657\" style=\"font-style:italic;font-variant:normal;font-weight:normal;font-stretch:normal;font-size:3.17499px;line-height:0%;font-family:'Times New Roman';-inkscape-font-specification:'Times New Roman Italic';text-align:start;writing-mode:lr-tb;text-anchor:start;fill:#de8f05;fill-opacity:1;stroke:none;stroke-width:0.264584px;stroke-linecap:butt;stroke-linejoin:miter;stroke-opacity:1\" xml:space=\"preserve\"><tspan y=\"103.453\" x=\"-146.17657\" id=\"tspan3196-0-7-2-8-3\" sodipodi:role=\"line\" style=\"font-size:6.35001px;line-height:1.25;fill:#de8f05;fill-opacity:1;stroke-width:0.264584px\">head </tspan></text>\n",
       "      <g id=\"g7859-6-0\" transform=\"matrix(-0.03193841,-0.10259345,0.10259345,-0.03193841,-198.03112,154.3428)\">\n",
       "        <path sodipodi:nodetypes=\"cc\" id=\"path3168-8-8-69-8\" d=\"m 294.66892,452.98698 -128.2272,92.17184\" style=\"fill:none;fill-rule:evenodd;stroke:#343434;stroke-width:2.45564;stroke-linecap:butt;stroke-linejoin:miter;stroke-miterlimit:4;stroke-dasharray:none;stroke-opacity:1\"/>\n",
       "        <path sodipodi:nodetypes=\"cccc\" id=\"path2396-2-2-2-2\" d=\"m 289.65584,448.19605 16.0721,-3.13989 -8.15346,14.10696 z\" style=\"fill:#343434;fill-opacity:1;fill-rule:evenodd;stroke:none;stroke-width:1.22782px;stroke-linecap:butt;stroke-linejoin:miter;stroke-opacity:1\"/>\n",
       "      </g>\n",
       "      <g id=\"g7907-1-4\" transform=\"matrix(0.17497607,0.1257757,-0.1257757,0.17497607,-145.51564,-7.1389818)\">\n",
       "        <g id=\"g8169-8-2\" transform=\"rotate(14.186222,326.98295,405.5066)\">\n",
       "          <path sodipodi:end=\"4.8327761\" sodipodi:start=\"2.326144\" sodipodi:type=\"arc\" style=\"fill:none;fill-opacity:1;fill-rule:evenodd;stroke:#de8f05;stroke-width:2.45564;stroke-linecap:butt;stroke-linejoin:miter;stroke-miterlimit:4;stroke-dasharray:9.82255, 4.91127;stroke-dashoffset:0;stroke-opacity:1\" id=\"path3172-1-6-3\" sodipodi:cx=\"568.66089\" sodipodi:cy=\"156.22174\" sodipodi:rx=\"54.243294\" sodipodi:ry=\"54.243294\" transform=\"rotate(37.056234)\" sodipodi:arc-type=\"arc\" sodipodi:open=\"true\" d=\"m 531.47484,195.71266 a 54.243294,54.243294 0 0 1 -11.93982,-62.49057 54.243294,54.243294 0 0 1 55.6403,-30.85104\"/>\n",
       "          <path inkscape:transform-center-y=\"0.9063301\" inkscape:transform-center-x=\"7.5718314\" sodipodi:nodetypes=\"cccc\" id=\"path3228-7-0-43\" d=\"m 313.23212,473.65034 -4.99988,15.59398 -8.42637,-13.94566 z\" style=\"fill:#de8f05;fill-opacity:1;fill-rule:evenodd;stroke:none;stroke-width:1.22782px;stroke-linecap:butt;stroke-linejoin:miter;stroke-opacity:1\"/>\n",
       "        </g>\n",
       "      </g>\n",
       "      <text id=\"text3194-3-8-07-62-8-5\" y=\"113.74087\" x=\"-145.01111\" style=\"font-style:italic;font-variant:normal;font-weight:normal;font-stretch:normal;font-size:3.17499px;line-height:0%;font-family:'Times New Roman';-inkscape-font-specification:'Times New Roman Italic';text-align:start;writing-mode:lr-tb;text-anchor:start;fill:#de8f05;fill-opacity:1;stroke:none;stroke-width:0.264584px;stroke-linecap:butt;stroke-linejoin:miter;stroke-opacity:1\" xml:space=\"preserve\"><tspan y=\"113.74087\" x=\"-145.01111\" id=\"tspan3196-0-7-2-5-3-6\" sodipodi:role=\"line\" style=\"font-size:6.35001px;line-height:1.25;fill:#de8f05;fill-opacity:1;stroke-width:0.264584px\">θ</tspan></text>\n",
       "      <g id=\"g10678-8\" transform=\"translate(-221.03872,299.98393)\">\n",
       "        <g id=\"g9587-5-5\" transform=\"translate(131.51082,9.4873754)\">\n",
       "          <text id=\"text3194-3-8-07-6-2-6-5-8\" y=\"-213.63268\" x=\"-36.728233\" style=\"font-style:italic;font-variant:normal;font-weight:normal;font-stretch:normal;font-size:3.17499px;line-height:0%;font-family:'Times New Roman';-inkscape-font-specification:'Times New Roman Italic';text-align:start;writing-mode:lr-tb;text-anchor:start;fill:#de8f05;fill-opacity:1;stroke:none;stroke-width:0.264584px;stroke-linecap:butt;stroke-linejoin:miter;stroke-opacity:1\" xml:space=\"preserve\"><tspan y=\"-213.63268\" x=\"-36.728233\" id=\"tspan3196-0-7-2-1-9-4-3-0\" sodipodi:role=\"line\" style=\"font-size:6.35001px;line-height:1.25;fill:#de8f05;fill-opacity:1;stroke-width:0.264584px\">x</tspan><tspan y=\"-205.69516\" x=\"-36.728233\" sodipodi:role=\"line\" style=\"font-size:6.35001px;line-height:1.25;fill:#de8f05;fill-opacity:1;stroke-width:0.264584px\" id=\"tspan9552-30-9\">y</tspan><tspan y=\"-197.75764\" x=\"-36.728233\" sodipodi:role=\"line\" style=\"font-size:6.35001px;line-height:1.25;fill:#de8f05;fill-opacity:1;stroke-width:0.264584px\" id=\"tspan10620-4\">θ</tspan><tspan y=\"-194.511\" x=\"-36.728233\" sodipodi:role=\"line\" style=\"font-size:6.35001px;line-height:1.25;fill:#de8f05;fill-opacity:1;stroke-width:0.264584px\" id=\"tspan10618-8\"/></text>\n",
       "          <text id=\"text3194-3-8-07-6-2-8-5-8\" y=\"-127.80378\" x=\"-64.774483\" style=\"font-style:italic;font-variant:normal;font-weight:normal;font-stretch:normal;font-size:5.14117px;line-height:0%;font-family:'Times New Roman';-inkscape-font-specification:'Times New Roman Italic';text-align:start;writing-mode:lr-tb;text-anchor:start;fill:#de8f05;fill-opacity:1;stroke:none;stroke-width:0.428432px;stroke-linecap:butt;stroke-linejoin:miter;stroke-opacity:1\" xml:space=\"preserve\" transform=\"scale(0.61756235,1.6192697)\"><tspan y=\"-127.80378\" x=\"-64.774483\" id=\"tspan3196-0-7-2-1-9-0-8-2\" sodipodi:role=\"line\" style=\"font-size:10.2824px;line-height:1.25;fill:#de8f05;fill-opacity:1;stroke-width:0.428432px\"> </tspan><tspan y=\"-122.54656\" x=\"-64.774483\" sodipodi:role=\"line\" style=\"font-size:10.2824px;line-height:1.25;fill:#de8f05;fill-opacity:1;stroke-width:0.428432px\" id=\"tspan10612-1\"/></text>\n",
       "        </g>\n",
       "        <g id=\"g9587-4-8\" transform=\"translate(150.22064,16.290947)\">\n",
       "          <text id=\"text3194-3-8-07-6-2-8-8-3\" y=\"-106.88215\" x=\"-115.50914\" style=\"font-style:italic;font-variant:normal;font-weight:normal;font-stretch:normal;font-size:6.19063px;line-height:0%;font-family:'Times New Roman';-inkscape-font-specification:'Times New Roman Italic';text-align:start;writing-mode:lr-tb;text-anchor:start;fill:#de8f05;fill-opacity:1;stroke:none;stroke-width:0.515887px;stroke-linecap:butt;stroke-linejoin:miter;stroke-opacity:1\" xml:space=\"preserve\" transform=\"scale(0.51287085,1.9498086)\"><tspan y=\"-106.88215\" x=\"-115.50914\" id=\"tspan3196-0-7-2-1-9-0-4-0\" sodipodi:role=\"line\" style=\"font-style:normal;font-variant:normal;font-weight:normal;font-stretch:normal;font-size:12.3813px;line-height:1.25;font-family:'Times New Roman';-inkscape-font-specification:'Times New Roman, ';fill:#de8f05;fill-opacity:1;stroke-width:0.515887px\">(    )</tspan></text>\n",
       "        </g>\n",
       "      </g>\n",
       "    </g>\n",
       "    <path style=\"fill:none;stroke:#000000;stroke-width:0.264583px;stroke-linecap:butt;stroke-linejoin:miter;stroke-opacity:1\" d=\"M -185.37486,-50.495048 V 229.87068\" id=\"path16788\" sodipodi:nodetypes=\"cc\"/>\n",
       "    <path style=\"fill:none;stroke:#000000;stroke-width:0.288495px;stroke-linecap:butt;stroke-linejoin:miter;stroke-opacity:1\" d=\"M -86.608871,229.87068 H -342.0888\" id=\"path16792-5\"/>\n",
       "    <text xml:space=\"preserve\" style=\"font-style:normal;font-weight:normal;font-size:8.81944px;line-height:1.25;font-family:sans-serif;fill:#000000;fill-opacity:1;stroke:none;stroke-width:0.264583\" x=\"-206.0408\" y=\"-54.942551\" id=\"text1289-7\"><tspan sodipodi:role=\"line\" id=\"tspan1287-2\" x=\"-206.0408\" y=\"-54.942551\" style=\"font-style:italic;font-variant:normal;font-weight:300;font-stretch:normal;font-size:8.81944px;font-family:Calibri;-inkscape-font-specification:'Calibri Light Italic';stroke-width:0.264583\">data format</tspan></text>\n",
       "    <text xml:space=\"preserve\" style=\"font-style:normal;font-weight:normal;font-size:8.81944px;line-height:1.25;font-family:sans-serif;fill:#000000;fill-opacity:1;stroke:none;stroke-width:0.264583\" x=\"-150.01418\" y=\"-30.938227\" id=\"text1289-7-3-8\"><tspan sodipodi:role=\"line\" id=\"tspan1287-2-8-5\" x=\"-150.01418\" y=\"-30.938227\" style=\"font-size:8.81944px;stroke-width:0.264583\"/><tspan sodipodi:role=\"line\" x=\"-150.01418\" y=\"-19.913927\" style=\"font-size:8.81944px;stroke-width:0.264583\" id=\"tspan1447\"/></text>\n",
       "    <text xml:space=\"preserve\" style=\"font-style:normal;font-weight:normal;font-size:8.81944px;line-height:1.25;font-family:sans-serif;fill:#000000;fill-opacity:1;stroke:none;stroke-width:0.264583\" x=\"-257.71924\" y=\"-35.484085\" id=\"text1289-7-6\"><tspan sodipodi:role=\"line\" id=\"tspan1287-2-0\" x=\"-257.71924\" y=\"-35.484085\" style=\"font-style:normal;font-variant:normal;font-weight:normal;font-stretch:normal;font-size:8.81944px;font-family:Calibri;-inkscape-font-specification:Calibri;stroke-width:0.264583\">keypoints</tspan></text>\n",
       "    <text xml:space=\"preserve\" style=\"font-style:normal;font-weight:normal;font-size:8.81944px;line-height:1.25;font-family:sans-serif;fill:#000000;fill-opacity:1;stroke:none;stroke-width:0.264583\" x=\"-145.57249\" y=\"-35.484085\" id=\"text1289-7-6-9\"><tspan sodipodi:role=\"line\" id=\"tspan1287-2-0-2\" x=\"-145.57249\" y=\"-35.484085\" style=\"font-style:normal;font-variant:normal;font-weight:normal;font-stretch:normal;font-size:8.81944px;font-family:Calibri;-inkscape-font-specification:Calibri;stroke-width:0.264583\">posture</tspan></text>\n",
       "    <text xml:space=\"preserve\" style=\"font-style:normal;font-weight:normal;font-size:8.81944px;line-height:1.25;font-family:sans-serif;fill:#000000;fill-opacity:1;stroke:none;stroke-width:0.264583\" x=\"-116.8867\" y=\"-355.3288\" id=\"text1289-7-9\" transform=\"rotate(-90)\"><tspan sodipodi:role=\"line\" id=\"tspan1287-2-7\" x=\"-116.8867\" y=\"-355.3288\" style=\"font-style:italic;font-variant:normal;font-weight:300;font-stretch:normal;font-size:8.81944px;font-family:Calibri;-inkscape-font-specification:'Calibri Light Italic';stroke-width:0.264583\">tracking method</tspan></text>\n",
       "    <text xml:space=\"preserve\" style=\"font-style:normal;font-weight:normal;font-size:8.81944px;line-height:1.25;font-family:sans-serif;fill:#000000;fill-opacity:1;stroke:none;stroke-width:0.264583\" x=\"-333.8428\" y=\"37.732609\" id=\"text1289-7-9-4\"><tspan sodipodi:role=\"line\" id=\"tspan1287-2-7-8\" x=\"-333.8428\" y=\"37.732609\" style=\"font-style:normal;font-variant:normal;font-weight:normal;font-stretch:normal;font-size:8.81944px;font-family:Calibri;-inkscape-font-specification:Calibri;stroke-width:0.264583\">full tracking</tspan></text>\n",
       "    <text xml:space=\"preserve\" style=\"font-style:normal;font-weight:normal;font-size:8.81944px;line-height:1.25;font-family:sans-serif;fill:#000000;fill-opacity:1;stroke:none;stroke-width:0.264583\" x=\"-333.8428\" y=\"118.81128\" id=\"text1289-7-9-4-7\"><tspan sodipodi:role=\"line\" id=\"tspan1287-2-7-8-2\" x=\"-333.8428\" y=\"118.81128\" style=\"font-style:normal;font-variant:normal;font-weight:normal;font-stretch:normal;font-size:8.81944px;font-family:Calibri;-inkscape-font-specification:Calibri;stroke-width:0.264583\">head tracking</tspan></text>\n",
       "    <text xml:space=\"preserve\" style=\"font-style:normal;font-weight:normal;font-size:8.81944px;line-height:1.25;font-family:sans-serif;fill:#000000;fill-opacity:1;stroke:none;stroke-width:0.264583\" x=\"-333.8428\" y=\"191.21017\" id=\"text1289-7-9-4-7-6\"><tspan sodipodi:role=\"line\" id=\"tspan1287-2-7-8-2-8\" x=\"-333.8428\" y=\"191.21017\" style=\"font-style:normal;font-variant:normal;font-weight:normal;font-stretch:normal;font-size:8.81944px;font-family:Calibri;-inkscape-font-specification:Calibri;stroke-width:0.264583\">tail tracking</tspan></text>\n",
       "    <path style=\"fill:none;stroke:#000000;stroke-width:0.264583px;stroke-linecap:butt;stroke-linejoin:miter;stroke-opacity:1\" d=\"M -278.9662,-50.495048 V 229.87068\" id=\"path16788-5\" sodipodi:nodetypes=\"cc\"/>\n",
       "    <path style=\"fill:none;stroke:#000000;stroke-width:0.264583px;stroke-linecap:butt;stroke-linejoin:miter;stroke-opacity:1\" d=\"M -85.856581,-50.495048 V 229.87068\" id=\"path16788-6\" sodipodi:nodetypes=\"cc\"/>\n",
       "    <path style=\"fill:none;stroke:#000000;stroke-width:0.309996px;stroke-linecap:butt;stroke-linejoin:miter;stroke-opacity:1\" d=\"M -86.579142,150.72152 H -342.0888\" id=\"path16792-7\" sodipodi:nodetypes=\"cc\"/>\n",
       "    <path style=\"fill:none;stroke:#000000;stroke-width:0.309996px;stroke-linecap:butt;stroke-linejoin:miter;stroke-opacity:1\" d=\"M -86.579139,71.561614 H -342.0888\" id=\"path16792-7-2\" sodipodi:nodetypes=\"cc\"/>\n",
       "    <path style=\"fill:none;stroke:#000000;stroke-width:0.309996px;stroke-linecap:butt;stroke-linejoin:miter;stroke-opacity:1\" d=\"M -86.579141,-7.598293 H -342.0888\" id=\"path16792-7-2-6\" sodipodi:nodetypes=\"cc\"/>\n",
       "  </g>\n",
       "</svg>"
      ],
      "text/plain": [
       "<IPython.core.display.SVG object>"
      ]
     },
     "metadata": {},
     "output_type": "display_data"
    }
   ],
   "source": [
    "display(SVG(filename='megabouts_tracking_configuration.svg'))"
   ]
  },
  {
   "cell_type": "markdown",
   "metadata": {},
   "source": [
    "\n",
    "### Loading Example Data\n",
    "\n",
    "The `load_example_data` function allows to load example `.csv` dataset corresponding to several tracking configuration (`fulltracking_posture`, `SLEAP_fulltracking`, `HR_DLC`, `zebrabox_SLEAP`). In the following sections we  demonstrates how to import the example dataset into the `TrackingData` class."
   ]
  },
  {
   "cell_type": "markdown",
   "metadata": {},
   "source": [
    "## Example of high-resolution tracking for freely-swimming zebrafish"
   ]
  },
  {
   "cell_type": "code",
   "execution_count": 9,
   "metadata": {},
   "outputs": [
    {
     "data": {
      "text/html": [
       "<div>\n",
       "<style scoped>\n",
       "    .dataframe tbody tr th:only-of-type {\n",
       "        vertical-align: middle;\n",
       "    }\n",
       "\n",
       "    .dataframe tbody tr th {\n",
       "        vertical-align: top;\n",
       "    }\n",
       "\n",
       "    .dataframe thead th {\n",
       "        text-align: right;\n",
       "    }\n",
       "</style>\n",
       "<table border=\"1\" class=\"dataframe\">\n",
       "  <thead>\n",
       "    <tr style=\"text-align: right;\">\n",
       "      <th></th>\n",
       "      <th>head_x</th>\n",
       "      <th>head_y</th>\n",
       "      <th>head_angle</th>\n",
       "      <th>tail_angle_0</th>\n",
       "      <th>tail_angle_1</th>\n",
       "      <th>tail_angle_2</th>\n",
       "      <th>tail_angle_3</th>\n",
       "      <th>tail_angle_4</th>\n",
       "      <th>tail_angle_5</th>\n",
       "      <th>tail_angle_6</th>\n",
       "      <th>tail_angle_7</th>\n",
       "      <th>tail_angle_8</th>\n",
       "      <th>tail_angle_9</th>\n",
       "    </tr>\n",
       "  </thead>\n",
       "  <tbody>\n",
       "    <tr>\n",
       "      <th>0</th>\n",
       "      <td>-22.979468</td>\n",
       "      <td>3.989994</td>\n",
       "      <td>-2.218813</td>\n",
       "      <td>-0.101865</td>\n",
       "      <td>-0.092813</td>\n",
       "      <td>-0.107645</td>\n",
       "      <td>-0.110575</td>\n",
       "      <td>-0.047699</td>\n",
       "      <td>-0.145887</td>\n",
       "      <td>-0.130414</td>\n",
       "      <td>-0.058892</td>\n",
       "      <td>-0.128705</td>\n",
       "      <td>NaN</td>\n",
       "    </tr>\n",
       "    <tr>\n",
       "      <th>1</th>\n",
       "      <td>-22.977063</td>\n",
       "      <td>3.998453</td>\n",
       "      <td>-2.225990</td>\n",
       "      <td>-0.082618</td>\n",
       "      <td>-0.087957</td>\n",
       "      <td>-0.096951</td>\n",
       "      <td>-0.092459</td>\n",
       "      <td>-0.119418</td>\n",
       "      <td>-0.043354</td>\n",
       "      <td>-0.099788</td>\n",
       "      <td>-0.101741</td>\n",
       "      <td>-0.171555</td>\n",
       "      <td>NaN</td>\n",
       "    </tr>\n",
       "    <tr>\n",
       "      <th>2</th>\n",
       "      <td>-22.978636</td>\n",
       "      <td>3.993386</td>\n",
       "      <td>-2.221900</td>\n",
       "      <td>-0.093377</td>\n",
       "      <td>-0.095235</td>\n",
       "      <td>-0.094292</td>\n",
       "      <td>-0.105936</td>\n",
       "      <td>-0.073785</td>\n",
       "      <td>-0.084193</td>\n",
       "      <td>-0.144378</td>\n",
       "      <td>-0.112398</td>\n",
       "      <td>-0.042585</td>\n",
       "      <td>NaN</td>\n",
       "    </tr>\n",
       "    <tr>\n",
       "      <th>3</th>\n",
       "      <td>-22.981788</td>\n",
       "      <td>3.992900</td>\n",
       "      <td>-2.223969</td>\n",
       "      <td>-0.092590</td>\n",
       "      <td>-0.083650</td>\n",
       "      <td>-0.100938</td>\n",
       "      <td>-0.088223</td>\n",
       "      <td>-0.097370</td>\n",
       "      <td>-0.099559</td>\n",
       "      <td>-0.101538</td>\n",
       "      <td>-0.091272</td>\n",
       "      <td>-0.021459</td>\n",
       "      <td>NaN</td>\n",
       "    </tr>\n",
       "    <tr>\n",
       "      <th>4</th>\n",
       "      <td>-22.977184</td>\n",
       "      <td>3.999899</td>\n",
       "      <td>-2.226333</td>\n",
       "      <td>-0.086849</td>\n",
       "      <td>-0.081982</td>\n",
       "      <td>-0.096705</td>\n",
       "      <td>-0.118475</td>\n",
       "      <td>-0.046264</td>\n",
       "      <td>-0.136459</td>\n",
       "      <td>-0.115412</td>\n",
       "      <td>-0.085300</td>\n",
       "      <td>-0.015487</td>\n",
       "      <td>NaN</td>\n",
       "    </tr>\n",
       "  </tbody>\n",
       "</table>\n",
       "</div>"
      ],
      "text/plain": [
       "      head_x    head_y  head_angle  tail_angle_0  tail_angle_1  tail_angle_2  \\\n",
       "0 -22.979468  3.989994   -2.218813     -0.101865     -0.092813     -0.107645   \n",
       "1 -22.977063  3.998453   -2.225990     -0.082618     -0.087957     -0.096951   \n",
       "2 -22.978636  3.993386   -2.221900     -0.093377     -0.095235     -0.094292   \n",
       "3 -22.981788  3.992900   -2.223969     -0.092590     -0.083650     -0.100938   \n",
       "4 -22.977184  3.999899   -2.226333     -0.086849     -0.081982     -0.096705   \n",
       "\n",
       "   tail_angle_3  tail_angle_4  tail_angle_5  tail_angle_6  tail_angle_7  \\\n",
       "0     -0.110575     -0.047699     -0.145887     -0.130414     -0.058892   \n",
       "1     -0.092459     -0.119418     -0.043354     -0.099788     -0.101741   \n",
       "2     -0.105936     -0.073785     -0.084193     -0.144378     -0.112398   \n",
       "3     -0.088223     -0.097370     -0.099559     -0.101538     -0.091272   \n",
       "4     -0.118475     -0.046264     -0.136459     -0.115412     -0.085300   \n",
       "\n",
       "   tail_angle_8  tail_angle_9  \n",
       "0     -0.128705           NaN  \n",
       "1     -0.171555           NaN  \n",
       "2     -0.042585           NaN  \n",
       "3     -0.021459           NaN  \n",
       "4     -0.015487           NaN  "
      ]
     },
     "execution_count": 9,
     "metadata": {},
     "output_type": "execute_result"
    }
   ],
   "source": [
    "df_recording, fps, mm_per_unit = load_example_data('fulltracking_posture')\n",
    "df_recording.head(5)"
   ]
  },
  {
   "cell_type": "markdown",
   "metadata": {},
   "source": [
    "* We first define the tracking configuration given the framerate and tracking method:"
   ]
  },
  {
   "cell_type": "code",
   "execution_count": 10,
   "metadata": {},
   "outputs": [],
   "source": [
    "tracking_cfg = TrackingConfig(fps=fps, tracking='full_tracking')"
   ]
  },
  {
   "cell_type": "markdown",
   "metadata": {},
   "source": [
    "* We first extract the posture from the `df_recording` dataframe and convert position to mm\n"
   ]
  },
  {
   "cell_type": "code",
   "execution_count": 11,
   "metadata": {},
   "outputs": [],
   "source": [
    "head_x = df_recording['head_x'].values*mm_per_unit\n",
    "head_y = df_recording['head_y'].values*mm_per_unit\n",
    "head_yaw = df_recording['head_angle'].values\n",
    "tail_angle = df_recording.filter(like='tail_angle').values"
   ]
  },
  {
   "cell_type": "markdown",
   "metadata": {},
   "source": [
    "* Finally we input the postural array into the `FullTrackingData` class:"
   ]
  },
  {
   "cell_type": "code",
   "execution_count": 12,
   "metadata": {},
   "outputs": [],
   "source": [
    "tracking_data = FullTrackingData.from_posture(head_x = head_x,\n",
    "                                              head_y = head_y,\n",
    "                                              head_yaw = head_yaw,\n",
    "                                              tail_angle = tail_angle)"
   ]
  },
  {
   "cell_type": "markdown",
   "metadata": {},
   "source": [
    "* We can use the dataframe `tracking_data.tail_df` and `tracking_data.traj_df` to visualize the tail and head trajectory"
   ]
  },
  {
   "cell_type": "code",
   "execution_count": 15,
   "metadata": {},
   "outputs": [
    {
     "data": {
      "image/png": "[encoded data removed]",
      "text/plain": [
       "<Figure size 1000x1000 with 2 Axes>"
      ]
     },
     "metadata": {},
     "output_type": "display_data"
    }
   ],
   "source": [
    "t = np.arange(tracking_data.T)/tracking_cfg.fps\n",
    "IdSt = np.random.randint(tracking_data.T)\n",
    "Duration = 5*tracking_cfg.fps\n",
    "\n",
    "fig,ax = plt.subplots(2,1,figsize=(10,10),height_ratios=[0.5,1])\n",
    "ax[0].plot(t[IdSt:IdSt+Duration],tracking_data.tail_df.iloc[IdSt:IdSt+Duration,:])\n",
    "ax[0].set(title='tail angle',xlabel='time (s)',ylabel='angle (rad)',ylim=(-4,4))\n",
    "\n",
    "ax[1].plot(tracking_data.traj_df.x.iloc[IdSt:IdSt+Duration],\n",
    "           tracking_data.traj_df.y.iloc[IdSt:IdSt+Duration])\n",
    "ax[1].set(title='trajectory',aspect='equal',xlabel='head_x position (mm)',ylabel='head_y position (mm)')\n",
    "plt.show()"
   ]
  },
  {
   "cell_type": "markdown",
   "metadata": {},
   "source": [
    "## Example of tail tracking in head-restrained condition"
   ]
  },
  {
   "cell_type": "markdown",
   "metadata": {},
   "source": [
    "* The following example correspond to tail tracking using DeepLabCut at 250fps."
   ]
  },
  {
   "cell_type": "code",
   "execution_count": 16,
   "metadata": {},
   "outputs": [
    {
     "data": {
      "text/html": [
       "<div>\n",
       "<style scoped>\n",
       "    .dataframe tbody tr th:only-of-type {\n",
       "        vertical-align: middle;\n",
       "    }\n",
       "\n",
       "    .dataframe tbody tr th {\n",
       "        vertical-align: top;\n",
       "    }\n",
       "\n",
       "    .dataframe thead tr th {\n",
       "        text-align: left;\n",
       "    }\n",
       "</style>\n",
       "<table border=\"1\" class=\"dataframe\">\n",
       "  <thead>\n",
       "    <tr>\n",
       "      <th></th>\n",
       "      <th colspan=\"3\" halign=\"left\">head_rostral</th>\n",
       "      <th colspan=\"3\" halign=\"left\">head_caudal</th>\n",
       "      <th colspan=\"3\" halign=\"left\">tail0</th>\n",
       "      <th>tail1</th>\n",
       "      <th>...</th>\n",
       "      <th>tail7</th>\n",
       "      <th colspan=\"3\" halign=\"left\">tail8</th>\n",
       "      <th colspan=\"3\" halign=\"left\">tail9</th>\n",
       "      <th colspan=\"3\" halign=\"left\">tail10</th>\n",
       "    </tr>\n",
       "    <tr>\n",
       "      <th></th>\n",
       "      <th>x</th>\n",
       "      <th>y</th>\n",
       "      <th>likelihood</th>\n",
       "      <th>x</th>\n",
       "      <th>y</th>\n",
       "      <th>likelihood</th>\n",
       "      <th>x</th>\n",
       "      <th>y</th>\n",
       "      <th>likelihood</th>\n",
       "      <th>x</th>\n",
       "      <th>...</th>\n",
       "      <th>likelihood</th>\n",
       "      <th>x</th>\n",
       "      <th>y</th>\n",
       "      <th>likelihood</th>\n",
       "      <th>x</th>\n",
       "      <th>y</th>\n",
       "      <th>likelihood</th>\n",
       "      <th>x</th>\n",
       "      <th>y</th>\n",
       "      <th>likelihood</th>\n",
       "    </tr>\n",
       "  </thead>\n",
       "  <tbody>\n",
       "    <tr>\n",
       "      <th>0</th>\n",
       "      <td>173.163055</td>\n",
       "      <td>2.995913</td>\n",
       "      <td>0.999985</td>\n",
       "      <td>177.695465</td>\n",
       "      <td>40.429813</td>\n",
       "      <td>0.999986</td>\n",
       "      <td>180.415710</td>\n",
       "      <td>80.903931</td>\n",
       "      <td>0.999986</td>\n",
       "      <td>180.984070</td>\n",
       "      <td>...</td>\n",
       "      <td>0.999699</td>\n",
       "      <td>176.853455</td>\n",
       "      <td>255.031494</td>\n",
       "      <td>0.999377</td>\n",
       "      <td>177.243164</td>\n",
       "      <td>275.275574</td>\n",
       "      <td>0.999759</td>\n",
       "      <td>182.846207</td>\n",
       "      <td>295.142303</td>\n",
       "      <td>0.998607</td>\n",
       "    </tr>\n",
       "    <tr>\n",
       "      <th>1</th>\n",
       "      <td>172.605087</td>\n",
       "      <td>2.485497</td>\n",
       "      <td>0.999978</td>\n",
       "      <td>177.292572</td>\n",
       "      <td>40.164856</td>\n",
       "      <td>0.999983</td>\n",
       "      <td>180.129837</td>\n",
       "      <td>80.911896</td>\n",
       "      <td>0.999986</td>\n",
       "      <td>180.985275</td>\n",
       "      <td>...</td>\n",
       "      <td>0.999701</td>\n",
       "      <td>176.757172</td>\n",
       "      <td>254.480911</td>\n",
       "      <td>0.999264</td>\n",
       "      <td>177.075943</td>\n",
       "      <td>274.513336</td>\n",
       "      <td>0.999753</td>\n",
       "      <td>181.680435</td>\n",
       "      <td>294.865326</td>\n",
       "      <td>0.998829</td>\n",
       "    </tr>\n",
       "    <tr>\n",
       "      <th>2</th>\n",
       "      <td>172.442398</td>\n",
       "      <td>2.889864</td>\n",
       "      <td>0.999985</td>\n",
       "      <td>176.992661</td>\n",
       "      <td>40.337017</td>\n",
       "      <td>0.999978</td>\n",
       "      <td>179.854385</td>\n",
       "      <td>81.170639</td>\n",
       "      <td>0.999989</td>\n",
       "      <td>180.823120</td>\n",
       "      <td>...</td>\n",
       "      <td>0.999689</td>\n",
       "      <td>176.803375</td>\n",
       "      <td>254.154663</td>\n",
       "      <td>0.999175</td>\n",
       "      <td>177.024689</td>\n",
       "      <td>274.277985</td>\n",
       "      <td>0.999738</td>\n",
       "      <td>181.801056</td>\n",
       "      <td>294.448608</td>\n",
       "      <td>0.998983</td>\n",
       "    </tr>\n",
       "    <tr>\n",
       "      <th>3</th>\n",
       "      <td>173.055008</td>\n",
       "      <td>3.141099</td>\n",
       "      <td>0.999988</td>\n",
       "      <td>177.103790</td>\n",
       "      <td>40.811363</td>\n",
       "      <td>0.999983</td>\n",
       "      <td>179.919678</td>\n",
       "      <td>81.260208</td>\n",
       "      <td>0.999992</td>\n",
       "      <td>180.836472</td>\n",
       "      <td>...</td>\n",
       "      <td>0.999672</td>\n",
       "      <td>176.752884</td>\n",
       "      <td>253.947128</td>\n",
       "      <td>0.999102</td>\n",
       "      <td>176.918564</td>\n",
       "      <td>274.054047</td>\n",
       "      <td>0.999732</td>\n",
       "      <td>181.057159</td>\n",
       "      <td>294.441162</td>\n",
       "      <td>0.999080</td>\n",
       "    </tr>\n",
       "    <tr>\n",
       "      <th>4</th>\n",
       "      <td>172.497513</td>\n",
       "      <td>3.288911</td>\n",
       "      <td>0.999988</td>\n",
       "      <td>176.927582</td>\n",
       "      <td>40.711155</td>\n",
       "      <td>0.999981</td>\n",
       "      <td>179.895370</td>\n",
       "      <td>81.267540</td>\n",
       "      <td>0.999990</td>\n",
       "      <td>180.830780</td>\n",
       "      <td>...</td>\n",
       "      <td>0.999690</td>\n",
       "      <td>176.760941</td>\n",
       "      <td>254.114883</td>\n",
       "      <td>0.999147</td>\n",
       "      <td>176.989029</td>\n",
       "      <td>274.209351</td>\n",
       "      <td>0.999724</td>\n",
       "      <td>181.283981</td>\n",
       "      <td>294.534668</td>\n",
       "      <td>0.999020</td>\n",
       "    </tr>\n",
       "  </tbody>\n",
       "</table>\n",
       "<p>5 rows × 39 columns</p>\n",
       "</div>"
      ],
      "text/plain": [
       "  head_rostral                      head_caudal                        \\\n",
       "             x         y likelihood           x          y likelihood   \n",
       "0   173.163055  2.995913   0.999985  177.695465  40.429813   0.999986   \n",
       "1   172.605087  2.485497   0.999978  177.292572  40.164856   0.999983   \n",
       "2   172.442398  2.889864   0.999985  176.992661  40.337017   0.999978   \n",
       "3   173.055008  3.141099   0.999988  177.103790  40.811363   0.999983   \n",
       "4   172.497513  3.288911   0.999988  176.927582  40.711155   0.999981   \n",
       "\n",
       "        tail0                             tail1  ...      tail7       tail8  \\\n",
       "            x          y likelihood           x  ... likelihood           x   \n",
       "0  180.415710  80.903931   0.999986  180.984070  ...   0.999699  176.853455   \n",
       "1  180.129837  80.911896   0.999986  180.985275  ...   0.999701  176.757172   \n",
       "2  179.854385  81.170639   0.999989  180.823120  ...   0.999689  176.803375   \n",
       "3  179.919678  81.260208   0.999992  180.836472  ...   0.999672  176.752884   \n",
       "4  179.895370  81.267540   0.999990  180.830780  ...   0.999690  176.760941   \n",
       "\n",
       "                               tail9                             tail10  \\\n",
       "            y likelihood           x           y likelihood           x   \n",
       "0  255.031494   0.999377  177.243164  275.275574   0.999759  182.846207   \n",
       "1  254.480911   0.999264  177.075943  274.513336   0.999753  181.680435   \n",
       "2  254.154663   0.999175  177.024689  274.277985   0.999738  181.801056   \n",
       "3  253.947128   0.999102  176.918564  274.054047   0.999732  181.057159   \n",
       "4  254.114883   0.999147  176.989029  274.209351   0.999724  181.283981   \n",
       "\n",
       "                          \n",
       "            y likelihood  \n",
       "0  295.142303   0.998607  \n",
       "1  294.865326   0.998829  \n",
       "2  294.448608   0.998983  \n",
       "3  294.441162   0.999080  \n",
       "4  294.534668   0.999020  \n",
       "\n",
       "[5 rows x 39 columns]"
      ]
     },
     "execution_count": 16,
     "metadata": {},
     "output_type": "execute_result"
    }
   ],
   "source": [
    "df_recording, fps, mm_per_unit = load_example_data('HR_DLC')\n",
    "df_recording = df_recording['DLC_resnet50_Zebrafish']\n",
    "df_recording.head(5)"
   ]
  },
  {
   "cell_type": "markdown",
   "metadata": {},
   "source": [
    "* We first define the tracking configuration given the framerate and tracking method:"
   ]
  },
  {
   "cell_type": "code",
   "execution_count": 17,
   "metadata": {},
   "outputs": [],
   "source": [
    "tracking_cfg = TrackingConfig(fps=fps, tracking='tail_tracking')"
   ]
  },
  {
   "cell_type": "markdown",
   "metadata": {},
   "source": [
    "* We will place nan on the tail keypoints coordinate when the likelihood is below a threshold"
   ]
  },
  {
   "cell_type": "code",
   "execution_count": 18,
   "metadata": {},
   "outputs": [],
   "source": [
    "kpts_list = [f'tail{i}' for i in range(11)]\n",
    "thresh_score = 0.99\n",
    "for kps in kpts_list:\n",
    "    df_recording.loc[df_recording[(kps,'likelihood')] < thresh_score, (kps, 'x')] = np.nan\n",
    "    df_recording.loc[df_recording[(kps,'likelihood')] < thresh_score, (kps, 'y')] = np.nan"
   ]
  },
  {
   "cell_type": "markdown",
   "metadata": {},
   "source": [
    "* We extract the tail keypoints coordinate and convert them in millimeters:"
   ]
  },
  {
   "cell_type": "code",
   "execution_count": 19,
   "metadata": {},
   "outputs": [],
   "source": [
    "tail_x = df_recording.loc[:, [(segment, 'x') for segment, coord in df_recording.columns if segment in kpts_list and coord == 'x']].values\n",
    "tail_y = df_recording.loc[:, [(segment, 'y') for segment, coord in df_recording.columns if segment in kpts_list and coord == 'y']].values\n",
    "\n",
    "tail_x = tail_x*mm_per_unit\n",
    "tail_y = tail_y*mm_per_unit"
   ]
  },
  {
   "cell_type": "markdown",
   "metadata": {},
   "source": [
    "* Finally we input the postural array into the `TailTrackingData` class:"
   ]
  },
  {
   "cell_type": "code",
   "execution_count": 20,
   "metadata": {},
   "outputs": [],
   "source": [
    "tracking_data = TailTrackingData.from_keypoints(tail_x = tail_x,                                                \n",
    "                                                tail_y = tail_y)"
   ]
  },
  {
   "cell_type": "markdown",
   "metadata": {},
   "source": [
    "* We can use the dataframe `tracking_data.tail_df` to visualize the tail angle"
   ]
  },
  {
   "cell_type": "code",
   "execution_count": 22,
   "metadata": {},
   "outputs": [
    {
     "data": {
      "image/png": "[encoded data removed]",
      "text/plain": [
       "<Figure size 1000x700 with 2 Axes>"
      ]
     },
     "metadata": {},
     "output_type": "display_data"
    }
   ],
   "source": [
    "t = np.arange(tracking_data.T)/tracking_cfg.fps\n",
    "IdSt = np.random.randint(tracking_data.T)\n",
    "Duration = 5*tracking_cfg.fps\n",
    "\n",
    "fig,ax = plt.subplots(2,1,figsize=(10,7),height_ratios=[1,1])\n",
    "ax[0].plot(t[IdSt:IdSt+Duration],tracking_data.tail_df.iloc[IdSt:IdSt+Duration,:])\n",
    "ax[0].set(title='tail angle', ylim=[-4,4], xlabel='time (s)',ylabel ='angle (rad)')\n",
    "\n",
    "cmap = plt.get_cmap('jet')\n",
    "for i in range(IdSt,IdSt+Duration):\n",
    "    ax[1].plot(tracking_data._tail_y[i,:],tracking_data._tail_x[i,:],'.-',color = cmap((i-IdSt)/Duration))\n",
    "ax[1].set(title='tail posture',aspect='equal')\n",
    "\n",
    "plt.show()"
   ]
  },
  {
   "cell_type": "markdown",
   "metadata": {},
   "source": [
    "## Example of low resolution centroid tracking from the Zebrabox config"
   ]
  },
  {
   "cell_type": "markdown",
   "metadata": {},
   "source": [
    "* The following example correspond to head and swim-bladder tracking using SLEAP on video data from the Zebrabox system."
   ]
  },
  {
   "cell_type": "code",
   "execution_count": 23,
   "metadata": {},
   "outputs": [
    {
     "data": {
      "text/html": [
       "<div>\n",
       "<style scoped>\n",
       "    .dataframe tbody tr th:only-of-type {\n",
       "        vertical-align: middle;\n",
       "    }\n",
       "\n",
       "    .dataframe tbody tr th {\n",
       "        vertical-align: top;\n",
       "    }\n",
       "\n",
       "    .dataframe thead th {\n",
       "        text-align: right;\n",
       "    }\n",
       "</style>\n",
       "<table border=\"1\" class=\"dataframe\">\n",
       "  <thead>\n",
       "    <tr style=\"text-align: right;\">\n",
       "      <th></th>\n",
       "      <th>track</th>\n",
       "      <th>frame_idx</th>\n",
       "      <th>instance.score</th>\n",
       "      <th>swim_bladder.x</th>\n",
       "      <th>swim_bladder.y</th>\n",
       "      <th>swim_bladder.score</th>\n",
       "      <th>mid_eye.x</th>\n",
       "      <th>mid_eye.y</th>\n",
       "      <th>mid_eye.score</th>\n",
       "    </tr>\n",
       "  </thead>\n",
       "  <tbody>\n",
       "    <tr>\n",
       "      <th>0</th>\n",
       "      <td>NaN</td>\n",
       "      <td>0</td>\n",
       "      <td>0.732962</td>\n",
       "      <td>111.594383</td>\n",
       "      <td>122.333862</td>\n",
       "      <td>0.834701</td>\n",
       "      <td>120.034706</td>\n",
       "      <td>118.537903</td>\n",
       "      <td>0.827217</td>\n",
       "    </tr>\n",
       "    <tr>\n",
       "      <th>1</th>\n",
       "      <td>NaN</td>\n",
       "      <td>1</td>\n",
       "      <td>0.733804</td>\n",
       "      <td>111.594688</td>\n",
       "      <td>122.324165</td>\n",
       "      <td>0.834202</td>\n",
       "      <td>120.029968</td>\n",
       "      <td>118.541588</td>\n",
       "      <td>0.826500</td>\n",
       "    </tr>\n",
       "    <tr>\n",
       "      <th>2</th>\n",
       "      <td>NaN</td>\n",
       "      <td>2</td>\n",
       "      <td>0.734254</td>\n",
       "      <td>111.595268</td>\n",
       "      <td>122.321350</td>\n",
       "      <td>0.834111</td>\n",
       "      <td>120.029823</td>\n",
       "      <td>118.539879</td>\n",
       "      <td>0.826383</td>\n",
       "    </tr>\n",
       "    <tr>\n",
       "      <th>3</th>\n",
       "      <td>NaN</td>\n",
       "      <td>3</td>\n",
       "      <td>0.732529</td>\n",
       "      <td>111.611320</td>\n",
       "      <td>122.310394</td>\n",
       "      <td>0.831942</td>\n",
       "      <td>120.030312</td>\n",
       "      <td>118.545074</td>\n",
       "      <td>0.827309</td>\n",
       "    </tr>\n",
       "    <tr>\n",
       "      <th>4</th>\n",
       "      <td>NaN</td>\n",
       "      <td>4</td>\n",
       "      <td>0.733020</td>\n",
       "      <td>111.588501</td>\n",
       "      <td>122.294258</td>\n",
       "      <td>0.832367</td>\n",
       "      <td>120.054565</td>\n",
       "      <td>118.565849</td>\n",
       "      <td>0.820087</td>\n",
       "    </tr>\n",
       "  </tbody>\n",
       "</table>\n",
       "</div>"
      ],
      "text/plain": [
       "   track  frame_idx  instance.score  swim_bladder.x  swim_bladder.y  \\\n",
       "0    NaN          0        0.732962      111.594383      122.333862   \n",
       "1    NaN          1        0.733804      111.594688      122.324165   \n",
       "2    NaN          2        0.734254      111.595268      122.321350   \n",
       "3    NaN          3        0.732529      111.611320      122.310394   \n",
       "4    NaN          4        0.733020      111.588501      122.294258   \n",
       "\n",
       "   swim_bladder.score   mid_eye.x   mid_eye.y  mid_eye.score  \n",
       "0            0.834701  120.034706  118.537903       0.827217  \n",
       "1            0.834202  120.029968  118.541588       0.826500  \n",
       "2            0.834111  120.029823  118.539879       0.826383  \n",
       "3            0.831942  120.030312  118.545074       0.827309  \n",
       "4            0.832367  120.054565  118.565849       0.820087  "
      ]
     },
     "execution_count": 23,
     "metadata": {},
     "output_type": "execute_result"
    }
   ],
   "source": [
    "df_recording, fps, mm_per_unit = load_example_data('zebrabox_SLEAP')\n",
    "df_recording.head(5)"
   ]
  },
  {
   "cell_type": "markdown",
   "metadata": {},
   "source": [
    "* We first define the tracking configuration given the framerate and tracking method:"
   ]
  },
  {
   "cell_type": "code",
   "execution_count": 24,
   "metadata": {},
   "outputs": [],
   "source": [
    "tracking_cfg = TrackingConfig(fps=fps, tracking='head_tracking')"
   ]
  },
  {
   "cell_type": "markdown",
   "metadata": {},
   "source": [
    "* We will place nan on the keypoints coordinate when the score is below a threshold"
   ]
  },
  {
   "cell_type": "code",
   "execution_count": 25,
   "metadata": {},
   "outputs": [],
   "source": [
    "thresh_score = 0.75\n",
    "is_tracking_bad = (df_recording['swim_bladder.score'] < thresh_score) | (df_recording['mid_eye.score'] < thresh_score)\n",
    "df_recording.loc[is_tracking_bad,'mid_eye.x'] = np.nan\n",
    "df_recording.loc[is_tracking_bad,'mid_eye.y'] = np.nan\n",
    "df_recording.loc[is_tracking_bad,'swim_bladder.x'] = np.nan\n",
    "df_recording.loc[is_tracking_bad,'swim_bladder.y'] = np.nan"
   ]
  },
  {
   "cell_type": "markdown",
   "metadata": {},
   "source": [
    "* We extract the head and swim bladder keypoints coordinate and convert them in millimeters:"
   ]
  },
  {
   "cell_type": "code",
   "execution_count": 26,
   "metadata": {},
   "outputs": [],
   "source": [
    "head_x = df_recording['mid_eye.x'].values*mm_per_unit\n",
    "head_y = df_recording['mid_eye.y'].values*mm_per_unit\n",
    "swimbladder_x = df_recording['swim_bladder.x'].values*mm_per_unit\n",
    "swimbladder_y = df_recording['swim_bladder.y'].values*mm_per_unit"
   ]
  },
  {
   "cell_type": "markdown",
   "metadata": {},
   "source": [
    "* Finally we input the keypoints into the `HeadTrackingData` class:"
   ]
  },
  {
   "cell_type": "code",
   "execution_count": 27,
   "metadata": {},
   "outputs": [],
   "source": [
    "tracking_data = HeadTrackingData.from_keypoints(head_x = head_x,  \n",
    "                                                head_y = head_y,  \n",
    "                                                swimbladder_x = swimbladder_x,                                                \n",
    "                                                swimbladder_y = swimbladder_y)"
   ]
  },
  {
   "cell_type": "markdown",
   "metadata": {},
   "source": [
    "* We can use the dataframe `tracking_data.traj_df` to visualize the head position and yaw"
   ]
  },
  {
   "cell_type": "code",
   "execution_count": 33,
   "metadata": {},
   "outputs": [
    {
     "data": {
      "image/png": "[encoded data removed]",
      "text/plain": [
       "<Figure size 1000x600 with 2 Axes>"
      ]
     },
     "metadata": {},
     "output_type": "display_data"
    }
   ],
   "source": [
    "t = np.arange(tracking_data.T)/tracking_cfg.fps\n",
    "IdSt = np.random.randint(tracking_data.T)\n",
    "Duration = 5*tracking_cfg.fps\n",
    "\n",
    "fig,ax = plt.subplots(2,1,figsize=(10,6),height_ratios=[1,1])\n",
    "ax[0].plot(t[IdSt:IdSt+Duration],tracking_data.traj_df['yaw'].iloc[IdSt:IdSt+Duration])\n",
    "ax[0].set(xlabel='time (s)',ylabel='head yaw (rad)',ylim=(-np.pi,np.pi))\n",
    "\n",
    "cmap = plt.get_cmap('jet')\n",
    "for i in range(IdSt,IdSt+Duration):\n",
    "    ax[1].arrow(tracking_data.traj_df['x'][i],\n",
    "                 tracking_data.traj_df['y'][i],\n",
    "                 np.cos(tracking_data.traj_df['yaw'][i]),\n",
    "                 np.sin(tracking_data.traj_df['yaw'][i]),\n",
    "                 head_width=.1, head_length=.1,color = cmap((i-IdSt)/Duration) )\n",
    "ax[1].set_aspect('equal')\n",
    "plt.show()"
   ]
  },
  {
   "cell_type": "markdown",
   "metadata": {},
   "source": [
    "## Example of noisy tracking of freely-swimming zebrafish"
   ]
  },
  {
   "cell_type": "markdown",
   "metadata": {},
   "source": [
    "* The following example correspond to full tracking at 350fps. The fish posture is tracked using SLEAP but the keypoints are not reliably placed due to insufficient labelling."
   ]
  },
  {
   "cell_type": "code",
   "execution_count": 34,
   "metadata": {},
   "outputs": [
    {
     "data": {
      "text/html": [
       "<div>\n",
       "<style scoped>\n",
       "    .dataframe tbody tr th:only-of-type {\n",
       "        vertical-align: middle;\n",
       "    }\n",
       "\n",
       "    .dataframe tbody tr th {\n",
       "        vertical-align: top;\n",
       "    }\n",
       "\n",
       "    .dataframe thead th {\n",
       "        text-align: right;\n",
       "    }\n",
       "</style>\n",
       "<table border=\"1\" class=\"dataframe\">\n",
       "  <thead>\n",
       "    <tr style=\"text-align: right;\">\n",
       "      <th></th>\n",
       "      <th>track</th>\n",
       "      <th>frame_idx</th>\n",
       "      <th>instance.score</th>\n",
       "      <th>left_eye.x</th>\n",
       "      <th>left_eye.y</th>\n",
       "      <th>left_eye.score</th>\n",
       "      <th>right_eye.x</th>\n",
       "      <th>right_eye.y</th>\n",
       "      <th>right_eye.score</th>\n",
       "      <th>tail0.x</th>\n",
       "      <th>...</th>\n",
       "      <th>tail1.score</th>\n",
       "      <th>tail2.x</th>\n",
       "      <th>tail2.y</th>\n",
       "      <th>tail2.score</th>\n",
       "      <th>tail3.x</th>\n",
       "      <th>tail3.y</th>\n",
       "      <th>tail3.score</th>\n",
       "      <th>tail4.x</th>\n",
       "      <th>tail4.y</th>\n",
       "      <th>tail4.score</th>\n",
       "    </tr>\n",
       "  </thead>\n",
       "  <tbody>\n",
       "    <tr>\n",
       "      <th>0</th>\n",
       "      <td>NaN</td>\n",
       "      <td>0</td>\n",
       "      <td>0.977651</td>\n",
       "      <td>822.667358</td>\n",
       "      <td>839.635101</td>\n",
       "      <td>0.988699</td>\n",
       "      <td>807.832947</td>\n",
       "      <td>840.091492</td>\n",
       "      <td>0.953313</td>\n",
       "      <td>813.303932</td>\n",
       "      <td>...</td>\n",
       "      <td>0.987229</td>\n",
       "      <td>807.466705</td>\n",
       "      <td>767.853134</td>\n",
       "      <td>1.027914</td>\n",
       "      <td>806.901657</td>\n",
       "      <td>747.167450</td>\n",
       "      <td>0.941431</td>\n",
       "      <td>803.414474</td>\n",
       "      <td>730.643631</td>\n",
       "      <td>0.821148</td>\n",
       "    </tr>\n",
       "    <tr>\n",
       "      <th>1</th>\n",
       "      <td>NaN</td>\n",
       "      <td>1</td>\n",
       "      <td>0.977400</td>\n",
       "      <td>822.669495</td>\n",
       "      <td>839.644699</td>\n",
       "      <td>0.988768</td>\n",
       "      <td>807.837723</td>\n",
       "      <td>840.099838</td>\n",
       "      <td>0.951950</td>\n",
       "      <td>813.305016</td>\n",
       "      <td>...</td>\n",
       "      <td>0.987644</td>\n",
       "      <td>807.468445</td>\n",
       "      <td>767.856720</td>\n",
       "      <td>1.027526</td>\n",
       "      <td>806.901627</td>\n",
       "      <td>747.176315</td>\n",
       "      <td>0.941242</td>\n",
       "      <td>803.420502</td>\n",
       "      <td>730.653046</td>\n",
       "      <td>0.822505</td>\n",
       "    </tr>\n",
       "    <tr>\n",
       "      <th>2</th>\n",
       "      <td>NaN</td>\n",
       "      <td>2</td>\n",
       "      <td>0.977176</td>\n",
       "      <td>822.668884</td>\n",
       "      <td>839.653854</td>\n",
       "      <td>0.988344</td>\n",
       "      <td>807.838104</td>\n",
       "      <td>840.107727</td>\n",
       "      <td>0.950716</td>\n",
       "      <td>813.306580</td>\n",
       "      <td>...</td>\n",
       "      <td>0.987669</td>\n",
       "      <td>807.469040</td>\n",
       "      <td>767.860291</td>\n",
       "      <td>1.027348</td>\n",
       "      <td>806.905151</td>\n",
       "      <td>747.177567</td>\n",
       "      <td>0.941105</td>\n",
       "      <td>803.416382</td>\n",
       "      <td>730.654694</td>\n",
       "      <td>0.820525</td>\n",
       "    </tr>\n",
       "    <tr>\n",
       "      <th>3</th>\n",
       "      <td>NaN</td>\n",
       "      <td>3</td>\n",
       "      <td>0.976941</td>\n",
       "      <td>822.670547</td>\n",
       "      <td>839.665436</td>\n",
       "      <td>0.989196</td>\n",
       "      <td>810.813538</td>\n",
       "      <td>840.147018</td>\n",
       "      <td>0.950221</td>\n",
       "      <td>813.307747</td>\n",
       "      <td>...</td>\n",
       "      <td>0.988717</td>\n",
       "      <td>807.468109</td>\n",
       "      <td>767.858276</td>\n",
       "      <td>1.026542</td>\n",
       "      <td>806.905106</td>\n",
       "      <td>747.178329</td>\n",
       "      <td>0.940126</td>\n",
       "      <td>803.417862</td>\n",
       "      <td>730.658585</td>\n",
       "      <td>0.820215</td>\n",
       "    </tr>\n",
       "    <tr>\n",
       "      <th>4</th>\n",
       "      <td>NaN</td>\n",
       "      <td>4</td>\n",
       "      <td>0.976689</td>\n",
       "      <td>822.674286</td>\n",
       "      <td>839.674667</td>\n",
       "      <td>0.989967</td>\n",
       "      <td>810.819382</td>\n",
       "      <td>840.155060</td>\n",
       "      <td>0.949718</td>\n",
       "      <td>813.308144</td>\n",
       "      <td>...</td>\n",
       "      <td>0.989073</td>\n",
       "      <td>807.468567</td>\n",
       "      <td>767.867950</td>\n",
       "      <td>1.026512</td>\n",
       "      <td>806.904449</td>\n",
       "      <td>747.200958</td>\n",
       "      <td>0.940060</td>\n",
       "      <td>803.418640</td>\n",
       "      <td>730.675385</td>\n",
       "      <td>0.824549</td>\n",
       "    </tr>\n",
       "  </tbody>\n",
       "</table>\n",
       "<p>5 rows × 24 columns</p>\n",
       "</div>"
      ],
      "text/plain": [
       "   track  frame_idx  instance.score  left_eye.x  left_eye.y  left_eye.score  \\\n",
       "0    NaN          0        0.977651  822.667358  839.635101        0.988699   \n",
       "1    NaN          1        0.977400  822.669495  839.644699        0.988768   \n",
       "2    NaN          2        0.977176  822.668884  839.653854        0.988344   \n",
       "3    NaN          3        0.976941  822.670547  839.665436        0.989196   \n",
       "4    NaN          4        0.976689  822.674286  839.674667        0.989967   \n",
       "\n",
       "   right_eye.x  right_eye.y  right_eye.score     tail0.x  ...  tail1.score  \\\n",
       "0   807.832947   840.091492         0.953313  813.303932  ...     0.987229   \n",
       "1   807.837723   840.099838         0.951950  813.305016  ...     0.987644   \n",
       "2   807.838104   840.107727         0.950716  813.306580  ...     0.987669   \n",
       "3   810.813538   840.147018         0.950221  813.307747  ...     0.988717   \n",
       "4   810.819382   840.155060         0.949718  813.308144  ...     0.989073   \n",
       "\n",
       "      tail2.x     tail2.y  tail2.score     tail3.x     tail3.y  tail3.score  \\\n",
       "0  807.466705  767.853134     1.027914  806.901657  747.167450     0.941431   \n",
       "1  807.468445  767.856720     1.027526  806.901627  747.176315     0.941242   \n",
       "2  807.469040  767.860291     1.027348  806.905151  747.177567     0.941105   \n",
       "3  807.468109  767.858276     1.026542  806.905106  747.178329     0.940126   \n",
       "4  807.468567  767.867950     1.026512  806.904449  747.200958     0.940060   \n",
       "\n",
       "      tail4.x     tail4.y  tail4.score  \n",
       "0  803.414474  730.643631     0.821148  \n",
       "1  803.420502  730.653046     0.822505  \n",
       "2  803.416382  730.654694     0.820525  \n",
       "3  803.417862  730.658585     0.820215  \n",
       "4  803.418640  730.675385     0.824549  \n",
       "\n",
       "[5 rows x 24 columns]"
      ]
     },
     "execution_count": 34,
     "metadata": {},
     "output_type": "execute_result"
    }
   ],
   "source": [
    "df_recording, fps, mm_per_unit = load_example_data('SLEAP_fulltracking')\n",
    "df_recording.head(5)"
   ]
  },
  {
   "cell_type": "markdown",
   "metadata": {},
   "source": [
    "* We first define the tracking configuration given the framerate and tracking method:"
   ]
  },
  {
   "cell_type": "code",
   "execution_count": 35,
   "metadata": {},
   "outputs": [],
   "source": [
    "tracking_cfg = TrackingConfig(fps=fps, tracking='full_tracking')"
   ]
  },
  {
   "cell_type": "markdown",
   "metadata": {},
   "source": [
    "* We will place nan on the keypoints coordinate when the score is below a threshold"
   ]
  },
  {
   "cell_type": "code",
   "execution_count": 36,
   "metadata": {},
   "outputs": [],
   "source": [
    "# Place nan where the score is below a threshold:\n",
    "thresh_score = 0.\n",
    "for kps in ['left_eye','right_eye','tail0','tail1','tail2','tail3','tail4']:\n",
    "    df_recording.loc[df_recording['instance.score']<thresh_score,kps+'.x'] = np.nan\n",
    "    df_recording.loc[df_recording['instance.score']<thresh_score,kps+'.y'] = np.nan\n",
    "    df_recording.loc[df_recording[kps+'.score']<thresh_score,kps+'.x'] = np.nan\n",
    "    df_recording.loc[df_recording[kps+'.score']<thresh_score,kps+'.y'] = np.nan\n",
    "    "
   ]
  },
  {
   "cell_type": "markdown",
   "metadata": {},
   "source": [
    "* We extract the head and tail keypoints coordinate and convert them in millimeters:"
   ]
  },
  {
   "cell_type": "code",
   "execution_count": 37,
   "metadata": {},
   "outputs": [],
   "source": [
    "head_x = (df_recording['left_eye.x'].values+df_recording['right_eye.x'].values)/2\n",
    "head_y = (df_recording['left_eye.y'].values+df_recording['right_eye.y'].values)/2\n",
    "\n",
    "tail_x = df_recording[['tail0.x','tail1.x','tail2.x','tail3.x','tail4.x']].values\n",
    "tail_y = df_recording[['tail0.y','tail1.y','tail2.y','tail3.y','tail4.y']].values\n",
    "\n",
    "head_x = head_x*mm_per_unit\n",
    "head_y = head_y*mm_per_unit\n",
    "tail_x = tail_x*mm_per_unit\n",
    "tail_y = tail_y*mm_per_unit"
   ]
  },
  {
   "cell_type": "markdown",
   "metadata": {},
   "source": [
    "* Finally we keypoints array are loaded into the `FullTrackingData` class:"
   ]
  },
  {
   "cell_type": "code",
   "execution_count": 38,
   "metadata": {},
   "outputs": [],
   "source": [
    "tracking_data = FullTrackingData.from_keypoints(head_x = head_x,\n",
    "                                                head_y = head_y,\n",
    "                                                tail_x = tail_x,                                                \n",
    "                                                tail_y = tail_y)"
   ]
  },
  {
   "cell_type": "markdown",
   "metadata": {},
   "source": [
    "* We can use the dataframe `tracking_data.tail_df` and `tracking_data.traj_df` to visualize the fish posture."
   ]
  },
  {
   "cell_type": "code",
   "execution_count": 39,
   "metadata": {},
   "outputs": [
    {
     "data": {
      "image/png": "[encoded data removed]",
      "text/plain": [
       "<Figure size 1000x1000 with 2 Axes>"
      ]
     },
     "metadata": {},
     "output_type": "display_data"
    }
   ],
   "source": [
    "t = np.arange(tracking_data.T)/tracking_cfg.fps\n",
    "IdSt = np.random.randint(tracking_data.T)\n",
    "Duration = 5*tracking_cfg.fps\n",
    "\n",
    "fig,ax = plt.subplots(2,1,figsize=(10,10),height_ratios=[0.3,1])\n",
    "ax[0].plot(t[IdSt:IdSt+Duration],tracking_data.tail_df.iloc[IdSt:IdSt+Duration,:])\n",
    "ax[0].set(title='tail angle',xlabel='time (s)',ylabel='angle (rad)',ylim=(-4,4))\n",
    "\n",
    "ax[1].plot(tracking_data.traj_df.x.iloc[IdSt:IdSt+Duration],\n",
    "           tracking_data.traj_df.y.iloc[IdSt:IdSt+Duration])\n",
    "ax[1].set(title='trajectory',aspect='equal',xlabel='head_x position (mm)',ylabel='head_y position (mm)')\n",
    "plt.show()"
   ]
  },
  {
   "cell_type": "code",
   "execution_count": null,
   "metadata": {},
   "outputs": [],
   "source": []
  }
 ],
 "metadata": {
  "kernelspec": {
   "display_name": "megabouts_dev",
   "language": "python",
   "name": "python3"
  },
  "language_info": {
   "codemirror_mode": {
    "name": "ipython",
    "version": 3
   },
   "file_extension": ".py",
   "mimetype": "text/x-python",
   "name": "python",
   "nbconvert_exporter": "python",
   "pygments_lexer": "ipython3",
   "version": "3.11.9"
  }
 },
 "nbformat": 4,
 "nbformat_minor": 2
}
