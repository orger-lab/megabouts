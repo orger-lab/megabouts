{
 "cells": [
  {
   "cell_type": "markdown",
   "id": "5a232aef",
   "metadata": {},
   "source": [
    "\n",
    "# Tutorial: Tail Preprocessing \t&#x1F42C;\n",
    "\n",
    "**The following notebook illustrate the `TailPreprocessing` class how to run the different preprocessing steps.**\n",
    "- **Several preprocessing steps are used for the tail angle**:\n",
    "  - Interpolating missing values\n",
    "  - PCA denoising of posture using 'eigen-fish'\n",
    "  - Savgol filter for time series smoothing\n",
    "  - Baseline correction\n",
    "\n",
    "- **The tail vigor is also computed and will also be useful for segmentation tail bouts**:\n",
    "\n"
   ]
  },
  {
   "cell_type": "markdown",
   "metadata": {},
   "source": [
    "* Loading dependencies"
   ]
  },
  {
   "cell_type": "code",
   "execution_count": 1,
   "metadata": {},
   "outputs": [],
   "source": [
    "import os\n",
    "import numpy as np\n",
    "import pandas as pd\n",
    "import matplotlib.pyplot as plt\n",
    "\n",
    "from megabouts.tracking_data import TrackingConfig, FullTrackingData, load_example_data\n",
    "from megabouts.config import TailPreprocessingConfig\n",
    "from megabouts.preprocessing import TailPreprocessing"
   ]
  },
  {
   "cell_type": "markdown",
   "metadata": {},
   "source": [
    "## Loading Data"
   ]
  },
  {
   "cell_type": "markdown",
   "metadata": {},
   "source": [
    "* TrackingConfig and TrackingData similar to [tutorial_Loading_Data](./Loading_Data.ipynb)"
   ]
  },
  {
   "cell_type": "code",
   "execution_count": 2,
   "metadata": {},
   "outputs": [],
   "source": [
    "df_recording, fps, mm_per_unit = load_example_data('fulltracking_posture')\n",
    "tracking_cfg = TrackingConfig(fps=fps, tracking='full_tracking')\n",
    "\n",
    "\n",
    "tracking_data = FullTrackingData.from_posture(head_x = df_recording['head_x'].values*mm_per_unit,\n",
    "                                              head_y = df_recording['head_y'].values*mm_per_unit,\n",
    "                                              head_yaw = df_recording['head_angle'].values,\n",
    "                                              tail_angle = df_recording.filter(like='tail_angle').values)"
   ]
  },
  {
   "cell_type": "code",
   "execution_count": 3,
   "metadata": {},
   "outputs": [],
   "source": [
    "# Load data and set tracking configuration\n",
    "df_recording, fps, mm_per_unit = load_example_data('SLEAP_fulltracking')\n",
    "tracking_cfg = TrackingConfig(fps=fps, tracking='full_tracking')\n",
    "\n",
    "# List of keypoints\n",
    "keypoints = ['left_eye', 'right_eye', 'tail0', 'tail1', 'tail2', 'tail3', 'tail4']\n",
    "\n",
    "# Place NaN where the score is below a threshold\n",
    "thresh_score = 0.\n",
    "for kps in keypoints:\n",
    "    score_below_thresh = df_recording['instance.score'] < thresh_score\n",
    "    df_recording.loc[score_below_thresh | (df_recording[f'{kps}.score'] < thresh_score), [f'{kps}.x', f'{kps}.y']] = np.nan\n",
    "\n",
    "# Compute head and tail coordinates and convert to mm\n",
    "head_x = ((df_recording['left_eye.x'] + df_recording['right_eye.x']) / 2) * mm_per_unit\n",
    "head_y = ((df_recording['left_eye.y'] + df_recording['right_eye.y']) / 2) * mm_per_unit\n",
    "tail_x = df_recording[[f'tail{i}.x' for i in range(5)]].values * mm_per_unit\n",
    "tail_y = df_recording[[f'tail{i}.y' for i in range(5)]].values * mm_per_unit\n",
    "\n",
    "# Create FullTrackingData object\n",
    "tracking_data = FullTrackingData.from_keypoints(head_x=head_x.values,\n",
    "                                                head_y=head_y.values,\n",
    "                                                tail_x=tail_x,\n",
    "                                                tail_y=tail_y)\n"
   ]
  },
  {
   "cell_type": "markdown",
   "metadata": {},
   "source": [
    "## Run Preprocessing"
   ]
  },
  {
   "cell_type": "markdown",
   "metadata": {},
   "source": [
    "* Define preprocessing config using default:"
   ]
  },
  {
   "cell_type": "code",
   "execution_count": 4,
   "metadata": {},
   "outputs": [],
   "source": [
    "tail_preprocessing_cfg = TailPreprocessingConfig(fps=tracking_cfg.fps)"
   ]
  },
  {
   "cell_type": "markdown",
   "metadata": {},
   "source": [
    "* Alternatively the tail preprocessing parameters can be adjusted using:"
   ]
  },
  {
   "cell_type": "code",
   "execution_count": 5,
   "metadata": {},
   "outputs": [],
   "source": [
    "tail_preprocessing_cfg = TailPreprocessingConfig(fps=tracking_cfg.fps,\n",
    "                                                 num_pcs=3,\n",
    "                                                 savgol_window_ms=30,\n",
    "                                                 tail_speed_filter_ms = 100,\n",
    "                                                 tail_speed_boxcar_filter_ms = 14\n",
    "                                                 )"
   ]
  },
  {
   "cell_type": "code",
   "execution_count": 6,
   "metadata": {},
   "outputs": [],
   "source": [
    "tail_preprocessing_cfg.baseline_params['half_window']=100"
   ]
  },
  {
   "cell_type": "code",
   "execution_count": 7,
   "metadata": {},
   "outputs": [
    {
     "data": {
      "text/plain": [
       "11"
      ]
     },
     "execution_count": 7,
     "metadata": {},
     "output_type": "execute_result"
    }
   ],
   "source": [
    "tail_preprocessing_cfg.savgol_window"
   ]
  },
  {
   "cell_type": "code",
   "execution_count": 8,
   "metadata": {},
   "outputs": [],
   "source": [
    "tail_df_input = tracking_data.tail_df\n",
    "tail = TailPreprocessing(tail_preprocessing_cfg).preprocess_tail_df(tail_df_input)"
   ]
  },
  {
   "cell_type": "code",
   "execution_count": 9,
   "metadata": {},
   "outputs": [
    {
     "data": {
      "text/html": [
       "<div>\n",
       "<style scoped>\n",
       "    .dataframe tbody tr th:only-of-type {\n",
       "        vertical-align: middle;\n",
       "    }\n",
       "\n",
       "    .dataframe tbody tr th {\n",
       "        vertical-align: top;\n",
       "    }\n",
       "\n",
       "    .dataframe thead tr th {\n",
       "        text-align: left;\n",
       "    }\n",
       "</style>\n",
       "<table border=\"1\" class=\"dataframe\">\n",
       "  <thead>\n",
       "    <tr>\n",
       "      <th></th>\n",
       "      <th colspan=\"10\" halign=\"left\">angle</th>\n",
       "      <th>...</th>\n",
       "      <th colspan=\"8\" halign=\"left\">angle_smooth</th>\n",
       "      <th>vigor</th>\n",
       "      <th>no_tracking</th>\n",
       "    </tr>\n",
       "    <tr>\n",
       "      <th></th>\n",
       "      <th colspan=\"10\" halign=\"left\">segments</th>\n",
       "      <th>...</th>\n",
       "      <th colspan=\"8\" halign=\"left\">segments</th>\n",
       "      <th></th>\n",
       "      <th></th>\n",
       "    </tr>\n",
       "    <tr>\n",
       "      <th></th>\n",
       "      <th>0</th>\n",
       "      <th>1</th>\n",
       "      <th>2</th>\n",
       "      <th>3</th>\n",
       "      <th>4</th>\n",
       "      <th>5</th>\n",
       "      <th>6</th>\n",
       "      <th>7</th>\n",
       "      <th>8</th>\n",
       "      <th>9</th>\n",
       "      <th>...</th>\n",
       "      <th>2</th>\n",
       "      <th>3</th>\n",
       "      <th>4</th>\n",
       "      <th>5</th>\n",
       "      <th>6</th>\n",
       "      <th>7</th>\n",
       "      <th>8</th>\n",
       "      <th>9</th>\n",
       "      <th></th>\n",
       "      <th></th>\n",
       "    </tr>\n",
       "  </thead>\n",
       "  <tbody>\n",
       "    <tr>\n",
       "      <th>0</th>\n",
       "      <td>0.122614</td>\n",
       "      <td>-0.015221</td>\n",
       "      <td>-0.098553</td>\n",
       "      <td>-0.126124</td>\n",
       "      <td>-0.098301</td>\n",
       "      <td>-0.015937</td>\n",
       "      <td>0.062022</td>\n",
       "      <td>0.057392</td>\n",
       "      <td>-0.035583</td>\n",
       "      <td>-0.215341</td>\n",
       "      <td>...</td>\n",
       "      <td>-0.103697</td>\n",
       "      <td>-0.100077</td>\n",
       "      <td>-0.069647</td>\n",
       "      <td>-0.020243</td>\n",
       "      <td>0.057969</td>\n",
       "      <td>0.061299</td>\n",
       "      <td>-0.090701</td>\n",
       "      <td>-0.173166</td>\n",
       "      <td>NaN</td>\n",
       "      <td>False</td>\n",
       "    </tr>\n",
       "    <tr>\n",
       "      <th>1</th>\n",
       "      <td>0.122639</td>\n",
       "      <td>-0.015076</td>\n",
       "      <td>-0.098353</td>\n",
       "      <td>-0.125934</td>\n",
       "      <td>-0.098185</td>\n",
       "      <td>-0.015953</td>\n",
       "      <td>0.061969</td>\n",
       "      <td>0.057438</td>\n",
       "      <td>-0.035308</td>\n",
       "      <td>-0.214723</td>\n",
       "      <td>...</td>\n",
       "      <td>-0.089520</td>\n",
       "      <td>-0.084504</td>\n",
       "      <td>-0.053630</td>\n",
       "      <td>-0.004097</td>\n",
       "      <td>0.071639</td>\n",
       "      <td>0.073541</td>\n",
       "      <td>-0.076892</td>\n",
       "      <td>-0.157914</td>\n",
       "      <td>NaN</td>\n",
       "      <td>False</td>\n",
       "    </tr>\n",
       "    <tr>\n",
       "      <th>2</th>\n",
       "      <td>0.122712</td>\n",
       "      <td>-0.015160</td>\n",
       "      <td>-0.098521</td>\n",
       "      <td>-0.126112</td>\n",
       "      <td>-0.098298</td>\n",
       "      <td>-0.015927</td>\n",
       "      <td>0.062090</td>\n",
       "      <td>0.057466</td>\n",
       "      <td>-0.035575</td>\n",
       "      <td>-0.215469</td>\n",
       "      <td>...</td>\n",
       "      <td>-0.080425</td>\n",
       "      <td>-0.074525</td>\n",
       "      <td>-0.043393</td>\n",
       "      <td>0.006204</td>\n",
       "      <td>0.080289</td>\n",
       "      <td>0.081271</td>\n",
       "      <td>-0.068089</td>\n",
       "      <td>-0.148180</td>\n",
       "      <td>NaN</td>\n",
       "      <td>False</td>\n",
       "    </tr>\n",
       "    <tr>\n",
       "      <th>3</th>\n",
       "      <td>0.182927</td>\n",
       "      <td>0.045016</td>\n",
       "      <td>-0.038378</td>\n",
       "      <td>-0.065993</td>\n",
       "      <td>-0.038198</td>\n",
       "      <td>0.044170</td>\n",
       "      <td>0.122267</td>\n",
       "      <td>0.117708</td>\n",
       "      <td>0.024690</td>\n",
       "      <td>-0.155223</td>\n",
       "      <td>...</td>\n",
       "      <td>-0.076411</td>\n",
       "      <td>-0.070140</td>\n",
       "      <td>-0.038937</td>\n",
       "      <td>0.010658</td>\n",
       "      <td>0.083920</td>\n",
       "      <td>0.084489</td>\n",
       "      <td>-0.064291</td>\n",
       "      <td>-0.143965</td>\n",
       "      <td>NaN</td>\n",
       "      <td>False</td>\n",
       "    </tr>\n",
       "    <tr>\n",
       "      <th>4</th>\n",
       "      <td>0.182883</td>\n",
       "      <td>0.045139</td>\n",
       "      <td>-0.038150</td>\n",
       "      <td>-0.065731</td>\n",
       "      <td>-0.037968</td>\n",
       "      <td>0.044304</td>\n",
       "      <td>0.122333</td>\n",
       "      <td>0.117786</td>\n",
       "      <td>0.024859</td>\n",
       "      <td>-0.154890</td>\n",
       "      <td>...</td>\n",
       "      <td>-0.077478</td>\n",
       "      <td>-0.071350</td>\n",
       "      <td>-0.040262</td>\n",
       "      <td>0.009267</td>\n",
       "      <td>0.082530</td>\n",
       "      <td>0.083194</td>\n",
       "      <td>-0.065499</td>\n",
       "      <td>-0.145269</td>\n",
       "      <td>NaN</td>\n",
       "      <td>False</td>\n",
       "    </tr>\n",
       "  </tbody>\n",
       "</table>\n",
       "<p>5 rows × 32 columns</p>\n",
       "</div>"
      ],
      "text/plain": [
       "      angle                                                              \\\n",
       "   segments                                                               \n",
       "          0         1         2         3         4         5         6   \n",
       "0  0.122614 -0.015221 -0.098553 -0.126124 -0.098301 -0.015937  0.062022   \n",
       "1  0.122639 -0.015076 -0.098353 -0.125934 -0.098185 -0.015953  0.061969   \n",
       "2  0.122712 -0.015160 -0.098521 -0.126112 -0.098298 -0.015927  0.062090   \n",
       "3  0.182927  0.045016 -0.038378 -0.065993 -0.038198  0.044170  0.122267   \n",
       "4  0.182883  0.045139 -0.038150 -0.065731 -0.037968  0.044304  0.122333   \n",
       "\n",
       "                                 ... angle_smooth                      \\\n",
       "                                 ...     segments                       \n",
       "          7         8         9  ...            2         3         4   \n",
       "0  0.057392 -0.035583 -0.215341  ...    -0.103697 -0.100077 -0.069647   \n",
       "1  0.057438 -0.035308 -0.214723  ...    -0.089520 -0.084504 -0.053630   \n",
       "2  0.057466 -0.035575 -0.215469  ...    -0.080425 -0.074525 -0.043393   \n",
       "3  0.117708  0.024690 -0.155223  ...    -0.076411 -0.070140 -0.038937   \n",
       "4  0.117786  0.024859 -0.154890  ...    -0.077478 -0.071350 -0.040262   \n",
       "\n",
       "                                                    vigor no_tracking  \n",
       "                                                                       \n",
       "          5         6         7         8         9                    \n",
       "0 -0.020243  0.057969  0.061299 -0.090701 -0.173166   NaN       False  \n",
       "1 -0.004097  0.071639  0.073541 -0.076892 -0.157914   NaN       False  \n",
       "2  0.006204  0.080289  0.081271 -0.068089 -0.148180   NaN       False  \n",
       "3  0.010658  0.083920  0.084489 -0.064291 -0.143965   NaN       False  \n",
       "4  0.009267  0.082530  0.083194 -0.065499 -0.145269   NaN       False  \n",
       "\n",
       "[5 rows x 32 columns]"
      ]
     },
     "execution_count": 9,
     "metadata": {},
     "output_type": "execute_result"
    }
   ],
   "source": [
    "tail.df.head(5)"
   ]
  },
  {
   "cell_type": "code",
   "execution_count": 10,
   "metadata": {
    "tags": [
     "hide-input"
    ]
   },
   "outputs": [
    {
     "name": "stderr",
     "output_type": "stream",
     "text": [
      "C:\\Users\\adrien\\AppData\\Local\\Temp\\ipykernel_58868\\2078216580.py:15: UserWarning: No artists with labels found to put in legend.  Note that artists whose label start with an underscore are ignored when legend() is called with no argument.\n",
      "  ax[i].legend()\n"
     ]
    },
    {
     "data": {
      "image/png": "[encoded data removed]",
      "text/plain": [
       "<Figure size 1000x700 with 3 Axes>"
      ]
     },
     "metadata": {},
     "output_type": "display_data"
    }
   ],
   "source": [
    "t = np.arange(tracking_data.T)/tracking_cfg.fps\n",
    "IdSt = np.random.randint(tracking_data.T)\n",
    "Duration = 150#.5*tracking_cfg.fps\n",
    "\n",
    "t_win = t[IdSt:IdSt+Duration]-t[IdSt]\n",
    "fig,ax = plt.subplots(3,1,figsize=(10,7),sharex=True)\n",
    "ax[0].plot(t_win,tail.angle[IdSt:IdSt+Duration,7],label='raw tail angle')\n",
    "#ax[0].plot(t_win,tail.angle_baseline[IdSt:IdSt+Duration,7],label='tail baseline')\n",
    "ax[0].plot(t_win,tail.angle_smooth[IdSt:IdSt+Duration,7],label='smooth tail angle')\n",
    "ax[2].plot(t_win,tail.vigor[IdSt:IdSt+Duration],label='tail vigor')\n",
    "ax[0].set(title='tail preprocessing',ylabel='angle (rad)',ylim=(-4,4))\n",
    "ax[1].set(ylabel='angle (rad)',ylim=(-4,4))\n",
    "ax[2].set(xlabel='time (s)',ylabel='vigor (A.U.)')\n",
    "for i in range(3):\n",
    "    ax[i].legend()\n",
    "plt.show()"
   ]
  }
 ],
 "metadata": {
  "kernelspec": {
   "display_name": "megabouts_dev",
   "language": "python",
   "name": "python3"
  },
  "language_info": {
   "codemirror_mode": {
    "name": "ipython",
    "version": 3
   },
   "file_extension": ".py",
   "mimetype": "text/x-python",
   "name": "python",
   "nbconvert_exporter": "python",
   "pygments_lexer": "ipython3",
   "version": "3.11.9"
  }
 },
 "nbformat": 4,
 "nbformat_minor": 2
}
