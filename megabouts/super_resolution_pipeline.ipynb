{
 "cells": [
  {
   "cell_type": "code",
   "execution_count": 89,
   "metadata": {},
   "outputs": [
    {
     "name": "stdout",
     "output_type": "stream",
     "text": [
      "The autoreload extension is already loaded. To reload it, use:\n",
      "  %reload_ext autoreload\n"
     ]
    }
   ],
   "source": [
    "%load_ext autoreload\n",
    "%autoreload 2"
   ]
  },
  {
   "cell_type": "code",
   "execution_count": 90,
   "metadata": {},
   "outputs": [],
   "source": [
    "import numpy as np\n",
    "import pandas as pd\n",
    "\n",
    "from tracking_data.dataset import Dataset_TailTracking,Dataset_CentroidTracking\n",
    "from pipeline.cfg import ConfigTrajPreprocess,ConfigTrajSegmentationClassification\n",
    "from pipeline.centroid_tracking import  PipelineCentroidTracking\n",
    "\n",
    "from utils.utils_plot import display_trajectory\n",
    "from utils.utils import compute_outer_circle\n",
    "from utils import smallestenclosingcircle as smallestenclosingcircle\n",
    "from super_resolution.downsampling import convert_frame_duration,create_downsampling_function\n",
    "\n",
    "from utils.utils_bouts import NameCat\n",
    "\n",
    "# Plotting\n",
    "import matplotlib.pyplot as plt\n",
    "import matplotlib.gridspec as gridspec\n",
    "from matplotlib.patches import Rectangle\n",
    "from matplotlib.colors import LinearSegmentedColormap\n",
    "from matplotlib import colors\n",
    "\n",
    "\n",
    "from utils.utils_bouts import compute_bout_cat_ts\n",
    "from classification.benchmark_w_matlab import compute_bout_cat_matlab\n",
    "from scipy import stats\n"
   ]
  },
  {
   "cell_type": "markdown",
   "metadata": {},
   "source": [
    "## Load Dataset:"
   ]
  },
  {
   "cell_type": "code",
   "execution_count": 91,
   "metadata": {},
   "outputs": [],
   "source": [
    "df = pd.read_csv('D:\\ZebrafishMatlabCSV\\CatchAllBouts_atlas_20200525_1551_df.csv')\n",
    "\n",
    "x = df['x_blob'].values\n",
    "y = df['y_blob'].values\n",
    "body_angle = df['body_angle'].values\n",
    "body_angle = np.arctan2(np.sin(body_angle),np.cos(body_angle))\n",
    "body_angle = np.unwrap(body_angle)\n",
    "# Center trajectory:\n",
    "circle = compute_outer_circle(x,y)\n",
    "x,y = x-circle[0],y-circle[1]\n",
    "\n",
    "NumSegment = sum(['tail_angle' in df.columns[i] for i in range(len(df.columns))])\n",
    "relative_tail_angle = df[['tail_angle_'+str(i).zfill(2) for i in range(1,NumSegment+1)]]\n",
    "relative_tail_angle = relative_tail_angle.values\n",
    "tail_angle_init=np.cumsum(relative_tail_angle,1)\n",
    "tail_angle = np.copy(tail_angle_init)\n"
   ]
  },
  {
   "cell_type": "markdown",
   "metadata": {},
   "source": [
    "# Load Gold standard "
   ]
  },
  {
   "cell_type": "code",
   "execution_count": 92,
   "metadata": {},
   "outputs": [],
   "source": [
    "import pickle\n",
    "\n",
    "\n",
    "filename = 'G://Megabouts_dataset//Full_Tracking_Pipeline//CatchAllBouts_atlas_20200525_1551.pickle'\n",
    "\n",
    "with open(filename, 'rb') as handle:\n",
    "            pipeline_results = pickle.load(handle)\n",
    "\n",
    "# Extract Python Results\n",
    "pipeline_results_full_tracking = pipeline_results['pipeline']\n",
    "\n",
    "segments_full = pipeline_results_full_tracking['segments']\n",
    "bout_cat_full = pipeline_results_full_tracking['bout_cat']\n",
    "onset_full = segments_full.onset\n",
    "offset_full = segments_full.offset\n",
    "\n",
    "onset_full = np.array(onset_full)\n",
    "\n",
    "bout_cat_ts_full,bout_cat_ts_signed_full = compute_bout_cat_ts(segments_full.onset,segments_full.offset,bout_cat_full,pipeline_results_full_tracking['tracking_data'].n_frames)\n"
   ]
  },
  {
   "cell_type": "markdown",
   "metadata": {},
   "source": [
    "### Subsample"
   ]
  },
  {
   "cell_type": "code",
   "execution_count": 93,
   "metadata": {},
   "outputs": [],
   "source": [
    "tracking_tail_data = Dataset_TailTracking(fps=700,tail_angle=tail_angle)\n",
    "\n",
    "# Downsample:\n",
    "fps_new = 580\n",
    "downsampling_f, Duration_after_Downsampling,t,tnew = create_downsampling_function(fps_new=fps_new,fps_origin=700,duration_ms=len(x)*1000/700)\n",
    "*1000/700\n",
    "#x_sub = downsampling_f(x,axis = 0)\n",
    "#y_sub = downsampling_f(y,axis = 0)\n",
    "#body_angle_sub = downsampling_f(body_angle,axis = 0)\n",
    "tail_angle_sub = downsampling_f(tail_angle,axis = 0)\n",
    "\n",
    "x_sub,y_sub,body_angle_sub  = map(lambda x : downsampling_f(x,axis=0),[x,y,body_angle])"
   ]
  },
  {
   "cell_type": "markdown",
   "metadata": {},
   "source": [
    "### Check Data"
   ]
  },
  {
   "cell_type": "code",
   "execution_count": 96,
   "metadata": {},
   "outputs": [
    {
     "data": {
      "image/png": "[encoded data removed]",
      "text/plain": [
       "<Figure size 360x360 with 1 Axes>"
      ]
     },
     "metadata": {
      "needs_background": "light"
     },
     "output_type": "display_data"
    }
   ],
   "source": [
    "df_plot=pd.DataFrame(np.vstack((x_sub,y_sub,body_angle_sub)).T, \n",
    "columns=['x','y','angle'])\n",
    "id = np.random.randint(df_plot.shape[0])\n",
    "fig = display_trajectory(df_plot,index = id,past_memory=3*700)"
   ]
  },
  {
   "cell_type": "markdown",
   "metadata": {},
   "source": [
    "# Parameters Tuning"
   ]
  },
  {
   "cell_type": "markdown",
   "metadata": {},
   "source": [
    "### One euro filter"
   ]
  },
  {
   "cell_type": "markdown",
   "metadata": {},
   "source": [
    "<font size=\"2\">\n",
    "\n",
    "The two parameters (fcmin and beta) can be set using a simple two-step procedure:\n",
    "* First beta is set to 0 and fcmin (mincutoff) to a reasonable middle-ground value such as 1 Hz. Then the body part is held steady or moved at a very low speed while fcmin is adjusted to remove jitter and preserve an acceptable lag during these slow movements (decreasing fcmin reduces jitter but increases lag, fcmin must be > 0). \n",
    "* Next, the body part is moved quickly in different directions while beta is increased with a focus on minimizing lag. First find the right order of magnitude to tune beta, which depends on the kind of data you manipulate and their units: do not hesitate to start with values like 0.001 or 0.0001. You can first multiply and divide beta by factor 10 until you notice an effect on latency when moving quickly. \n",
    "\n",
    "Note that parameters fcmin and beta have clear conceptual relationships: if high speed lag is a problem, increase beta; if slow speed jitter is a problem, decrease fcmin.\n",
    "\n",
    "</font>"
   ]
  },
  {
   "cell_type": "code",
   "execution_count": 97,
   "metadata": {},
   "outputs": [],
   "source": [
    "from preprocessing.smoothing import one_euro_filter\n"
   ]
  },
  {
   "cell_type": "code",
   "execution_count": 98,
   "metadata": {},
   "outputs": [],
   "source": [
    "# Find smooth epoch:\n",
    "Duration = fps_new*5\n",
    "is_fish_stationnary = False \n",
    "while not is_fish_stationnary:\n",
    "    \n",
    "    IdSt = np.random.randint(x_sub.shape[0]-Duration)\n",
    "    \n",
    "    x_,y_,angle_ = x_sub[IdSt:IdSt+Duration],y_sub[IdSt:IdSt+Duration],body_angle_sub[IdSt:IdSt+Duration]\n",
    "    \n",
    "    extent = np.max(angle_)-np.min(angle_)\n",
    "    if extent<0.05:\n",
    "        is_fish_stationnary=True\n"
   ]
  },
  {
   "cell_type": "code",
   "execution_count": 99,
   "metadata": {},
   "outputs": [
    {
     "data": {
      "text/plain": [
       "[<matplotlib.lines.Line2D at 0x2853ec78f70>]"
      ]
     },
     "execution_count": 99,
     "metadata": {},
     "output_type": "execute_result"
    },
    {
     "data": {
      "image/png": "[encoded data removed]",
      "text/plain": [
       "<Figure size 432x288 with 1 Axes>"
      ]
     },
     "metadata": {
      "needs_background": "light"
     },
     "output_type": "display_data"
    }
   ],
   "source": [
    "\n",
    "#plt.plot(x_sub[IdSt:IdSt+Duration])\n",
    "#plt.plot(y_sub[IdSt:IdSt+Duration])\n",
    "plt.plot(body_angle_sub[IdSt:IdSt+Duration])"
   ]
  },
  {
   "cell_type": "code",
   "execution_count": 100,
   "metadata": {},
   "outputs": [
    {
     "data": {
      "text/plain": [
       "(-344.6307916563484, -344.43079165634833)"
      ]
     },
     "execution_count": 100,
     "metadata": {},
     "output_type": "execute_result"
    },
    {
     "data": {
      "image/png": "[encoded data removed]",
      "text/plain": [
       "<Figure size 1440x288 with 3 Axes>"
      ]
     },
     "metadata": {
      "needs_background": "light"
     },
     "output_type": "display_data"
    }
   ],
   "source": [
    "fc_min,beta = 10,0\n",
    "\n",
    "smooth_func = lambda x : one_euro_filter(x,fc_min,beta,fps_new)\n",
    "x_clean,y_clean,body_angle_clean  = map(smooth_func,[x_,y_,angle_])\n",
    "\n",
    "IdSt,Duration = 0,len(x_)\n",
    "fig, (ax1, ax2, ax3) = plt.subplots(ncols=3,figsize=(20,4))\n",
    "Margin_Plot=0.1\n",
    "ax1.plot(x_[IdSt:IdSt+Duration])\n",
    "ax1.plot(x_clean[IdSt:IdSt+Duration])\n",
    "ax1.set_ylim(x_[0]-Margin_Plot,x_[0]+Margin_Plot)\n",
    "ax2.plot(y_[IdSt:IdSt+Duration])\n",
    "ax2.plot(y_clean[IdSt:IdSt+Duration])\n",
    "ax2.set_ylim(y_[0]-Margin_Plot,y_[0]+Margin_Plot)\n",
    "ax3.plot(angle_[IdSt:IdSt+Duration])\n",
    "ax3.plot(body_angle_clean[IdSt:IdSt+Duration])\n",
    "ax3.set_ylim(angle_[0]-Margin_Plot,angle_[0]+Margin_Plot)\n"
   ]
  },
  {
   "cell_type": "code",
   "execution_count": 101,
   "metadata": {},
   "outputs": [],
   "source": [
    "# Find fast movement epoch:\n",
    "Duration = int(np.round(fps_new*0.2))\n",
    "is_fish_stationnary = False \n",
    "while not is_fish_stationnary:\n",
    "    \n",
    "    IdSt = np.random.randint(x_sub.shape[0]-Duration)\n",
    "    \n",
    "    x_,y_,angle_ = x_sub[IdSt:IdSt+Duration],y_sub[IdSt:IdSt+Duration],body_angle_sub[IdSt:IdSt+Duration]\n",
    "    \n",
    "    extent = np.max(angle_)-np.min(angle_)\n",
    "    if extent>3:\n",
    "        is_fish_stationnary=True"
   ]
  },
  {
   "cell_type": "code",
   "execution_count": 102,
   "metadata": {},
   "outputs": [
    {
     "data": {
      "text/plain": [
       "[<matplotlib.lines.Line2D at 0x2853eafa760>]"
      ]
     },
     "execution_count": 102,
     "metadata": {},
     "output_type": "execute_result"
    },
    {
     "data": {
      "image/png": "[encoded data removed]",
      "text/plain": [
       "<Figure size 432x288 with 1 Axes>"
      ]
     },
     "metadata": {
      "needs_background": "light"
     },
     "output_type": "display_data"
    }
   ],
   "source": [
    "#plt.plot(x_sub[IdSt:IdSt+Duration])\n",
    "#plt.plot(y_sub[IdSt:IdSt+Duration])\n",
    "plt.plot(body_angle_sub[IdSt:IdSt+Duration])"
   ]
  },
  {
   "cell_type": "code",
   "execution_count": 103,
   "metadata": {},
   "outputs": [
    {
     "data": {
      "text/plain": [
       "(-325.0643032541951, -319.0643032541951)"
      ]
     },
     "execution_count": 103,
     "metadata": {},
     "output_type": "execute_result"
    },
    {
     "data": {
      "image/png": "[encoded data removed]",
      "text/plain": [
       "<Figure size 1440x288 with 3 Axes>"
      ]
     },
     "metadata": {
      "needs_background": "light"
     },
     "output_type": "display_data"
    }
   ],
   "source": [
    "fc_min,beta = 10,4\n",
    "\n",
    "smooth_func = lambda x : one_euro_filter(x,fc_min,beta,fps_new)\n",
    "x_clean,y_clean,body_angle_clean  = map(smooth_func,[x_,y_,angle_])\n",
    "\n",
    "IdSt,Duration = 0,len(x_)\n",
    "fig, (ax1, ax2, ax3) = plt.subplots(ncols=3,figsize=(20,4))\n",
    "Margin_Plot=3\n",
    "ax1.plot(x_[IdSt:IdSt+Duration])\n",
    "ax1.plot(x_clean[IdSt:IdSt+Duration])\n",
    "ax1.set_ylim(x_[0]-Margin_Plot,x_[0]+Margin_Plot)\n",
    "ax2.plot(y_[IdSt:IdSt+Duration])\n",
    "ax2.plot(y_clean[IdSt:IdSt+Duration])\n",
    "ax2.set_ylim(y_[0]-Margin_Plot,y_[0]+Margin_Plot)\n",
    "ax3.plot(angle_[IdSt:IdSt+Duration])\n",
    "ax3.plot(body_angle_clean[IdSt:IdSt+Duration])\n",
    "ax3.set_ylim(angle_[0]-Margin_Plot,angle_[0]+Margin_Plot)\n"
   ]
  },
  {
   "cell_type": "markdown",
   "metadata": {},
   "source": [
    "## Peak Finding"
   ]
  },
  {
   "cell_type": "code",
   "execution_count": 104,
   "metadata": {},
   "outputs": [],
   "source": [
    "from scipy.signal import find_peaks"
   ]
  },
  {
   "cell_type": "code",
   "execution_count": 105,
   "metadata": {},
   "outputs": [],
   "source": [
    "cfg_preprocess = ConfigTrajPreprocess(fps=fps_new,freq_cutoff_min=10,beta=4)\n",
    "cfg_segment_classify = ConfigTrajSegmentationClassification(fps=fps_new)"
   ]
  },
  {
   "cell_type": "code",
   "execution_count": 106,
   "metadata": {},
   "outputs": [],
   "source": [
    "pipeline = PipelineCentroidTracking(cfg_preprocess,cfg_segment_classify,load_training=False)"
   ]
  },
  {
   "cell_type": "code",
   "execution_count": 107,
   "metadata": {},
   "outputs": [],
   "source": [
    "tracking_data = Dataset_CentroidTracking(fps=cfg_preprocess.fps,\n",
    "                                         x=x_sub,\n",
    "                                         y=y_sub,body_angle=body_angle_sub)\n",
    "        \n",
    "clean_traj = pipeline.preprocess(x=tracking_data.x,\n",
    "                                 y=tracking_data.y,\n",
    "                                 body_angle=tracking_data.body_angle)      "
   ]
  },
  {
   "cell_type": "code",
   "execution_count": 108,
   "metadata": {},
   "outputs": [],
   "source": [
    "\n",
    "mobility = clean_traj.mobility"
   ]
  },
  {
   "cell_type": "code",
   "execution_count": 109,
   "metadata": {},
   "outputs": [],
   "source": [
    "bout_duration = cfg_segment_classify.bout_duration\n",
    "# Number of peak as function of prominence:\n",
    "prom_para = np.linspace(0.01,0.4,100)\n",
    "num_peaks = np.zeros_like(prom_para)\n",
    "for i,pro in enumerate(prom_para):\n",
    "    peaks, _ = find_peaks(mobility,distance=bout_duration,prominence=pro)\n",
    "    num_peaks[i] = len(peaks)\n"
   ]
  },
  {
   "cell_type": "code",
   "execution_count": 110,
   "metadata": {},
   "outputs": [
    {
     "data": {
      "image/png": "[encoded data removed]",
      "text/plain": [
       "<Figure size 1080x288 with 1 Axes>"
      ]
     },
     "metadata": {
      "needs_background": "light"
     },
     "output_type": "display_data"
    },
    {
     "data": {
      "image/png": "[encoded data removed]",
      "text/plain": [
       "<Figure size 1080x288 with 1 Axes>"
      ]
     },
     "metadata": {
      "needs_background": "light"
     },
     "output_type": "display_data"
    }
   ],
   "source": [
    "plt.figure(figsize=(15,4))\n",
    "plt.plot(prom_para,num_peaks)\n",
    "plt.show()\n",
    "\n",
    "plt.figure(figsize=(15,4))\n",
    "plt.plot(prom_para[(prom_para>0.1)&(prom_para<2)],num_peaks[(prom_para>0.1)&(prom_para<2)])\n",
    "plt.show()"
   ]
  },
  {
   "cell_type": "code",
   "execution_count": 111,
   "metadata": {},
   "outputs": [],
   "source": [
    "\n",
    "fps_list = np.linspace(30,700,30)\n",
    "fps_list = 10*np.round(fps_list/10).astype('int')\n",
    "\n",
    "peak_prominence_list = np.linspace(0.1,1,30)"
   ]
  },
  {
   "cell_type": "code",
   "execution_count": 115,
   "metadata": {},
   "outputs": [
    {
     "data": {
      "text/plain": [
       "(580, 0.8448275862068965)"
      ]
     },
     "execution_count": 115,
     "metadata": {},
     "output_type": "execute_result"
    }
   ],
   "source": [
    "fps_list[24],peak_prominence_list[24]"
   ]
  },
  {
   "cell_type": "code",
   "execution_count": null,
   "metadata": {},
   "outputs": [],
   "source": []
  },
  {
   "cell_type": "code",
   "execution_count": null,
   "metadata": {},
   "outputs": [],
   "source": []
  },
  {
   "cell_type": "markdown",
   "metadata": {},
   "source": [
    "# Run Pipeline"
   ]
  },
  {
   "cell_type": "code",
   "execution_count": 160,
   "metadata": {},
   "outputs": [],
   "source": [
    "cfg_preprocess = ConfigTrajPreprocess(fps=fps_new,freq_cutoff_min=10,beta=4)\n",
    "cfg_segment_classify = ConfigTrajSegmentationClassification(fps=fps_new,peak_prominence=0.84,margin_before_peak_ms=34,augment_max_delay_ms=34,augment_step_delay_ms=4,N_kNN=10)\n",
    "pipeline = PipelineCentroidTracking(cfg_preprocess,cfg_segment_classify,load_training=True)"
   ]
  },
  {
   "cell_type": "code",
   "execution_count": 161,
   "metadata": {},
   "outputs": [],
   "source": [
    "tracking_data,clean_traj,segments,segment_refined,traj_array,bout_category,onset_delay,id_nearest_template = pipeline.run(x_sub,y_sub,body_angle_sub)"
   ]
  },
  {
   "cell_type": "code",
   "execution_count": 166,
   "metadata": {},
   "outputs": [],
   "source": [
    "onset_super_res = segment_refined.onset\n",
    "onset_super_res = np.array(onset_super_res)"
   ]
  },
  {
   "cell_type": "code",
   "execution_count": 167,
   "metadata": {},
   "outputs": [],
   "source": [
    "delta_t = 50 \n",
    "label_full = []\n",
    "label_super = []\n",
    "\n",
    "N_match = 0\n",
    "for on_,cat_full in zip(onset_full,bout_cat_full):\n",
    "    if np.min(np.abs(original_t[on_]-new_t[onset_super_res]))<delta_t:\n",
    "        id_super = np.argmin(np.abs(original_t[on_]-new_t[onset_super_res]))\n",
    "        cat_super = bout_category[id_super]\n",
    "        N_match = N_match+1\n",
    "        label_full.append(cat_full)\n",
    "        label_super.append(cat_super)\n",
    "        \n",
    "x = np.array(label_full)\n",
    "y = np.array(label_super)"
   ]
  },
  {
   "cell_type": "code",
   "execution_count": 168,
   "metadata": {},
   "outputs": [
    {
     "data": {
      "text/plain": [
       "0.9884808712650097"
      ]
     },
     "execution_count": 168,
     "metadata": {},
     "output_type": "execute_result"
    }
   ],
   "source": [
    "N_match/len(bout_cat_full)"
   ]
  },
  {
   "cell_type": "code",
   "execution_count": 169,
   "metadata": {},
   "outputs": [
    {
     "data": {
      "text/plain": [
       "0.7751878187678932"
      ]
     },
     "execution_count": 169,
     "metadata": {},
     "output_type": "execute_result"
    }
   ],
   "source": [
    "from sklearn.metrics import balanced_accuracy_score\n",
    "balanced_accuracy_score(x, y)"
   ]
  },
  {
   "cell_type": "code",
   "execution_count": 170,
   "metadata": {},
   "outputs": [
    {
     "data": {
      "text/plain": [
       "0.8454954673190461"
      ]
     },
     "execution_count": 170,
     "metadata": {},
     "output_type": "execute_result"
    }
   ],
   "source": [
    "balanced_accuracy_score(x%13, y%13)"
   ]
  },
  {
   "cell_type": "code",
   "execution_count": 171,
   "metadata": {},
   "outputs": [],
   "source": [
    "from sklearn.metrics import confusion_matrix\n"
   ]
  },
  {
   "cell_type": "code",
   "execution_count": 172,
   "metadata": {},
   "outputs": [
    {
     "data": {
      "image/png": "[encoded data removed]",
      "text/plain": [
       "<Figure size 432x288 with 2 Axes>"
      ]
     },
     "metadata": {
      "needs_background": "light"
     },
     "output_type": "display_data"
    }
   ],
   "source": [
    "\n",
    "cm = confusion_matrix(x%13, y%13, labels = np.arange(13),normalize='true')#{‘true’, ‘pred’, ‘all’,'none})\n",
    "plt.imshow(cm)\n",
    "plt.title('Confusion matrix of the classifier')\n",
    "plt.colorbar()\n",
    "plt.xticks(np.arange(13),NameCat[0:13],rotation=90)\n",
    "plt.yticks(np.arange(13),NameCat[0:13],rotation=0)\n",
    "plt.show()"
   ]
  },
  {
   "cell_type": "code",
   "execution_count": null,
   "metadata": {},
   "outputs": [],
   "source": []
  },
  {
   "cell_type": "code",
   "execution_count": null,
   "metadata": {},
   "outputs": [],
   "source": []
  },
  {
   "cell_type": "markdown",
   "metadata": {},
   "source": [
    "### ALTERNATIVE INCLUDE BOTH SEGMENTATION AND CLASSIFICATION USING No_Mvt as an other category:"
   ]
  },
  {
   "cell_type": "code",
   "execution_count": null,
   "metadata": {},
   "outputs": [],
   "source": []
  },
  {
   "cell_type": "code",
   "execution_count": null,
   "metadata": {},
   "outputs": [],
   "source": []
  },
  {
   "cell_type": "code",
   "execution_count": null,
   "metadata": {},
   "outputs": [],
   "source": [
    "#(fps=fps_new,peak_prominence=0.4,margin_before_peak_ms=34,augment_max_delay_ms=40,augment_step_delay_ms=4,N_kNN=5)\n",
    "# 0.772, 0.843\n",
    "\n",
    "#(fps=fps_new,peak_prominence=0.4,margin_before_peak_ms=28,augment_max_delay_ms=28,augment_step_delay_ms=4,N_kNN=5)\n",
    "#0.764,0.841\n",
    "\n",
    "#(fps=fps_new,peak_prominence=0.4,margin_before_peak_ms=34,augment_max_delay_ms=34,augment_step_delay_ms=4,N_kNN=5)\n",
    "# 0.775,0.844\n",
    "\n",
    "#(fps=fps_new,peak_prominence=0.4,margin_before_peak_ms=34,augment_max_delay_ms=34,augment_step_delay_ms=4,N_kNN=5)\n",
    "# 0.772,0.842"
   ]
  },
  {
   "cell_type": "code",
   "execution_count": null,
   "metadata": {},
   "outputs": [],
   "source": []
  },
  {
   "cell_type": "markdown",
   "metadata": {},
   "source": [
    "# Check classification results"
   ]
  },
  {
   "cell_type": "code",
   "execution_count": null,
   "metadata": {},
   "outputs": [],
   "source": [
    "N = len(segment_refined.onset)\n",
    "i = np.random.randint(N)\n",
    "\n",
    "on_ = segment_refined.onset[i] \n",
    "j = id_nearest_template[i]\n",
    "Margin_Plot = 20\n",
    "\n",
    "plt.figure(figsize=(10,4))\n",
    "plt.plot(tracking_data.body_angle[on_-Margin_Plot:on_+200]-tracking_data.body_angle[on_])\n",
    "plt.plot(clean_traj.body_angle[on_-Margin_Plot:on_+200]-clean_traj.body_angle[on_])\n",
    "plt.plot(np.arange(140)+Margin_Plot,traj_array[i,2,:])\n",
    "plt.plot(np.arange(140)+Margin_Plot,pipeline.knn_training_dataset.traj[j,2,:])\n",
    "plt.ylim(-2,2)\n"
   ]
  },
  {
   "cell_type": "code",
   "execution_count": null,
   "metadata": {},
   "outputs": [],
   "source": [
    "templates_labels = pipeline.knn_training_dataset.labels\n",
    "print(traj_array.shape)"
   ]
  },
  {
   "cell_type": "code",
   "execution_count": null,
   "metadata": {},
   "outputs": [],
   "source": [
    "fig, ax = plt.subplots(facecolor='white',figsize=(20,10)) \n",
    "\n",
    "G = gridspec.GridSpec(2,13)\n",
    "ax0 = {}\n",
    "\n",
    "for k,b in enumerate(np.unique((templates_labels))):\n",
    "    b = int(b)\n",
    "    sg = 1 if b<13 else -1\n",
    "    ax0 = plt.subplot(G[int((sg+1)*1/2),b%13])\n",
    "    ax0.set_title(NameCat[b])\n",
    "    \n",
    "    \n",
    "    id = np.where(bout_category==b)[0]       \n",
    "    if len(id)>0:\n",
    "        id = id[0:1000]\n",
    "        ax0.plot(traj_array[id,0,:].T,'k',alpha=0.05)\n",
    "\n",
    "    ax0.set_xlim(0,cfg_segment_classify.bout_duration)\n",
    "    ax0.set_ylim(-3.6,3.6)\n",
    "    \n",
    "    ax0.set_xticks([])\n",
    "    ax0.set_yticks([])\n",
    "    \n",
    "plt.show()\n"
   ]
  },
  {
   "cell_type": "code",
   "execution_count": null,
   "metadata": {},
   "outputs": [],
   "source": [
    "\n",
    "fig, ax = plt.subplots(facecolor='white',figsize=(20,10)) \n",
    "\n",
    "G = gridspec.GridSpec(2,13)\n",
    "ax0 = {}\n",
    "\n",
    "for k,b in enumerate(np.unique((templates_labels))):\n",
    "    b = int(b)\n",
    "    sg = 1 if b<13 else -1\n",
    "    ax0 = plt.subplot(G[int((sg+1)*1/2),b%13])\n",
    "    ax0.set_title(NameCat[b])\n",
    "    \n",
    "    id = np.where(bout_category==b)[0]       \n",
    "    if len(id)>0:\n",
    "        id = id[0:1000]\n",
    "        ax0.plot(traj_array[id,1,:].T,'k',alpha=0.05)\n",
    "\n",
    "    ax0.set_xlim(0,cfg_segment_classify.bout_duration)\n",
    "    ax0.set_ylim(-3.6,3.6)\n",
    "    \n",
    "    ax0.set_xticks([])\n",
    "    ax0.set_yticks([])\n",
    "    \n",
    "plt.show()\n"
   ]
  },
  {
   "cell_type": "markdown",
   "metadata": {},
   "source": [
    "# Compare with Matlab pipeline"
   ]
  },
  {
   "cell_type": "code",
   "execution_count": null,
   "metadata": {},
   "outputs": [],
   "source": [
    "from utils.utils_bouts import compute_bout_cat_ts\n",
    "from classification.benchmark_w_matlab import compute_bout_cat_matlab\n",
    "from scipy import stats"
   ]
  },
  {
   "cell_type": "code",
   "execution_count": null,
   "metadata": {},
   "outputs": [],
   "source": [
    "bout_cat_ts,bout_cat_ts_signed = compute_bout_cat_ts(segment_refined.onset,segment_refined.offset,bout_category,tracking_data.n_frames)\n"
   ]
  },
  {
   "cell_type": "code",
   "execution_count": null,
   "metadata": {},
   "outputs": [],
   "source": [
    "onset_mat,offset_mat,bout_cat_matlab,bout_cat_ts_matlab,bout_cat_ts_signed_matlab = compute_bout_cat_matlab(df,fps_new=fps_new,fps_old=700)\n",
    "\n",
    "label_mat = []\n",
    "label_py = []\n",
    "\n",
    "for i,(on_,off_) in enumerate(zip(onset_mat,offset_mat)):\n",
    "    tmp = bout_cat_ts[on_:off_]\n",
    "    tmp = tmp[tmp>-1]\n",
    "    if len(tmp)>0:\n",
    "        label_mat.append(bout_cat_matlab[i])\n",
    "        label_py.append(stats.mode(tmp)[0][0])"
   ]
  },
  {
   "cell_type": "code",
   "execution_count": null,
   "metadata": {},
   "outputs": [],
   "source": [
    "from sklearn.metrics import confusion_matrix\n",
    "x = np.array(label_mat)\n",
    "y = np.array(label_py)\n",
    "\n",
    "cm = confusion_matrix(x, y, labels = np.arange(13),normalize='true')#{‘true’, ‘pred’, ‘all’,'none})\n",
    "plt.imshow(cm)\n",
    "plt.title('Confusion matrix of the classifier')\n",
    "plt.colorbar()\n",
    "plt.xticks(np.arange(13),NameCat[0:13],rotation=90)\n",
    "plt.yticks(np.arange(13),NameCat[0:13],rotation=0)\n",
    "plt.show()"
   ]
  },
  {
   "cell_type": "code",
   "execution_count": null,
   "metadata": {},
   "outputs": [],
   "source": [
    "# Accuracy:\n",
    "x_noCS = x[(x!=3)&(x!=4)]\n",
    "y_noCS = y[(x!=3)&(x!=4)]"
   ]
  },
  {
   "cell_type": "code",
   "execution_count": null,
   "metadata": {},
   "outputs": [],
   "source": [
    "from sklearn.metrics import f1_score\n",
    "f1_score(x_noCS, y_noCS, average='macro')"
   ]
  },
  {
   "cell_type": "code",
   "execution_count": null,
   "metadata": {},
   "outputs": [],
   "source": [
    "from sklearn.metrics import accuracy_score\n",
    "accuracy_score(x_noCS, y_noCS)"
   ]
  },
  {
   "cell_type": "code",
   "execution_count": null,
   "metadata": {},
   "outputs": [],
   "source": [
    "from sklearn.metrics import balanced_accuracy_score\n",
    "balanced_accuracy_score(x_noCS, y_noCS)"
   ]
  },
  {
   "cell_type": "markdown",
   "metadata": {},
   "source": [
    "\n",
    "* 0.49 with KNN 5 SCALE 0 0 2\n",
    "* 0.68.5 with KNN 5 SCALE 0.4 0.4 2\n",
    "* 0.68 with KNN 1 SCALE 0.4 0.4 2\n",
    "* 0.69 with KNN 50 SCALE 0.4 0.4 2\n",
    "* 0.723 with KNN 50 SCALE 0.4 0.4 2 Delay -10,20\n"
   ]
  },
  {
   "cell_type": "code",
   "execution_count": null,
   "metadata": {},
   "outputs": [],
   "source": []
  },
  {
   "cell_type": "code",
   "execution_count": null,
   "metadata": {},
   "outputs": [],
   "source": [
    "pipeline.knn_training_dataset.traj.shape"
   ]
  },
  {
   "cell_type": "code",
   "execution_count": null,
   "metadata": {},
   "outputs": [],
   "source": [
    "from matplotlib.colors import LinearSegmentedColormap\n",
    "from matplotlib import colors\n",
    "from plotly.subplots import make_subplots\n",
    "import plotly.graph_objects as go\n",
    "import plotly.express as px\n",
    "\n",
    "def matplotlib_to_plotly(cmap, pl_entries):\n",
    "    h = 1.0/(pl_entries-1)\n",
    "    pl_colorscale = []\n",
    "\n",
    "    for k in range(pl_entries):\n",
    "        C = list(map(np.uint8, np.array(cmap(k*h)[:3])*255))\n",
    "        pl_colorscale.append([k*h, 'rgb'+str((C[0], C[1], C[2]))])\n",
    "\n",
    "    return pl_colorscale\n",
    "\n",
    "from utils.utils_plot import list_color_w_CS\n",
    "cmp_bouts = colors.ListedColormap(['#FFFFFF'] + list_color_w_CS)\n",
    "cmp_bouts_pltly = matplotlib_to_plotly(cmp_bouts, 255)\n"
   ]
  },
  {
   "cell_type": "code",
   "execution_count": null,
   "metadata": {},
   "outputs": [],
   "source": [
    "\n",
    "Duration = fps_new*7\n",
    "IdSt = 7969693#\n",
    "IdSt = np.random.randint(mobility.shape[0])\n",
    "IdEd = IdSt + Duration\n",
    "t = np.linspace(0,Duration/fps_new,Duration)\n",
    "sub_onset,sub_offset,sub_i= [],[],[]\n",
    "\n",
    "for i,(on_,off_) in enumerate(zip(segment_refined.onset,segment_refined.offset)):\n",
    "    if (on_>IdSt)&(off_<IdEd):\n",
    "        sub_onset.append(on_)\n",
    "        sub_offset.append(off_)\n",
    "        sub_i.append(i)\n",
    "\n",
    "sub_i = np.array(sub_i)\n",
    "\n",
    "sub_traj_array = traj_array[sub_i,:,:]\n",
    "id = id_nearest_template[sub_i]\n",
    "traj_nearest = pipeline.knn_training_dataset.traj[id,:,:]"
   ]
  },
  {
   "cell_type": "code",
   "execution_count": null,
   "metadata": {},
   "outputs": [],
   "source": [
    "tail_angle.shape\n",
    "bout_duration = cfg_segment_classify.bout_duration"
   ]
  },
  {
   "cell_type": "code",
   "execution_count": null,
   "metadata": {},
   "outputs": [],
   "source": [
    "\n",
    "fig, ax = plt.subplots(facecolor='white',figsize=(15,10),tight_layout=True,sharex=True)\n",
    "plt.rc('xtick', labelsize=15)\n",
    "plt.rc('ytick', labelsize=15)\n",
    "plt.rc('axes', labelsize=15)\n",
    "\n",
    "G = gridspec.GridSpec(8,1)\n",
    "\n",
    "ax = plt.subplot(G[0])\n",
    "#ax.plot(t,tail_angle[IdSt:IdEd,7],'k',lw=1)\n",
    "ax.plot(t,tail_angle[IdSt:IdEd,7],lw=1)\n",
    "ax.set_xlim(0,Duration/fps_new)\n",
    "\n",
    "ax = plt.subplot(G[1])\n",
    "ax.plot(t,tail_angle_sub[IdSt:IdEd,7],'k',lw=1)\n",
    "#ax.plot(t,yaw_speed[IdSt:IdEd],lw=1)\n",
    "#ax.plot(t,yaw_speed_hat_[IdSt:IdEd],lw=1)\n",
    "ax.set_xlim(0,Duration/fps_new)\n",
    "\n",
    "ax = plt.subplot(G[2])\n",
    "ax.imshow(bout_cat_ts[IdSt:IdEd,np.newaxis].T,cmap=cmp_bouts,aspect='auto',vmin=0,vmax=12,interpolation='nearest',extent=[0,Duration/fps_new,0,1])\n",
    "ax.set_xlim(0,Duration/fps_new)\n",
    "\n",
    "ax = plt.subplot(G[3])\n",
    "ax.imshow(bout_cat_ts_matlab[IdSt:IdEd,np.newaxis].T,cmap=cmp_bouts,aspect='auto',vmin=0,vmax=12,interpolation='nearest',extent=[0,Duration/fps_new,0,1])\n",
    "ax.set_xlim(0,Duration/fps_new)\n",
    "\n",
    "ax = plt.subplot(G[4])\n",
    "ax.plot(t,mobility[IdSt:IdEd])\n",
    "#y =-(1-2*(np.max((z[IdSt:IdEd]),axis=1)>np.max(-(z[IdSt:IdEd]),axis=1)))*np.max(np.abs(z[IdSt:IdEd]),axis=1)*peaks_bin[IdSt:IdEd]\n",
    "#ax.scatter(t[sub_peaks],y[sub_peaks],color = 'r')\n",
    "#for p in sub_peaks:\n",
    "#    ax.add_patch(Rectangle((t[p],-10),140/700,20,facecolor=\"red\",alpha=0.3))\n",
    "ax.set_xlim(0,Duration/fps_new)\n",
    "\n",
    "\n",
    "ax = plt.subplot(G[5])\n",
    "for i,(on_,off_) in enumerate(zip(sub_onset,sub_offset)):\n",
    "    ax.plot((np.arange(on_,off_)-IdSt)/fps_new,sub_traj_array[i,0,:],'tab:blue')\n",
    "    off_ = on_+bout_duration\n",
    "    ax.plot((np.arange(on_,off_)-IdSt)/fps_new,traj_nearest[i,0,:],'tab:red',lw=1)\n",
    "ax.set_xlim(0,Duration/fps_new)\n",
    "\n",
    "ax = plt.subplot(G[6])\n",
    "for i,(on_,off_) in enumerate(zip(sub_onset,sub_offset)):\n",
    "    ax.plot((np.arange(on_,off_)-IdSt)/fps_new,sub_traj_array[i,1,:],'tab:blue')\n",
    "    off_ = on_+bout_duration\n",
    "    ax.plot((np.arange(on_,off_)-IdSt)/fps_new,traj_nearest[i,1,:],'tab:red',lw=1)\n",
    "ax.set_xlim(0,Duration/fps_new)\n",
    "\n",
    "\n",
    "ax = plt.subplot(G[7])\n",
    "for i,(on_,off_) in enumerate(zip(sub_onset,sub_offset)):\n",
    "    ax.plot((np.arange(on_,off_)-IdSt)/fps_new,sub_traj_array[i,2,:],'tab:blue')\n",
    "    off_ = on_+bout_duration\n",
    "    ax.plot((np.arange(on_,off_)-IdSt)/fps_new,traj_nearest[i,2,:],'tab:red',lw=1)\n",
    "ax.set_xlim(0,Duration/fps_new)"
   ]
  },
  {
   "cell_type": "markdown",
   "metadata": {},
   "source": [
    "# Compare Pipeline with Gold Standard"
   ]
  },
  {
   "cell_type": "code",
   "execution_count": 23,
   "metadata": {},
   "outputs": [],
   "source": []
  },
  {
   "cell_type": "code",
   "execution_count": 24,
   "metadata": {},
   "outputs": [
    {
     "ename": "NameError",
     "evalue": "name 'compute_bout_cat_ts' is not defined",
     "output_type": "error",
     "traceback": [
      "\u001b[1;31m---------------------------------------------------------------------------\u001b[0m",
      "\u001b[1;31mNameError\u001b[0m                                 Traceback (most recent call last)",
      "\u001b[1;32m<ipython-input-24-72626d89c4e6>\u001b[0m in \u001b[0;36m<module>\u001b[1;34m\u001b[0m\n\u001b[0;32m     14\u001b[0m \u001b[0monset_full\u001b[0m \u001b[1;33m=\u001b[0m \u001b[0mnp\u001b[0m\u001b[1;33m.\u001b[0m\u001b[0marray\u001b[0m\u001b[1;33m(\u001b[0m\u001b[0monset_full\u001b[0m\u001b[1;33m)\u001b[0m\u001b[1;33m\u001b[0m\u001b[1;33m\u001b[0m\u001b[0m\n\u001b[0;32m     15\u001b[0m \u001b[1;33m\u001b[0m\u001b[0m\n\u001b[1;32m---> 16\u001b[1;33m \u001b[0mbout_cat_ts_full\u001b[0m\u001b[1;33m,\u001b[0m\u001b[0mbout_cat_ts_signed_full\u001b[0m \u001b[1;33m=\u001b[0m \u001b[0mcompute_bout_cat_ts\u001b[0m\u001b[1;33m(\u001b[0m\u001b[0msegments_full\u001b[0m\u001b[1;33m.\u001b[0m\u001b[0monset\u001b[0m\u001b[1;33m,\u001b[0m\u001b[0msegments_full\u001b[0m\u001b[1;33m.\u001b[0m\u001b[0moffset\u001b[0m\u001b[1;33m,\u001b[0m\u001b[0mbout_cat_full\u001b[0m\u001b[1;33m,\u001b[0m\u001b[0mpipeline_results_full_tracking\u001b[0m\u001b[1;33m[\u001b[0m\u001b[1;34m'tracking_data'\u001b[0m\u001b[1;33m]\u001b[0m\u001b[1;33m.\u001b[0m\u001b[0mn_frames\u001b[0m\u001b[1;33m)\u001b[0m\u001b[1;33m\u001b[0m\u001b[1;33m\u001b[0m\u001b[0m\n\u001b[0m",
      "\u001b[1;31mNameError\u001b[0m: name 'compute_bout_cat_ts' is not defined"
     ]
    }
   ],
   "source": []
  },
  {
   "cell_type": "code",
   "execution_count": null,
   "metadata": {},
   "outputs": [],
   "source": [
    "pipeline_results_full_tracking.keys()"
   ]
  },
  {
   "cell_type": "code",
   "execution_count": null,
   "metadata": {},
   "outputs": [],
   "source": [
    "onset_super_res = segment_refined.onset\n",
    "onset_super_res = np.array(onset_super_res)"
   ]
  },
  {
   "cell_type": "code",
   "execution_count": null,
   "metadata": {},
   "outputs": [],
   "source": [
    "len(original_t),len(new_t)"
   ]
  },
  {
   "cell_type": "code",
   "execution_count": null,
   "metadata": {},
   "outputs": [],
   "source": [
    "len(pipeline_results_full_tracking['z'])"
   ]
  },
  {
   "cell_type": "code",
   "execution_count": null,
   "metadata": {},
   "outputs": [],
   "source": [
    "original_t[-1]"
   ]
  },
  {
   "cell_type": "markdown",
   "metadata": {},
   "source": [
    "### Segmentation accuracy"
   ]
  },
  {
   "cell_type": "code",
   "execution_count": null,
   "metadata": {},
   "outputs": [],
   "source": [
    "\n",
    "delta_t = 50 # only if another onset is located at 50 ms\n",
    "# onset_full\n",
    "\n",
    "N_match = 0\n",
    "for on_ in onset_full:\n",
    "    if np.min(np.abs(original_t[on_]-new_t[onset_super_res]))<delta_t:\n",
    "        N_match = N_match+1\n",
    "    \n",
    "print(100*N_match/len(onset_full))"
   ]
  },
  {
   "cell_type": "markdown",
   "metadata": {},
   "source": [
    "### Classification accuracy"
   ]
  },
  {
   "cell_type": "code",
   "execution_count": null,
   "metadata": {},
   "outputs": [],
   "source": [
    "\n",
    "delta_t = 50 # only if another onset is located at 50 ms\n",
    "\n",
    "label_full = []\n",
    "label_super = []\n",
    "\n",
    "N_match = 0\n",
    "for on_,cat_full in zip(onset_full,bout_cat_full):\n",
    "    if np.min(np.abs(original_t[on_]-new_t[onset_super_res]))<delta_t:\n",
    "        id_super = np.argmin(np.abs(original_t[on_]-new_t[onset_super_res]))\n",
    "        cat_super = bout_category[id_super]\n",
    "        \n",
    "        label_full.append(cat_full)\n",
    "        label_super.append(cat_super)"
   ]
  },
  {
   "cell_type": "code",
   "execution_count": null,
   "metadata": {},
   "outputs": [],
   "source": [
    "#bout_cat_ts_super,bout_cat_ts_signed_super = compute_bout_cat_ts(segment_refined.onset,segment_refined.offset,bout_category,tracking_data.n_frames)\n"
   ]
  },
  {
   "cell_type": "code",
   "execution_count": 30,
   "metadata": {},
   "outputs": [],
   "source": [
    "from sklearn.metrics import confusion_matrix\n"
   ]
  },
  {
   "cell_type": "code",
   "execution_count": 38,
   "metadata": {},
   "outputs": [
    {
     "data": {
      "image/png": "[encoded data removed]",
      "text/plain": [
       "<Figure size 432x288 with 2 Axes>"
      ]
     },
     "metadata": {
      "needs_background": "light"
     },
     "output_type": "display_data"
    }
   ],
   "source": [
    "x = np.array(label_full)\n",
    "y = np.array(label_super)\n",
    "\n",
    "cm = confusion_matrix(x, y, labels = np.arange(26),normalize='true')#{‘true’, ‘pred’, ‘all’,'none})\n",
    "plt.imshow(cm)\n",
    "plt.title('Confusion matrix of the classifier')\n",
    "plt.colorbar()\n",
    "plt.xticks(np.arange(26),NameCat,rotation=90)\n",
    "plt.yticks(np.arange(26),NameCat,rotation=0)\n",
    "plt.show()"
   ]
  },
  {
   "cell_type": "code",
   "execution_count": null,
   "metadata": {},
   "outputs": [],
   "source": [
    "from sklearn.metrics import accuracy_score\n",
    "accuracy_score(x, y)"
   ]
  },
  {
   "cell_type": "code",
   "execution_count": null,
   "metadata": {},
   "outputs": [],
   "source": [
    "from sklearn.metrics import balanced_accuracy_score\n",
    "balanced_accuracy_score(x, y)"
   ]
  },
  {
   "cell_type": "code",
   "execution_count": null,
   "metadata": {},
   "outputs": [],
   "source": [
    "x_sym = x%13\n",
    "y_sym = y%13"
   ]
  },
  {
   "cell_type": "code",
   "execution_count": null,
   "metadata": {},
   "outputs": [],
   "source": [
    "from sklearn.metrics import balanced_accuracy_score\n",
    "balanced_accuracy_score(x_sym,y_sym)"
   ]
  },
  {
   "cell_type": "code",
   "execution_count": null,
   "metadata": {},
   "outputs": [],
   "source": []
  },
  {
   "cell_type": "code",
   "execution_count": null,
   "metadata": {},
   "outputs": [],
   "source": []
  },
  {
   "cell_type": "code",
   "execution_count": null,
   "metadata": {},
   "outputs": [],
   "source": [
    "\n",
    "# Do you find the same label as in the original fps (classification accuracy)"
   ]
  },
  {
   "cell_type": "code",
   "execution_count": null,
   "metadata": {},
   "outputs": [],
   "source": []
  },
  {
   "cell_type": "code",
   "execution_count": null,
   "metadata": {},
   "outputs": [],
   "source": [
    "\n",
    "'''\n",
    "segments = pipeline['segments']\n",
    "bout_cat = pipeline['bout_cat']\n",
    "tail_and_traj_array = pipeline['tail_and_traj_array']\n",
    "tail_angle = pipeline['tail_angle_detrend']\n",
    "onset_py = segments.onset\n",
    "offset_py = segments.offset'''\n",
    "break"
   ]
  },
  {
   "cell_type": "code",
   "execution_count": null,
   "metadata": {},
   "outputs": [],
   "source": []
  },
  {
   "cell_type": "code",
   "execution_count": null,
   "metadata": {},
   "outputs": [],
   "source": []
  },
  {
   "cell_type": "markdown",
   "metadata": {},
   "source": [
    "# Save to Plotly"
   ]
  },
  {
   "cell_type": "code",
   "execution_count": null,
   "metadata": {},
   "outputs": [],
   "source": []
  },
  {
   "cell_type": "code",
   "execution_count": null,
   "metadata": {},
   "outputs": [],
   "source": []
  },
  {
   "cell_type": "code",
   "execution_count": null,
   "metadata": {},
   "outputs": [],
   "source": [
    "t = np.arange(0,len(mobility))\n",
    "\n",
    "fig = make_subplots(rows=3, cols=1,shared_xaxes=True)\n",
    "\n",
    "\n",
    "for pl in px.imshow(bout_cat_signed.T, x=t, y=np.arange(2)).data:\n",
    "    fig.add_trace(pl, row=1, col=1)\n",
    "\n",
    "for pl in px.imshow(df.bout_cat_matlab.values[np.newaxis,:], x=t, y=np.arange(1)).data:\n",
    "    fig.add_trace(pl, row=2, col=1)\n",
    "\n",
    "\n",
    "fig.add_trace(go.Scatter(x=t, y=mobility,mode='lines'),\n",
    "              row=3, col=1)\n",
    "\n",
    "layout = px.imshow(bout_cat_signed.T,x= t,color_continuous_scale=cmp_bouts_pltly,zmin=-1,zmax=12).layout\n",
    "fig.layout.coloraxis = layout.coloraxis\n",
    "\n",
    "fig.update_traces(xaxis=\"x\")\n",
    "\n",
    "fig.update_xaxes(showgrid=False)\n",
    "fig.update_yaxes(showgrid=False)\n",
    "\n",
    "fig.write_html(\"super_resolution_pipeline.html\")\n"
   ]
  },
  {
   "cell_type": "code",
   "execution_count": null,
   "metadata": {},
   "outputs": [],
   "source": []
  },
  {
   "cell_type": "code",
   "execution_count": null,
   "metadata": {},
   "outputs": [],
   "source": []
  }
 ],
 "metadata": {
  "kernelspec": {
   "display_name": "Python 3.8.8 64-bit",
   "language": "python",
   "name": "python3"
  },
  "language_info": {
   "codemirror_mode": {
    "name": "ipython",
    "version": 3
   },
   "file_extension": ".py",
   "mimetype": "text/x-python",
   "name": "python",
   "nbconvert_exporter": "python",
   "pygments_lexer": "ipython3",
   "version": "3.8.8"
  },
  "vscode": {
   "interpreter": {
    "hash": "5da3b9b39bf92a51a1de9b99b4f45954b1fac4f7a21f05f343a59d1793888623"
   }
  }
 },
 "nbformat": 4,
 "nbformat_minor": 4
}
